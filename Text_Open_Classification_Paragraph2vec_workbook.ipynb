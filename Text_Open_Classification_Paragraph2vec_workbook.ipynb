{
 "cells": [
  {
   "cell_type": "markdown",
   "metadata": {},
   "source": [
    "# Paragraph Vector 1-vs-Rest"
   ]
  },
  {
   "cell_type": "code",
   "execution_count": 56,
   "metadata": {},
   "outputs": [
    {
     "name": "stdout",
     "output_type": "stream",
     "text": [
      "[nltk_data] Downloading package stopwords to /home/nlp/nltk_data...\n",
      "[nltk_data]   Package stopwords is already up-to-date!\n"
     ]
    },
    {
     "data": {
      "text/plain": [
       "<module 'shared_lib.utils' from 'shared_lib/utils.pyc'>"
      ]
     },
     "execution_count": 56,
     "metadata": {},
     "output_type": "execute_result"
    }
   ],
   "source": [
    "# This tells matplotlib not to try opening a new window for each plot.\n",
    "%matplotlib inline\n",
    "# General libraries.\n",
    "import re\n",
    "import time\n",
    "import numpy as np\n",
    "import tensorflow as tf\n",
    "assert(tf.__version__.startswith(\"1.1\"))\n",
    "import matplotlib.pyplot as plt\n",
    "import sys\n",
    "import gensim\n",
    "import nltk\n",
    "import collections\n",
    "import smart_open\n",
    "import random\n",
    "\n",
    "# SK-learn library for importing the newsgroup data.\n",
    "from sklearn.datasets import fetch_20newsgroups\n",
    "\n",
    "# SK-learn libraries for feature extraction from text.\n",
    "from sklearn.feature_extraction.text import *\n",
    "from sklearn.svm import LinearSVC\n",
    "from gensim.models import Word2Vec\n",
    "from sklearn import metrics\n",
    "from sklearn.cross_validation import cross_val_score, KFold\n",
    "from sklearn.metrics import classification_report, accuracy_score\n",
    "from sklearn.naive_bayes import MultinomialNB\n",
    "from sklearn import svm\n",
    "from sklearn.preprocessing import LabelEncoder\n",
    "from sklearn.grid_search import GridSearchCV\n",
    "from pprint import pprint\n",
    "from nltk import RegexpTokenizer\n",
    "from nltk.corpus import stopwords\n",
    "\n",
    "# Helper libraries\n",
    "from shared_lib import utils, vocabulary, tf_embed_viz\n",
    "nltk.download('stopwords')\n",
    "reload(utils)"
   ]
  },
  {
   "cell_type": "markdown",
   "metadata": {},
   "source": [
    "## 1. Contruct Paragraph2Vec Model\n",
    "\n",
    "### Preview Input Data"
   ]
  },
  {
   "cell_type": "code",
   "execution_count": 57,
   "metadata": {
    "scrolled": false
   },
   "outputs": [
    {
     "name": "stdout",
     "output_type": "stream",
     "text": [
      "class: 0\t = alt.atheism\n",
      "class: 1\t = comp.graphics\n",
      "class: 2\t = comp.os.ms-windows.misc\n",
      "class: 3\t = comp.sys.ibm.pc.hardware\n",
      "class: 4\t = comp.sys.mac.hardware\n",
      "class: 5\t = comp.windows.x\n",
      "class: 6\t = misc.forsale\n",
      "class: 7\t = rec.autos\n",
      "class: 8\t = rec.motorcycles\n",
      "class: 9\t = rec.sport.baseball\n",
      "class: 10\t = rec.sport.hockey\n",
      "class: 11\t = sci.crypt\n",
      "class: 12\t = sci.electronics\n",
      "class: 13\t = sci.med\n",
      "class: 14\t = sci.space\n",
      "class: 15\t = soc.religion.christian\n",
      "class: 16\t = talk.politics.guns\n",
      "class: 17\t = talk.politics.mideast\n",
      "class: 18\t = talk.politics.misc\n",
      "class: 19\t = talk.religion.misc\n"
     ]
    }
   ],
   "source": [
    "# Get newsgroup data\n",
    "newsgroup_data_all = fetch_20newsgroups(subset = 'all', remove=('headers', 'footers', 'quotes'))\n",
    "\n",
    "# List of all the class labels\n",
    "label_list = list(newsgroup_data_all.target_names)\n",
    "\n",
    "# Print the class labels\n",
    "i = 0\n",
    "for label in label_list:\n",
    "    print \"class: %i\\t = %s\" %(i, label)\n",
    "    i += 1"
   ]
  },
  {
   "cell_type": "markdown",
   "metadata": {},
   "source": [
    "### Select number of classes"
   ]
  },
  {
   "cell_type": "code",
   "execution_count": 94,
   "metadata": {},
   "outputs": [
    {
     "name": "stdout",
     "output_type": "stream",
     "text": [
      "Randomly Select Classes:  ['comp.windows.x', 'talk.politics.mideast', 'comp.sys.ibm.pc.hardware', 'sci.crypt', 'comp.os.ms-windows.misc', 'comp.sys.mac.hardware', 'sci.electronics', 'talk.politics.guns']\n",
      "Class labels [5, 17, 3, 11, 2, 4, 12, 16]\n"
     ]
    }
   ],
   "source": [
    "from random import randint\n",
    "random.seed(8)\n",
    "\n",
    "num_class = 8\n",
    "randomize = True\n",
    "\n",
    "if randomize == True:\n",
    "    label_idxs = []\n",
    "    label_idxs = random.sample(range(1, 19), num_class)\n",
    "else:\n",
    "    label_idxs = range(num_class)\n",
    "\n",
    "select_classes = [label_list[i] for i in label_idxs]\n",
    "print \"Randomly Select Classes: \", select_classes\n",
    "print \"Class labels\", label_idxs\n",
    "\n",
    "newsgroups_all = fetch_20newsgroups(subset='all', remove=('headers', 'footers', 'quotes'),\n",
    "                                    categories=select_classes)\n",
    "\n",
    "all_data, all_labels = newsgroups_all.data, newsgroups_all.target"
   ]
  },
  {
   "cell_type": "markdown",
   "metadata": {},
   "source": [
    "### Preprocess Input Data"
   ]
  },
  {
   "cell_type": "code",
   "execution_count": 95,
   "metadata": {},
   "outputs": [
    {
     "name": "stdout",
     "output_type": "stream",
     "text": [
      "Loaded 7743 docs (9.81227e+06 tokens)\n",
      "Training set: 6194 docs (7789033 tokens)\n",
      "Test set: 1549 docs (2023239 tokens)\n",
      "Loaded 6194 docs (7.78903e+06 tokens)\n",
      "Training set: 4955 docs (6043595 tokens)\n",
      "Validation set: 1239 docs (1745438 tokens)\n"
     ]
    }
   ],
   "source": [
    "#Preprocessing for Doc2Vec \n",
    "# shuffle and split data\n",
    "train_docs, train_labels, test_docs, test_labels = utils.get_train_test_docs(all_data, \n",
    "                                                                             all_labels, \n",
    "                                                                             split = 0.8, \n",
    "                                                                             shuffle = True)\n",
    "\n",
    "# Further split training set into training and validation set\n",
    "train_docs, train_labels, validation_docs, validation_labels = utils.get_train_val_docs(train_docs, \n",
    "                                                                                         train_labels, \n",
    "                                                                                         split = 0.75, \n",
    "                                                                                         shuffle = True)\n",
    "# clean string\n",
    "# remove stop words and take care of stemming\n",
    "train_docs = utils.preprocess_doc(train_docs, fix_length = False)\n",
    "validation_docs = utils.preprocess_doc(validation_docs, fix_length = False)\n",
    "test_docs = utils.preprocess_doc(test_docs, fix_length = False)"
   ]
  },
  {
   "cell_type": "markdown",
   "metadata": {},
   "source": [
    "** Please Note LabeledSentence is a data structure of gesim's Doc2vec (paragraph) document format **"
   ]
  },
  {
   "cell_type": "code",
   "execution_count": 96,
   "metadata": {},
   "outputs": [],
   "source": [
    "from collections import namedtuple\n",
    "from gensim.models.doc2vec import  LabeledSentence\n",
    "import sys\n",
    "\n",
    "all_newsgroup_documents = []\n",
    "\n",
    "#Used to convert newsgroup corpus into Doc2Vec formats\n",
    "def convert_newsgroup(docs,split):\n",
    "    #global doc_count\n",
    "    tagged_documents = []\n",
    "    \n",
    "    for i,v in enumerate(docs):\n",
    "        label = '%s_%s'%(split,i)\n",
    "        tagged_documents.append(LabeledSentence(v, [label]))\n",
    "    \n",
    "    return tagged_documents"
   ]
  },
  {
   "cell_type": "code",
   "execution_count": 97,
   "metadata": {
    "scrolled": true
   },
   "outputs": [
    {
     "name": "stdout",
     "output_type": "stream",
     "text": [
      "7743 docs: 4955 train, 1239 validation, 1549 test\n"
     ]
    }
   ],
   "source": [
    "test_docs = convert_newsgroup(test_docs,'test')\n",
    "validation_docs = convert_newsgroup(validation_docs,'validation')\n",
    "train_docs = convert_newsgroup(train_docs,'train')\n",
    "\n",
    "all_newsgroup_documents.extend(train_docs)\n",
    "all_newsgroup_documents.extend(validation_docs)\n",
    "all_newsgroup_documents.extend(test_docs)\n",
    "\n",
    "doc_list = all_newsgroup_documents[:]  # for reshuffling per pass\n",
    "\n",
    "print('%d docs: %d train, %d validation, %d test' % (len(doc_list), len(train_docs), len(validation_docs), len(test_docs)))"
   ]
  },
  {
   "cell_type": "markdown",
   "metadata": {},
   "source": [
    "\n",
    "### Define Paragraph2Vec Model"
   ]
  },
  {
   "cell_type": "code",
   "execution_count": 98,
   "metadata": {},
   "outputs": [],
   "source": [
    "from gensim.models import *\n",
    "from gensim.test.test_doc2vec import ConcatenatedDoc2Vec\n",
    "\n",
    "# Doc2Vec Parameter\n",
    "# dm = 0 use distributed bag of words, dm=1 distributed memory\n",
    "dm_model = Doc2Vec(dm=1, dm_mean=1, sample=1e-5, size=450, window=10, \n",
    "                   negative=5, hs=0, min_count=2, workers=10, max_vocab_size = 20000)\n",
    "dm_model.build_vocab(all_newsgroup_documents)"
   ]
  },
  {
   "cell_type": "markdown",
   "metadata": {},
   "source": [
    "### Training Paragraph2Vec Model\n",
    "\n",
    "### Please note\n",
    "\n",
    "* Paragraph2vec only the vocabulary of giving data set\n",
    "* e.g. to train 5 + 1, select num_class = 6, to train 5 + 2, select num_class = 7"
   ]
  },
  {
   "cell_type": "code",
   "execution_count": 99,
   "metadata": {
    "scrolled": false
   },
   "outputs": [
    {
     "name": "stderr",
     "output_type": "stream",
     "text": [
      "100% |########################################################################|\n"
     ]
    }
   ],
   "source": [
    "from random import shuffle\n",
    "import progressbar\n",
    "alpha, min_alpha, passes = (0.025, 0.001, 100)\n",
    "alpha_delta = (alpha - min_alpha) / passes\n",
    "bar = progressbar.ProgressBar()\n",
    "\n",
    "for epoch in bar(range(passes)):\n",
    "    shuffle(doc_list)\n",
    "    \n",
    "    dm_model.alpha, dm_model.min_alpha = alpha, alpha\n",
    "    dm_model.train(doc_list, total_examples=len(doc_list), epochs = 1)\n",
    "    alpha -= alpha_delta"
   ]
  },
  {
   "cell_type": "markdown",
   "metadata": {},
   "source": [
    "### Extract training and test vectors from the Paragraph2Vec Model"
   ]
  },
  {
   "cell_type": "code",
   "execution_count": 100,
   "metadata": {},
   "outputs": [],
   "source": [
    "from collections import defaultdict\n",
    "best_error = defaultdict(lambda :1.0)\n",
    "\n",
    "#Get Vectors From Doc2Vec\n",
    "def extract_vectors(model, docs):    \n",
    "    vectors_list = []\n",
    "    for doc_no in range(len(docs)):\n",
    "        doc_label = docs[doc_no].tags[0] # Use tag to id\n",
    "        doc_vector = model.docvecs[doc_label]\n",
    "        vectors_list.append(doc_vector)      \n",
    "    return vectors_list\n",
    "\n",
    "# TODO inferred vectors\n",
    "def get_infer_vectors(model,docs):   \n",
    "    vecs = []\n",
    "    for doc in docs:\n",
    "        vecs.append(model.infer_vector(doc.words))\n",
    "    return vecs"
   ]
  },
  {
   "cell_type": "code",
   "execution_count": 101,
   "metadata": {},
   "outputs": [
    {
     "name": "stdout",
     "output_type": "stream",
     "text": [
      "(4955, 450)\n",
      "(1239, 450)\n",
      "(4955, 8)\n",
      "(1239, 8)\n"
     ]
    }
   ],
   "source": [
    "train_docs_ids = np.array(extract_vectors(dm_model,train_docs))\n",
    "validation_docs_ids = np.array(extract_vectors(dm_model,validation_docs))\n",
    "\n",
    "# Convert label to one-hot-code\n",
    "train_labels_oh = np.eye(num_class)[train_labels]\n",
    "validation_labels_oh = np.eye(num_class)[validation_labels]\n",
    "\n",
    "print train_docs_ids.shape\n",
    "print validation_docs_ids.shape\n",
    "print train_labels_oh.shape\n",
    "print validation_labels_oh.shape"
   ]
  },
  {
   "cell_type": "markdown",
   "metadata": {},
   "source": [
    "## The following section is for comparing paragraphc2vec's performance with CNN\n",
    "\n",
    "#### 1. Connect with the same output layer as CNN for classification\n",
    "\n",
    "#### 2. This is a multi-nomial classification. (not 1-vs-rest)"
   ]
  },
  {
   "cell_type": "code",
   "execution_count": 102,
   "metadata": {},
   "outputs": [],
   "source": [
    "num_classes = num_class\n",
    "feature_size = 450\n",
    "l2_reg_lambda = 0.1\n",
    "\n",
    "def display_params():\n",
    "    print \"number of classes: \", num_classes\n",
    "    print \"feature size: \", feature_size\n",
    "    print \"regularization: \", l2_reg_lambda"
   ]
  },
  {
   "cell_type": "code",
   "execution_count": 103,
   "metadata": {},
   "outputs": [],
   "source": [
    "# x_ is the Paragraph2vec input vectors\n",
    "x_ = tf.placeholder(tf.float32, [None, feature_size], name=\"x\")\n",
    "y_ = tf.placeholder(tf.float32, [None, num_classes], name=\"y\")\n",
    "l2_loss = tf.constant(0.0)\n",
    "\n",
    "# Output Layer: Softmax (1 layer version)\n",
    "with tf.name_scope(\"Output_layer\"):\n",
    "            \n",
    "    \n",
    "    Z_ = tf.Variable(tf.random_uniform([feature_size, num_classes], -1.0, 1.0), name = \"Z\")\n",
    "    b_ = tf.Variable(tf.constant(0.1, shape=[num_classes]), name=\"b\")\n",
    "    logits_ = tf.add(tf.matmul(x_, Z_), b_, name=\"logits\")\n",
    "    \n",
    "    # L2 loss\n",
    "    l2_loss += tf.nn.l2_loss(Z_)\n",
    "    l2_loss += tf.nn.l2_loss(b_)\n",
    "    \n",
    "    #scores = tf.nn.xw_plus_b(h_drop, W, b, name=\"scores\")\n",
    "    predictions_ = tf.argmax(logits_, 1, name=\"predictions\")\n",
    "\n",
    "    \n",
    "# Calculate mean cross-entropy loss\n",
    "with tf.name_scope(\"cost_function\"):\n",
    "    per_example_losses_ = tf.nn.softmax_cross_entropy_with_logits(logits=logits_, \n",
    "                                                                 labels=y_,\n",
    "                                                                 name=\"per_example_loss\")\n",
    "    loss_ = tf.reduce_mean(per_example_losses_) + l2_reg_lambda * l2_loss\n",
    "\n",
    "# Accuracy\n",
    "with tf.name_scope(\"accuracy\"):\n",
    "    correct_predictions_ = tf.equal(predictions_, tf.argmax(y_, 1))\n",
    "    accuracy_ = tf.reduce_mean(tf.cast(correct_predictions_, \"float\"), name=\"accuracy\")\n",
    "    \n",
    "with tf.name_scope(\"Training\"):\n",
    "    alpha_ = tf.placeholder(tf.float32, name=\"learning_rate\")\n",
    "    optimizer_ = tf.train.AdagradOptimizer(alpha_)\n",
    "    #optimizer_ = tf.train.AdamOptimizer(alpha_)\n",
    "    train_step_ = optimizer_.minimize(loss_)\n",
    "    \n",
    "# Initializer step\n",
    "init_ = tf.global_variables_initializer()"
   ]
  },
  {
   "cell_type": "markdown",
   "metadata": {},
   "source": [
    "### Training"
   ]
  },
  {
   "cell_type": "code",
   "execution_count": 104,
   "metadata": {},
   "outputs": [],
   "source": [
    "# Helper functions for training\n",
    "def train_batch(session, batch, alpha):\n",
    "    # Feed last column as targets\n",
    "    feed_dict = {x_:train_docs_ids,\n",
    "                 y_:train_labels_oh,\n",
    "                 alpha_:alpha}\n",
    "    c, a, pred, _ = session.run([loss_, accuracy_, predictions_, train_step_],\n",
    "                       feed_dict=feed_dict)\n",
    "    return c, a, pred\n",
    "\n",
    "def batch_generator(data, batch_size):\n",
    "    \"\"\"Generate minibatches from data.\"\"\"\n",
    "    for i in xrange(0, len(data), batch_size):\n",
    "        yield data[i:i+batch_size]\n",
    "\n",
    "def predict_batch(session):\n",
    "    feed_dict = {x_:validation_docs_ids,\n",
    "                 y_:validation_labels_oh}\n",
    "    a, pred = session.run([accuracy_, predictions_], feed_dict=feed_dict)\n",
    "    return a, pred"
   ]
  },
  {
   "cell_type": "code",
   "execution_count": 105,
   "metadata": {},
   "outputs": [
    {
     "name": "stdout",
     "output_type": "stream",
     "text": [
      "number of classes:  8\n",
      "feature size:  450\n",
      "regularization:  0.1\n"
     ]
    }
   ],
   "source": [
    "display_params()"
   ]
  },
  {
   "cell_type": "code",
   "execution_count": 106,
   "metadata": {
    "scrolled": true
   },
   "outputs": [],
   "source": [
    "from shared_lib import utils\n",
    "\n",
    "def run_epochs(num_epochs, batch_size, learning_rate, min_learning, print_rate):\n",
    "    # One epoch = one pass through the training data\n",
    "    num_epochs = num_epochs\n",
    "    batch_size = batch_size\n",
    "    alpha = learning_rate  # learning rate\n",
    "    min_alpha = min_learning\n",
    "    alpha_delta = (alpha - min_alpha) / num_epochs\n",
    "    print_every = print_rate\n",
    "\n",
    "    np.random.seed(42)\n",
    "\n",
    "    # For plotting\n",
    "    train_accuracy = []\n",
    "    validation_accuracy = []\n",
    "\n",
    "    session = tf.Session()\n",
    "    session.run(init_)\n",
    "\n",
    "    t0 = time.time()\n",
    "    for epoch in xrange(1,num_epochs+1):\n",
    "        t0_epoch = time.time()\n",
    "        epoch_cost = 0.0\n",
    "        total_batches = 0\n",
    "        print \"\"\n",
    "        print \"---------- Test ----------\"\n",
    "        print \"[epoch %d] Learning Rate %.2f\" %(epoch, alpha)\n",
    "        for i, batch in enumerate(batch_generator(train_docs_ids, batch_size)):\n",
    "            if (i % print_every == 0):\n",
    "                print \"[epoch %d] seen %d minibatches\" % (epoch, i)\n",
    "\n",
    "            cost, accuracy, pred = train_batch(session, batch, alpha)\n",
    "            epoch_cost += cost\n",
    "            total_batches = i + 1\n",
    "\n",
    "        avg_cost = epoch_cost / total_batches\n",
    "        alpha = alpha - alpha_delta\n",
    "\n",
    "        print \"[epoch %d] Completed %d minibatches in %s\" % (epoch, i, utils.pretty_timedelta(since=t0_epoch))\n",
    "        print \"[epoch %d] Average cost: %.03f\" % (epoch, avg_cost,)\n",
    "        print \"[epoch %d] Accuracy %.03f\" %(epoch, accuracy)\n",
    "        print \"[epoch %d] Classificaiton Report\\n\" %(epoch)\n",
    "        print classification_report(train_labels, pred)\n",
    "        train_accuracy.append(accuracy)\n",
    "\n",
    "        print \"\"\n",
    "        print \"---------- Test ----------\"\n",
    "        accuracy, pred = predict_batch(session)\n",
    "        print \"[epoch %d] Validation Accuracy is %.03f\" %(epoch, accuracy)\n",
    "        print \"[epoch %d] Validation Classificaiton Report\\n\" %(epoch)\n",
    "        print classification_report(validation_labels, pred)\n",
    "        validation_accuracy.append(accuracy)\n",
    "    return train_accuracy, validation_accuracy\n",
    "\n",
    "def plot_learning(num_epochs, train_accuracy, validation_accuracy):\n",
    "    plt.figure(figsize=(10, 8))\n",
    "    plt.plot(range(0, num_epochs), train_accuracy, '.-', label = \"Training accuracy\")\n",
    "    plt.plot(range(0, num_epochs), validation_accuracy, '.-', label = \"Validation accuracy\")\n",
    "    plt.legend()\n",
    "    plt.show()"
   ]
  },
  {
   "cell_type": "markdown",
   "metadata": {},
   "source": [
    "** running epochs **"
   ]
  },
  {
   "cell_type": "code",
   "execution_count": 107,
   "metadata": {},
   "outputs": [],
   "source": [
    "epochs = 12"
   ]
  },
  {
   "cell_type": "code",
   "execution_count": 108,
   "metadata": {
    "scrolled": true
   },
   "outputs": [
    {
     "name": "stdout",
     "output_type": "stream",
     "text": [
      "\n",
      "---------- Test ----------\n",
      "[epoch 1] Learning Rate 0.50\n",
      "[epoch 1] seen 0 minibatches\n",
      "[epoch 1] Completed 49 minibatches in 0:00:01\n",
      "[epoch 1] Average cost: 5.999\n",
      "[epoch 1] Accuracy 0.701\n",
      "[epoch 1] Classificaiton Report\n",
      "\n",
      "             precision    recall  f1-score   support\n",
      "\n",
      "          0       0.53      0.62      0.57       643\n",
      "          1       0.64      0.61      0.63       624\n",
      "          2       0.76      0.57      0.65       606\n",
      "          3       0.69      0.86      0.77       658\n",
      "          4       0.75      0.73      0.74       639\n",
      "          5       0.67      0.67      0.67       615\n",
      "          6       0.79      0.75      0.77       594\n",
      "          7       0.86      0.78      0.82       576\n",
      "\n",
      "avg / total       0.71      0.70      0.70      4955\n",
      "\n",
      "\n",
      "---------- Test ----------\n",
      "[epoch 1] Validation Accuracy is 0.666\n",
      "[epoch 1] Validation Classificaiton Report\n",
      "\n",
      "             precision    recall  f1-score   support\n",
      "\n",
      "          0       0.49      0.62      0.55       148\n",
      "          1       0.58      0.49      0.53       152\n",
      "          2       0.70      0.54      0.61       158\n",
      "          3       0.60      0.80      0.69       143\n",
      "          4       0.72      0.79      0.75       160\n",
      "          5       0.64      0.60      0.62       169\n",
      "          6       0.82      0.71      0.76       156\n",
      "          7       0.85      0.79      0.82       153\n",
      "\n",
      "avg / total       0.68      0.67      0.67      1239\n",
      "\n",
      "\n",
      "---------- Test ----------\n",
      "[epoch 2] Learning Rate 0.47\n",
      "[epoch 2] seen 0 minibatches\n",
      "[epoch 2] Completed 49 minibatches in 0:00:01\n",
      "[epoch 2] Average cost: 1.668\n",
      "[epoch 2] Accuracy 0.701\n",
      "[epoch 2] Classificaiton Report\n",
      "\n",
      "             precision    recall  f1-score   support\n",
      "\n",
      "          0       0.54      0.62      0.58       643\n",
      "          1       0.64      0.61      0.63       624\n",
      "          2       0.76      0.57      0.65       606\n",
      "          3       0.69      0.86      0.77       658\n",
      "          4       0.75      0.73      0.74       639\n",
      "          5       0.67      0.67      0.67       615\n",
      "          6       0.79      0.75      0.77       594\n",
      "          7       0.86      0.78      0.82       576\n",
      "\n",
      "avg / total       0.71      0.70      0.70      4955\n",
      "\n",
      "\n",
      "---------- Test ----------\n",
      "[epoch 2] Validation Accuracy is 0.665\n",
      "[epoch 2] Validation Classificaiton Report\n",
      "\n",
      "             precision    recall  f1-score   support\n",
      "\n",
      "          0       0.49      0.62      0.55       148\n",
      "          1       0.58      0.49      0.53       152\n",
      "          2       0.70      0.54      0.61       158\n",
      "          3       0.60      0.80      0.69       143\n",
      "          4       0.73      0.78      0.75       160\n",
      "          5       0.64      0.60      0.62       169\n",
      "          6       0.81      0.71      0.76       156\n",
      "          7       0.85      0.79      0.82       153\n",
      "\n",
      "avg / total       0.68      0.67      0.67      1239\n",
      "\n",
      "\n",
      "---------- Test ----------\n",
      "[epoch 3] Learning Rate 0.43\n",
      "[epoch 3] seen 0 minibatches\n",
      "[epoch 3] Completed 49 minibatches in 0:00:01\n",
      "[epoch 3] Average cost: 1.668\n",
      "[epoch 3] Accuracy 0.701\n",
      "[epoch 3] Classificaiton Report\n",
      "\n",
      "             precision    recall  f1-score   support\n",
      "\n",
      "          0       0.54      0.62      0.58       643\n",
      "          1       0.64      0.61      0.63       624\n",
      "          2       0.76      0.57      0.65       606\n",
      "          3       0.69      0.86      0.77       658\n",
      "          4       0.75      0.73      0.74       639\n",
      "          5       0.67      0.67      0.67       615\n",
      "          6       0.79      0.75      0.77       594\n",
      "          7       0.86      0.78      0.82       576\n",
      "\n",
      "avg / total       0.71      0.70      0.70      4955\n",
      "\n",
      "\n",
      "---------- Test ----------\n",
      "[epoch 3] Validation Accuracy is 0.665\n",
      "[epoch 3] Validation Classificaiton Report\n",
      "\n",
      "             precision    recall  f1-score   support\n",
      "\n",
      "          0       0.49      0.62      0.55       148\n",
      "          1       0.58      0.49      0.53       152\n",
      "          2       0.70      0.54      0.61       158\n",
      "          3       0.60      0.80      0.69       143\n",
      "          4       0.73      0.78      0.75       160\n",
      "          5       0.64      0.60      0.62       169\n",
      "          6       0.81      0.71      0.76       156\n",
      "          7       0.85      0.79      0.82       153\n",
      "\n",
      "avg / total       0.68      0.67      0.67      1239\n",
      "\n",
      "\n",
      "---------- Test ----------\n",
      "[epoch 4] Learning Rate 0.40\n",
      "[epoch 4] seen 0 minibatches\n",
      "[epoch 4] Completed 49 minibatches in 0:00:01\n",
      "[epoch 4] Average cost: 1.668\n",
      "[epoch 4] Accuracy 0.701\n",
      "[epoch 4] Classificaiton Report\n",
      "\n",
      "             precision    recall  f1-score   support\n",
      "\n",
      "          0       0.54      0.62      0.58       643\n",
      "          1       0.64      0.61      0.63       624\n",
      "          2       0.76      0.57      0.65       606\n",
      "          3       0.69      0.86      0.77       658\n",
      "          4       0.75      0.73      0.74       639\n",
      "          5       0.67      0.67      0.67       615\n",
      "          6       0.79      0.75      0.77       594\n",
      "          7       0.86      0.78      0.82       576\n",
      "\n",
      "avg / total       0.71      0.70      0.70      4955\n",
      "\n",
      "\n",
      "---------- Test ----------\n",
      "[epoch 4] Validation Accuracy is 0.665\n",
      "[epoch 4] Validation Classificaiton Report\n",
      "\n",
      "             precision    recall  f1-score   support\n",
      "\n",
      "          0       0.49      0.62      0.55       148\n",
      "          1       0.58      0.49      0.53       152\n",
      "          2       0.70      0.54      0.61       158\n",
      "          3       0.60      0.80      0.69       143\n",
      "          4       0.73      0.78      0.75       160\n",
      "          5       0.64      0.60      0.62       169\n",
      "          6       0.81      0.71      0.76       156\n",
      "          7       0.85      0.79      0.82       153\n",
      "\n",
      "avg / total       0.68      0.67      0.67      1239\n",
      "\n",
      "\n",
      "---------- Test ----------\n",
      "[epoch 5] Learning Rate 0.37\n",
      "[epoch 5] seen 0 minibatches\n",
      "[epoch 5] Completed 49 minibatches in 0:00:01\n",
      "[epoch 5] Average cost: 1.668\n",
      "[epoch 5] Accuracy 0.701\n",
      "[epoch 5] Classificaiton Report\n",
      "\n",
      "             precision    recall  f1-score   support\n",
      "\n",
      "          0       0.54      0.62      0.58       643\n",
      "          1       0.64      0.61      0.63       624\n",
      "          2       0.76      0.57      0.65       606\n",
      "          3       0.69      0.86      0.77       658\n",
      "          4       0.75      0.73      0.74       639\n",
      "          5       0.67      0.67      0.67       615\n",
      "          6       0.79      0.75      0.77       594\n",
      "          7       0.86      0.78      0.82       576\n",
      "\n",
      "avg / total       0.71      0.70      0.70      4955\n",
      "\n",
      "\n",
      "---------- Test ----------\n",
      "[epoch 5] Validation Accuracy is 0.665\n",
      "[epoch 5] Validation Classificaiton Report\n",
      "\n",
      "             precision    recall  f1-score   support\n",
      "\n",
      "          0       0.49      0.62      0.55       148\n",
      "          1       0.58      0.49      0.53       152\n",
      "          2       0.70      0.54      0.61       158\n",
      "          3       0.60      0.80      0.69       143\n",
      "          4       0.73      0.78      0.75       160\n",
      "          5       0.64      0.60      0.62       169\n",
      "          6       0.81      0.71      0.76       156\n",
      "          7       0.85      0.79      0.82       153\n",
      "\n",
      "avg / total       0.68      0.67      0.67      1239\n",
      "\n",
      "\n",
      "---------- Test ----------\n",
      "[epoch 6] Learning Rate 0.33\n",
      "[epoch 6] seen 0 minibatches\n",
      "[epoch 6] Completed 49 minibatches in 0:00:01\n",
      "[epoch 6] Average cost: 1.668\n",
      "[epoch 6] Accuracy 0.701\n",
      "[epoch 6] Classificaiton Report\n",
      "\n",
      "             precision    recall  f1-score   support\n",
      "\n",
      "          0       0.54      0.62      0.58       643\n",
      "          1       0.64      0.61      0.63       624\n",
      "          2       0.76      0.57      0.65       606\n",
      "          3       0.69      0.86      0.77       658\n",
      "          4       0.75      0.73      0.74       639\n",
      "          5       0.67      0.67      0.67       615\n",
      "          6       0.79      0.75      0.77       594\n",
      "          7       0.86      0.78      0.82       576\n",
      "\n",
      "avg / total       0.71      0.70      0.70      4955\n",
      "\n",
      "\n",
      "---------- Test ----------\n",
      "[epoch 6] Validation Accuracy is 0.665\n",
      "[epoch 6] Validation Classificaiton Report\n",
      "\n",
      "             precision    recall  f1-score   support\n",
      "\n",
      "          0       0.49      0.62      0.55       148\n",
      "          1       0.58      0.49      0.53       152\n",
      "          2       0.70      0.54      0.61       158\n",
      "          3       0.60      0.80      0.69       143\n",
      "          4       0.73      0.78      0.75       160\n",
      "          5       0.64      0.60      0.62       169\n",
      "          6       0.81      0.71      0.76       156\n",
      "          7       0.85      0.79      0.82       153\n",
      "\n",
      "avg / total       0.68      0.67      0.67      1239\n",
      "\n",
      "\n",
      "---------- Test ----------\n",
      "[epoch 7] Learning Rate 0.30\n",
      "[epoch 7] seen 0 minibatches\n"
     ]
    },
    {
     "name": "stdout",
     "output_type": "stream",
     "text": [
      "[epoch 7] Completed 49 minibatches in 0:00:01\n",
      "[epoch 7] Average cost: 1.668\n",
      "[epoch 7] Accuracy 0.701\n",
      "[epoch 7] Classificaiton Report\n",
      "\n",
      "             precision    recall  f1-score   support\n",
      "\n",
      "          0       0.54      0.62      0.58       643\n",
      "          1       0.64      0.61      0.63       624\n",
      "          2       0.76      0.57      0.65       606\n",
      "          3       0.69      0.86      0.77       658\n",
      "          4       0.75      0.73      0.74       639\n",
      "          5       0.67      0.67      0.67       615\n",
      "          6       0.79      0.75      0.77       594\n",
      "          7       0.86      0.78      0.82       576\n",
      "\n",
      "avg / total       0.71      0.70      0.70      4955\n",
      "\n",
      "\n",
      "---------- Test ----------\n",
      "[epoch 7] Validation Accuracy is 0.665\n",
      "[epoch 7] Validation Classificaiton Report\n",
      "\n",
      "             precision    recall  f1-score   support\n",
      "\n",
      "          0       0.49      0.62      0.55       148\n",
      "          1       0.58      0.49      0.53       152\n",
      "          2       0.70      0.54      0.61       158\n",
      "          3       0.60      0.80      0.69       143\n",
      "          4       0.73      0.78      0.75       160\n",
      "          5       0.64      0.60      0.62       169\n",
      "          6       0.81      0.71      0.76       156\n",
      "          7       0.85      0.79      0.82       153\n",
      "\n",
      "avg / total       0.68      0.67      0.67      1239\n",
      "\n",
      "\n",
      "---------- Test ----------\n",
      "[epoch 8] Learning Rate 0.27\n",
      "[epoch 8] seen 0 minibatches\n",
      "[epoch 8] Completed 49 minibatches in 0:00:01\n",
      "[epoch 8] Average cost: 1.668\n",
      "[epoch 8] Accuracy 0.701\n",
      "[epoch 8] Classificaiton Report\n",
      "\n",
      "             precision    recall  f1-score   support\n",
      "\n",
      "          0       0.54      0.62      0.58       643\n",
      "          1       0.64      0.61      0.63       624\n",
      "          2       0.76      0.57      0.65       606\n",
      "          3       0.69      0.86      0.77       658\n",
      "          4       0.75      0.73      0.74       639\n",
      "          5       0.67      0.67      0.67       615\n",
      "          6       0.79      0.75      0.77       594\n",
      "          7       0.86      0.78      0.82       576\n",
      "\n",
      "avg / total       0.71      0.70      0.70      4955\n",
      "\n",
      "\n",
      "---------- Test ----------\n",
      "[epoch 8] Validation Accuracy is 0.665\n",
      "[epoch 8] Validation Classificaiton Report\n",
      "\n",
      "             precision    recall  f1-score   support\n",
      "\n",
      "          0       0.49      0.62      0.55       148\n",
      "          1       0.58      0.49      0.53       152\n",
      "          2       0.70      0.54      0.61       158\n",
      "          3       0.60      0.80      0.69       143\n",
      "          4       0.73      0.78      0.75       160\n",
      "          5       0.64      0.60      0.62       169\n",
      "          6       0.81      0.71      0.76       156\n",
      "          7       0.85      0.79      0.82       153\n",
      "\n",
      "avg / total       0.68      0.67      0.67      1239\n",
      "\n",
      "\n",
      "---------- Test ----------\n",
      "[epoch 9] Learning Rate 0.23\n",
      "[epoch 9] seen 0 minibatches\n",
      "[epoch 9] Completed 49 minibatches in 0:00:01\n",
      "[epoch 9] Average cost: 1.668\n",
      "[epoch 9] Accuracy 0.701\n",
      "[epoch 9] Classificaiton Report\n",
      "\n",
      "             precision    recall  f1-score   support\n",
      "\n",
      "          0       0.54      0.62      0.58       643\n",
      "          1       0.64      0.61      0.63       624\n",
      "          2       0.76      0.57      0.65       606\n",
      "          3       0.69      0.86      0.77       658\n",
      "          4       0.75      0.73      0.74       639\n",
      "          5       0.67      0.67      0.67       615\n",
      "          6       0.79      0.75      0.77       594\n",
      "          7       0.86      0.78      0.82       576\n",
      "\n",
      "avg / total       0.71      0.70      0.70      4955\n",
      "\n",
      "\n",
      "---------- Test ----------\n",
      "[epoch 9] Validation Accuracy is 0.665\n",
      "[epoch 9] Validation Classificaiton Report\n",
      "\n",
      "             precision    recall  f1-score   support\n",
      "\n",
      "          0       0.49      0.62      0.55       148\n",
      "          1       0.58      0.49      0.53       152\n",
      "          2       0.70      0.54      0.61       158\n",
      "          3       0.60      0.80      0.69       143\n",
      "          4       0.73      0.78      0.75       160\n",
      "          5       0.64      0.60      0.62       169\n",
      "          6       0.81      0.71      0.76       156\n",
      "          7       0.85      0.79      0.82       153\n",
      "\n",
      "avg / total       0.68      0.67      0.67      1239\n",
      "\n",
      "\n",
      "---------- Test ----------\n",
      "[epoch 10] Learning Rate 0.20\n",
      "[epoch 10] seen 0 minibatches\n",
      "[epoch 10] Completed 49 minibatches in 0:00:01\n",
      "[epoch 10] Average cost: 1.668\n",
      "[epoch 10] Accuracy 0.701\n",
      "[epoch 10] Classificaiton Report\n",
      "\n",
      "             precision    recall  f1-score   support\n",
      "\n",
      "          0       0.54      0.62      0.58       643\n",
      "          1       0.64      0.61      0.63       624\n",
      "          2       0.76      0.57      0.65       606\n",
      "          3       0.69      0.86      0.77       658\n",
      "          4       0.75      0.73      0.74       639\n",
      "          5       0.67      0.67      0.67       615\n",
      "          6       0.79      0.75      0.77       594\n",
      "          7       0.86      0.78      0.82       576\n",
      "\n",
      "avg / total       0.71      0.70      0.70      4955\n",
      "\n",
      "\n",
      "---------- Test ----------\n",
      "[epoch 10] Validation Accuracy is 0.665\n",
      "[epoch 10] Validation Classificaiton Report\n",
      "\n",
      "             precision    recall  f1-score   support\n",
      "\n",
      "          0       0.49      0.62      0.55       148\n",
      "          1       0.58      0.49      0.53       152\n",
      "          2       0.70      0.54      0.61       158\n",
      "          3       0.60      0.80      0.69       143\n",
      "          4       0.73      0.78      0.75       160\n",
      "          5       0.64      0.60      0.62       169\n",
      "          6       0.81      0.71      0.76       156\n",
      "          7       0.85      0.79      0.82       153\n",
      "\n",
      "avg / total       0.68      0.67      0.67      1239\n",
      "\n",
      "\n",
      "---------- Test ----------\n",
      "[epoch 11] Learning Rate 0.17\n",
      "[epoch 11] seen 0 minibatches\n",
      "[epoch 11] Completed 49 minibatches in 0:00:01\n",
      "[epoch 11] Average cost: 1.668\n",
      "[epoch 11] Accuracy 0.701\n",
      "[epoch 11] Classificaiton Report\n",
      "\n",
      "             precision    recall  f1-score   support\n",
      "\n",
      "          0       0.54      0.62      0.58       643\n",
      "          1       0.64      0.61      0.63       624\n",
      "          2       0.76      0.57      0.65       606\n",
      "          3       0.69      0.86      0.77       658\n",
      "          4       0.75      0.73      0.74       639\n",
      "          5       0.67      0.67      0.67       615\n",
      "          6       0.79      0.75      0.77       594\n",
      "          7       0.86      0.78      0.82       576\n",
      "\n",
      "avg / total       0.71      0.70      0.70      4955\n",
      "\n",
      "\n",
      "---------- Test ----------\n",
      "[epoch 11] Validation Accuracy is 0.665\n",
      "[epoch 11] Validation Classificaiton Report\n",
      "\n",
      "             precision    recall  f1-score   support\n",
      "\n",
      "          0       0.49      0.62      0.55       148\n",
      "          1       0.58      0.49      0.53       152\n",
      "          2       0.70      0.54      0.61       158\n",
      "          3       0.60      0.80      0.69       143\n",
      "          4       0.73      0.78      0.75       160\n",
      "          5       0.64      0.60      0.62       169\n",
      "          6       0.81      0.71      0.76       156\n",
      "          7       0.85      0.79      0.82       153\n",
      "\n",
      "avg / total       0.68      0.67      0.67      1239\n",
      "\n",
      "\n",
      "---------- Test ----------\n",
      "[epoch 12] Learning Rate 0.13\n",
      "[epoch 12] seen 0 minibatches\n",
      "[epoch 12] Completed 49 minibatches in 0:00:01\n",
      "[epoch 12] Average cost: 1.668\n",
      "[epoch 12] Accuracy 0.701\n",
      "[epoch 12] Classificaiton Report\n",
      "\n",
      "             precision    recall  f1-score   support\n",
      "\n",
      "          0       0.54      0.62      0.58       643\n",
      "          1       0.64      0.61      0.63       624\n",
      "          2       0.76      0.57      0.65       606\n",
      "          3       0.69      0.86      0.77       658\n",
      "          4       0.75      0.73      0.74       639\n",
      "          5       0.67      0.67      0.67       615\n",
      "          6       0.79      0.75      0.77       594\n",
      "          7       0.86      0.78      0.82       576\n",
      "\n",
      "avg / total       0.71      0.70      0.70      4955\n",
      "\n",
      "\n",
      "---------- Test ----------\n",
      "[epoch 12] Validation Accuracy is 0.665\n",
      "[epoch 12] Validation Classificaiton Report\n",
      "\n",
      "             precision    recall  f1-score   support\n",
      "\n",
      "          0       0.49      0.62      0.55       148\n",
      "          1       0.58      0.49      0.53       152\n",
      "          2       0.70      0.54      0.61       158\n",
      "          3       0.60      0.80      0.69       143\n",
      "          4       0.73      0.78      0.75       160\n",
      "          5       0.64      0.60      0.62       169\n",
      "          6       0.81      0.71      0.76       156\n",
      "          7       0.85      0.79      0.82       153\n",
      "\n",
      "avg / total       0.68      0.67      0.67      1239\n",
      "\n"
     ]
    }
   ],
   "source": [
    "train_accur, validation_accur = run_epochs(num_epochs = epochs, \n",
    "                                           batch_size = 100, \n",
    "                                           learning_rate = 0.5, \n",
    "                                           min_learning = 0.1, \n",
    "                                           print_rate = 100)"
   ]
  },
  {
   "cell_type": "code",
   "execution_count": 109,
   "metadata": {
    "scrolled": false
   },
   "outputs": [
    {
     "data": {
      "image/png": "[encoded data removed]",
      "text/plain": [
       "<matplotlib.figure.Figure at 0x7f40247c5d50>"
      ]
     },
     "metadata": {},
     "output_type": "display_data"
    }
   ],
   "source": [
    "plot_learning(num_epochs = epochs,\n",
    "              train_accuracy = train_accur, \n",
    "              validation_accuracy = validation_accur)"
   ]
  },
  {
   "cell_type": "markdown",
   "metadata": {},
   "source": [
    "## 2. Open Classificaiton Methods (1-vs-Rest)"
   ]
  },
  {
   "cell_type": "markdown",
   "metadata": {},
   "source": [
    "\n",
    "* 1-vs-Rest Layer of DOC\n",
    "\n",
    "    * M (number of class) sigmoid function, N (batch_size)\n",
    "    * Objective function for training is $$loss = \\sum_{i=1}^M \\sum_{i=1}^N y_n log(p) + (1 - y_n)log(1 - p(y))$$ is the summation of all log loss (cross-entropy) on the training data.\n",
    "    * At prediction, reject if all predicted probability is less than their threshold t_i, otherwise $argmax(Sigmoid(d))$\n",
    "    * The theshold is determined by using outlier detection. (***We can use a fixed number such as 0.95 to validate our model implementation***)\n",
    "    * Approach:\n",
    "        1. Remove some classes from the training data\n",
    "        2. Training the data\n",
    "        3. Add those classes back to the test data\n",
    "\n",
    "* Clustering Approach\n",
    "    * KNN\n",
    "    * Gausian Mix Model\n",
    "    * Infinite Dirichlet process"
   ]
  },
  {
   "cell_type": "markdown",
   "metadata": {},
   "source": [
    "## Case 1 (5 labeled + 1 unseen)"
   ]
  },
  {
   "cell_type": "code",
   "execution_count": 59,
   "metadata": {},
   "outputs": [
    {
     "name": "stdout",
     "output_type": "stream",
     "text": [
      "[0 1 2 3 4 5]\n"
     ]
    }
   ],
   "source": [
    "print np.unique(train_labels)"
   ]
  },
  {
   "cell_type": "markdown",
   "metadata": {},
   "source": [
    "### Remove some class and cross validate train data for hyper parameters"
   ]
  },
  {
   "cell_type": "code",
   "execution_count": 82,
   "metadata": {},
   "outputs": [],
   "source": [
    "## Load SKlearn libraries\n",
    "from sklearn.ensemble import RandomForestClassifier, GradientBoostingClassifier\n",
    "from sklearn.multiclass import OneVsRestClassifier\n",
    "from sklearn.linear_model import LogisticRegression\n",
    "from sklearn.calibration import CalibratedClassifierCV\n",
    "from sklearn.svm import SVC\n",
    "from sklearn.metrics import f1_score"
   ]
  },
  {
   "cell_type": "markdown",
   "metadata": {},
   "source": [
    "** Training and test data are feature vectors from paragraph2vec model **"
   ]
  },
  {
   "cell_type": "code",
   "execution_count": 61,
   "metadata": {},
   "outputs": [
    {
     "name": "stdout",
     "output_type": "stream",
     "text": [
      "(3641, 450)\n",
      "(1138, 450)\n"
     ]
    }
   ],
   "source": [
    "## Training and test data are feature vectors from paragraph2vec model\n",
    "train_vectors = extract_vectors(dm_model,train_docs)\n",
    "test_vectors = extract_vectors(dm_model,test_docs)\n",
    "\n",
    "# Define a missing class and remove those data from the training set\n",
    "missing_class = np.array([0])\n",
    "missing_class_idx = np.where(np.isin(train_labels, missing_class))[0]\n",
    "train_new_vectors = [train_vectors[i] for i in range(len(train_vectors)) if i not in missing_class_idx]\n",
    "train_new_labels = [train_labels[i] for i in range(len(train_labels)) if i not in missing_class_idx]\n",
    "\n",
    "train_valid_cut = int(len(train_new_vectors)*.75)\n",
    "train_final_vectors = train_new_vectors[:train_valid_cut]\n",
    "train_final_labels = train_new_labels[:train_valid_cut]\n",
    "\n",
    "valid_final_vectors=train_new_vectors[train_valid_cut:]\n",
    "valid_final_labels = train_new_labels[train_valid_cut:]\n",
    "\n",
    "print np.array(train_vectors).shape\n",
    "print np.array(test_vectors).shape"
   ]
  },
  {
   "cell_type": "code",
   "execution_count": 62,
   "metadata": {},
   "outputs": [
    {
     "name": "stdout",
     "output_type": "stream",
     "text": [
      "--- 1-vs-Rest SVM ---\n",
      "Fitting 3 folds for each of 112 candidates, totalling 336 fits\n"
     ]
    },
    {
     "name": "stderr",
     "output_type": "stream",
     "text": [
      "/home/qianyu/anaconda2/lib/python2.7/site-packages/sklearn/metrics/classification.py:1113: UndefinedMetricWarning: F-score is ill-defined and being set to 0.0 in labels with no predicted samples.\n",
      "  'precision', 'predicted', average, warn_for)\n",
      "[Parallel(n_jobs=1)]: Done 336 out of 336 | elapsed: 11.7min finished\n"
     ]
    },
    {
     "name": "stdout",
     "output_type": "stream",
     "text": [
      "0.64565822354\n",
      "{'estimator__kernel': 'linear', 'estimator__C': 1, 'estimator__degree': 1}\n"
     ]
    }
   ],
   "source": [
    "clf_svc = OneVsRestClassifier(SVC(probability=True))\n",
    "clf_svc.fit(train_final_vectors, train_final_labels)\n",
    "\n",
    "parameters_SVC = {\n",
    "    \"estimator__C\": [0.001,0.01,0.1,0.5,1,2,5],\n",
    "    \"estimator__kernel\": [\"poly\",\"rbf\", \"sigmoid\",\"linear\"],\n",
    "    \"estimator__degree\":[1, 2, 3, 4],\n",
    "}\n",
    "\n",
    "print \"--- 1-vs-Rest SVM ---\"\n",
    "mod_svc = GridSearchCV(estimator=clf_svc, param_grid=parameters_SVC, scoring='f1_macro', verbose=True)\n",
    "mod_svc.fit(valid_final_vectors, valid_final_labels)\n",
    "print mod_svc.best_score_ \n",
    "print mod_svc.best_params_"
   ]
  },
  {
   "cell_type": "code",
   "execution_count": 63,
   "metadata": {},
   "outputs": [
    {
     "name": "stdout",
     "output_type": "stream",
     "text": [
      "[1 2 3 4 5]\n",
      "[0 1 2 3 4 5]\n"
     ]
    }
   ],
   "source": [
    "print np.unique(train_final_labels)\n",
    "print np.unique(test_labels)"
   ]
  },
  {
   "cell_type": "markdown",
   "metadata": {},
   "source": [
    "### Calibrate 1-vs-Rest probability"
   ]
  },
  {
   "cell_type": "code",
   "execution_count": 64,
   "metadata": {},
   "outputs": [
    {
     "name": "stderr",
     "output_type": "stream",
     "text": [
      "/home/qianyu/anaconda2/lib/python2.7/site-packages/sklearn/calibration.py:432: RuntimeWarning: overflow encountered in exp\n",
      "  E = np.exp(AB[0] * F + AB[1])\n",
      "/home/qianyu/anaconda2/lib/python2.7/site-packages/sklearn/calibration.py:442: RuntimeWarning: overflow encountered in exp\n",
      "  E = np.exp(AB[0] * F + AB[1])\n",
      "/home/qianyu/anaconda2/lib/python2.7/site-packages/sklearn/calibration.py:444: RuntimeWarning: invalid value encountered in multiply\n",
      "  TEP_minus_T1P = P * (T * E - T1)\n"
     ]
    }
   ],
   "source": [
    "clf_svc = OneVsRestClassifier(SVC(probability=True, \n",
    "                              kernel=mod_svc.best_params_['estimator__kernel'], \n",
    "                              C=mod_svc.best_params_['estimator__C'], \n",
    "                              degree=mod_svc.best_params_['estimator__degree']))\n",
    "\n",
    "clf_svc.fit(train_final_vectors, train_final_labels)\n",
    "\n",
    "## Calibrate prob\n",
    "sig_clf_svc = CalibratedClassifierCV(clf_svc, method=\"sigmoid\", cv=\"prefit\")\n",
    "sig_clf_svc.fit(valid_final_vectors, valid_final_labels)\n",
    "sig_clf_svc_probs = sig_clf_svc.predict_proba(test_vectors)\n",
    "clf_svc_probs = clf_svc.predict_proba(test_vectors)"
   ]
  },
  {
   "cell_type": "markdown",
   "metadata": {},
   "source": [
    "### Visualized histogram of max probability (probability that determine the class)"
   ]
  },
  {
   "cell_type": "code",
   "execution_count": 65,
   "metadata": {},
   "outputs": [
    {
     "data": {
      "image/png": "[encoded data removed]",
      "text/plain": [
       "<matplotlib.figure.Figure at 0x7fe5de370810>"
      ]
     },
     "metadata": {},
     "output_type": "display_data"
    }
   ],
   "source": [
    "x = np.amax(sig_clf_svc_probs, axis = 1)\n",
    "plt.figure(figsize = (12, 8))\n",
    "n, bins, patches = plt.hist(x, 50)\n",
    "plt.title(\"max prob dist\")\n",
    "plt.show()"
   ]
  },
  {
   "cell_type": "markdown",
   "metadata": {},
   "source": [
    "### Check Classification Accuracy on Test Data\n",
    "\n",
    "* Test Data actually have 5 class labels\n",
    "* Try with training data of 4 labels first"
   ]
  },
  {
   "cell_type": "code",
   "execution_count": 66,
   "metadata": {},
   "outputs": [
    {
     "name": "stdout",
     "output_type": "stream",
     "text": [
      "[1 2 3 4 5]\n",
      "[1 2 3 4 5]\n",
      "             precision    recall  f1-score   support\n",
      "\n",
      "          0       0.00      0.00      0.00       174\n",
      "          1       0.51      0.70      0.59       192\n",
      "          2       0.57      0.60      0.58       199\n",
      "          3       0.53      0.67      0.60       175\n",
      "          4       0.67      0.73      0.70       185\n",
      "          5       0.69      0.79      0.73       213\n",
      "\n",
      "avg / total       0.51      0.59      0.54      1138\n",
      "\n",
      "             precision    recall  f1-score   support\n",
      "\n",
      "          0       0.00      0.00      0.00       174\n",
      "          1       0.54      0.70      0.61       192\n",
      "          2       0.50      0.68      0.58       199\n",
      "          3       0.56      0.67      0.61       175\n",
      "          4       0.69      0.69      0.69       185\n",
      "          5       0.74      0.75      0.74       213\n",
      "\n",
      "avg / total       0.51      0.59      0.55      1138\n",
      "\n",
      "0.592267135325\n",
      "0.594024604569\n"
     ]
    },
    {
     "name": "stderr",
     "output_type": "stream",
     "text": [
      "/home/qianyu/anaconda2/lib/python2.7/site-packages/sklearn/metrics/classification.py:1113: UndefinedMetricWarning: Precision and F-score are ill-defined and being set to 0.0 in labels with no predicted samples.\n",
      "  'precision', 'predicted', average, warn_for)\n"
     ]
    }
   ],
   "source": [
    "preds1 = clf_svc.predict(test_vectors)\n",
    "preds2 = sig_clf_svc.predict(test_vectors)\n",
    "print np.unique(preds1)\n",
    "print np.unique(preds2)\n",
    "print classification_report(test_labels,preds1)\n",
    "print classification_report(test_labels,preds2)\n",
    "print accuracy_score(test_labels,preds1)\n",
    "print accuracy_score(test_labels,preds2)"
   ]
  },
  {
   "cell_type": "markdown",
   "metadata": {},
   "source": [
    "### To find the new class, we select a Percentile for Probability Threshold for Class Labels"
   ]
  },
  {
   "cell_type": "code",
   "execution_count": 71,
   "metadata": {},
   "outputs": [],
   "source": [
    "class_prob_percentile_90 = np.array([np.percentile(sig_clf_svc_probs[:,val], 90.0) \n",
    "                                     for val in range(len(sig_clf_svc_probs[0]))])\n",
    "\n",
    "test_class_preds = np.greater_equal(sig_clf_svc_probs,class_prob_percentile_90).astype(int)\n",
    "\n",
    "# Predict the test label based on percental\n",
    "# If a data is below 80% for prob of all class, it belongs to open class\n",
    "valid_class_probs = np.multiply(sig_clf_svc_probs, test_class_preds)\n",
    "valid_class = np.greater_equal(np.ceil(valid_class_probs),1).astype(int)\n",
    "predicted_multinomial = np.multiply(valid_class, np.unique(train_final_labels))\n",
    "predicted_test_class = np.max(predicted_multinomial,axis=1)\n",
    "\n",
    "# The true unseen class index\n",
    "unseen_class_indices = np.where(np.isin(test_labels, missing_class))[0]"
   ]
  },
  {
   "cell_type": "code",
   "execution_count": 72,
   "metadata": {},
   "outputs": [
    {
     "data": {
      "text/plain": [
       "(array([0, 1, 2, 3, 4, 5]), array([1, 2, 3, 4, 5]))"
      ]
     },
     "execution_count": 72,
     "metadata": {},
     "output_type": "execute_result"
    }
   ],
   "source": [
    "np.unique(predicted_test_class), np.unique(train_final_labels)"
   ]
  },
  {
   "cell_type": "markdown",
   "metadata": {},
   "source": [
    "### Evaluate F1 Score/Precision/Recall with Unseen Class"
   ]
  },
  {
   "cell_type": "code",
   "execution_count": 73,
   "metadata": {},
   "outputs": [],
   "source": [
    "missing_class_idx_test = np.where(np.isin(test_labels, missing_class))[0]\n",
    "for i in range(len(test_labels)): \n",
    "    if i in missing_class_idx_test:\n",
    "        test_labels[i] = 0"
   ]
  },
  {
   "cell_type": "code",
   "execution_count": 74,
   "metadata": {},
   "outputs": [
    {
     "name": "stdout",
     "output_type": "stream",
     "text": [
      "             precision    recall  f1-score   support\n",
      "\n",
      "          0       0.25      0.80      0.38       174\n",
      "          1       0.80      0.47      0.59       192\n",
      "          2       0.73      0.42      0.53       199\n",
      "          3       0.64      0.41      0.50       175\n",
      "          4       0.82      0.51      0.63       185\n",
      "          5       0.89      0.48      0.62       213\n",
      "\n",
      "avg / total       0.70      0.51      0.55      1138\n",
      "\n",
      "0.510544815466\n"
     ]
    }
   ],
   "source": [
    "print classification_report(test_labels, predicted_test_class)\n",
    "print accuracy_score(test_labels, predicted_test_class)"
   ]
  },
  {
   "cell_type": "markdown",
   "metadata": {},
   "source": [
    "### Unseen Class Predictions"
   ]
  },
  {
   "cell_type": "code",
   "execution_count": 75,
   "metadata": {},
   "outputs": [
    {
     "name": "stdout",
     "output_type": "stream",
     "text": [
      "[140   8   6  10   5   5]\n",
      "174\n"
     ]
    }
   ],
   "source": [
    "print np.bincount(sorted(predicted_test_class[unseen_class_indices]))\n",
    "print sum(np.bincount(sorted(predicted_test_class[unseen_class_indices])))"
   ]
  },
  {
   "cell_type": "markdown",
   "metadata": {},
   "source": [
    "# Unseen Class Prediction Accuracy"
   ]
  },
  {
   "cell_type": "code",
   "execution_count": 76,
   "metadata": {},
   "outputs": [
    {
     "name": "stdout",
     "output_type": "stream",
     "text": [
      "140.0 174\n",
      "0.804597701149\n"
     ]
    }
   ],
   "source": [
    "print float(np.bincount(sorted(predicted_test_class[unseen_class_indices]))[0]), \\\n",
    "    sum(np.isin(test_labels, missing_class).astype(int))\n",
    "print float(np.bincount(sorted(predicted_test_class[unseen_class_indices]))[0])/sum(np.isin(test_labels, missing_class).astype(int))"
   ]
  },
  {
   "cell_type": "markdown",
   "metadata": {
    "collapsed": true
   },
   "source": []
  },
  {
   "cell_type": "markdown",
   "metadata": {},
   "source": [
    "## Case 2 (5 labeled + 2 unseen)"
   ]
  },
  {
   "cell_type": "code",
   "execution_count": 93,
   "metadata": {},
   "outputs": [
    {
     "name": "stdout",
     "output_type": "stream",
     "text": [
      "[0 1 2 3 4 5 6]\n"
     ]
    }
   ],
   "source": [
    "print np.unique(train_labels)"
   ]
  },
  {
   "cell_type": "markdown",
   "metadata": {},
   "source": [
    "### Remove some class and cross validate train data for hyper parameters"
   ]
  },
  {
   "cell_type": "markdown",
   "metadata": {},
   "source": [
    "** Training and test data are feature vectors from paragraph2vec model **"
   ]
  },
  {
   "cell_type": "code",
   "execution_count": 95,
   "metadata": {},
   "outputs": [
    {
     "name": "stdout",
     "output_type": "stream",
     "text": [
      "(4265, 450)\n",
      "(1333, 450)\n"
     ]
    }
   ],
   "source": [
    "## Training and test data are feature vectors from paragraph2vec model\n",
    "train_vectors = extract_vectors(dm_model,train_docs)\n",
    "test_vectors = extract_vectors(dm_model,test_docs)\n",
    "\n",
    "# Define a missing class and remove those data from the training set\n",
    "missing_class = np.array([0, 1])\n",
    "missing_class_idx = np.where(np.isin(train_labels, missing_class))[0]\n",
    "train_new_vectors = [train_vectors[i] for i in range(len(train_vectors)) if i not in missing_class_idx]\n",
    "train_new_labels = [train_labels[i] for i in range(len(train_labels)) if i not in missing_class_idx]\n",
    "\n",
    "train_valid_cut = int(len(train_new_vectors)*.75)\n",
    "train_final_vectors = train_new_vectors[:train_valid_cut]\n",
    "train_final_labels = train_new_labels[:train_valid_cut]\n",
    "\n",
    "valid_final_vectors=train_new_vectors[train_valid_cut:]\n",
    "valid_final_labels = train_new_labels[train_valid_cut:]\n",
    "\n",
    "print np.array(train_vectors).shape\n",
    "print np.array(test_vectors).shape"
   ]
  },
  {
   "cell_type": "code",
   "execution_count": 96,
   "metadata": {},
   "outputs": [
    {
     "name": "stdout",
     "output_type": "stream",
     "text": [
      "--- 1-vs-Rest SVM ---\n",
      "Fitting 3 folds for each of 112 candidates, totalling 336 fits\n"
     ]
    },
    {
     "name": "stderr",
     "output_type": "stream",
     "text": [
      "[Parallel(n_jobs=1)]: Done 336 out of 336 | elapsed: 11.3min finished\n"
     ]
    },
    {
     "name": "stdout",
     "output_type": "stream",
     "text": [
      "0.694632064874\n",
      "{'estimator__kernel': 'linear', 'estimator__C': 0.1, 'estimator__degree': 1}\n"
     ]
    }
   ],
   "source": [
    "clf_svc = OneVsRestClassifier(SVC(probability=True))\n",
    "clf_svc.fit(train_final_vectors, train_final_labels)\n",
    "\n",
    "parameters_SVC = {\n",
    "    \"estimator__C\": [0.001,0.01,0.1,0.5,1,2,5],\n",
    "    \"estimator__kernel\": [\"poly\",\"rbf\", \"sigmoid\",\"linear\"],\n",
    "    \"estimator__degree\":[1, 2, 3, 4],\n",
    "}\n",
    "\n",
    "print \"--- 1-vs-Rest SVM ---\"\n",
    "mod_svc = GridSearchCV(estimator=clf_svc, param_grid=parameters_SVC, scoring='f1_macro', verbose=True)\n",
    "mod_svc.fit(valid_final_vectors, valid_final_labels)\n",
    "print mod_svc.best_score_ \n",
    "print mod_svc.best_params_"
   ]
  },
  {
   "cell_type": "code",
   "execution_count": 97,
   "metadata": {},
   "outputs": [
    {
     "name": "stdout",
     "output_type": "stream",
     "text": [
      "[2 3 4 5 6]\n",
      "[0 1 2 3 4 5 6]\n"
     ]
    }
   ],
   "source": [
    "print np.unique(train_final_labels)\n",
    "print np.unique(test_labels)"
   ]
  },
  {
   "cell_type": "markdown",
   "metadata": {},
   "source": [
    "### Calibrate 1-vs-Rest probability"
   ]
  },
  {
   "cell_type": "code",
   "execution_count": 98,
   "metadata": {},
   "outputs": [],
   "source": [
    "clf_svc = OneVsRestClassifier(SVC(probability=True, \n",
    "                              kernel=mod_svc.best_params_['estimator__kernel'], \n",
    "                              C=mod_svc.best_params_['estimator__C'], \n",
    "                              degree=mod_svc.best_params_['estimator__degree']))\n",
    "\n",
    "clf_svc.fit(train_final_vectors, train_final_labels)\n",
    "\n",
    "## Calibrate prob\n",
    "sig_clf_svc = CalibratedClassifierCV(clf_svc, method=\"sigmoid\", cv=\"prefit\")\n",
    "sig_clf_svc.fit(valid_final_vectors, valid_final_labels)\n",
    "sig_clf_svc_probs = sig_clf_svc.predict_proba(test_vectors)\n",
    "clf_svc_probs = clf_svc.predict_proba(test_vectors)"
   ]
  },
  {
   "cell_type": "markdown",
   "metadata": {},
   "source": [
    "### Visualized histogram of max probability (probability that determine the class)"
   ]
  },
  {
   "cell_type": "code",
   "execution_count": 99,
   "metadata": {},
   "outputs": [
    {
     "data": {
      "image/png": "[encoded data removed]",
      "text/plain": [
       "<matplotlib.figure.Figure at 0x7fe5daf9bb90>"
      ]
     },
     "metadata": {},
     "output_type": "display_data"
    }
   ],
   "source": [
    "x = np.amax(sig_clf_svc_probs, axis = 1)\n",
    "plt.figure(figsize = (12, 8))\n",
    "n, bins, patches = plt.hist(x, 50)\n",
    "plt.title(\"max prob dist\")\n",
    "plt.show()"
   ]
  },
  {
   "cell_type": "markdown",
   "metadata": {},
   "source": [
    "### Check Classification Accuracy on Test Data\n",
    "\n",
    "* Test Data actually have 5 class labels\n",
    "* Try with training data of 4 labels first"
   ]
  },
  {
   "cell_type": "code",
   "execution_count": 100,
   "metadata": {},
   "outputs": [
    {
     "name": "stdout",
     "output_type": "stream",
     "text": [
      "[2 3 4 5 6]\n",
      "[2 3 4 5 6]\n",
      "             precision    recall  f1-score   support\n",
      "\n",
      "          0       0.00      0.00      0.00       156\n",
      "          1       0.00      0.00      0.00       197\n",
      "          2       0.49      0.59      0.53       221\n",
      "          3       0.56      0.58      0.57       201\n",
      "          4       0.56      0.71      0.62       180\n",
      "          5       0.43      0.88      0.58       180\n",
      "          6       0.65      0.83      0.73       198\n",
      "\n",
      "avg / total       0.39      0.52      0.44      1333\n",
      "\n",
      "             precision    recall  f1-score   support\n",
      "\n",
      "          0       0.00      0.00      0.00       156\n",
      "          1       0.00      0.00      0.00       197\n",
      "          2       0.52      0.56      0.54       221\n",
      "          3       0.45      0.64      0.53       201\n",
      "          4       0.61      0.66      0.63       180\n",
      "          5       0.43      0.89      0.58       180\n",
      "          6       0.67      0.82      0.74       198\n",
      "\n",
      "avg / total       0.39      0.52      0.44      1333\n",
      "\n",
      "0.523630907727\n",
      "0.520630157539\n"
     ]
    }
   ],
   "source": [
    "preds1 = clf_svc.predict(test_vectors)\n",
    "preds2 = sig_clf_svc.predict(test_vectors)\n",
    "print np.unique(preds1)\n",
    "print np.unique(preds2)\n",
    "print classification_report(test_labels,preds1)\n",
    "print classification_report(test_labels,preds2)\n",
    "print accuracy_score(test_labels,preds1)\n",
    "print accuracy_score(test_labels,preds2)"
   ]
  },
  {
   "cell_type": "markdown",
   "metadata": {},
   "source": [
    "### To find the new class, we select a Percentile for Probability Threshold for Class Labels"
   ]
  },
  {
   "cell_type": "code",
   "execution_count": 101,
   "metadata": {},
   "outputs": [],
   "source": [
    "class_prob_percentile_90 = np.array([np.percentile(sig_clf_svc_probs[:,val], 90.0) \n",
    "                                     for val in range(len(sig_clf_svc_probs[0]))])\n",
    "\n",
    "test_class_preds = np.greater_equal(sig_clf_svc_probs,class_prob_percentile_90).astype(int)\n",
    "\n",
    "# Predict the test label based on percental\n",
    "# If a data is below 80% for prob of all class, it belongs to open class\n",
    "valid_class_probs = np.multiply(sig_clf_svc_probs, test_class_preds)\n",
    "valid_class = np.greater_equal(np.ceil(valid_class_probs),1).astype(int)\n",
    "predicted_multinomial = np.multiply(valid_class, np.unique(train_final_labels))\n",
    "predicted_test_class = np.max(predicted_multinomial,axis=1)\n",
    "\n",
    "# The true unseen class index\n",
    "unseen_class_indices = np.where(np.isin(test_labels, missing_class))[0]"
   ]
  },
  {
   "cell_type": "code",
   "execution_count": 102,
   "metadata": {},
   "outputs": [
    {
     "data": {
      "text/plain": [
       "(array([0, 2, 3, 4, 5, 6]), array([2, 3, 4, 5, 6]))"
      ]
     },
     "execution_count": 102,
     "metadata": {},
     "output_type": "execute_result"
    }
   ],
   "source": [
    "np.unique(predicted_test_class), np.unique(train_final_labels)"
   ]
  },
  {
   "cell_type": "markdown",
   "metadata": {},
   "source": [
    "### Evaluate F1 Score/Precision/Recall with Unseen Class"
   ]
  },
  {
   "cell_type": "code",
   "execution_count": 103,
   "metadata": {},
   "outputs": [],
   "source": [
    "missing_class_idx_test = np.where(np.isin(test_labels, missing_class))[0]\n",
    "for i in range(len(test_labels)): \n",
    "    if i in missing_class_idx_test:\n",
    "        test_labels[i] = 0"
   ]
  },
  {
   "cell_type": "code",
   "execution_count": 104,
   "metadata": {},
   "outputs": [
    {
     "name": "stdout",
     "output_type": "stream",
     "text": [
      "             precision    recall  f1-score   support\n",
      "\n",
      "          0       0.39      0.73      0.51       353\n",
      "          2       0.66      0.39      0.49       221\n",
      "          3       0.72      0.48      0.57       201\n",
      "          4       0.71      0.53      0.61       180\n",
      "          5       0.80      0.59      0.68       180\n",
      "          6       0.90      0.61      0.73       198\n",
      "\n",
      "avg / total       0.66      0.57      0.58      1333\n",
      "\n",
      "0.573893473368\n"
     ]
    }
   ],
   "source": [
    "print classification_report(test_labels, predicted_test_class)\n",
    "print accuracy_score(test_labels, predicted_test_class)"
   ]
  },
  {
   "cell_type": "markdown",
   "metadata": {},
   "source": [
    "### Unseen Class Predictions"
   ]
  },
  {
   "cell_type": "code",
   "execution_count": 105,
   "metadata": {},
   "outputs": [
    {
     "name": "stdout",
     "output_type": "stream",
     "text": [
      "[259   0  30  16  22  22   4]\n",
      "353\n"
     ]
    }
   ],
   "source": [
    "print np.bincount(sorted(predicted_test_class[unseen_class_indices]))\n",
    "print sum(np.bincount(sorted(predicted_test_class[unseen_class_indices])))"
   ]
  },
  {
   "cell_type": "markdown",
   "metadata": {},
   "source": [
    "# Unseen Class Prediction Accuracy"
   ]
  },
  {
   "cell_type": "code",
   "execution_count": 106,
   "metadata": {},
   "outputs": [
    {
     "name": "stdout",
     "output_type": "stream",
     "text": [
      "259.0 353\n",
      "0.733711048159\n"
     ]
    }
   ],
   "source": [
    "print float(np.bincount(sorted(predicted_test_class[unseen_class_indices]))[0]), \\\n",
    "    sum(np.isin(test_labels, missing_class).astype(int))\n",
    "print float(np.bincount(sorted(predicted_test_class[unseen_class_indices]))[0])/sum(np.isin(test_labels, missing_class).astype(int))"
   ]
  },
  {
   "cell_type": "code",
   "execution_count": null,
   "metadata": {
    "collapsed": true
   },
   "outputs": [],
   "source": []
  },
  {
   "cell_type": "markdown",
   "metadata": {},
   "source": [
    "## Case 3 (5 labeled + 3 unseen)"
   ]
  },
  {
   "cell_type": "code",
   "execution_count": 110,
   "metadata": {},
   "outputs": [
    {
     "name": "stdout",
     "output_type": "stream",
     "text": [
      "[0 1 2 3 4 5 6 7]\n"
     ]
    }
   ],
   "source": [
    "print np.unique(train_labels)"
   ]
  },
  {
   "cell_type": "markdown",
   "metadata": {},
   "source": [
    "### Remove some class and cross validate train data for hyper parameters"
   ]
  },
  {
   "cell_type": "markdown",
   "metadata": {},
   "source": [
    "** Training and test data are feature vectors from paragraph2vec model **"
   ]
  },
  {
   "cell_type": "code",
   "execution_count": 111,
   "metadata": {},
   "outputs": [
    {
     "name": "stdout",
     "output_type": "stream",
     "text": [
      "(4955, 450)\n",
      "(1549, 450)\n"
     ]
    }
   ],
   "source": [
    "## Training and test data are feature vectors from paragraph2vec model\n",
    "train_vectors = extract_vectors(dm_model,train_docs)\n",
    "test_vectors = extract_vectors(dm_model,test_docs)\n",
    "\n",
    "# Define a missing class and remove those data from the training set\n",
    "missing_class = np.array([0, 1, 2])\n",
    "missing_class_idx = np.where(np.isin(train_labels, missing_class))[0]\n",
    "train_new_vectors = [train_vectors[i] for i in range(len(train_vectors)) if i not in missing_class_idx]\n",
    "train_new_labels = [train_labels[i] for i in range(len(train_labels)) if i not in missing_class_idx]\n",
    "\n",
    "train_valid_cut = int(len(train_new_vectors)*.75)\n",
    "train_final_vectors = train_new_vectors[:train_valid_cut]\n",
    "train_final_labels = train_new_labels[:train_valid_cut]\n",
    "\n",
    "valid_final_vectors=train_new_vectors[train_valid_cut:]\n",
    "valid_final_labels = train_new_labels[train_valid_cut:]\n",
    "\n",
    "print np.array(train_vectors).shape\n",
    "print np.array(test_vectors).shape"
   ]
  },
  {
   "cell_type": "code",
   "execution_count": 112,
   "metadata": {},
   "outputs": [
    {
     "name": "stdout",
     "output_type": "stream",
     "text": [
      "--- 1-vs-Rest SVM ---\n",
      "Fitting 3 folds for each of 112 candidates, totalling 336 fits\n"
     ]
    },
    {
     "name": "stderr",
     "output_type": "stream",
     "text": [
      "[Parallel(n_jobs=1)]: Done 336 out of 336 | elapsed: 13.7min finished\n"
     ]
    },
    {
     "name": "stdout",
     "output_type": "stream",
     "text": [
      "0.793218455564\n",
      "{'estimator__kernel': 'rbf', 'estimator__C': 2, 'estimator__degree': 1}\n"
     ]
    }
   ],
   "source": [
    "clf_svc = OneVsRestClassifier(SVC(probability=True))\n",
    "clf_svc.fit(train_final_vectors, train_final_labels)\n",
    "\n",
    "parameters_SVC = {\n",
    "    \"estimator__C\": [0.001,0.01,0.1,0.5,1,2,5],\n",
    "    \"estimator__kernel\": [\"poly\",\"rbf\", \"sigmoid\",\"linear\"],\n",
    "    \"estimator__degree\":[1, 2, 3, 4],\n",
    "}\n",
    "\n",
    "print \"--- 1-vs-Rest SVM ---\"\n",
    "mod_svc = GridSearchCV(estimator=clf_svc, param_grid=parameters_SVC, scoring='f1_macro', verbose=True)\n",
    "mod_svc.fit(valid_final_vectors, valid_final_labels)\n",
    "print mod_svc.best_score_ \n",
    "print mod_svc.best_params_"
   ]
  },
  {
   "cell_type": "code",
   "execution_count": 113,
   "metadata": {},
   "outputs": [
    {
     "name": "stdout",
     "output_type": "stream",
     "text": [
      "[3 4 5 6 7]\n",
      "[0 1 2 3 4 5 6 7]\n"
     ]
    }
   ],
   "source": [
    "print np.unique(train_final_labels)\n",
    "print np.unique(test_labels)"
   ]
  },
  {
   "cell_type": "markdown",
   "metadata": {},
   "source": [
    "### Calibrate 1-vs-Rest probability"
   ]
  },
  {
   "cell_type": "code",
   "execution_count": 114,
   "metadata": {},
   "outputs": [],
   "source": [
    "clf_svc = OneVsRestClassifier(SVC(probability=True, \n",
    "                              kernel=mod_svc.best_params_['estimator__kernel'], \n",
    "                              C=mod_svc.best_params_['estimator__C'], \n",
    "                              degree=mod_svc.best_params_['estimator__degree']))\n",
    "\n",
    "clf_svc.fit(train_final_vectors, train_final_labels)\n",
    "\n",
    "## Calibrate prob\n",
    "sig_clf_svc = CalibratedClassifierCV(clf_svc, method=\"sigmoid\", cv=\"prefit\")\n",
    "sig_clf_svc.fit(valid_final_vectors, valid_final_labels)\n",
    "sig_clf_svc_probs = sig_clf_svc.predict_proba(test_vectors)\n",
    "clf_svc_probs = clf_svc.predict_proba(test_vectors)"
   ]
  },
  {
   "cell_type": "markdown",
   "metadata": {},
   "source": [
    "### Visualized histogram of max probability (probability that determine the class)"
   ]
  },
  {
   "cell_type": "code",
   "execution_count": 115,
   "metadata": {},
   "outputs": [
    {
     "data": {
      "image/png": "[encoded data removed]",
      "text/plain": [
       "<matplotlib.figure.Figure at 0x7f402463f810>"
      ]
     },
     "metadata": {},
     "output_type": "display_data"
    }
   ],
   "source": [
    "x = np.amax(sig_clf_svc_probs, axis = 1)\n",
    "plt.figure(figsize = (12, 8))\n",
    "n, bins, patches = plt.hist(x, 50)\n",
    "plt.title(\"max prob dist\")\n",
    "plt.show()"
   ]
  },
  {
   "cell_type": "markdown",
   "metadata": {},
   "source": [
    "### Check Classification Accuracy on Test Data\n",
    "\n",
    "* Test Data actually have 5 class labels\n",
    "* Try with training data of 4 labels first"
   ]
  },
  {
   "cell_type": "code",
   "execution_count": 116,
   "metadata": {},
   "outputs": [
    {
     "name": "stdout",
     "output_type": "stream",
     "text": [
      "[3 4 5 6 7]\n",
      "[3 4 5 6 7]\n",
      "             precision    recall  f1-score   support\n",
      "\n",
      "          0       0.00      0.00      0.00       194\n",
      "          1       0.00      0.00      0.00       206\n",
      "          2       0.00      0.00      0.00       199\n",
      "          3       0.37      0.94      0.53       187\n",
      "          4       0.71      0.74      0.73       192\n",
      "          5       0.34      0.80      0.48       200\n",
      "          6       0.72      0.77      0.75       160\n",
      "          7       0.76      0.83      0.79       211\n",
      "\n",
      "avg / total       0.35      0.50      0.40      1549\n",
      "\n",
      "             precision    recall  f1-score   support\n",
      "\n",
      "          0       0.00      0.00      0.00       194\n",
      "          1       0.00      0.00      0.00       206\n",
      "          2       0.00      0.00      0.00       199\n",
      "          3       0.42      0.92      0.58       187\n",
      "          4       0.77      0.73      0.75       192\n",
      "          5       0.30      0.83      0.45       200\n",
      "          6       0.70      0.78      0.74       160\n",
      "          7       0.75      0.84      0.80       211\n",
      "\n",
      "avg / total       0.36      0.50      0.40      1549\n",
      "\n",
      "0.50161394448\n",
      "0.503550677857\n"
     ]
    }
   ],
   "source": [
    "preds1 = clf_svc.predict(test_vectors)\n",
    "preds2 = sig_clf_svc.predict(test_vectors)\n",
    "print np.unique(preds1)\n",
    "print np.unique(preds2)\n",
    "print classification_report(test_labels,preds1)\n",
    "print classification_report(test_labels,preds2)\n",
    "print accuracy_score(test_labels,preds1)\n",
    "print accuracy_score(test_labels,preds2)"
   ]
  },
  {
   "cell_type": "markdown",
   "metadata": {},
   "source": [
    "### To find the new class, we select a Percentile for Probability Threshold for Class Labels"
   ]
  },
  {
   "cell_type": "code",
   "execution_count": 117,
   "metadata": {},
   "outputs": [],
   "source": [
    "class_prob_percentile_90 = np.array([np.percentile(sig_clf_svc_probs[:,val], 90.0) \n",
    "                                     for val in range(len(sig_clf_svc_probs[0]))])\n",
    "\n",
    "test_class_preds = np.greater_equal(sig_clf_svc_probs,class_prob_percentile_90).astype(int)\n",
    "\n",
    "# Predict the test label based on percental\n",
    "# If a data is below 80% for prob of all class, it belongs to open class\n",
    "valid_class_probs = np.multiply(sig_clf_svc_probs, test_class_preds)\n",
    "valid_class = np.greater_equal(np.ceil(valid_class_probs),1).astype(int)\n",
    "predicted_multinomial = np.multiply(valid_class, np.unique(train_final_labels))\n",
    "predicted_test_class = np.max(predicted_multinomial,axis=1)\n",
    "\n",
    "# The true unseen class index\n",
    "unseen_class_indices = np.where(np.isin(test_labels, missing_class))[0]"
   ]
  },
  {
   "cell_type": "code",
   "execution_count": 118,
   "metadata": {},
   "outputs": [
    {
     "data": {
      "text/plain": [
       "(array([0, 3, 4, 5, 6, 7]), array([3, 4, 5, 6, 7]))"
      ]
     },
     "execution_count": 118,
     "metadata": {},
     "output_type": "execute_result"
    }
   ],
   "source": [
    "np.unique(predicted_test_class), np.unique(train_final_labels)"
   ]
  },
  {
   "cell_type": "markdown",
   "metadata": {},
   "source": [
    "### Evaluate F1 Score/Precision/Recall with Unseen Class"
   ]
  },
  {
   "cell_type": "code",
   "execution_count": 119,
   "metadata": {},
   "outputs": [],
   "source": [
    "missing_class_idx_test = np.where(np.isin(test_labels, missing_class))[0]\n",
    "for i in range(len(test_labels)): \n",
    "    if i in missing_class_idx_test:\n",
    "        test_labels[i] = 0"
   ]
  },
  {
   "cell_type": "code",
   "execution_count": 120,
   "metadata": {},
   "outputs": [
    {
     "name": "stdout",
     "output_type": "stream",
     "text": [
      "             precision    recall  f1-score   support\n",
      "\n",
      "          0       0.59      0.76      0.66       599\n",
      "          3       0.69      0.57      0.63       187\n",
      "          4       0.87      0.69      0.77       192\n",
      "          5       0.50      0.39      0.44       200\n",
      "          6       0.79      0.76      0.77       160\n",
      "          7       0.94      0.69      0.79       211\n",
      "\n",
      "avg / total       0.69      0.67      0.67      1549\n",
      "\n",
      "0.671400903809\n"
     ]
    }
   ],
   "source": [
    "print classification_report(test_labels, predicted_test_class)\n",
    "print accuracy_score(test_labels, predicted_test_class)"
   ]
  },
  {
   "cell_type": "markdown",
   "metadata": {},
   "source": [
    "### Unseen Class Predictions"
   ]
  },
  {
   "cell_type": "code",
   "execution_count": 121,
   "metadata": {},
   "outputs": [
    {
     "name": "stdout",
     "output_type": "stream",
     "text": [
      "[455   0   0  47  10  76   7   4]\n",
      "599\n"
     ]
    }
   ],
   "source": [
    "print np.bincount(sorted(predicted_test_class[unseen_class_indices]))\n",
    "print sum(np.bincount(sorted(predicted_test_class[unseen_class_indices])))"
   ]
  },
  {
   "cell_type": "markdown",
   "metadata": {},
   "source": [
    "# Unseen Class Prediction Accuracy"
   ]
  },
  {
   "cell_type": "code",
   "execution_count": 122,
   "metadata": {},
   "outputs": [
    {
     "name": "stdout",
     "output_type": "stream",
     "text": [
      "455.0 599\n",
      "0.75959933222\n"
     ]
    }
   ],
   "source": [
    "print float(np.bincount(sorted(predicted_test_class[unseen_class_indices]))[0]), \\\n",
    "    sum(np.isin(test_labels, missing_class).astype(int))\n",
    "print float(np.bincount(sorted(predicted_test_class[unseen_class_indices]))[0])/sum(np.isin(test_labels, missing_class).astype(int))"
   ]
  },
  {
   "cell_type": "code",
   "execution_count": null,
   "metadata": {
    "collapsed": true
   },
   "outputs": [],
   "source": []
  }
 ],
 "metadata": {
  "kernelspec": {
   "display_name": "Python 2",
   "language": "python",
   "name": "python2"
  },
  "language_info": {
   "codemirror_mode": {
    "name": "ipython",
    "version": 2
   },
   "file_extension": ".py",
   "mimetype": "text/x-python",
   "name": "python",
   "nbconvert_exporter": "python",
   "pygments_lexer": "ipython2",
   "version": "2.7.14"
  }
 },
 "nbformat": 4,
 "nbformat_minor": 2
}
