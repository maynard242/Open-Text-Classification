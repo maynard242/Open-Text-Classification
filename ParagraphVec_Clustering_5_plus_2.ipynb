{
 "cells": [
  {
   "cell_type": "code",
   "execution_count": 1,
   "metadata": {},
   "outputs": [
    {
     "name": "stderr",
     "output_type": "stream",
     "text": [
      "/home/svaradarajan1982/anaconda2/lib/python2.7/site-packages/sklearn/cross_validation.py:41: DeprecationWarning: This module was deprecated in version 0.18 in favor of the model_selection module into which all the refactored classes and functions are moved. Also note that the interface of the new CV iterators are different from that of this module. This module will be removed in 0.20.\n",
      "  \"This module will be removed in 0.20.\", DeprecationWarning)\n",
      "/home/svaradarajan1982/anaconda2/lib/python2.7/site-packages/sklearn/grid_search.py:42: DeprecationWarning: This module was deprecated in version 0.18 in favor of the model_selection module into which all the refactored classes and functions are moved. This module will be removed in 0.20.\n",
      "  DeprecationWarning)\n"
     ]
    },
    {
     "name": "stdout",
     "output_type": "stream",
     "text": [
      "[nltk_data] Downloading package stopwords to\n",
      "[nltk_data]     /home/svaradarajan1982/nltk_data...\n",
      "[nltk_data]   Package stopwords is already up-to-date!\n"
     ]
    },
    {
     "data": {
      "text/plain": [
       "<module 'shared_lib.utils' from 'shared_lib/utils.pyc'>"
      ]
     },
     "execution_count": 1,
     "metadata": {},
     "output_type": "execute_result"
    }
   ],
   "source": [
    "# This tells matplotlib not to try opening a new window for each plot.\n",
    "%matplotlib inline\n",
    "# General libraries.\n",
    "import re\n",
    "import time\n",
    "import numpy as np\n",
    "import tensorflow as tf\n",
    "assert(tf.__version__.startswith(\"1.1\"))\n",
    "import matplotlib.pyplot as plt\n",
    "import sys\n",
    "import gensim\n",
    "import nltk\n",
    "import collections\n",
    "import smart_open\n",
    "import random\n",
    "\n",
    "# SK-learn library for importing the newsgroup data.\n",
    "from sklearn.datasets import fetch_20newsgroups\n",
    "\n",
    "# SK-learn libraries for feature extraction from text.\n",
    "from sklearn.feature_extraction.text import *\n",
    "from sklearn.svm import LinearSVC\n",
    "from gensim.models import Word2Vec\n",
    "from sklearn import metrics\n",
    "from sklearn.cross_validation import cross_val_score, KFold\n",
    "from sklearn.metrics import classification_report, accuracy_score\n",
    "from sklearn.naive_bayes import MultinomialNB\n",
    "from sklearn import svm\n",
    "from sklearn.preprocessing import LabelEncoder\n",
    "from sklearn.grid_search import GridSearchCV\n",
    "from pprint import pprint\n",
    "from nltk import RegexpTokenizer\n",
    "from nltk.corpus import stopwords\n",
    "\n",
    "# Helper libraries\n",
    "from shared_lib import utils, vocabulary, tf_embed_viz\n",
    "nltk.download('stopwords')\n",
    "reload(utils)"
   ]
  },
  {
   "cell_type": "markdown",
   "metadata": {},
   "source": [
    "## 1. Contruct Paragraph2Vec Model¶\n",
    "### Preview Input Data\n",
    "\n"
   ]
  },
  {
   "cell_type": "code",
   "execution_count": 2,
   "metadata": {},
   "outputs": [
    {
     "name": "stdout",
     "output_type": "stream",
     "text": [
      "[ 0  1  2  3  4  5  6  7  8  9 10 11 12 13 14 15 16 17 18 19]\n",
      "class: 0\t = alt.atheism\n",
      "class: 1\t = comp.graphics\n",
      "class: 2\t = comp.os.ms-windows.misc\n",
      "class: 3\t = comp.sys.ibm.pc.hardware\n",
      "class: 4\t = comp.sys.mac.hardware\n",
      "class: 5\t = comp.windows.x\n",
      "class: 6\t = misc.forsale\n",
      "class: 7\t = rec.autos\n",
      "class: 8\t = rec.motorcycles\n",
      "class: 9\t = rec.sport.baseball\n",
      "class: 10\t = rec.sport.hockey\n",
      "class: 11\t = sci.crypt\n",
      "class: 12\t = sci.electronics\n",
      "class: 13\t = sci.med\n",
      "class: 14\t = sci.space\n",
      "class: 15\t = soc.religion.christian\n",
      "class: 16\t = talk.politics.guns\n",
      "class: 17\t = talk.politics.mideast\n",
      "class: 18\t = talk.politics.misc\n",
      "class: 19\t = talk.religion.misc\n"
     ]
    }
   ],
   "source": [
    "# Get newsgroup data\n",
    "newsgroup_data_all = fetch_20newsgroups(subset = 'all', remove=('headers', 'footers', 'quotes'))\n",
    "#newsgroup_data_all.target += 1\n",
    "\n",
    "print np.unique(newsgroup_data_all.target)\n",
    "\n",
    "# List of all the class labels\n",
    "label_list = list(newsgroup_data_all.target_names)\n",
    "\n",
    "# Print the class labels\n",
    "i = 0\n",
    "for label in label_list:\n",
    "    print \"class: %i\\t = %s\" %(i, label)\n",
    "    i += 1"
   ]
  },
  {
   "cell_type": "markdown",
   "metadata": {},
   "source": [
    "### Select number of classes"
   ]
  },
  {
   "cell_type": "code",
   "execution_count": 3,
   "metadata": {},
   "outputs": [
    {
     "name": "stdout",
     "output_type": "stream",
     "text": [
      "Randomly Select Classes:  ['comp.sys.mac.hardware', 'talk.politics.misc', 'comp.os.ms-windows.misc', 'sci.crypt', 'comp.graphics', 'comp.sys.ibm.pc.hardware', 'sci.med']\n",
      "Class labels [4, 18, 2, 11, 1, 3, 13]\n",
      "[0 1 2 3 4 5 6]\n"
     ]
    }
   ],
   "source": [
    "from random import randint\n",
    "random.seed(8)\n",
    "\n",
    "num_class = 7\n",
    "randomize = True\n",
    "\n",
    "if randomize == True:\n",
    "    label_idxs = []\n",
    "    label_idxs = random.sample(range(0, 20), num_class)\n",
    "else:\n",
    "    label_idxs = range(num_class)\n",
    "\n",
    "#select_classes = ['alt.atheism','rec.sport.baseball','talk.politics.mideast','comp.graphics', 'sci.space'] #[label_list[i] for i in label_idxs]\n",
    "select_classes =  [label_list[i] for i in label_idxs]\n",
    "\n",
    "print \"Randomly Select Classes: \", select_classes\n",
    "print \"Class labels\", label_idxs\n",
    "\n",
    "newsgroups_all = fetch_20newsgroups(subset='all', remove=('headers', 'footers', 'quotes'),\n",
    "                                    categories=select_classes)\n",
    "#newsgroups_all.target += 1\n",
    "print np.unique(newsgroups_all.target)\n",
    "\n",
    "all_data, all_labels = newsgroups_all.data, newsgroups_all.target"
   ]
  },
  {
   "cell_type": "markdown",
   "metadata": {},
   "source": [
    "### Preprocess Input Data"
   ]
  },
  {
   "cell_type": "code",
   "execution_count": 4,
   "metadata": {},
   "outputs": [
    {
     "name": "stdout",
     "output_type": "stream",
     "text": [
      "Loaded 6659 docs (8.44449e+06 tokens)\n",
      "Training set: 5327 docs (6782375 tokens)\n",
      "Test set: 1332 docs (1662114 tokens)\n",
      "[0 1 2 3 4 5 6]\n"
     ]
    }
   ],
   "source": [
    "#Preprocessing for Doc2Vec \n",
    "# shuffle and split data\n",
    "import copy\n",
    "train_docs, train_labels, test_docs, test_labels = utils.get_train_test_docs(all_data, \n",
    "                                                                             all_labels, \n",
    "                                                                             split = 0.8, \n",
    "                                                                             shuffle = True)\n",
    "print np.unique(train_labels)\n",
    "# clean string\n",
    "# remove stop words and take care of stemming\n",
    "train_docs = utils.preprocess_doc(train_docs, fix_length = False)\n",
    "test_docs = utils.preprocess_doc(test_docs, fix_length = False)\n",
    "orig_test_labels = copy.copy(test_labels)"
   ]
  },
  {
   "cell_type": "markdown",
   "metadata": {},
   "source": [
    "### Please Note LabeledSentence is a data structure of gesim's Doc2vec (paragraph) document format"
   ]
  },
  {
   "cell_type": "code",
   "execution_count": 5,
   "metadata": {
    "collapsed": true
   },
   "outputs": [],
   "source": [
    "from collections import namedtuple\n",
    "from gensim.models.doc2vec import  LabeledSentence\n",
    "import sys\n",
    "\n",
    "all_newsgroup_documents = []\n",
    "all_newsgroup_documents_20 = []\n",
    "\n",
    "#Used to convert newsgroup corpus into Doc2Vec formats\n",
    "def convert_newsgroup(docs,split):\n",
    "    #global doc_count\n",
    "    tagged_documents = []\n",
    "    \n",
    "    for i,v in enumerate(docs):\n",
    "        label = '%s_%s'%(split,i)\n",
    "        tagged_documents.append(LabeledSentence(v, [label]))\n",
    "    \n",
    "    return tagged_documents"
   ]
  },
  {
   "cell_type": "code",
   "execution_count": 6,
   "metadata": {},
   "outputs": [
    {
     "name": "stdout",
     "output_type": "stream",
     "text": [
      "6659 docs: 5327 train, 1332 test\n",
      "5327\n"
     ]
    }
   ],
   "source": [
    "test_docs = convert_newsgroup(test_docs,'test')\n",
    "train_docs = convert_newsgroup(train_docs,'train')\n",
    "\n",
    "all_newsgroup_documents.extend(train_docs)\n",
    "all_newsgroup_documents.extend(test_docs)\n",
    "\n",
    "doc_list = all_newsgroup_documents[:]  # for reshuffling per pass\n",
    "\n",
    "print('%d docs: %d train, %d test' % (len(doc_list), len(train_docs), len(test_docs)))\n",
    "print(len(train_labels))"
   ]
  },
  {
   "cell_type": "markdown",
   "metadata": {},
   "source": [
    "### Define Paragraph2Vec Model"
   ]
  },
  {
   "cell_type": "code",
   "execution_count": 7,
   "metadata": {},
   "outputs": [],
   "source": [
    "from gensim.models import *\n",
    "from gensim.test.test_doc2vec import ConcatenatedDoc2Vec\n",
    "\n",
    "dbow_model = Doc2Vec(dm=0, dm_concat=1,sample=1e-5, size=450, window=5, negative=5, hs=0, min_count=2, workers=10)\n",
    "dm_model =  Doc2Vec(dm=1, dm_mean=1, sample=1e-5, size=450, window=10, negative=5, hs=0, min_count=2, workers=10)\n",
    "dbow_model.build_vocab(all_newsgroup_documents)\n",
    "dm_model.build_vocab(all_newsgroup_documents)\n",
    "\n",
    "\n",
    "dbow_dmm_model = ConcatenatedDoc2Vec([dbow_model, dm_model])"
   ]
  },
  {
   "cell_type": "markdown",
   "metadata": {},
   "source": [
    "## Training Paragraph2Vec Model¶\n",
    "### Please note\n",
    " Paragraph2vec only the vocabulary of giving data set  \n",
    " e.g. to train 5 + 1, select num_class = 6, to train 5 + 2, select num_class = 7\n"
   ]
  },
  {
   "cell_type": "code",
   "execution_count": 8,
   "metadata": {},
   "outputs": [
    {
     "name": "stderr",
     "output_type": "stream",
     "text": [
      "100% |########################################################################|\n"
     ]
    }
   ],
   "source": [
    "from random import shuffle\n",
    "import progressbar\n",
    "alpha, min_alpha, passes = (0.025, 0.001, 100)\n",
    "alpha_delta = (alpha - min_alpha) / passes\n",
    "bar = progressbar.ProgressBar()\n",
    "\n",
    "for epoch in bar(range(passes)):\n",
    "    shuffle(doc_list)\n",
    "    #print alpha   \n",
    "    dbow_model.alpha, dbow_model.min_alpha = alpha, alpha\n",
    "    dbow_model.train(doc_list)\n",
    "    \n",
    "    dm_model.alpha, dm_model.min_alpha = alpha, alpha\n",
    "    dm_model.train(doc_list)\n",
    "    \n",
    "    dbow_dmm_model.alpha, dbow_dmm_model.min_alpha = alpha, alpha\n",
    "    dbow_dmm_model.train(doc_list)\n",
    "    alpha -= alpha_delta"
   ]
  },
  {
   "cell_type": "markdown",
   "metadata": {},
   "source": [
    "## Extract training and test vectors from the Paragraph2Vec Model¶"
   ]
  },
  {
   "cell_type": "code",
   "execution_count": 9,
   "metadata": {
    "collapsed": true
   },
   "outputs": [],
   "source": [
    "from collections import defaultdict\n",
    "best_error = defaultdict(lambda :1.0)\n",
    "\n",
    "#Get Vectors From Doc2Vec\n",
    "def extract_vectors(model, docs):    \n",
    "    vectors_list = []\n",
    "    for doc_no in range(len(docs)):\n",
    "        doc_label = docs[doc_no].tags[0] # Use tag to id\n",
    "        doc_vector = model.docvecs[doc_label]\n",
    "        vectors_list.append(doc_vector)      \n",
    "    return vectors_list\n",
    "\n",
    "# TODO inferred vectors\n",
    "def get_infer_vectors(model,docs):   \n",
    "    vecs = []\n",
    "    for doc in docs:\n",
    "        vecs.append(model.infer_vector(doc.words))\n",
    "    return vecs"
   ]
  },
  {
   "cell_type": "code",
   "execution_count": 10,
   "metadata": {},
   "outputs": [
    {
     "name": "stdout",
     "output_type": "stream",
     "text": [
      "(5327, 450)\n",
      "(1332, 450)\n",
      "(5327, 7)\n",
      "(1332, 7)\n"
     ]
    }
   ],
   "source": [
    "#train_docs_ids = np.array(extract_vectors(dbow_dmm_model,train_docs))\n",
    "#test_docs_ids = np.array(extract_vectors(dbow_dmm_model,test_docs))\n",
    "train_docs_ids = np.array(extract_vectors(dm_model,train_docs))\n",
    "test_docs_ids = np.array(extract_vectors(dm_model,test_docs))\n",
    "\n",
    "\n",
    "# Convert label to one-hot-code\n",
    "train_labels_oh = np.eye(num_class)[train_labels]\n",
    "test_labels_oh = np.eye(num_class)[test_labels]\n",
    "\n",
    "print train_docs_ids.shape\n",
    "print test_docs_ids.shape\n",
    "print train_labels_oh.shape\n",
    "print test_labels_oh.shape"
   ]
  },
  {
   "cell_type": "markdown",
   "metadata": {},
   "source": [
    "## The following section is for comparing paragraphc2vec's performance with CNN\n",
    "#### 1. Connect with the same output layer as CNN for classification  \n",
    "#### 2. This is a multi-nomial classification. (not 1-vs-rest  "
   ]
  },
  {
   "cell_type": "code",
   "execution_count": 11,
   "metadata": {
    "collapsed": true
   },
   "outputs": [],
   "source": [
    "num_classes = num_class\n",
    "feature_size = 450\n",
    "l2_reg_lambda = 1.0\n",
    "hidden = 250 # r\n",
    "\n",
    "def display_params():\n",
    "    print \"number of classes: \", num_classes\n",
    "    print \"feature size: \", feature_size\n",
    "    print \"regularization: \", l2_reg_lambda\n",
    "    print \"hidden output size: \", hidden"
   ]
  },
  {
   "cell_type": "code",
   "execution_count": 12,
   "metadata": {
    "collapsed": true
   },
   "outputs": [],
   "source": [
    "# x_ is the Paragraph2vec input vectors\n",
    "x_ = tf.placeholder(tf.float32, [None, feature_size], name=\"x\")\n",
    "y_ = tf.placeholder(tf.float32, [None, num_classes], name=\"y\")\n",
    "l2_loss = tf.constant(0.0)\n",
    "\n",
    "# Output Layer: Softmax (1 layer version)\n",
    "with tf.name_scope(\"Output_layer\"):\n",
    "            \n",
    "    \n",
    "    Z_ = tf.Variable(tf.random_uniform([feature_size, num_classes], -1.0, 1.0), name = \"Z\")\n",
    "    b_ = tf.Variable(tf.constant(0.1, shape=[num_classes]), name=\"b\")\n",
    "    logits_ = tf.add(tf.matmul(x_, Z_), b_, name=\"logits\")\n",
    "    \n",
    "    # L2 loss\n",
    "    l2_loss += tf.nn.l2_loss(Z_)\n",
    "    l2_loss += tf.nn.l2_loss(b_)\n",
    "    \n",
    "    #scores = tf.nn.xw_plus_b(h_drop, W, b, name=\"scores\")\n",
    "    predictions_ = tf.argmax(logits_, 1, name=\"predictions\")\n",
    "\n",
    "    \n",
    "# Calculate mean cross-entropy loss\n",
    "with tf.name_scope(\"cost_function\"):\n",
    "    per_example_losses_ = tf.nn.softmax_cross_entropy_with_logits(logits=logits_, \n",
    "                                                                 labels=y_,\n",
    "                                                                 name=\"per_example_loss\")\n",
    "    loss_ = tf.reduce_mean(per_example_losses_) + l2_reg_lambda * l2_loss\n",
    "\n",
    "# Accuracy\n",
    "with tf.name_scope(\"accuracy\"):\n",
    "    correct_predictions_ = tf.equal(predictions_, tf.argmax(y_, 1))\n",
    "    accuracy_ = tf.reduce_mean(tf.cast(correct_predictions_, \"float\"), name=\"accuracy\")\n",
    "    \n",
    "with tf.name_scope(\"Training\"):\n",
    "    alpha_ = tf.placeholder(tf.float32, name=\"learning_rate\")\n",
    "    optimizer_ = tf.train.AdagradOptimizer(alpha_)\n",
    "    #optimizer_ = tf.train.AdamOptimizer(alpha_)\n",
    "    train_step_ = optimizer_.minimize(loss_)\n",
    "    \n",
    "# Initializer step\n",
    "init_ = tf.global_variables_initializer()"
   ]
  },
  {
   "cell_type": "markdown",
   "metadata": {},
   "source": [
    "## Training"
   ]
  },
  {
   "cell_type": "code",
   "execution_count": 13,
   "metadata": {
    "collapsed": true
   },
   "outputs": [],
   "source": [
    "\n",
    "# Helper functions for training\n",
    "def train_batch(session, batch, alpha):\n",
    "    # Feed last column as targets\n",
    "    feed_dict = {x_:train_docs_ids,\n",
    "                 y_:train_labels_oh,\n",
    "                 alpha_:alpha}\n",
    "    c, a, pred, _ = session.run([loss_, accuracy_, predictions_, train_step_],\n",
    "                       feed_dict=feed_dict)\n",
    "    return c, a, pred\n",
    "\n",
    "def batch_generator(data, batch_size):\n",
    "    \"\"\"Generate minibatches from data.\"\"\"\n",
    "    for i in xrange(0, len(data), batch_size):\n",
    "        yield data[i:i+batch_size]\n",
    "\n",
    "def predict_batch(session):\n",
    "    feed_dict = {x_:test_docs_ids,\n",
    "                 y_:test_labels_oh}\n",
    "    a, pred = session.run([accuracy_, predictions_], feed_dict=feed_dict)\n",
    "    return a, pred"
   ]
  },
  {
   "cell_type": "code",
   "execution_count": 14,
   "metadata": {},
   "outputs": [
    {
     "name": "stdout",
     "output_type": "stream",
     "text": [
      "number of classes:  7\n",
      "feature size:  450\n",
      "regularization:  1.0\n",
      "hidden output size:  250\n"
     ]
    }
   ],
   "source": [
    "display_params()\n"
   ]
  },
  {
   "cell_type": "code",
   "execution_count": 16,
   "metadata": {
    "collapsed": true
   },
   "outputs": [],
   "source": [
    "from shared_lib import utils\n",
    "\n",
    "def run_epochs(num_epochs, batch_size, learning_rate, min_learning, print_rate):\n",
    "    # One epoch = one pass through the training data\n",
    "    num_epochs = num_epochs\n",
    "    batch_size = batch_size\n",
    "    alpha = learning_rate  # learning rate\n",
    "    min_alpha = min_learning\n",
    "    alpha_delta = (alpha - min_alpha) / num_epochs\n",
    "    print_every = print_rate\n",
    "\n",
    "    np.random.seed(42)\n",
    "\n",
    "    # For plotting\n",
    "    train_accuracy = []\n",
    "    test_accuracy = []\n",
    "\n",
    "    session = tf.Session()\n",
    "    session.run(init_)\n",
    "\n",
    "    t0 = time.time()\n",
    "    for epoch in xrange(1,num_epochs+1):\n",
    "        t0_epoch = time.time()\n",
    "        epoch_cost = 0.0\n",
    "        total_batches = 0\n",
    "        print \"\"\n",
    "        print \"---------- Test ----------\"\n",
    "        print \"[epoch %d] Learning Rate %.2f\" %(epoch, alpha)\n",
    "        for i, batch in enumerate(batch_generator(train_docs_ids, batch_size)):\n",
    "            if (i % print_every == 0):\n",
    "                print \"[epoch %d] seen %d minibatches\" % (epoch, i)\n",
    "\n",
    "            cost, accuracy, pred = train_batch(session, batch, alpha)\n",
    "            epoch_cost += cost\n",
    "            total_batches = i + 1\n",
    "\n",
    "        avg_cost = epoch_cost / total_batches\n",
    "        alpha = alpha - alpha_delta\n",
    "\n",
    "        print \"[epoch %d] Completed %d minibatches in %s\" % (epoch, i, utils.pretty_timedelta(since=t0_epoch))\n",
    "        print \"[epoch %d] Average cost: %.03f\" % (epoch, avg_cost,)\n",
    "        print \"[epoch %d] Accuracy %.03f\" %(epoch, accuracy)\n",
    "        print \"[epoch %d] Classificaiton Report\\n\" %(epoch)\n",
    "        print classification_report(train_labels, pred)\n",
    "        train_accuracy.append(accuracy)\n",
    "\n",
    "        print \"\"\n",
    "        print \"---------- Test ----------\"\n",
    "        accuracy, pred = predict_batch(session)\n",
    "        print \"[epoch %d] Test Accuracy is %.03f\" %(epoch, accuracy)\n",
    "        print \"[epoch %d] Test Classificaiton Report\\n\" %(epoch)\n",
    "        print classification_report(test_labels, pred)\n",
    "        test_accuracy.append(accuracy)\n",
    "    return train_accuracy, test_accuracy\n",
    "\n",
    "def plot_learning(num_epochs, train_accuracy, test_accuracy):\n",
    "    plt.figure(figsize=(10, 8))\n",
    "    plt.plot(range(0, num_epochs), train_accuracy, '.-', label = \"Training accuracy\")\n",
    "    plt.plot(range(0, num_epochs), test_accuracy, '.-', label = \"Test accuracy\")\n",
    "    plt.legend()\n",
    "    plt.show()"
   ]
  },
  {
   "cell_type": "markdown",
   "metadata": {},
   "source": [
    "### Running Epochs"
   ]
  },
  {
   "cell_type": "code",
   "execution_count": 17,
   "metadata": {},
   "outputs": [
    {
     "name": "stdout",
     "output_type": "stream",
     "text": [
      "\n",
      "---------- Test ----------\n",
      "[epoch 1] Learning Rate 0.50\n",
      "[epoch 1] seen 0 minibatches\n",
      "[epoch 1] Completed 53 minibatches in 0:00:01\n",
      "[epoch 1] Average cost: 13.991\n",
      "[epoch 1] Accuracy 0.406\n",
      "[epoch 1] Classificaiton Report\n",
      "\n",
      "             precision    recall  f1-score   support\n",
      "\n",
      "          0       0.55      0.58      0.56       799\n",
      "          1       0.85      0.03      0.05       788\n",
      "          2       0.82      0.10      0.18       791\n",
      "          3       0.67      0.21      0.32       768\n",
      "          4       0.36      0.89      0.51       785\n",
      "          5       0.34      0.94      0.50       791\n",
      "          6       0.00      0.00      0.00       605\n",
      "\n",
      "avg / total       0.53      0.41      0.31      5327\n",
      "\n",
      "\n",
      "---------- Test ----------\n",
      "[epoch 1] Test Accuracy is 0.394\n",
      "[epoch 1] Test Classificaiton Report\n",
      "\n",
      "             precision    recall  f1-score   support\n",
      "\n",
      "          0       0.83      0.17      0.29       174\n",
      "          1       0.34      0.84      0.49       197\n",
      "          2       0.38      0.59      0.46       191\n",
      "          3       0.82      0.05      0.09       195\n",
      "          4       0.94      0.16      0.27       206\n",
      "          5       0.94      0.09      0.16       199\n",
      "          6       0.35      0.93      0.51       170\n",
      "\n",
      "avg / total       0.67      0.39      0.32      1332\n",
      "\n",
      "\n",
      "---------- Test ----------\n",
      "[epoch 2] Learning Rate 0.47\n",
      "[epoch 2] seen 0 minibatches\n",
      "[epoch 2] Completed 53 minibatches in 0:00:01\n",
      "[epoch 2] Average cost: 1.845\n",
      "[epoch 2] Accuracy 0.485\n",
      "[epoch 2] Classificaiton Report\n",
      "\n",
      "             precision    recall  f1-score   support\n",
      "\n",
      "          0       0.84      0.09      0.17       799\n",
      "          1       0.52      0.54      0.53       788\n",
      "          2       0.70      0.41      0.51       791\n",
      "          3       0.78      0.34      0.48       768\n",
      "          4       0.49      0.83      0.61       785\n",
      "          5       0.35      0.96      0.51       791\n",
      "          6       0.98      0.15      0.26       605\n",
      "\n",
      "avg / total       0.65      0.48      0.44      5327\n",
      "\n",
      "\n",
      "---------- Test ----------\n",
      "[epoch 2] Test Accuracy is 0.480\n",
      "[epoch 2] Test Classificaiton Report\n",
      "\n",
      "             precision    recall  f1-score   support\n",
      "\n",
      "          0       0.24      0.94      0.39       174\n",
      "          1       0.68      0.19      0.30       197\n",
      "          2       0.62      0.43      0.51       191\n",
      "          3       0.73      0.18      0.30       195\n",
      "          4       0.94      0.50      0.65       206\n",
      "          5       0.98      0.40      0.56       199\n",
      "          6       0.59      0.81      0.68       170\n",
      "\n",
      "avg / total       0.70      0.48      0.48      1332\n",
      "\n",
      "\n",
      "---------- Test ----------\n",
      "[epoch 3] Learning Rate 0.43\n",
      "[epoch 3] seen 0 minibatches\n",
      "[epoch 3] Completed 53 minibatches in 0:00:01\n",
      "[epoch 3] Average cost: 1.814\n",
      "[epoch 3] Accuracy 0.613\n",
      "[epoch 3] Classificaiton Report\n",
      "\n",
      "             precision    recall  f1-score   support\n",
      "\n",
      "          0       0.78      0.53      0.63       799\n",
      "          1       0.63      0.59      0.61       788\n",
      "          2       0.61      0.56      0.58       791\n",
      "          3       0.70      0.45      0.55       768\n",
      "          4       0.74      0.73      0.74       785\n",
      "          5       0.43      0.95      0.59       791\n",
      "          6       0.92      0.43      0.59       605\n",
      "\n",
      "avg / total       0.68      0.61      0.61      5327\n",
      "\n",
      "\n",
      "---------- Test ----------\n",
      "[epoch 3] Test Accuracy is 0.682\n",
      "[epoch 3] Test Classificaiton Report\n",
      "\n",
      "             precision    recall  f1-score   support\n",
      "\n",
      "          0       0.49      0.78      0.60       174\n",
      "          1       0.56      0.66      0.61       197\n",
      "          2       0.60      0.55      0.58       191\n",
      "          3       0.82      0.37      0.51       195\n",
      "          4       0.78      0.83      0.81       206\n",
      "          5       0.94      0.77      0.85       199\n",
      "          6       0.79      0.82      0.80       170\n",
      "\n",
      "avg / total       0.71      0.68      0.68      1332\n",
      "\n",
      "\n",
      "---------- Test ----------\n",
      "[epoch 4] Learning Rate 0.40\n",
      "[epoch 4] seen 0 minibatches\n",
      "[epoch 4] Completed 53 minibatches in 0:00:01\n",
      "[epoch 4] Average cost: 1.807\n",
      "[epoch 4] Accuracy 0.683\n",
      "[epoch 4] Classificaiton Report\n",
      "\n",
      "             precision    recall  f1-score   support\n",
      "\n",
      "          0       0.72      0.68      0.70       799\n",
      "          1       0.58      0.65      0.62       788\n",
      "          2       0.56      0.61      0.58       791\n",
      "          3       0.80      0.44      0.57       768\n",
      "          4       0.75      0.78      0.76       785\n",
      "          5       0.67      0.91      0.77       791\n",
      "          6       0.84      0.71      0.77       605\n",
      "\n",
      "avg / total       0.70      0.68      0.68      5327\n",
      "\n",
      "\n",
      "---------- Test ----------\n",
      "[epoch 4] Test Accuracy is 0.670\n",
      "[epoch 4] Test Classificaiton Report\n",
      "\n",
      "             precision    recall  f1-score   support\n",
      "\n",
      "          0       0.65      0.67      0.66       174\n",
      "          1       0.63      0.66      0.65       197\n",
      "          2       0.50      0.58      0.54       191\n",
      "          3       0.79      0.38      0.51       195\n",
      "          4       0.76      0.84      0.80       206\n",
      "          5       0.64      0.90      0.75       199\n",
      "          6       0.87      0.64      0.73       170\n",
      "\n",
      "avg / total       0.69      0.67      0.66      1332\n",
      "\n",
      "\n",
      "---------- Test ----------\n",
      "[epoch 5] Learning Rate 0.37\n",
      "[epoch 5] seen 0 minibatches\n",
      "[epoch 5] Completed 53 minibatches in 0:00:02\n",
      "[epoch 5] Average cost: 1.806\n",
      "[epoch 5] Accuracy 0.685\n",
      "[epoch 5] Classificaiton Report\n",
      "\n",
      "             precision    recall  f1-score   support\n",
      "\n",
      "          0       0.72      0.68      0.70       799\n",
      "          1       0.58      0.66      0.61       788\n",
      "          2       0.56      0.61      0.58       791\n",
      "          3       0.80      0.44      0.57       768\n",
      "          4       0.75      0.78      0.76       785\n",
      "          5       0.68      0.91      0.78       791\n",
      "          6       0.84      0.71      0.77       605\n",
      "\n",
      "avg / total       0.70      0.68      0.68      5327\n",
      "\n",
      "\n",
      "---------- Test ----------\n",
      "[epoch 5] Test Accuracy is 0.670\n",
      "[epoch 5] Test Classificaiton Report\n",
      "\n",
      "             precision    recall  f1-score   support\n",
      "\n",
      "          0       0.66      0.67      0.67       174\n",
      "          1       0.63      0.66      0.65       197\n",
      "          2       0.50      0.58      0.54       191\n",
      "          3       0.79      0.38      0.51       195\n",
      "          4       0.76      0.84      0.80       206\n",
      "          5       0.63      0.90      0.74       199\n",
      "          6       0.87      0.63      0.73       170\n",
      "\n",
      "avg / total       0.69      0.67      0.66      1332\n",
      "\n",
      "\n",
      "---------- Test ----------\n",
      "[epoch 6] Learning Rate 0.33\n",
      "[epoch 6] seen 0 minibatches\n",
      "[epoch 6] Completed 53 minibatches in 0:00:03\n",
      "[epoch 6] Average cost: 1.806\n",
      "[epoch 6] Accuracy 0.685\n",
      "[epoch 6] Classificaiton Report\n",
      "\n",
      "             precision    recall  f1-score   support\n",
      "\n",
      "          0       0.72      0.68      0.70       799\n",
      "          1       0.58      0.66      0.61       788\n",
      "          2       0.56      0.61      0.58       791\n",
      "          3       0.80      0.44      0.57       768\n",
      "          4       0.75      0.78      0.76       785\n",
      "          5       0.68      0.91      0.78       791\n",
      "          6       0.84      0.71      0.77       605\n",
      "\n",
      "avg / total       0.70      0.68      0.68      5327\n",
      "\n",
      "\n",
      "---------- Test ----------\n",
      "[epoch 6] Test Accuracy is 0.670\n",
      "[epoch 6] Test Classificaiton Report\n",
      "\n",
      "             precision    recall  f1-score   support\n",
      "\n",
      "          0       0.66      0.67      0.67       174\n",
      "          1       0.63      0.66      0.65       197\n",
      "          2       0.50      0.58      0.54       191\n",
      "          3       0.79      0.38      0.51       195\n",
      "          4       0.76      0.84      0.80       206\n",
      "          5       0.63      0.90      0.74       199\n",
      "          6       0.87      0.63      0.73       170\n",
      "\n",
      "avg / total       0.69      0.67      0.66      1332\n",
      "\n",
      "\n",
      "---------- Test ----------\n",
      "[epoch 7] Learning Rate 0.30\n",
      "[epoch 7] seen 0 minibatches\n",
      "[epoch 7] Completed 53 minibatches in 0:00:02\n",
      "[epoch 7] Average cost: 1.806\n",
      "[epoch 7] Accuracy 0.685\n",
      "[epoch 7] Classificaiton Report\n",
      "\n",
      "             precision    recall  f1-score   support\n",
      "\n",
      "          0       0.72      0.68      0.70       799\n",
      "          1       0.58      0.66      0.61       788\n",
      "          2       0.56      0.61      0.58       791\n",
      "          3       0.80      0.44      0.57       768\n",
      "          4       0.75      0.78      0.76       785\n",
      "          5       0.68      0.91      0.78       791\n",
      "          6       0.84      0.71      0.77       605\n",
      "\n",
      "avg / total       0.70      0.68      0.68      5327\n",
      "\n",
      "\n",
      "---------- Test ----------\n",
      "[epoch 7] Test Accuracy is 0.670\n",
      "[epoch 7] Test Classificaiton Report\n",
      "\n",
      "             precision    recall  f1-score   support\n",
      "\n",
      "          0       0.66      0.67      0.67       174\n",
      "          1       0.63      0.66      0.65       197\n",
      "          2       0.50      0.58      0.54       191\n",
      "          3       0.79      0.38      0.51       195\n",
      "          4       0.76      0.84      0.80       206\n",
      "          5       0.63      0.90      0.74       199\n",
      "          6       0.87      0.63      0.73       170\n",
      "\n",
      "avg / total       0.69      0.67      0.66      1332\n",
      "\n",
      "\n",
      "---------- Test ----------\n",
      "[epoch 8] Learning Rate 0.27\n",
      "[epoch 8] seen 0 minibatches\n",
      "[epoch 8] Completed 53 minibatches in 0:00:01\n",
      "[epoch 8] Average cost: 1.806\n",
      "[epoch 8] Accuracy 0.685\n",
      "[epoch 8] Classificaiton Report\n",
      "\n",
      "             precision    recall  f1-score   support\n",
      "\n",
      "          0       0.72      0.68      0.70       799\n",
      "          1       0.58      0.66      0.61       788\n",
      "          2       0.56      0.61      0.58       791\n",
      "          3       0.80      0.44      0.57       768\n",
      "          4       0.75      0.78      0.76       785\n",
      "          5       0.68      0.91      0.78       791\n",
      "          6       0.84      0.71      0.77       605\n",
      "\n",
      "avg / total       0.70      0.68      0.68      5327\n",
      "\n",
      "\n",
      "---------- Test ----------\n",
      "[epoch 8] Test Accuracy is 0.670\n",
      "[epoch 8] Test Classificaiton Report\n",
      "\n",
      "             precision    recall  f1-score   support\n",
      "\n",
      "          0       0.66      0.67      0.67       174\n",
      "          1       0.63      0.66      0.65       197\n",
      "          2       0.50      0.58      0.54       191\n",
      "          3       0.79      0.38      0.51       195\n",
      "          4       0.76      0.84      0.80       206\n",
      "          5       0.63      0.90      0.74       199\n",
      "          6       0.87      0.63      0.73       170\n",
      "\n",
      "avg / total       0.69      0.67      0.66      1332\n",
      "\n",
      "\n",
      "---------- Test ----------\n",
      "[epoch 9] Learning Rate 0.23\n",
      "[epoch 9] seen 0 minibatches\n",
      "[epoch 9] Completed 53 minibatches in 0:00:01\n",
      "[epoch 9] Average cost: 1.806\n",
      "[epoch 9] Accuracy 0.685\n",
      "[epoch 9] Classificaiton Report\n",
      "\n",
      "             precision    recall  f1-score   support\n",
      "\n",
      "          0       0.72      0.68      0.70       799\n",
      "          1       0.58      0.66      0.61       788\n",
      "          2       0.56      0.61      0.58       791\n",
      "          3       0.80      0.44      0.57       768\n",
      "          4       0.75      0.78      0.76       785\n",
      "          5       0.68      0.91      0.78       791\n",
      "          6       0.84      0.71      0.77       605\n",
      "\n",
      "avg / total       0.70      0.68      0.68      5327\n",
      "\n",
      "\n",
      "---------- Test ----------\n",
      "[epoch 9] Test Accuracy is 0.670\n",
      "[epoch 9] Test Classificaiton Report\n",
      "\n",
      "             precision    recall  f1-score   support\n",
      "\n",
      "          0       0.66      0.67      0.67       174\n",
      "          1       0.63      0.66      0.65       197\n",
      "          2       0.50      0.58      0.54       191\n",
      "          3       0.79      0.38      0.51       195\n",
      "          4       0.76      0.84      0.80       206\n",
      "          5       0.63      0.90      0.74       199\n",
      "          6       0.87      0.63      0.73       170\n",
      "\n",
      "avg / total       0.69      0.67      0.66      1332\n",
      "\n",
      "\n",
      "---------- Test ----------\n",
      "[epoch 10] Learning Rate 0.20\n",
      "[epoch 10] seen 0 minibatches\n",
      "[epoch 10] Completed 53 minibatches in 0:00:01\n",
      "[epoch 10] Average cost: 1.806\n",
      "[epoch 10] Accuracy 0.685\n",
      "[epoch 10] Classificaiton Report\n",
      "\n",
      "             precision    recall  f1-score   support\n",
      "\n",
      "          0       0.72      0.68      0.70       799\n",
      "          1       0.58      0.66      0.61       788\n",
      "          2       0.56      0.61      0.58       791\n",
      "          3       0.80      0.44      0.57       768\n",
      "          4       0.75      0.78      0.76       785\n",
      "          5       0.68      0.91      0.78       791\n",
      "          6       0.84      0.71      0.77       605\n",
      "\n",
      "avg / total       0.70      0.68      0.68      5327\n",
      "\n",
      "\n",
      "---------- Test ----------\n",
      "[epoch 10] Test Accuracy is 0.670\n",
      "[epoch 10] Test Classificaiton Report\n",
      "\n",
      "             precision    recall  f1-score   support\n",
      "\n",
      "          0       0.66      0.67      0.67       174\n",
      "          1       0.63      0.66      0.65       197\n",
      "          2       0.50      0.58      0.54       191\n",
      "          3       0.79      0.38      0.51       195\n",
      "          4       0.76      0.84      0.80       206\n",
      "          5       0.63      0.90      0.74       199\n",
      "          6       0.87      0.63      0.73       170\n",
      "\n",
      "avg / total       0.69      0.67      0.66      1332\n",
      "\n",
      "\n",
      "---------- Test ----------\n",
      "[epoch 11] Learning Rate 0.17\n",
      "[epoch 11] seen 0 minibatches\n",
      "[epoch 11] Completed 53 minibatches in 0:00:05\n",
      "[epoch 11] Average cost: 1.806\n",
      "[epoch 11] Accuracy 0.685\n",
      "[epoch 11] Classificaiton Report\n",
      "\n",
      "             precision    recall  f1-score   support\n",
      "\n",
      "          0       0.72      0.68      0.70       799\n",
      "          1       0.58      0.66      0.61       788\n",
      "          2       0.56      0.61      0.58       791\n",
      "          3       0.80      0.44      0.57       768\n",
      "          4       0.75      0.78      0.76       785\n",
      "          5       0.68      0.91      0.78       791\n",
      "          6       0.84      0.71      0.77       605\n",
      "\n",
      "avg / total       0.70      0.68      0.68      5327\n",
      "\n",
      "\n",
      "---------- Test ----------\n",
      "[epoch 11] Test Accuracy is 0.670\n",
      "[epoch 11] Test Classificaiton Report\n",
      "\n",
      "             precision    recall  f1-score   support\n",
      "\n",
      "          0       0.66      0.67      0.67       174\n",
      "          1       0.63      0.66      0.65       197\n",
      "          2       0.50      0.58      0.54       191\n",
      "          3       0.79      0.38      0.51       195\n",
      "          4       0.76      0.84      0.80       206\n",
      "          5       0.63      0.90      0.74       199\n",
      "          6       0.87      0.63      0.73       170\n",
      "\n",
      "avg / total       0.69      0.67      0.66      1332\n",
      "\n",
      "\n",
      "---------- Test ----------\n",
      "[epoch 12] Learning Rate 0.13\n",
      "[epoch 12] seen 0 minibatches\n",
      "[epoch 12] Completed 53 minibatches in 0:00:15\n",
      "[epoch 12] Average cost: 1.806\n",
      "[epoch 12] Accuracy 0.685\n",
      "[epoch 12] Classificaiton Report\n",
      "\n",
      "             precision    recall  f1-score   support\n",
      "\n",
      "          0       0.72      0.68      0.70       799\n",
      "          1       0.58      0.66      0.61       788\n",
      "          2       0.56      0.61      0.58       791\n",
      "          3       0.80      0.44      0.57       768\n",
      "          4       0.75      0.78      0.76       785\n",
      "          5       0.68      0.91      0.78       791\n",
      "          6       0.84      0.71      0.77       605\n",
      "\n",
      "avg / total       0.70      0.68      0.68      5327\n",
      "\n",
      "\n",
      "---------- Test ----------\n",
      "[epoch 12] Test Accuracy is 0.670\n",
      "[epoch 12] Test Classificaiton Report\n",
      "\n",
      "             precision    recall  f1-score   support\n",
      "\n",
      "          0       0.66      0.67      0.67       174\n",
      "          1       0.63      0.66      0.65       197\n",
      "          2       0.50      0.58      0.54       191\n",
      "          3       0.79      0.38      0.51       195\n",
      "          4       0.76      0.84      0.80       206\n",
      "          5       0.63      0.90      0.74       199\n",
      "          6       0.87      0.63      0.73       170\n",
      "\n",
      "avg / total       0.69      0.67      0.66      1332\n",
      "\n"
     ]
    }
   ],
   "source": [
    "train_accur, test_accur = run_epochs(num_epochs = 12, \n",
    "                                     batch_size = 100, \n",
    "                                     learning_rate = 0.5, \n",
    "                                     min_learning = 0.1, \n",
    "                                     print_rate = 100)"
   ]
  },
  {
   "cell_type": "code",
   "execution_count": 18,
   "metadata": {},
   "outputs": [
    {
     "data": {
      "image/png": "[encoded data removed]",
      "text/plain": [
       "<matplotlib.figure.Figure at 0x7f74544c2cd0>"
      ]
     },
     "metadata": {},
     "output_type": "display_data"
    }
   ],
   "source": [
    "plot_learning(num_epochs = 12,\n",
    "              train_accuracy = train_accur, \n",
    "              test_accuracy = test_accur)"
   ]
  },
  {
   "cell_type": "code",
   "execution_count": 19,
   "metadata": {},
   "outputs": [
    {
     "data": {
      "text/plain": [
       "[<tf.Variable 'Output_layer/Z:0' shape=(450, 7) dtype=float32_ref>,\n",
       " <tf.Variable 'Output_layer/b:0' shape=(7,) dtype=float32_ref>]"
      ]
     },
     "execution_count": 19,
     "metadata": {},
     "output_type": "execute_result"
    }
   ],
   "source": [
    "tf.trainable_variables()\n"
   ]
  },
  {
   "cell_type": "markdown",
   "metadata": {},
   "source": [
    "## 2. Open Classificaiton Methods (1-vs-Rest)¶\n",
    "  1-vs-Rest Layer of DOC\n",
    "   M (number of class) sigmoid function, N (batch_size)\n",
    "   Objective function for training is $$loss = \\sum_{i=1}^M \\sum_{i=1}^N y_n log(p) + (1 - y_n)log(1 - p(y))$$ is the    summation of all log loss (cross-entropy) on the training data.\n",
    "  At prediction, reject if all predicted probability is less than their threshold t_i, otherwise $argmax(Sigmoid(d))$\n",
    "  The theshold is determined by using outlier detection. (We can use a fixed number such as 0.95 to validate our model implementation)\n",
    "  Approach:\n",
    "   1. Remove some classes from the training data\n",
    "   2. Training the data\n",
    "   3. Add those classes back to the test data\n",
    "  Clustering Approach\n",
    "   1. KNN\n",
    "   2. Gausian Mix Model\n",
    "   3. Infinite Dirichlet process"
   ]
  },
  {
   "cell_type": "code",
   "execution_count": 20,
   "metadata": {},
   "outputs": [
    {
     "name": "stdout",
     "output_type": "stream",
     "text": [
      "[0 1 2 3 4 5 6]\n"
     ]
    }
   ],
   "source": [
    "print np.unique(train_labels)"
   ]
  },
  {
   "cell_type": "markdown",
   "metadata": {},
   "source": [
    "## Remove some class and cross validate train data for hyper parameters¶\n"
   ]
  },
  {
   "cell_type": "code",
   "execution_count": 21,
   "metadata": {
    "collapsed": true
   },
   "outputs": [],
   "source": [
    "## Load SKlearn libraries\n",
    "from sklearn.ensemble import RandomForestClassifier, GradientBoostingClassifier\n",
    "from sklearn.multiclass import OneVsRestClassifier\n",
    "from sklearn.linear_model import LogisticRegression\n",
    "from sklearn.calibration import CalibratedClassifierCV\n",
    "from sklearn.svm import SVC\n",
    "from sklearn.metrics import f1_score"
   ]
  },
  {
   "cell_type": "markdown",
   "metadata": {},
   "source": [
    "### Training and test data are feature vectors from paragraph2vec model\n"
   ]
  },
  {
   "cell_type": "code",
   "execution_count": 22,
   "metadata": {},
   "outputs": [
    {
     "name": "stdout",
     "output_type": "stream",
     "text": [
      "(5327, 450)\n",
      "(2990, 450)\n",
      "(2990,)\n",
      "(1066, 450)\n",
      "(1066,)\n",
      "(770, 450)\n",
      "(770,)\n",
      "(1332, 450)\n",
      "(1332,)\n",
      "[1 2 4 5 6]\n",
      "[0 1 2 3 4 5 6]\n",
      "[1 2 4 5 6]\n",
      "[0 1 2 3 4 5 6]\n"
     ]
    }
   ],
   "source": [
    "## Training and test data are feature vectors from paragraph2vec model\n",
    "#train_vectors = extract_vectors(dbow_dmm_model,train_docs)\n",
    "#test_vectors = extract_vectors(dbow_dmm_model,test_docs)\n",
    "\n",
    "train_vectors = extract_vectors(dm_model,train_docs)\n",
    "test_vectors = extract_vectors(dm_model,test_docs)\n",
    "\n",
    "train_valid_cut = int(len(train_vectors)*0.8)\n",
    "valid_final_vectors=train_vectors[train_valid_cut:]\n",
    "valid_final_labels = train_labels[train_valid_cut:]\n",
    "\n",
    "train_new_vectors = train_vectors[:train_valid_cut]\n",
    "train_new_labels = train_labels[:train_valid_cut]\n",
    "\n",
    "# Define a missing class and remove those data from the training set\n",
    "missing_class = np.array([0,3])\n",
    "missing_class_idx = np.where(np.isin(train_new_labels, missing_class))[0]\n",
    "train_final_vectors = [train_new_vectors[i] for i in range(len(train_new_vectors)) if i not in missing_class_idx]\n",
    "train_final_labels = [train_new_labels[i] for i in range(len(train_new_labels)) if i not in missing_class_idx]\n",
    "\n",
    "val_missing_class_idx = np.where(np.isin(valid_final_labels, missing_class))[0]\n",
    "valid_calib_vectors = [valid_final_vectors[i] for i in range(len(valid_final_vectors)) if i not in val_missing_class_idx]\n",
    "valid_calib_labels = [valid_final_labels[i] for i in range(len(valid_final_labels)) if i not in val_missing_class_idx]\n",
    "\n",
    "\n",
    "#train_final_vectors = train_new_vectors[:train_valid_cut]\n",
    "#train_final_labels = train_new_labels[:train_valid_cut]\n",
    "\n",
    "\n",
    "print np.array(train_vectors).shape\n",
    "print np.array(train_final_vectors).shape\n",
    "print np.array(train_final_labels).shape\n",
    "\n",
    "print np.array(valid_final_vectors).shape\n",
    "print np.array(valid_final_labels).shape\n",
    "\n",
    "print np.array(valid_calib_vectors).shape\n",
    "print np.array(valid_calib_labels).shape\n",
    "\n",
    "\n",
    "print np.array(test_vectors).shape\n",
    "print np.array(test_labels).shape\n",
    "print np.unique(train_final_labels)\n",
    "print np.unique(valid_final_labels)\n",
    "print np.unique(valid_calib_labels)\n",
    "print np.unique(test_labels)"
   ]
  },
  {
   "cell_type": "code",
   "execution_count": 23,
   "metadata": {},
   "outputs": [
    {
     "name": "stderr",
     "output_type": "stream",
     "text": [
      "/home/svaradarajan1982/anaconda2/lib/python2.7/site-packages/sklearn/linear_model/sag.py:326: ConvergenceWarning: The max_iter was reached which means the coef_ did not converge\n",
      "  \"the coef_ did not converge\", ConvergenceWarning)\n"
     ]
    },
    {
     "name": "stdout",
     "output_type": "stream",
     "text": [
      "--- 1-vs-Rest Logistic Regression ---\n",
      "Fitting 3 folds for each of 63 candidates, totalling 189 fits\n"
     ]
    },
    {
     "name": "stderr",
     "output_type": "stream",
     "text": [
      "/home/svaradarajan1982/anaconda2/lib/python2.7/site-packages/sklearn/metrics/classification.py:1135: UndefinedMetricWarning: F-score is ill-defined and being set to 0.0 in labels with no predicted samples.\n",
      "  'precision', 'predicted', average, warn_for)\n",
      "[Parallel(n_jobs=1)]: Done 189 out of 189 | elapsed:  5.7min finished\n"
     ]
    },
    {
     "name": "stdout",
     "output_type": "stream",
     "text": [
      "0.778141982494\n",
      "{'C': 5, 'tol': 0.001, 'solver': 'sag'}\n",
      "--- 1-vs-Rest SVM ---\n",
      "Fitting 3 folds for each of 8 candidates, totalling 24 fits\n"
     ]
    },
    {
     "name": "stderr",
     "output_type": "stream",
     "text": [
      "[Parallel(n_jobs=1)]: Done  24 out of  24 | elapsed:  1.8min finished\n"
     ]
    },
    {
     "name": "stdout",
     "output_type": "stream",
     "text": [
      "0.717295387133\n",
      "{'estimator__kernel': 'linear', 'estimator__C': 0.001, 'estimator__degree': 3}\n"
     ]
    }
   ],
   "source": [
    "# Method 1 Logistic Regression 1-vs-Rest\n",
    "clf_lr = LogisticRegression(solver='sag',\n",
    "                         multi_class = 'ovr',\n",
    "                         C=1,\n",
    "                         penalty='l2',\n",
    "                         tol = 0.001,\n",
    "                         fit_intercept=True)\n",
    "clf_lr.fit(train_final_vectors, train_final_labels)\n",
    "\n",
    "parameters_lr = {\n",
    "    \"C\": [0.001,0.01,0.1,0.5,1,2,5],\n",
    "    \"tol\": [0.001, 0.0005, 0.0001],\n",
    "    \"solver\": [\"newton-cg\", \"sag\", \"lbfgs\"],\n",
    "}\n",
    "\n",
    "print \"--- 1-vs-Rest Logistic Regression ---\"\n",
    "mod_lr = GridSearchCV(estimator=clf_lr, param_grid=parameters_lr, scoring='f1_macro', verbose=True)\n",
    "mod_lr.fit(valid_calib_vectors, valid_calib_labels)\n",
    "print mod_lr.best_score_ \n",
    "print mod_lr.best_params_\n",
    "\n",
    "# Method 2 SVM 1-vs-Rest\n",
    "clf_svc = OneVsRestClassifier(SVC(probability=True))\n",
    "clf_svc.fit(train_final_vectors, train_final_labels)\n",
    "\n",
    "parameters_SVC = {\n",
    "    \"estimator__C\": [0.001],  #[0.001,0.01,0.1,0.5,1,2,5],\n",
    "    \"estimator__kernel\": [\"poly\",\"rbf\", \"sigmoid\",\"linear\"],#[\"poly\",\"rbf\", \"sigmoid\",\"linear\"],\n",
    "    \"estimator__degree\": [3, 4] #[1, 2, 3, 4],\n",
    "}\n",
    "\n",
    "print \"--- 1-vs-Rest SVM ---\"\n",
    "mod_svc = GridSearchCV(estimator=clf_svc, param_grid=parameters_SVC, scoring='f1_macro', verbose=True)\n",
    "mod_svc.fit(valid_calib_vectors, valid_calib_labels)\n",
    "print mod_svc.best_score_ \n",
    "print mod_svc.best_params_"
   ]
  },
  {
   "cell_type": "code",
   "execution_count": 24,
   "metadata": {},
   "outputs": [
    {
     "name": "stdout",
     "output_type": "stream",
     "text": [
      "[1 2 4 5 6]\n",
      "[0 1 2 3 4 5 6]\n"
     ]
    }
   ],
   "source": [
    "print np.unique(train_final_labels)\n",
    "print np.unique(test_labels)"
   ]
  },
  {
   "cell_type": "markdown",
   "metadata": {},
   "source": [
    "### Calibrate 1-vs-Rest probability"
   ]
  },
  {
   "cell_type": "code",
   "execution_count": 25,
   "metadata": {},
   "outputs": [
    {
     "name": "stderr",
     "output_type": "stream",
     "text": [
      "/home/svaradarajan1982/anaconda2/lib/python2.7/site-packages/sklearn/calibration.py:435: RuntimeWarning: overflow encountered in exp\n",
      "  E = np.exp(AB[0] * F + AB[1])\n",
      "/home/svaradarajan1982/anaconda2/lib/python2.7/site-packages/sklearn/calibration.py:445: RuntimeWarning: overflow encountered in exp\n",
      "  E = np.exp(AB[0] * F + AB[1])\n",
      "/home/svaradarajan1982/anaconda2/lib/python2.7/site-packages/sklearn/calibration.py:447: RuntimeWarning: invalid value encountered in multiply\n",
      "  TEP_minus_T1P = P * (T * E - T1)\n"
     ]
    }
   ],
   "source": [
    "clf_lr = LogisticRegression(solver=mod_lr.best_params_['solver'],\n",
    "                            multi_class = 'ovr',\n",
    "                            C=mod_lr.best_params_['C'],\n",
    "                            penalty='l2',\n",
    "                            tol = mod_lr.best_params_['tol'],\n",
    "                            fit_intercept=True)\n",
    "\n",
    "clf_svc = OneVsRestClassifier(SVC(probability=True, \n",
    "                              kernel=mod_svc.best_params_['estimator__kernel'], \n",
    "                              C=mod_svc.best_params_['estimator__C'], \n",
    "                              degree=mod_svc.best_params_['estimator__degree']))\n",
    "\n",
    "clf_lr.fit(train_final_vectors, train_final_labels)\n",
    "clf_svc.fit(train_final_vectors, train_final_labels)\n",
    "\n",
    "## Calibrate prob\n",
    "sig_clf_lr = CalibratedClassifierCV(clf_lr, method=\"sigmoid\", cv=\"prefit\")\n",
    "sig_clf_svc = CalibratedClassifierCV(clf_svc, method=\"sigmoid\", cv=\"prefit\")\n",
    "sig_clf_lr.fit(valid_calib_vectors, valid_calib_labels)\n",
    "sig_clf_svc.fit(valid_calib_vectors, valid_calib_labels)\n",
    "\n",
    "sig_clf_lr_probs = sig_clf_lr.predict_proba(test_vectors)\n",
    "sig_clf_svc_probs = sig_clf_svc.predict_proba(test_vectors)\n",
    "\n",
    "clf_lr_probs = clf_lr.predict_proba(test_vectors)\n",
    "clf_svc_probs = clf_svc.predict_proba(test_vectors)\n",
    "\n",
    "sig_class_max_prob_lists = np.array([max(sig_clf_lr_probs[:,val]) for val in range(len(sig_clf_lr_probs[0]))])\n",
    "sig_class_min_prob_lists = np.array([min(sig_clf_lr_probs[:,val]) for val in range(len(sig_clf_lr_probs[0]))])\n",
    "sig_delta = sig_class_max_prob_lists - sig_class_min_prob_lists\n",
    "\n",
    "class_max_prob_lists = np.array([max(clf_lr_probs[:,val]) for val in range(len(clf_lr_probs[0]))])\n",
    "class_min_prob_lists = np.array([min(clf_lr_probs[:,val]) for val in range(len(clf_lr_probs[0]))])\n",
    "delta = class_max_prob_lists - class_min_prob_lists\n",
    "\n",
    "# Normalized for test vector\n",
    "scaled_calib_sig_lr_probs = np.divide(sig_clf_lr_probs,sig_delta)\n",
    "scaled_calib_lr_probs = np.divide(clf_lr_probs,delta)"
   ]
  },
  {
   "cell_type": "markdown",
   "metadata": {},
   "source": [
    "### Visualized histogram of max probability (probability that determine the class)¶\n"
   ]
  },
  {
   "cell_type": "code",
   "execution_count": 26,
   "metadata": {},
   "outputs": [
    {
     "data": {
      "text/plain": [
       "array([[  4.58042632e-02,   1.59886176e-02,   7.10107048e-02,\n",
       "          6.24858493e-01,   2.43349270e-01],\n",
       "       [  8.82935815e-02,   7.04433462e-01,   8.07694683e-02,\n",
       "          1.36035296e-01,   7.91574740e-04],\n",
       "       [  1.86712804e-01,   8.62964642e-02,   7.29685383e-02,\n",
       "          6.17122499e-01,   4.09332886e-02],\n",
       "       ..., \n",
       "       [  5.51019797e-02,   1.39320878e-02,   7.27844950e-02,\n",
       "          7.26529963e-01,   1.32763726e-01],\n",
       "       [  4.79452740e-06,   2.27480360e-04,   3.68184118e-03,\n",
       "          9.96048133e-01,   1.17263539e-04],\n",
       "       [  1.50189508e-01,   1.95319303e-01,   2.37458321e-01,\n",
       "          3.56690911e-01,   6.51832001e-02]])"
      ]
     },
     "execution_count": 26,
     "metadata": {},
     "output_type": "execute_result"
    }
   ],
   "source": [
    "scaled_calib_sig_lr_probs"
   ]
  },
  {
   "cell_type": "code",
   "execution_count": 27,
   "metadata": {},
   "outputs": [
    {
     "data": {
      "image/png": "[encoded data removed]",
      "text/plain": [
       "<matplotlib.figure.Figure at 0x7f740007dd10>"
      ]
     },
     "metadata": {},
     "output_type": "display_data"
    }
   ],
   "source": [
    "x = np.amax(scaled_calib_lr_probs, axis = 1)\n",
    "#x = scaled_calib_lr_probs[:,0]\n",
    "plt.figure(figsize = (12, 8))\n",
    "n, bins, patches = plt.hist(x, 50)\n",
    "plt.title(\"max prob dist\")\n",
    "plt.show()"
   ]
  },
  {
   "cell_type": "code",
   "execution_count": 28,
   "metadata": {},
   "outputs": [
    {
     "data": {
      "image/png": "[encoded data removed]",
      "text/plain": [
       "<matplotlib.figure.Figure at 0x7f73fa7d9b90>"
      ]
     },
     "metadata": {},
     "output_type": "display_data"
    }
   ],
   "source": [
    "x = np.amax(scaled_calib_sig_lr_probs, axis = 1)\n",
    "#print x\n",
    "plt.figure(figsize = (12, 8))\n",
    "n, bins, patches = plt.hist(x, 50)\n",
    "plt.title(\"max prob dist\")\n",
    "plt.show()"
   ]
  },
  {
   "cell_type": "markdown",
   "metadata": {},
   "source": [
    "## Check Classification Accuracy on Test Data\n",
    "  Test Data actually have 5 class labels  \n",
    "  Try with training data of 4 labels first"
   ]
  },
  {
   "cell_type": "code",
   "execution_count": 29,
   "metadata": {},
   "outputs": [
    {
     "name": "stdout",
     "output_type": "stream",
     "text": [
      "[1 2 4 5 6]\n",
      "[1 2 4 5 6]\n",
      "             precision    recall  f1-score   support\n",
      "\n",
      "          0       0.00      0.00      0.00       174\n",
      "          1       0.45      0.74      0.56       197\n",
      "          2       0.39      0.81      0.53       191\n",
      "          3       0.00      0.00      0.00       195\n",
      "          4       0.69      0.88      0.78       206\n",
      "          5       0.79      0.85      0.82       199\n",
      "          6       0.88      0.67      0.76       170\n",
      "\n",
      "avg / total       0.46      0.58      0.50      1332\n",
      "\n",
      "             precision    recall  f1-score   support\n",
      "\n",
      "          0       0.00      0.00      0.00       174\n",
      "          1       0.51      0.70      0.59       197\n",
      "          2       0.37      0.87      0.52       191\n",
      "          3       0.00      0.00      0.00       195\n",
      "          4       0.75      0.81      0.78       206\n",
      "          5       0.75      0.86      0.80       199\n",
      "          6       0.79      0.75      0.77       170\n",
      "\n",
      "avg / total       0.46      0.58      0.50      1332\n",
      "\n",
      "0.575075075075\n",
      "0.577327327327\n"
     ]
    },
    {
     "name": "stderr",
     "output_type": "stream",
     "text": [
      "/home/svaradarajan1982/anaconda2/lib/python2.7/site-packages/sklearn/metrics/classification.py:1135: UndefinedMetricWarning: Precision and F-score are ill-defined and being set to 0.0 in labels with no predicted samples.\n",
      "  'precision', 'predicted', average, warn_for)\n"
     ]
    }
   ],
   "source": [
    "preds1 = clf_lr.predict(test_vectors)\n",
    "preds2 = sig_clf_lr.predict(test_vectors)\n",
    "print np.unique(preds1)\n",
    "print np.unique(preds2)\n",
    "print classification_report(test_labels,preds1)\n",
    "print classification_report(test_labels,preds2)\n",
    "print accuracy_score(test_labels,preds1)\n",
    "print accuracy_score(test_labels,preds2)"
   ]
  },
  {
   "cell_type": "markdown",
   "metadata": {},
   "source": [
    "## To find the new class, we select a Percentile for Probability Threshold for Class Labels¶"
   ]
  },
  {
   "cell_type": "code",
   "execution_count": 30,
   "metadata": {},
   "outputs": [],
   "source": [
    "class_prob_percentile_85 = np.array([np.percentile(scaled_calib_sig_lr_probs[:,val], 90.0) \n",
    "                                     for val in range(len(scaled_calib_sig_lr_probs[0]))])\n",
    "\n",
    "test_class_preds = np.greater_equal(scaled_calib_sig_lr_probs,class_prob_percentile_85).astype(int)\n",
    "\n",
    "# Predict the test label based on percental\n",
    "# If a data is below 80% for prob of all class, it belongs to open class\n",
    "valid_class_probs = np.multiply(scaled_calib_sig_lr_probs, test_class_preds)\n",
    "valid_class = np.greater_equal(np.ceil(valid_class_probs),1).astype(int)\n",
    "predicted_multinomial = np.multiply(valid_class, np.unique(train_final_labels))\n",
    "predicted_test_class = np.max(predicted_multinomial,axis=1)\n",
    "\n",
    "# The true unseen class index\n",
    "unseen_class_indices = np.where(np.isin(test_labels, missing_class))[0]"
   ]
  },
  {
   "cell_type": "code",
   "execution_count": 31,
   "metadata": {},
   "outputs": [
    {
     "name": "stdout",
     "output_type": "stream",
     "text": [
      "predicted test classes [0 1 2 4 5 6]\n",
      "train labels [1 2 4 5 6]\n",
      "Full list of original test labels [0 1 2 3 4 5 6]\n"
     ]
    }
   ],
   "source": [
    "print \"predicted test classes\", np.unique(predicted_test_class)\n",
    "print \"train labels\", np.unique(train_final_labels)\n",
    "print \"Full list of original test labels\", np.unique(orig_test_labels)\n"
   ]
  },
  {
   "cell_type": "markdown",
   "metadata": {},
   "source": [
    "## Evaluate F1 Score/Precision/Recall with Unseen Class¶\n"
   ]
  },
  {
   "cell_type": "code",
   "execution_count": 32,
   "metadata": {},
   "outputs": [],
   "source": [
    "import copy\n",
    "orig_valid_labels = copy.copy(valid_final_labels)\n",
    "\n",
    "missing_class_idx_test = np.where(np.isin(test_labels, missing_class))[0]\n",
    "missing_class_idx_val = np.where(np.isin(valid_final_labels, missing_class))[0]\n",
    "\n",
    "#print missing_class_idx_test\n",
    "#orig_test_labels = copy.copy(test_labels)\n",
    "for i in range(len(test_labels)): \n",
    "    if i in missing_class_idx_test:\n",
    "        test_labels[i] = 0\n",
    "        \n",
    "for i in range(len(valid_final_labels)): \n",
    "    if i in missing_class_idx_val:\n",
    "        valid_final_labels[i] = 0"
   ]
  },
  {
   "cell_type": "code",
   "execution_count": 33,
   "metadata": {},
   "outputs": [
    {
     "name": "stdout",
     "output_type": "stream",
     "text": [
      "             precision    recall  f1-score   support\n",
      "\n",
      "          0       0.38      0.69      0.49       369\n",
      "          1       0.59      0.40      0.47       197\n",
      "          2       0.55      0.39      0.46       191\n",
      "          4       0.90      0.58      0.71       206\n",
      "          5       0.94      0.63      0.76       199\n",
      "          6       0.84      0.66      0.74       170\n",
      "\n",
      "avg / total       0.66      0.57      0.59      1332\n",
      "\n",
      "0.572822822823\n"
     ]
    }
   ],
   "source": [
    "print classification_report(test_labels, predicted_test_class)\n",
    "print accuracy_score(test_labels, predicted_test_class)"
   ]
  },
  {
   "cell_type": "markdown",
   "metadata": {},
   "source": [
    "## Unseen Class Predictions¶"
   ]
  },
  {
   "cell_type": "code",
   "execution_count": 34,
   "metadata": {},
   "outputs": [
    {
     "name": "stdout",
     "output_type": "stream",
     "text": [
      "[253  45  57   0   8   3   3]\n",
      "369\n"
     ]
    }
   ],
   "source": [
    "print np.bincount(sorted(predicted_test_class[unseen_class_indices]))\n",
    "print sum(np.bincount(sorted(predicted_test_class[unseen_class_indices])))"
   ]
  },
  {
   "cell_type": "markdown",
   "metadata": {},
   "source": [
    "### Unseen Class Prediction Accuracy¶"
   ]
  },
  {
   "cell_type": "code",
   "execution_count": 35,
   "metadata": {},
   "outputs": [
    {
     "name": "stdout",
     "output_type": "stream",
     "text": [
      "253.0 369\n",
      "0.685636856369\n"
     ]
    }
   ],
   "source": [
    "print float(np.bincount(sorted(predicted_test_class[unseen_class_indices]))[0]), \\\n",
    "    sum(np.isin(test_labels, missing_class).astype(int))\n",
    "print float(np.bincount(sorted(predicted_test_class[unseen_class_indices]))[0])/sum(np.isin(test_labels, missing_class).astype(int))"
   ]
  },
  {
   "cell_type": "markdown",
   "metadata": {},
   "source": [
    "## Perform dimensionality reduction "
   ]
  },
  {
   "cell_type": "code",
   "execution_count": 36,
   "metadata": {},
   "outputs": [
    {
     "name": "stdout",
     "output_type": "stream",
     "text": [
      "(2990, 450)\n",
      "(1066, 450)\n",
      "(1332, 450)\n",
      "Size of the train dataframe: (2990, 451)\n",
      "Size of the test dataframe: (1066, 451)\n",
      "Size of the test dataframe: (1332, 451)\n",
      "2990\n"
     ]
    }
   ],
   "source": [
    "import pandas as pd\n",
    "import numpy as np\n",
    "\n",
    "train_final_vectors = np.array(train_final_vectors)\n",
    "valid_final_vectors=np.array(valid_final_vectors)\n",
    "test_vectors=np.array(test_vectors)\n",
    "print train_final_vectors.shape\n",
    "print valid_final_vectors.shape\n",
    "print test_vectors.shape\n",
    "\n",
    "\n",
    "X = train_final_vectors\n",
    "y = train_final_labels\n",
    "\n",
    "X_val = valid_final_vectors\n",
    "y_val = valid_final_labels\n",
    "\n",
    "X_test = test_vectors\n",
    "y_test = test_labels\n",
    "\n",
    "feat_cols = [ 'col'+str(i) for i in range(X.shape[1]) ]\n",
    "feat_cols_val = [ 'col'+str(i) for i in range(X_val.shape[1]) ]\n",
    "feat_cols_test = [ 'col'+str(i) for i in range(X_test.shape[1]) ]\n",
    "\n",
    "df = pd.DataFrame(X,columns=feat_cols)\n",
    "df['label'] = y\n",
    "df['label'] = df['label'].apply(lambda i: str(i))\n",
    "\n",
    "\n",
    "df_val = pd.DataFrame(X_val,columns=feat_cols_val)\n",
    "df_val['label'] = y_val\n",
    "df_val['label'] = df_val['label'].apply(lambda i: str(i))\n",
    "\n",
    "df_test = pd.DataFrame(X_test,columns=feat_cols_test)\n",
    "df_test['label'] = y_test\n",
    "df_test['label'] = df_test['label'].apply(lambda i: str(i))\n",
    "\n",
    "\n",
    "X, y = None, None\n",
    "print 'Size of the train dataframe: {}'.format(df.shape)\n",
    "print 'Size of the test dataframe: {}'.format(df_val.shape)\n",
    "print 'Size of the test dataframe: {}'.format(df_test.shape)\n",
    "\n",
    "N = df.shape[0]\n",
    "print N"
   ]
  },
  {
   "cell_type": "code",
   "execution_count": 37,
   "metadata": {},
   "outputs": [
    {
     "data": {
      "text/plain": [
       "(2990, 450)"
      ]
     },
     "execution_count": 37,
     "metadata": {},
     "output_type": "execute_result"
    }
   ],
   "source": [
    "np.array(train_final_vectors).shape"
   ]
  },
  {
   "cell_type": "code",
   "execution_count": 38,
   "metadata": {},
   "outputs": [
    {
     "data": {
      "text/plain": [
       "array([0, 1, 2, 4, 5, 6])"
      ]
     },
     "execution_count": 38,
     "metadata": {},
     "output_type": "execute_result"
    }
   ],
   "source": [
    "np.unique(valid_final_labels)"
   ]
  },
  {
   "cell_type": "code",
   "execution_count": 39,
   "metadata": {},
   "outputs": [
    {
     "data": {
      "text/plain": [
       "(2990, 450)"
      ]
     },
     "execution_count": 39,
     "metadata": {},
     "output_type": "execute_result"
    }
   ],
   "source": [
    "df[feat_cols].values.shape"
   ]
  },
  {
   "cell_type": "markdown",
   "metadata": {},
   "source": [
    "# Using Latent Semantic Analysis"
   ]
  },
  {
   "cell_type": "code",
   "execution_count": 40,
   "metadata": {},
   "outputs": [
    {
     "name": "stdout",
     "output_type": "stream",
     "text": [
      "Performing dimensionality reduction using LSA\n",
      "done in 0.095932s\n",
      "Explained variance of the SVD step: 79%\n"
     ]
    }
   ],
   "source": [
    "from sklearn.pipeline import make_pipeline\n",
    "from sklearn.preprocessing import Normalizer\n",
    "import logging\n",
    "from optparse import OptionParser\n",
    "import sys\n",
    "from time import time\n",
    "import numpy as np\n",
    "from sklearn.decomposition import TruncatedSVD\n",
    "\n",
    "print(\"Performing dimensionality reduction using LSA\")\n",
    "t0 = time()\n",
    "svd = TruncatedSVD(n_components=20)\n",
    "normalizer = Normalizer(copy=False)\n",
    "lsa = make_pipeline(svd, normalizer)\n",
    "\n",
    "lsa_result = lsa.fit_transform(df[feat_cols].values)\n",
    "lsa_val = lsa.fit_transform(df_val[feat_cols].values)\n",
    "lsa_test = lsa.transform(df_test[feat_cols_test].values)\n",
    "\n",
    "print(\"done in %fs\" % (time() - t0))\n",
    "\n",
    "explained_variance = svd.explained_variance_ratio_.sum()\n",
    "print(\"Explained variance of the SVD step: {}%\".format(int(explained_variance * 100)))"
   ]
  },
  {
   "cell_type": "markdown",
   "metadata": {},
   "source": [
    "# Using Principal Component Analysis"
   ]
  },
  {
   "cell_type": "code",
   "execution_count": 41,
   "metadata": {},
   "outputs": [
    {
     "name": "stdout",
     "output_type": "stream",
     "text": [
      "Explained variation per principal component: [ 0.14128008  0.06786942  0.0579533   0.0483289   0.04553128  0.03765547\n",
      "  0.03473711  0.03193982  0.02922904  0.02621128  0.02486191  0.02268477\n",
      "  0.02147436  0.02074751  0.01835552  0.01823196  0.01654471  0.01576092\n",
      "  0.01498646  0.01403469]\n",
      "Explained variation All components: 0.708418533206\n"
     ]
    }
   ],
   "source": [
    "from sklearn.decomposition import PCA\n",
    "\n",
    "pca = PCA(n_components=20)\n",
    "pca_result = pca.fit_transform(df[feat_cols].values)\n",
    "\n",
    "df['pca-one'] = pca_result[:,0]\n",
    "df['pca-two'] = pca_result[:,1] \n",
    "#df['pca-three'] = pca_result[:,2]\n",
    "#df['pca-four'] = pca_result[:,3]\n",
    "#df['pca-five'] = pca_result[:,4]\n",
    "\n",
    "\n",
    "print 'Explained variation per principal component: {}'.format(pca.explained_variance_ratio_)\n",
    "print 'Explained variation All components: {}'.format(sum(pca.explained_variance_ratio_))\n"
   ]
  },
  {
   "cell_type": "markdown",
   "metadata": {},
   "source": [
    "# Fit Gaussian Mixture Models of varying components and covariance matrix sizes"
   ]
  },
  {
   "cell_type": "code",
   "execution_count": 42,
   "metadata": {},
   "outputs": [
    {
     "name": "stdout",
     "output_type": "stream",
     "text": [
      "Automatically created module for IPython interactive environment\n"
     ]
    }
   ],
   "source": [
    "import itertools\n",
    "import operator\n",
    "from scipy import linalg\n",
    "import matplotlib.pyplot as plt\n",
    "import matplotlib as mpl\n",
    "import scipy\n",
    "\n",
    "from sklearn import mixture\n",
    "\n",
    "print(__doc__)\n",
    "\n",
    "\n",
    "def GMM_fits(input_data=lsa_result, max_comp=21):\n",
    "    # Number of samples per component\n",
    "    n_samples = N\n",
    "    # Generate random sample, two components\n",
    "    np.random.seed(0)\n",
    "    X = np.array(input_data)\n",
    "    #X=np.array(pca_result_5)\n",
    "    print X.shape\n",
    "\n",
    "    bic_2 = {}\n",
    "    n_components_range = range(max_comp, max_comp+1)\n",
    "    cv_types = ['spherical', 'tied', 'diag', 'full']\n",
    "    aic_dict = {}\n",
    "    bic_dict = {}\n",
    "    lowest_bic = np.infty\n",
    "    lowest_aic = np.infty\n",
    "\n",
    "    for cv_type in cv_types:\n",
    "\n",
    "        bic = []\n",
    "        aic = []\n",
    "        for n_components in n_components_range:\n",
    "            # Fit a Gaussian mixture with EM\n",
    "            gmm = mixture.GaussianMixture(n_components=n_components,\n",
    "                                          covariance_type=cv_type, reg_covar =1e-3,random_state=0, init_params='kmeans',max_iter = 1350)\n",
    "            gmm.fit(X)\n",
    "            bic.append(gmm.bic(X))\n",
    "            aic.append(gmm.aic(X))\n",
    "            bic_2[cv_type+\"-\" + str(n_components)] = gmm.bic(X)\n",
    "            if bic[-1] < lowest_bic:\n",
    "                lowest_bic = bic[-1]\n",
    "                best_gmm = gmm\n",
    "            if aic[-1] < lowest_aic:\n",
    "                lowest_aic = aic[-1]\n",
    "\n",
    "        aic_dict[cv_type] = aic\n",
    "        bic_dict[cv_type] = bic\n",
    "\n",
    "    clf = best_gmm\n",
    "    sorted_bic_2 = sorted(bic_2.items(), key=operator.itemgetter(1))\n",
    "    return clf, bic_dict, aic_dict, sorted_bic_2, lowest_bic, lowest_aic \n"
   ]
  },
  {
   "cell_type": "markdown",
   "metadata": {},
   "source": [
    "# BIC Plots"
   ]
  },
  {
   "cell_type": "code",
   "execution_count": 43,
   "metadata": {
    "collapsed": true
   },
   "outputs": [],
   "source": [
    "def plot_model_selection_criteria(best_model, aic_dict, bic_dict, information_criteria = 'bic', max_comp = 21):\n",
    "    n_components_range = range(1,max_comp)\n",
    "    if information_criteria == 'bic':\n",
    "        for cv in bic_dict.keys():\n",
    "            plt.plot(n_components_range, bic_dict[cv], label=str(cv))\n",
    "            #plt.plot(n_components, [m.aic(X) for m in models], label='AIC')\n",
    "            plt.legend(loc=cv)\n",
    "            plt.xlabel('n_components_range')\n",
    "        plt.title(\"BIC plot\")\n",
    "    else:\n",
    "        for cv in aic_dict.keys():\n",
    "            plt.plot(n_components_range, aic_dict[cv], label=str(cv))\n",
    "            #plt.plot(n_components, [m.aic(X) for m in models], label='AIC')\n",
    "            plt.legend(loc=cv)\n",
    "            plt.xlabel('n_components_range')\n",
    "        plt.title(\"AIC plot\")\n"
   ]
  },
  {
   "cell_type": "code",
   "execution_count": 44,
   "metadata": {
    "collapsed": true
   },
   "outputs": [],
   "source": [
    "num_train_class = 5\n",
    "num_unseen_class =2"
   ]
  },
  {
   "cell_type": "code",
   "execution_count": 45,
   "metadata": {},
   "outputs": [
    {
     "name": "stdout",
     "output_type": "stream",
     "text": [
      "(2990, 20)\n"
     ]
    }
   ],
   "source": [
    "best_lsa_model, lsa_bic_d, lsa_aic_d, sorted_lsa_bic, lowest_lsa_aic, lowest_lsa_bic = GMM_fits(input_data=lsa_result, max_comp=num_train_class)"
   ]
  },
  {
   "cell_type": "code",
   "execution_count": 46,
   "metadata": {},
   "outputs": [
    {
     "name": "stdout",
     "output_type": "stream",
     "text": [
      "Lowest_BIC -52103.0778976\n",
      "Lowest_AIC -45175.5828166\n",
      "Best GMM Model Parameters based on BIC <bound method GaussianMixture.get_params of GaussianMixture(covariance_type='full', init_params='kmeans', max_iter=1350,\n",
      "        means_init=None, n_components=5, n_init=1, precisions_init=None,\n",
      "        random_state=0, reg_covar=0.001, tol=0.001, verbose=0,\n",
      "        verbose_interval=10, warm_start=False, weights_init=None)>\n"
     ]
    }
   ],
   "source": [
    "#plot_model_selection_criteria(best_model=best_lsa_model, aic_dict=lsa_aic_d, bic_dict=lsa_bic_d,information_criteria='bic',max_comp=num_class-1)\n",
    "print \"Lowest_BIC\", lowest_lsa_bic\n",
    "print \"Lowest_AIC\", lowest_lsa_aic  \n",
    "print \"Best GMM Model Parameters based on BIC\", best_lsa_model.get_params"
   ]
  },
  {
   "cell_type": "code",
   "execution_count": 47,
   "metadata": {},
   "outputs": [
    {
     "name": "stdout",
     "output_type": "stream",
     "text": [
      "Homogeneity: 0.429\n",
      "Completeness: 0.440\n",
      "V-measure: 0.434\n",
      "Adjusted Rand-Index: 0.378\n",
      "Silhouette Coefficient: 0.085\n",
      "fowlkes_mallows_score: 0.510\n"
     ]
    },
    {
     "data": {
      "text/plain": [
       "(array([ 446.,    0.,  468.,    0.,    0.,  539.,    0.,  969.,    0.,  568.]),\n",
       " array([ 0. ,  0.4,  0.8,  1.2,  1.6,  2. ,  2.4,  2.8,  3.2,  3.6,  4. ]),\n",
       " <a list of 10 Patch objects>)"
      ]
     },
     "execution_count": 47,
     "metadata": {},
     "output_type": "execute_result"
    },
    {
     "data": {
      "image/png": "[encoded data removed]",
      "text/plain": [
       "<matplotlib.figure.Figure at 0x7f73f86e5410>"
      ]
     },
     "metadata": {},
     "output_type": "display_data"
    }
   ],
   "source": [
    "predicted_cluster = best_lsa_model.predict(lsa_result)\n",
    "print(\"Homogeneity: %0.3f\" % metrics.homogeneity_score(df['label'], predicted_cluster))\n",
    "print(\"Completeness: %0.3f\" % metrics.completeness_score(df['label'], predicted_cluster))\n",
    "print(\"V-measure: %0.3f\" % metrics.v_measure_score(df['label'], predicted_cluster))\n",
    "print(\"Adjusted Rand-Index: %.3f\"\n",
    "      % metrics.adjusted_rand_score(df['label'], predicted_cluster))\n",
    "print(\"Silhouette Coefficient: %0.3f\"\n",
    "      % metrics.silhouette_score(lsa_result, predicted_cluster, sample_size=1000))\n",
    "print (\"fowlkes_mallows_score: %.3f\"\n",
    "      % metrics.fowlkes_mallows_score(df['label'], predicted_cluster))\n",
    "\n",
    "plt.hist(predicted_cluster)"
   ]
  },
  {
   "cell_type": "code",
   "execution_count": 48,
   "metadata": {},
   "outputs": [],
   "source": [
    "def print_cluster_comp(predicted_labels,actual_labels):\n",
    "    Cluster_ids = {}\n",
    "    for i in predicted_labels:\n",
    "        Cluster_ids[i] = (predicted_labels==i).nonzero()[0]\n",
    "\n",
    "    targets = np.array(actual_labels)\n",
    "    #print Cluster_ids\n",
    "    for label in Cluster_ids.keys():\n",
    "        #print type(label)\n",
    "        idx = Cluster_ids[label]\n",
    "        print \"Cluster Number\", str(label), \"Composition\", np.bincount(targets[idx])\n",
    "        print \"\\n\""
   ]
  },
  {
   "cell_type": "code",
   "execution_count": 49,
   "metadata": {},
   "outputs": [
    {
     "name": "stdout",
     "output_type": "stream",
     "text": [
      "Cluster Number 0 Composition [  0  24  10   0 392  15   5]\n",
      "\n",
      "\n",
      "Cluster Number 1 Composition [  0   9   3   0  71  25 360]\n",
      "\n",
      "\n",
      "Cluster Number 2 Composition [  0   4   4   0   9 496  26]\n",
      "\n",
      "\n",
      "Cluster Number 3 Composition [  0 416 391   0  94  32  36]\n",
      "\n",
      "\n",
      "Cluster Number 4 Composition [  0 199 202   0  68  57  42]\n",
      "\n",
      "\n",
      "None\n"
     ]
    }
   ],
   "source": [
    "print print_cluster_comp(predicted_labels=predicted_cluster, actual_labels=train_final_labels)"
   ]
  },
  {
   "cell_type": "markdown",
   "metadata": {},
   "source": [
    "# Validation Data Prediction"
   ]
  },
  {
   "cell_type": "code",
   "execution_count": 50,
   "metadata": {
    "collapsed": true
   },
   "outputs": [],
   "source": [
    "pred_proba_val_labels = best_lsa_model.predict_proba(lsa_val)"
   ]
  },
  {
   "cell_type": "code",
   "execution_count": 51,
   "metadata": {},
   "outputs": [
    {
     "name": "stdout",
     "output_type": "stream",
     "text": [
      "[[  9.40282609e-04   2.56355716e-02   1.36657855e-02   9.35541776e-01\n",
      "    2.42165839e-02]\n",
      " [  7.25650611e-05   2.13426888e-05   2.26167292e-06   6.52331025e-06\n",
      "    9.99897307e-01]\n",
      " [  2.03203224e-03   3.06698695e-03   9.74380604e-01   6.23797076e-03\n",
      "    1.42824059e-02]\n",
      " ..., \n",
      " [  8.51851514e-01   3.68273677e-04   1.53829557e-10   5.18131144e-07\n",
      "    1.47779694e-01]\n",
      " [  5.23786048e-03   3.14566793e-01   1.67375697e-11   6.65373899e-03\n",
      "    6.73541608e-01]\n",
      " [  5.40581495e-15   4.48155860e-05   6.88443334e-07   6.40745443e-20\n",
      "    9.99954496e-01]]\n",
      "[ 0.9978765   0.99807441  0.99851452  0.99873132  0.99996877]\n",
      "[[  9.42283551e-04   2.56850305e-02   1.36861160e-02   9.36730189e-01\n",
      "    2.42173401e-02]\n",
      " [  7.27194811e-05   2.13838654e-05   2.26503760e-06   6.53159677e-06\n",
      "    9.99928532e-01]\n",
      " [  2.03635644e-03   3.07290410e-03   9.75830182e-01   6.24589481e-03\n",
      "    1.42828519e-02]\n",
      " ..., \n",
      " [  8.53664272e-01   3.68984190e-04   1.54058408e-10   5.18789322e-07\n",
      "    1.47784309e-01]\n",
      " [  5.24900676e-03   3.15173688e-01   1.67624701e-11   6.66219119e-03\n",
      "    6.73562641e-01]\n",
      " [  5.41731864e-15   4.49020490e-05   6.89467525e-07   6.41559377e-20\n",
      "    9.99985722e-01]]\n"
     ]
    }
   ],
   "source": [
    "print pred_proba_val_labels\n",
    "val_gmm_class_max_prob_lists = np.array([max(pred_proba_val_labels[:,val]) for val in range(len(pred_proba_val_labels[0]))])\n",
    "val_gmm_class_min_prob_lists = np.array([min(pred_proba_val_labels[:,val]) for val in range(len(pred_proba_val_labels[0]))])\n",
    "val_gmm_delta = val_gmm_class_max_prob_lists - val_gmm_class_min_prob_lists\n",
    "\n",
    "print val_gmm_delta\n",
    "# Normalized for test vector\n",
    "scaled_gmm_val_class_probs = np.divide(pred_proba_val_labels,val_gmm_delta)\n",
    "print scaled_gmm_val_class_probs"
   ]
  },
  {
   "cell_type": "code",
   "execution_count": 52,
   "metadata": {},
   "outputs": [
    {
     "data": {
      "image/png": "[encoded data removed]",
      "text/plain": [
       "<matplotlib.figure.Figure at 0x7f74000eff50>"
      ]
     },
     "metadata": {},
     "output_type": "display_data"
    }
   ],
   "source": [
    "x = np.amax(pred_proba_val_labels, axis = 1)\n",
    "#print pred_proba_test_labels[:,0]\n",
    "plt.figure(figsize = (12, 8))\n",
    "n, bins, patches = plt.hist(x, 50)\n",
    "plt.title(\"max prob dist\")\n",
    "plt.show()"
   ]
  },
  {
   "cell_type": "code",
   "execution_count": 53,
   "metadata": {},
   "outputs": [
    {
     "name": "stdout",
     "output_type": "stream",
     "text": [
      "[ 0.05915668  0.23096227  0.08645858  0.25638434  0.99999196]\n",
      "[[  9.42283551e-04   2.56850305e-02   1.36861160e-02   9.36730189e-01\n",
      "    2.42173401e-02]\n",
      " [  7.27194811e-05   2.13838654e-05   2.26503760e-06   6.53159677e-06\n",
      "    9.99928532e-01]\n",
      " [  2.03635644e-03   3.07290410e-03   9.75830182e-01   6.24589481e-03\n",
      "    1.42828519e-02]\n",
      " ..., \n",
      " [  8.53664272e-01   3.68984190e-04   1.54058408e-10   5.18789322e-07\n",
      "    1.47784309e-01]\n",
      " [  5.24900676e-03   3.15173688e-01   1.67624701e-11   6.66219119e-03\n",
      "    6.73562641e-01]\n",
      " [  5.41731864e-15   4.49020490e-05   6.89467525e-07   6.41559377e-20\n",
      "    9.99985722e-01]]\n",
      "[[0 0 0 1 0]\n",
      " [0 0 0 0 0]\n",
      " [0 0 1 0 0]\n",
      " ..., \n",
      " [1 0 0 0 0]\n",
      " [0 1 0 0 0]\n",
      " [0 0 0 0 0]]\n",
      "[ 0  1  2  3  4  5  6  7  8  9 10 11]\n"
     ]
    }
   ],
   "source": [
    "class_threshold = 85.0\n",
    "val_gmm_class_prob_percentile_cutoff = np.array([np.percentile(scaled_gmm_val_class_probs[:,val], class_threshold) \n",
    "                                     for val in range(len(scaled_gmm_val_class_probs[0]))])\n",
    "\n",
    "print val_gmm_class_prob_percentile_cutoff\n",
    "\n",
    "gmm_val_class_preds = np.greater_equal(scaled_gmm_val_class_probs,val_gmm_class_prob_percentile_cutoff).astype(int)\n",
    "\n",
    "print scaled_gmm_val_class_probs\n",
    "# Predict the test label based on percental\n",
    "# If a data is below 80% for prob of all class, it belongs to open class\n",
    "val_gmm_valid_class_probs = np.multiply(scaled_gmm_val_class_probs, gmm_val_class_preds)\n",
    "val_gmm_valid_class = np.greater_equal(np.ceil(val_gmm_valid_class_probs),1).astype(int)\n",
    "print val_gmm_valid_class\n",
    "val_gmm_predicted_multinomial = np.multiply(val_gmm_valid_class, np.unique(train_final_labels))\n",
    "print np.unique(np.sum(val_gmm_predicted_multinomial, axis=1))\n",
    "gmm_predicted_val_class = np.max(val_gmm_predicted_multinomial,axis=1)\n"
   ]
  },
  {
   "cell_type": "code",
   "execution_count": 54,
   "metadata": {},
   "outputs": [
    {
     "name": "stdout",
     "output_type": "stream",
     "text": [
      "[296 136 181   0 151 166 136] [376 113 117   0 140 160 160]\n",
      "1066 1066\n"
     ]
    }
   ],
   "source": [
    "print np.bincount(valid_final_labels), np.bincount(gmm_predicted_val_class)\n",
    "print np.sum(np.bincount(valid_final_labels)), np.sum(np.bincount(gmm_predicted_val_class))"
   ]
  },
  {
   "cell_type": "markdown",
   "metadata": {},
   "source": [
    "# Calculate Unseen Class Precision, Recall, F1 Score"
   ]
  },
  {
   "cell_type": "code",
   "execution_count": 55,
   "metadata": {},
   "outputs": [
    {
     "name": "stdout",
     "output_type": "stream",
     "text": [
      "Composition of gmm_predicted_valid_class for true unseen class indices [104  45  11   0  52  29  55]\n",
      "296\n"
     ]
    }
   ],
   "source": [
    "print \"Composition of gmm_predicted_valid_class for true unseen class indices\", np.bincount(sorted(gmm_predicted_val_class[missing_class_idx_val]))\n",
    "print sum(np.bincount(sorted(gmm_predicted_val_class[missing_class_idx_val])))"
   ]
  },
  {
   "cell_type": "code",
   "execution_count": 56,
   "metadata": {},
   "outputs": [
    {
     "name": "stdout",
     "output_type": "stream",
     "text": [
      "             precision    recall  f1-score   support\n",
      "\n",
      "          0       0.35      0.28      0.31       376\n",
      "          1       0.05      0.06      0.06       113\n",
      "          2       0.04      0.06      0.05       117\n",
      "          4       0.05      0.05      0.05       140\n",
      "          5       0.27      0.28      0.27       160\n",
      "          6       0.10      0.09      0.09       160\n",
      "\n",
      "avg / total       0.19      0.17      0.18      1066\n",
      "\n",
      "[[104  44  61  41  76  50]\n",
      " [ 45   7  26  30   3   2]\n",
      " [ 11  14   7  37  11  37]\n",
      " [ 52  15  35   7  22   9]\n",
      " [ 29  23  16  24  44  24]\n",
      " [ 55  33  36  12  10  14]]\n"
     ]
    }
   ],
   "source": [
    "from sklearn.metrics import confusion_matrix, classification_report, precision_score, recall_score, f1_score\n",
    "print classification_report(gmm_predicted_val_class, valid_final_labels)\n",
    "print confusion_matrix(gmm_predicted_val_class, valid_final_labels)\n"
   ]
  },
  {
   "cell_type": "code",
   "execution_count": 57,
   "metadata": {},
   "outputs": [
    {
     "name": "stdout",
     "output_type": "stream",
     "text": [
      "0.276595744681 0.351351351351 0.309523809524\n"
     ]
    }
   ],
   "source": [
    "def calculate_unseen_class_f1score(pred_class, true_class, unseen_class_id):\n",
    "    predicted_zero_ind = (pred_class==unseen_class_id).nonzero()[0]\n",
    "    predicted_nonzero_ind = (pred_class >unseen_class_id).nonzero()[0]\n",
    "    #print np.bincount(true_class[predicted_zero_ind])[0]\n",
    "    TP = np.bincount(true_class[predicted_zero_ind])[0]\n",
    "    FP =  sum(np.bincount(true_class[predicted_zero_ind])) - TP\n",
    "    FN =  np.bincount(true_class[predicted_nonzero_ind])[0]\n",
    "    #print TP, FP, FN\n",
    "    unseen_class_precision = float(TP)/(TP+FP)\n",
    "    unseen_class_recall = float(TP)/(TP+FN)\n",
    "    unseen_class_f1 = 2*unseen_class_precision*unseen_class_recall/(unseen_class_precision+unseen_class_recall)\n",
    "    #print unseen_class_precision,unseen_class_recall,unseen_class_f1\n",
    "    return unseen_class_precision, unseen_class_recall,unseen_class_f1\n",
    "    \n",
    "pr,re,f1 = calculate_unseen_class_f1score(gmm_predicted_val_class,valid_final_labels,0)\n",
    "print pr,re,f1\n"
   ]
  },
  {
   "cell_type": "code",
   "execution_count": 58,
   "metadata": {
    "scrolled": false
   },
   "outputs": [
    {
     "name": "stdout",
     "output_type": "stream",
     "text": [
      "[1 2 4 5 6] [0 1 2 4 5 6]\n",
      "Threshold Too Low. No unseen class prediction\n",
      "[1 2 4 5 6] [0 1 2 4 5 6]\n",
      "Threshold Too Low. No unseen class prediction\n",
      "[1 2 4 5 6] [0 1 2 4 5 6]\n",
      "Threshold Too Low. No unseen class prediction\n",
      "[1 2 4 5 6] [0 1 2 4 5 6]\n",
      "Threshold Too Low. No unseen class prediction\n",
      "[1 2 4 5 6] [0 1 2 4 5 6]\n",
      "Threshold Too Low. No unseen class prediction\n",
      "[1 2 4 5 6] [0 1 2 4 5 6]\n",
      "Threshold Too Low. No unseen class prediction\n",
      "[1 2 4 5 6] [0 1 2 4 5 6]\n",
      "Threshold Too Low. No unseen class prediction\n",
      "[1 2 4 5 6] [0 1 2 4 5 6]\n",
      "Threshold Too Low. No unseen class prediction\n",
      "[1 2 4 5 6] [0 1 2 4 5 6]\n",
      "Threshold Too Low. No unseen class prediction\n",
      "[1 2 4 5 6] [0 1 2 4 5 6]\n",
      "Threshold Too Low. No unseen class prediction\n",
      "[1 2 4 5 6] [0 1 2 4 5 6]\n",
      "Threshold Too Low. No unseen class prediction\n",
      "[1 2 4 5 6] [0 1 2 4 5 6]\n",
      "Threshold Too Low. No unseen class prediction\n",
      "[1 2 4 5 6] [0 1 2 4 5 6]\n",
      "Threshold Too Low. No unseen class prediction\n",
      "[1 2 4 5 6] [0 1 2 4 5 6]\n",
      "Threshold Too Low. No unseen class prediction\n",
      "[1 2 4 5 6] [0 1 2 4 5 6]\n",
      "Threshold Too Low. No unseen class prediction\n",
      "[1 2 4 5 6] [0 1 2 4 5 6]\n",
      "Threshold Too Low. No unseen class prediction\n",
      "[0 1 2 4 5 6] [0 1 2 4 5 6]\n",
      "Threshold Too Low. No unseen class prediction\n",
      "[0 1 2 4 5 6] [0 1 2 4 5 6]\n",
      "Threshold:  67 F1 Score:  0.00666666666667\n",
      "Actual Unseen Class 296 Predicted Unseen Class 4\n",
      "[0 1 2 4 5 6] [0 1 2 4 5 6]\n",
      "Threshold:  68 F1 Score:  0.00662251655629\n",
      "Actual Unseen Class 296 Predicted Unseen Class 6\n",
      "[0 1 2 4 5 6] [0 1 2 4 5 6]\n",
      "Threshold:  69 F1 Score:  0.0260586319218\n",
      "Actual Unseen Class 296 Predicted Unseen Class 11\n",
      "[0 1 2 4 5 6] [0 1 2 4 5 6]\n",
      "Threshold:  70 F1 Score:  0.0615384615385\n",
      "Actual Unseen Class 296 Predicted Unseen Class 29\n",
      "[0 1 2 4 5 6] [0 1 2 4 5 6]\n",
      "Threshold:  71 F1 Score:  0.093023255814\n",
      "Actual Unseen Class 296 Predicted Unseen Class 48\n",
      "[0 1 2 4 5 6] [0 1 2 4 5 6]\n",
      "Threshold:  72 F1 Score:  0.103825136612\n",
      "Actual Unseen Class 296 Predicted Unseen Class 70\n",
      "[0 1 2 4 5 6] [0 1 2 4 5 6]\n",
      "Threshold:  73 F1 Score:  0.127551020408\n",
      "Actual Unseen Class 296 Predicted Unseen Class 96\n",
      "[0 1 2 4 5 6] [0 1 2 4 5 6]\n",
      "Threshold:  74 F1 Score:  0.154589371981\n",
      "Actual Unseen Class 296 Predicted Unseen Class 118\n",
      "[0 1 2 4 5 6] [0 1 2 4 5 6]\n",
      "Threshold:  75 F1 Score:  0.171296296296\n",
      "Actual Unseen Class 296 Predicted Unseen Class 136\n",
      "[0 1 2 4 5 6] [0 1 2 4 5 6]\n",
      "Threshold:  76 F1 Score:  0.211920529801\n",
      "Actual Unseen Class 296 Predicted Unseen Class 157\n",
      "[0 1 2 4 5 6] [0 1 2 4 5 6]\n",
      "Threshold:  77 F1 Score:  0.216666666667\n",
      "Actual Unseen Class 296 Predicted Unseen Class 184\n",
      "[0 1 2 4 5 6] [0 1 2 4 5 6]\n",
      "Threshold:  78 F1 Score:  0.224\n",
      "Actual Unseen Class 296 Predicted Unseen Class 204\n",
      "[0 1 2 4 5 6] [0 1 2 4 5 6]\n",
      "Threshold:  79 F1 Score:  0.24380952381\n",
      "Actual Unseen Class 296 Predicted Unseen Class 229\n",
      "[0 1 2 4 5 6] [0 1 2 4 5 6]\n",
      "Threshold:  80 F1 Score:  0.261818181818\n",
      "Actual Unseen Class 296 Predicted Unseen Class 254\n",
      "[0 1 2 4 5 6] [0 1 2 4 5 6]\n",
      "Threshold:  81 F1 Score:  0.264808362369\n",
      "Actual Unseen Class 296 Predicted Unseen Class 278\n",
      "[0 1 2 4 5 6] [0 1 2 4 5 6]\n",
      "Threshold:  82 F1 Score:  0.27135678392\n",
      "Actual Unseen Class 296 Predicted Unseen Class 301\n",
      "[0 1 2 4 5 6] [0 1 2 4 5 6]\n",
      "Threshold:  83 F1 Score:  0.278768233387\n",
      "Actual Unseen Class 296 Predicted Unseen Class 321\n",
      "[0 1 2 4 5 6] [0 1 2 4 5 6]\n",
      "Threshold:  84 F1 Score:  0.291472868217\n",
      "Actual Unseen Class 296 Predicted Unseen Class 349\n",
      "[0 1 2 4 5 6] [0 1 2 4 5 6]\n",
      "Threshold:  85 F1 Score:  0.309523809524\n",
      "Actual Unseen Class 296 Predicted Unseen Class 376\n",
      "[0 1 2 4 5 6] [0 1 2 4 5 6]\n",
      "Threshold:  86 F1 Score:  0.322857142857\n",
      "Actual Unseen Class 296 Predicted Unseen Class 404\n",
      "[0 1 2 4 5 6] [0 1 2 4 5 6]\n",
      "Threshold:  87 F1 Score:  0.330150068213\n",
      "Actual Unseen Class 296 Predicted Unseen Class 437\n",
      "[0 1 2 4 5 6] [0 1 2 4 5 6]\n",
      "Threshold:  88 F1 Score:  0.341590612777\n",
      "Actual Unseen Class 296 Predicted Unseen Class 471\n",
      "[0 1 2 4 5 6] [0 1 2 4 5 6]\n",
      "Threshold:  89 F1 Score:  0.350438047559\n",
      "Actual Unseen Class 296 Predicted Unseen Class 503\n",
      "[0 1 2 4 5 6] [0 1 2 4 5 6]\n",
      "Threshold:  90 F1 Score:  0.356294536817\n",
      "Actual Unseen Class 296 Predicted Unseen Class 546\n",
      "[0 1 2 4 5 6] [0 1 2 4 5 6]\n",
      "Threshold:  91 F1 Score:  0.371621621622\n",
      "Actual Unseen Class 296 Predicted Unseen Class 592\n",
      "[0 1 2 4 5 6] [0 1 2 4 5 6]\n",
      "Threshold:  92 F1 Score:  0.392282958199\n",
      "Actual Unseen Class 296 Predicted Unseen Class 637\n",
      "[0 1 2 4 5 6] [0 1 2 4 5 6]\n",
      "Threshold:  93 F1 Score:  0.407294832827\n",
      "Actual Unseen Class 296 Predicted Unseen Class 691\n",
      "[0 1 2 4 5 6] [0 1 2 4 5 6]\n",
      "Threshold:  94 F1 Score:  0.412667946257\n",
      "Actual Unseen Class 296 Predicted Unseen Class 746\n",
      "Best Threshold:  83\n",
      "Best F1 Score:  0.278768233387\n"
     ]
    }
   ],
   "source": [
    "best_threshold = 0.0\n",
    "best_f1_score=0.0\n",
    "for threshold in range(50,95):\n",
    "    try:\n",
    "        val_gmm_class_prob_percentile_cutoff = np.array([np.percentile(scaled_gmm_val_class_probs[:,val], float(threshold)) \n",
    "                                             for val in range(len(scaled_gmm_val_class_probs[0]))])\n",
    "\n",
    "        #print val_gmm_class_prob_percentile_cutoff\n",
    "\n",
    "        gmm_val_class_preds = np.greater_equal(scaled_gmm_val_class_probs,val_gmm_class_prob_percentile_cutoff).astype(int)\n",
    "\n",
    "        #print scaled_gmm_val_class_probs\n",
    "        # Predict the test label based on percental\n",
    "        # If a data is below 80% for prob of all class, it belongs to open class\n",
    "        val_gmm_valid_class_probs_dup = np.multiply(scaled_gmm_val_class_probs, gmm_val_class_preds)\n",
    "\n",
    "        val_gmm_valid_class_max_probs = np.max(val_gmm_valid_class_probs_dup, axis=1)\n",
    "        #print gmm_valid_class_max_probs\n",
    "        #print type(gmm_valid_class_probs_dup),  type(gmm_valid_class_max_probs)\n",
    "        val_temp = np.equal(val_gmm_valid_class_probs_dup , val_gmm_valid_class_max_probs.reshape(len(val_gmm_valid_class_max_probs),1))\n",
    "        val_gmm_valid_class_probs=np.multiply(val_gmm_valid_class_probs_dup,val_temp)\n",
    "        val_gmm_valid_class = np.greater_equal(np.ceil(val_gmm_valid_class_probs),1).astype(int)\n",
    "        #print val_gmm_valid_class\n",
    "        val_gmm_predicted_multinomial = np.multiply(val_gmm_valid_class, np.unique(train_final_labels))\n",
    "        #print np.unique(np.sum(val_gmm_predicted_multinomial, axis=1))\n",
    "        gmm_predicted_val_class = np.max(val_gmm_predicted_multinomial,axis=1)  \n",
    "        print np.unique(gmm_predicted_val_class), np.unique(valid_final_labels)\n",
    "        pr,re,f1 = calculate_unseen_class_f1score(gmm_predicted_val_class,valid_final_labels,0)\n",
    "        print \"Threshold: \",threshold, \"F1 Score: \", f1 \n",
    "        print \"Actual Unseen Class\", np.bincount(valid_final_labels)[0], \"Predicted Unseen Class\",np.bincount(gmm_predicted_val_class)[0]\n",
    "        # Set the threshold so that not unseen class volume is actual unseen class volume in validation set\n",
    "        unseen_class_ratio = float(np.bincount(gmm_predicted_val_class)[0])/np.bincount(valid_final_labels)[0]\n",
    "        #overall_F1_score = f1_score(gmm_predicted_val_class, valid_final_labels)\n",
    "        if f1 > best_f1_score and unseen_class_ratio < 1.1:\n",
    "\n",
    "            best_f1_score = f1\n",
    "            best_threshold = threshold\n",
    "    except:\n",
    "        print \"Threshold Too Low. No unseen class prediction\"\n",
    "        \n",
    "print \"Best Threshold: \", best_threshold\n",
    "print \"Best F1 Score: \", best_f1_score"
   ]
  },
  {
   "cell_type": "markdown",
   "metadata": {},
   "source": [
    "# Test Data Prediction"
   ]
  },
  {
   "cell_type": "code",
   "execution_count": 59,
   "metadata": {},
   "outputs": [],
   "source": [
    "pred_proba_test_labels = best_lsa_model.predict_proba(lsa_test)"
   ]
  },
  {
   "cell_type": "code",
   "execution_count": 60,
   "metadata": {},
   "outputs": [
    {
     "name": "stdout",
     "output_type": "stream",
     "text": [
      "[[  4.43126219e-13   1.46271074e-05   5.30732525e-06   1.83264817e-02\n",
      "    9.81653584e-01]\n",
      " [  3.29096910e-05   3.95353430e-12   5.45420675e-08   1.80108687e-10\n",
      "    9.99967036e-01]\n",
      " [  3.16924059e-07   4.93350549e-04   3.69448257e-03   9.83741846e-01\n",
      "    1.20700041e-02]\n",
      " ..., \n",
      " [  5.19581499e-06   2.70269464e-01   8.93381029e-04   3.42381768e-02\n",
      "    6.94593782e-01]\n",
      " [  1.08520960e-09   1.64748998e-04   3.05334142e-07   2.93291121e-04\n",
      "    9.99541653e-01]\n",
      " [  1.16683148e-04   2.28123404e-06   1.43872890e-08   1.32059974e-03\n",
      "    9.98560421e-01]]\n",
      "[ 0.99942321  0.99937139  0.99867722  0.99664407  0.99997114]\n",
      "[[  4.43381957e-13   1.46363079e-05   5.31435498e-06   1.83881912e-02\n",
      "    9.81681914e-01]\n",
      " [  3.29286840e-05   3.95602108e-12   5.46143103e-08   1.80715155e-10\n",
      "    9.99995894e-01]\n",
      " [  3.17106964e-07   4.93660868e-04   3.69937604e-03   9.87054333e-01\n",
      "    1.20703524e-02]\n",
      " ..., \n",
      " [  5.19881362e-06   2.70439464e-01   8.94564343e-04   3.43534647e-02\n",
      "    6.94613828e-01]\n",
      " [  1.08583590e-09   1.64852626e-04   3.05738567e-07   2.94278700e-04\n",
      "    9.99570500e-01]\n",
      " [  1.16750489e-04   2.28266894e-06   1.44063455e-08   1.32504651e-03\n",
      "    9.98589240e-01]]\n"
     ]
    }
   ],
   "source": [
    "print pred_proba_test_labels\n",
    "gmm_class_max_prob_lists = np.array([max(pred_proba_test_labels[:,val]) for val in range(len(pred_proba_test_labels[0]))])\n",
    "gmm_class_min_prob_lists = np.array([min(pred_proba_test_labels[:,val]) for val in range(len(pred_proba_test_labels[0]))])\n",
    "gmm_delta = gmm_class_max_prob_lists - gmm_class_min_prob_lists\n",
    "\n",
    "print gmm_delta\n",
    "# Normalized for test vector\n",
    "scaled_gmm_test_class_probs = np.divide(pred_proba_test_labels,gmm_delta)\n",
    "print scaled_gmm_test_class_probs"
   ]
  },
  {
   "cell_type": "code",
   "execution_count": 61,
   "metadata": {},
   "outputs": [
    {
     "data": {
      "image/png": "[encoded data removed]",
      "text/plain": [
       "<matplotlib.figure.Figure at 0x7f740000b490>"
      ]
     },
     "metadata": {},
     "output_type": "display_data"
    }
   ],
   "source": [
    "x = np.amax(pred_proba_test_labels, axis = 1)\n",
    "#print pred_proba_test_labels[:,0]\n",
    "plt.figure(figsize = (12, 8))\n",
    "n, bins, patches = plt.hist(x, 50)\n",
    "plt.title(\"max prob dist\")\n",
    "plt.show()"
   ]
  },
  {
   "cell_type": "code",
   "execution_count": 62,
   "metadata": {},
   "outputs": [
    {
     "data": {
      "text/plain": [
       "array([1, 2, 4, 5, 6])"
      ]
     },
     "execution_count": 62,
     "metadata": {},
     "output_type": "execute_result"
    }
   ],
   "source": [
    "np.unique(train_final_labels)"
   ]
  },
  {
   "cell_type": "code",
   "execution_count": 63,
   "metadata": {},
   "outputs": [
    {
     "name": "stdout",
     "output_type": "stream",
     "text": [
      "83\n",
      "[[ 0.          0.          0.          0.          0.        ]\n",
      " [ 0.          0.          0.          0.          0.99999589]\n",
      " [ 0.          0.          0.          0.98705433  0.        ]\n",
      " ..., \n",
      " [ 0.          0.27043946  0.          0.          0.        ]\n",
      " [ 0.          0.          0.          0.          0.        ]\n",
      " [ 0.          0.          0.          0.          0.        ]]\n",
      "[ 0.          0.99999589  0.98705433 ...,  0.27043946  0.          0.        ]\n",
      "[[0 0 0 0 0]\n",
      " [0 0 0 0 1]\n",
      " [0 0 0 1 0]\n",
      " ..., \n",
      " [0 1 0 0 0]\n",
      " [0 0 0 0 0]\n",
      " [0 0 0 0 0]]\n",
      "[0 1 2 4 5 6]\n"
     ]
    }
   ],
   "source": [
    "print best_threshold\n",
    "gmm_class_prob_percentile_cutoff = np.array([np.percentile(scaled_gmm_test_class_probs[:,val], best_threshold) \n",
    "                                     for val in range(len(scaled_gmm_test_class_probs[0]))])\n",
    "\n",
    "#print gmm_class_prob_percentile_cutoff\n",
    "\n",
    "gmm_test_class_preds = np.greater_equal(scaled_gmm_test_class_probs,gmm_class_prob_percentile_cutoff).astype(int)\n",
    "\n",
    "#print scaled_gmm_test_class_probs\n",
    "# Predict the test label based on percental\n",
    "# If a data is below 80% for prob of all class, it belongs to open class\n",
    "gmm_valid_class_probs_dup = np.multiply(scaled_gmm_test_class_probs, gmm_test_class_preds)\n",
    "print gmm_valid_class_probs_dup\n",
    "gmm_valid_class_max_probs = np.max(gmm_valid_class_probs_dup, axis=1)\n",
    "print gmm_valid_class_max_probs\n",
    "#print type(gmm_valid_class_probs_dup),  type(gmm_valid_class_max_probs)\n",
    "temp = np.equal(gmm_valid_class_probs_dup , gmm_valid_class_max_probs.reshape(len(gmm_valid_class_max_probs),1))\n",
    "gmm_valid_class_probs=np.multiply(gmm_valid_class_probs_dup,temp)\n",
    "gmm_valid_class = np.greater_equal(np.ceil(gmm_valid_class_probs),1).astype(int)\n",
    "print gmm_valid_class\n",
    "gmm_predicted_multinomial = np.multiply(gmm_valid_class, np.unique(train_final_labels))\n",
    "print np.unique(np.sum(gmm_predicted_multinomial, axis=1))\n",
    "gmm_predicted_test_class = np.max(gmm_predicted_multinomial,axis=1)\n",
    "\n",
    "# The true unseen class index\n",
    "#unseen_class_indices = np.where(np.isin(test_labels, missing_class))[0]"
   ]
  },
  {
   "cell_type": "code",
   "execution_count": 64,
   "metadata": {
    "scrolled": true
   },
   "outputs": [
    {
     "name": "stdout",
     "output_type": "stream",
     "text": [
      "[369 197 191   0 206 199 170] [411 185 177   0 155 177 227]\n",
      "1332 1332\n"
     ]
    }
   ],
   "source": [
    "print np.bincount(test_labels), np.bincount(gmm_predicted_test_class)\n",
    "print np.sum(np.bincount(test_labels)), np.sum(np.bincount(gmm_predicted_test_class))\n"
   ]
  },
  {
   "cell_type": "code",
   "execution_count": 65,
   "metadata": {},
   "outputs": [
    {
     "name": "stdout",
     "output_type": "stream",
     "text": [
      "[[114  70  25  61  36  63]\n",
      " [ 58  24  40  15  21  39]\n",
      " [ 57  23   7  40  22  42]\n",
      " [ 58  64  47   9  11  17]\n",
      " [ 63   3  15  22  55  41]\n",
      " [ 61   1  43   8  32  25]]\n"
     ]
    }
   ],
   "source": [
    "print confusion_matrix(test_labels, gmm_predicted_test_class)"
   ]
  },
  {
   "cell_type": "code",
   "execution_count": 66,
   "metadata": {},
   "outputs": [
    {
     "name": "stdout",
     "output_type": "stream",
     "text": [
      "             precision    recall  f1-score   support\n",
      "\n",
      "          0       0.28      0.31      0.29       369\n",
      "          1       0.13      0.12      0.13       197\n",
      "          2       0.04      0.04      0.04       191\n",
      "          4       0.06      0.04      0.05       206\n",
      "          5       0.31      0.28      0.29       199\n",
      "          6       0.11      0.15      0.13       170\n",
      "\n",
      "avg / total       0.17      0.18      0.17      1332\n",
      "\n",
      "0.175675675676\n"
     ]
    }
   ],
   "source": [
    "print classification_report(test_labels, gmm_predicted_test_class)\n",
    "print accuracy_score(test_labels, gmm_predicted_test_class)"
   ]
  },
  {
   "cell_type": "code",
   "execution_count": 67,
   "metadata": {},
   "outputs": [],
   "source": [
    "#print \"Composition of gmm_predicted_test_class for true unseen class indices\", np.bincount(sorted(gmm_predicted_test_class[unseen_class_indices]))\n",
    "#print sum(np.bincount(sorted(gmm_predicted_test_class[unseen_class_indices])))"
   ]
  },
  {
   "cell_type": "markdown",
   "metadata": {},
   "source": [
    "## Unseen Class Precision, Recall F1 Score"
   ]
  },
  {
   "cell_type": "code",
   "execution_count": 68,
   "metadata": {},
   "outputs": [
    {
     "name": "stdout",
     "output_type": "stream",
     "text": [
      "Unseen Class Precision:  0.277372262774\n",
      "Unseen Class Recall:  0.308943089431\n",
      "Unseen Class F1 Score:  0.292307692308\n"
     ]
    }
   ],
   "source": [
    "print \"Unseen Class Precision: \", calculate_unseen_class_f1score(gmm_predicted_test_class,test_labels,0)[0]\n",
    "print \"Unseen Class Recall: \", calculate_unseen_class_f1score(gmm_predicted_test_class,test_labels,0)[1]\n",
    "print \"Unseen Class F1 Score: \", calculate_unseen_class_f1score(gmm_predicted_test_class,test_labels,0)[2]\n"
   ]
  },
  {
   "cell_type": "code",
   "execution_count": 69,
   "metadata": {},
   "outputs": [],
   "source": [
    "#print float(np.bincount(sorted(gmm_predicted_test_class[unseen_class_indices]))[0]), \\\n",
    "#    sum(np.isin(test_labels, missing_class).astype(int))\n",
    "#print float(np.bincount(sorted(gmm_predicted_test_class[unseen_class_indices]))[0])/sum(np.isin(test_labels, missing_class).astype(int))"
   ]
  },
  {
   "cell_type": "code",
   "execution_count": 74,
   "metadata": {},
   "outputs": [],
   "source": [
    "#print np.bincount(gmm_predicted_test_class)\n",
    "pred_class_indices = (gmm_predicted_test_class==0).nonzero()[0]\n",
    "#print len(pred_class_indices)\n",
    "#print \"Composition of predicted Unseen Class in terms of actual test labels\",np.bincount(orig_test_labels[pred_class_indices])"
   ]
  },
  {
   "cell_type": "code",
   "execution_count": 75,
   "metadata": {},
   "outputs": [],
   "source": [
    "#print np.bincount(orig_test_labels[pred_class_indices])"
   ]
  },
  {
   "cell_type": "code",
   "execution_count": 76,
   "metadata": {},
   "outputs": [
    {
     "name": "stdout",
     "output_type": "stream",
     "text": [
      "Homogeneity: 0.063\n",
      "Completeness: 0.064\n",
      "V-measure: 0.063\n",
      "Adjusted Rand-Index: 0.025\n",
      "Silhouette Coefficient: -0.045\n",
      "fowlkes_mallows_score: 0.207\n"
     ]
    }
   ],
   "source": [
    "print(\"Homogeneity: %0.3f\" % metrics.homogeneity_score(df_test['label'], gmm_predicted_test_class))\n",
    "print(\"Completeness: %0.3f\" % metrics.completeness_score(df_test['label'], gmm_predicted_test_class))\n",
    "print(\"V-measure: %0.3f\" % metrics.v_measure_score(df_test['label'], gmm_predicted_test_class))\n",
    "print(\"Adjusted Rand-Index: %.3f\"\n",
    "      % metrics.adjusted_rand_score(df_test['label'], gmm_predicted_test_class))\n",
    "print(\"Silhouette Coefficient: %0.3f\"\n",
    "      % metrics.silhouette_score(lsa_test, gmm_predicted_test_class, sample_size=1000))\n",
    "print (\"fowlkes_mallows_score: %.3f\"\n",
    "      % metrics.fowlkes_mallows_score(df_test['label'], gmm_predicted_test_class))"
   ]
  },
  {
   "cell_type": "markdown",
   "metadata": {},
   "source": [
    "# Further Clustering Unseen Class"
   ]
  },
  {
   "cell_type": "code",
   "execution_count": 77,
   "metadata": {},
   "outputs": [],
   "source": [
    "predicted_unseen_class_lsa= lsa_test[pred_class_indices]"
   ]
  },
  {
   "cell_type": "code",
   "execution_count": 79,
   "metadata": {},
   "outputs": [
    {
     "name": "stderr",
     "output_type": "stream",
     "text": [
      "/home/svaradarajan1982/anaconda2/lib/python2.7/site-packages/sklearn/mixture/base.py:237: ConvergenceWarning: Initialization 1 did not converge. Try different init parameters, or increase max_iter, tol or check for degenerate data.\n",
      "  % (init + 1), ConvergenceWarning)\n"
     ]
    },
    {
     "name": "stdout",
     "output_type": "stream",
     "text": [
      "fowlkes_mallows_score: 0.345\n"
     ]
    },
    {
     "data": {
      "image/png": "[encoded data removed]",
      "text/plain": [
       "<matplotlib.figure.Figure at 0x7f73f8731a10>"
      ]
     },
     "metadata": {},
     "output_type": "display_data"
    },
    {
     "name": "stdout",
     "output_type": "stream",
     "text": [
      "fowlkes_mallows_score: 0.424\n"
     ]
    },
    {
     "data": {
      "image/png": "[encoded data removed]",
      "text/plain": [
       "<matplotlib.figure.Figure at 0x7f73eff7a7d0>"
      ]
     },
     "metadata": {},
     "output_type": "display_data"
    },
    {
     "name": "stdout",
     "output_type": "stream",
     "text": [
      "fowlkes_mallows_score: 0.376\n"
     ]
    },
    {
     "data": {
      "image/png": "[encoded data removed]",
      "text/plain": [
       "<matplotlib.figure.Figure at 0x7f73eff42150>"
      ]
     },
     "metadata": {},
     "output_type": "display_data"
    },
    {
     "name": "stdout",
     "output_type": "stream",
     "text": [
      "fowlkes_mallows_score: 0.408\n"
     ]
    },
    {
     "data": {
      "image/png": "[encoded data removed]",
      "text/plain": [
       "<matplotlib.figure.Figure at 0x7f73efd4f9d0>"
      ]
     },
     "metadata": {},
     "output_type": "display_data"
    }
   ],
   "source": [
    "from sklearn.mixture import BayesianGaussianMixture\n",
    "\n",
    "c_var = ['full', 'tied', 'diag', 'spherical']\n",
    "n_components=2\n",
    "models = [BayesianGaussianMixture(n_components, covariance_type=c, init_params='random').fit(predicted_unseen_class_lsa)\n",
    "          for c in c_var]\n",
    "\n",
    "for m in range(len(models)):\n",
    "    plt.title(\"Model with Covariance type: \" + str(c_var[m]))\n",
    "    plt.hist(models[m].predict(predicted_unseen_class_lsa))\n",
    "    pred_ls = models[m].predict(predicted_unseen_class_lsa)\n",
    "    print (\"fowlkes_mallows_score: %.3f\"\n",
    "      % metrics.fowlkes_mallows_score(pred_ls, orig_test_labels[pred_class_indices]))\n",
    "    plt.show()\n",
    "#gmm2_model."
   ]
  },
  {
   "cell_type": "code",
   "execution_count": null,
   "metadata": {
    "collapsed": true
   },
   "outputs": [],
   "source": []
  }
 ],
 "metadata": {
  "kernelspec": {
   "display_name": "Python 2",
   "language": "python",
   "name": "python2"
  },
  "language_info": {
   "codemirror_mode": {
    "name": "ipython",
    "version": 2
   },
   "file_extension": ".py",
   "mimetype": "text/x-python",
   "name": "python",
   "nbconvert_exporter": "python",
   "pygments_lexer": "ipython2",
   "version": "2.7.14"
  }
 },
 "nbformat": 4,
 "nbformat_minor": 2
}
