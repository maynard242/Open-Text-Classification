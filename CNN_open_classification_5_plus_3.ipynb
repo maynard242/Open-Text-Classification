{
 "cells": [
  {
   "cell_type": "markdown",
   "metadata": {},
   "source": [
    "## Open Classification with CNN model"
   ]
  },
  {
   "cell_type": "code",
   "execution_count": 102,
   "metadata": {},
   "outputs": [
    {
     "data": {
      "text/plain": [
       "<module 'shared_lib.utils' from 'shared_lib/utils.pyc'>"
      ]
     },
     "execution_count": 102,
     "metadata": {},
     "output_type": "execute_result"
    }
   ],
   "source": [
    "# This tells matplotlib not to try opening a new window for each plot.\n",
    "%matplotlib inline\n",
    "import matplotlib.pyplot as plt\n",
    "\n",
    "import os, sys, re, json, time, shutil\n",
    "import itertools, collections\n",
    "from IPython.display import display, HTML\n",
    "from collections import Counter\n",
    "\n",
    "# NLTK for NLP utils and corpora\n",
    "import nltk\n",
    "from sklearn.metrics import classification_report, accuracy_score\n",
    "\n",
    "# NumPy and TensorFlow\n",
    "import numpy as np\n",
    "import tensorflow as tf\n",
    "assert(tf.__version__.startswith(\"1.1\"))\n",
    "\n",
    "# utils.pretty_print_matrix uses Pandas. Configure float format here.\n",
    "import pandas as pd\n",
    "pd.set_option('float_format', lambda f: \"{0:.04f}\".format(f))\n",
    "\n",
    "# Helper libraries\n",
    "from shared_lib import utils, vocabulary, tf_embed_viz\n",
    "\n",
    "import copy\n",
    "\n",
    "# Import model\n",
    "#import cnnlm\n",
    "reload(utils)"
   ]
  },
  {
   "cell_type": "code",
   "execution_count": 103,
   "metadata": {},
   "outputs": [],
   "source": [
    "## Load SKlearn libraries\n",
    "from sklearn.ensemble import RandomForestClassifier, GradientBoostingClassifier\n",
    "from sklearn.multiclass import OneVsRestClassifier\n",
    "from sklearn.linear_model import LogisticRegression\n",
    "from sklearn.calibration import CalibratedClassifierCV\n",
    "from sklearn.svm import SVC\n",
    "from sklearn.grid_search import GridSearchCV\n",
    "from sklearn import metrics\n",
    "from sklearn.metrics import f1_score"
   ]
  },
  {
   "cell_type": "code",
   "execution_count": 104,
   "metadata": {},
   "outputs": [],
   "source": [
    "DATA_DIR = 'Data_Set/'\n",
    "PROJECT_PATH = os.getcwd()\n",
    "PROJECT_DATA = os.path.join(PROJECT_PATH, DATA_DIR)"
   ]
  },
  {
   "cell_type": "markdown",
   "metadata": {},
   "source": [
    "## Load Data Set"
   ]
  },
  {
   "cell_type": "code",
   "execution_count": 105,
   "metadata": {},
   "outputs": [
    {
     "name": "stdout",
     "output_type": "stream",
     "text": [
      "class: 0\t = alt.atheism\n",
      "class: 1\t = comp.graphics\n",
      "class: 2\t = comp.os.ms-windows.misc\n",
      "class: 3\t = comp.sys.ibm.pc.hardware\n",
      "class: 4\t = comp.sys.mac.hardware\n",
      "class: 5\t = comp.windows.x\n",
      "class: 6\t = misc.forsale\n",
      "class: 7\t = rec.autos\n",
      "class: 8\t = rec.motorcycles\n",
      "class: 9\t = rec.sport.baseball\n",
      "class: 10\t = rec.sport.hockey\n",
      "class: 11\t = sci.crypt\n",
      "class: 12\t = sci.electronics\n",
      "class: 13\t = sci.med\n",
      "class: 14\t = sci.space\n",
      "class: 15\t = soc.religion.christian\n",
      "class: 16\t = talk.politics.guns\n",
      "class: 17\t = talk.politics.mideast\n",
      "class: 18\t = talk.politics.misc\n",
      "class: 19\t = talk.religion.misc\n"
     ]
    }
   ],
   "source": [
    "# SK-learn library for importing the newsgroup data.\n",
    "from sklearn.datasets import fetch_20newsgroups\n",
    "\n",
    "# Get newsgroup data\n",
    "newsgroup_data_all = fetch_20newsgroups(subset = 'all', remove=('headers', 'footers', 'quotes'))\n",
    "all_data, all_labels = newsgroup_data_all.data, newsgroup_data_all.target\n",
    "\n",
    "# List of all the class labels\n",
    "label_list = list(newsgroup_data_all.target_names)\n",
    "\n",
    "# Print the class labels\n",
    "i = 0\n",
    "for label in label_list:\n",
    "    print \"class: %i\\t = %s\" %(i, label)\n",
    "    i += 1"
   ]
  },
  {
   "cell_type": "code",
   "execution_count": 106,
   "metadata": {},
   "outputs": [
    {
     "name": "stdout",
     "output_type": "stream",
     "text": [
      "newsgroup_all.txt\n"
     ]
    }
   ],
   "source": [
    "from nltk.corpus import PlaintextCorpusReader\n",
    "\n",
    "f = open('./Data_Set/newsgroup_prep/newsgroup_all.txt', 'w') \n",
    "for doc in all_data:\n",
    "    # Clean up str\n",
    "    doc = utils.clean_str((doc).encode('utf-8'))\n",
    "    # remove stop words and do stemming optionaly\n",
    "    doc = utils.preprocess_stop_stem(doc, stop=True, sent=True, stem=False)\n",
    "    f.write(\"%s\\n\" %(doc))\n",
    "f.close()\n",
    "\n",
    "# RegEx or list of file names\n",
    "data_20newsgroup = os.path.join(PROJECT_DATA, 'newsgroup_prep/')\n",
    "\n",
    "corpus = PlaintextCorpusReader(data_20newsgroup, 'newsgroup_all.txt')\n",
    "\n",
    "for infile in sorted(corpus.fileids()):\n",
    "    print infile # The fileids of each file."
   ]
  },
  {
   "cell_type": "code",
   "execution_count": 107,
   "metadata": {},
   "outputs": [
    {
     "name": "stdout",
     "output_type": "stream",
     "text": [
      "Vocabulary: 20000 words\n"
     ]
    }
   ],
   "source": [
    "V = 20000\n",
    "vocab = vocabulary.Vocabulary((utils.canonicalize_word(w) \n",
    "                               for w in utils.flatten(corpus.sents())),\n",
    "                               size = V)\n",
    "print \"Vocabulary: %d words\" % vocab.size"
   ]
  },
  {
   "cell_type": "code",
   "execution_count": 108,
   "metadata": {},
   "outputs": [
    {
     "name": "stdout",
     "output_type": "stream",
     "text": [
      "Randomly Select Classes:  ['comp.windows.x', 'talk.politics.mideast', 'comp.sys.ibm.pc.hardware', 'sci.crypt', 'comp.os.ms-windows.misc', 'comp.sys.mac.hardware', 'sci.electronics', 'talk.politics.guns']\n",
      "[0 1 2 3 4 5 6 7]\n"
     ]
    }
   ],
   "source": [
    "# Select training and test data based on the number of classes\n",
    "# Including randomization option\n",
    "import random\n",
    "from random import randint\n",
    "random.seed(8)\n",
    "\n",
    "num_class = 8\n",
    "randomize = True\n",
    "\n",
    "if randomize == True:\n",
    "    label_idxs = []\n",
    "    label_idxs = random.sample(range(1, 19), num_class)\n",
    "else:\n",
    "    label_idxs = range(num_class)\n",
    "\n",
    "select_classes = [label_list[i] for i in label_idxs]\n",
    "print \"Randomly Select Classes: \", select_classes\n",
    "\n",
    "newsgroups_all = fetch_20newsgroups(subset='all', remove=('headers', 'footers', 'quotes'),\n",
    "                                    categories=select_classes)\n",
    "\n",
    "all_data, all_labels = newsgroups_all.data, newsgroups_all.target\n",
    "print np.unique(all_labels)"
   ]
  },
  {
   "cell_type": "code",
   "execution_count": 109,
   "metadata": {},
   "outputs": [
    {
     "name": "stdout",
     "output_type": "stream",
     "text": [
      "Loaded 7743 docs (2.36154e+07 tokens)\n",
      "Training set: 6194 docs (18888526 tokens)\n",
      "Test set: 1549 docs (4726834 tokens)\n"
     ]
    }
   ],
   "source": [
    "doc_length = 500\n",
    "\n",
    "# Preprocess data\n",
    "# Cleaning special characters\n",
    "# Cut or pad based on document length\n",
    "all_docs = utils.preprocess_doc(all_data, length = doc_length)\n",
    "\n",
    "# Split total data set to training and test set\n",
    "train_docs, train_labels, test_docs, test_labels = utils.get_train_test_docs(all_docs, \n",
    "                                                                             all_labels, \n",
    "                                                                             split = 0.8, \n",
    "                                                                             shuffle = True)\n",
    "orig_test_labels = copy.copy(test_labels)"
   ]
  },
  {
   "cell_type": "code",
   "execution_count": 110,
   "metadata": {},
   "outputs": [
    {
     "name": "stdout",
     "output_type": "stream",
     "text": [
      "Input Training Docs shape: (6194, 500) should equal to (batch_size, doc_length)\n",
      "Input Training labels shape: (6194, 8) should equal to (batch_size, num_class)\n",
      "Input Testing Docs shape: (1549, 500) should equal to (batch_size, doc_length)\n",
      "Input Testing labels shape: (1549, 8) should equal to (batch_size, num_class)\n"
     ]
    }
   ],
   "source": [
    "# Tokenize documents and conver to ID\n",
    "# We tokenize each docs in the dataset and convert to vocab ID\n",
    "# matrix of batch_size x doc_length\n",
    "train_docs_ids = utils.docs_to_ids(train_docs, vocab)\n",
    "test_docs_ids = utils.docs_to_ids(test_docs, vocab)\n",
    "\n",
    "# Convert label to one-hot-code\n",
    "train_labels_oh = np.eye(num_class)[train_labels]\n",
    "test_labels_oh = np.eye(num_class)[test_labels]\n",
    "\n",
    "\n",
    "print \"Input Training Docs shape:\", train_docs_ids.shape, \"should equal to (batch_size, doc_length)\"\n",
    "print \"Input Training labels shape:\", train_labels_oh.shape, \"should equal to (batch_size, num_class)\"\n",
    "print \"Input Testing Docs shape:\", test_docs_ids.shape, \"should equal to (batch_size, doc_length)\"\n",
    "print \"Input Testing labels shape:\", test_labels_oh.shape, \"should equal to (batch_size, num_class)\""
   ]
  },
  {
   "cell_type": "markdown",
   "metadata": {},
   "source": [
    "### Load Pretrained Google Word2vec"
   ]
  },
  {
   "cell_type": "code",
   "execution_count": 111,
   "metadata": {},
   "outputs": [],
   "source": [
    "def load_google_bin(fname, vocab):\n",
    "    \"\"\"\n",
    "    Loads 300x1 word vecs from Google (Mikolov) word2vec\n",
    "    \"\"\"\n",
    "    word_vecs = {}\n",
    "    with open(fname, \"rb\") as f:\n",
    "        header = f.readline()\n",
    "        vocab_size, layer1_size = map(int, header.split())\n",
    "        print \"Google Word2vec Vocabulary Size:\", vocab_size\n",
    "        print \"Vector size:\", layer1_size\n",
    "        binary_len = np.dtype('float32').itemsize * layer1_size\n",
    "        print \"Binary Length of word vector:\", binary_len\n",
    "        for line in xrange(vocab_size):\n",
    "            word = []\n",
    "            while True: # Read 1 char a time\n",
    "                ch = f.read(1) \n",
    "                if ch == ' ': # If it is a space, a word is read, we join then to read its vector\n",
    "                    word = ''.join(word)\n",
    "                    break\n",
    "                if ch != '\\n': # If it is not \\n, grouping character\n",
    "                    word.append(ch) \n",
    "            if word in vocab.wordset: # If a word in the 20 newsgroup vocab, get its vector\n",
    "                word_vecs[word] = np.fromstring(f.read(binary_len), dtype='float32')  \n",
    "            else:\n",
    "                f.read(binary_len)\n",
    "    f.close()\n",
    "    return word_vecs"
   ]
  },
  {
   "cell_type": "code",
   "execution_count": 112,
   "metadata": {},
   "outputs": [
    {
     "name": "stdout",
     "output_type": "stream",
     "text": [
      "Google Word2vec Vocabulary Size: 3000000\n",
      "Vector size: 300\n",
      "Binary Length of word vector: 1200\n"
     ]
    }
   ],
   "source": [
    "google_word2vec = load_google_bin('./google_word2vec/GoogleNews-vectors-negative300.bin', vocab)"
   ]
  },
  {
   "cell_type": "code",
   "execution_count": 113,
   "metadata": {},
   "outputs": [
    {
     "name": "stdout",
     "output_type": "stream",
     "text": [
      "Total Number of vocabulary in 20newsgroup: 20000\n",
      "Total matched vocabulary from google word2vec: 16555\n",
      "--- Print a sample of google_word2vec vocabulary ---\n",
      "Word: raining \t\t Vector: [ 0.02331543  0.05004883 -0.00059891] ...\n",
      "Word: writings \t\t Vector: [ 0.18945312  0.2109375   0.20507812] ...\n",
      "Word: divinely \t\t Vector: [-0.02783203 -0.40820312 -0.01037598] ...\n",
      "Word: foul \t\t Vector: [ 0.18847656 -0.28710938  0.33007812] ...\n",
      "Word: four \t\t Vector: [ 0.0859375  -0.07275391  0.01672363] ...\n",
      "Word: gag \t\t Vector: [ 0.14648438 -0.08203125 -0.00897217] ...\n",
      "Word: prefix \t\t Vector: [ 0.34570312  0.1640625   0.11425781] ...\n",
      "Word: woods \t\t Vector: [ 0.11328125 -0.01165771 -0.20800781] ...\n",
      "Word: verses \t\t Vector: [ 0.28710938  0.15820312  0.23828125] ...\n",
      "Word: hanging \t\t Vector: [ 0.08984375  0.13769531 -0.14941406] ...\n",
      "Word: woody \t\t Vector: [ 0.08251953  0.44140625  0.07421875] ...\n"
     ]
    }
   ],
   "source": [
    "print \"Total Number of vocabulary in 20newsgroup:\", vocab.size\n",
    "print \"Total matched vocabulary from google word2vec:\", len(google_word2vec.keys())\n",
    "print \"--- Print a sample of google_word2vec vocabulary ---\"\n",
    "i = 0\n",
    "for k, v in google_word2vec.iteritems():\n",
    "    if i <= 10:\n",
    "        print \"Word: %s \\t\\t Vector: %s ...\" %(k, v[:3])\n",
    "    i += 1"
   ]
  },
  {
   "cell_type": "code",
   "execution_count": 114,
   "metadata": {},
   "outputs": [],
   "source": [
    "def add_unknown_words(google_word2vec, vocab, k=300):\n",
    "    for word in vocab.wordset:\n",
    "        if word not in google_word2vec:\n",
    "            google_word2vec[word] = np.random.uniform(-0.25,0.25,k)  "
   ]
  },
  {
   "cell_type": "code",
   "execution_count": 115,
   "metadata": {},
   "outputs": [
    {
     "name": "stdout",
     "output_type": "stream",
     "text": [
      "Total Number of vocabulary in 20newsgroup: 20000\n",
      "Total matched vocabulary from google word2vec: 20000\n",
      "Pre-trained word2vec size (20000, 300)\n"
     ]
    }
   ],
   "source": [
    "add_unknown_words(google_word2vec, vocab, k=300)\n",
    "print \"Total Number of vocabulary in 20newsgroup:\", vocab.size\n",
    "print \"Total matched vocabulary from google word2vec:\", len(google_word2vec.keys())\n",
    "pt_word2vec = np.array(google_word2vec.values())\n",
    "print \"Pre-trained word2vec size\", pt_word2vec.shape"
   ]
  },
  {
   "cell_type": "markdown",
   "metadata": {},
   "source": [
    "### Define CNN Graph"
   ]
  },
  {
   "cell_type": "code",
   "execution_count": 116,
   "metadata": {},
   "outputs": [],
   "source": [
    "doc_length = 500 # s\n",
    "num_classes = num_class # M\n",
    "vocab_size = 20000\n",
    "embedding_size = 300 # d\n",
    "embedding_train = False # We use pretrained word2vec\n",
    "filter_sizes = [3, 4, 5]\n",
    "num_filters = 150\n",
    "l2_reg_lambda = 0.5\n",
    "dropout_prob = 1.0"
   ]
  },
  {
   "cell_type": "code",
   "execution_count": 117,
   "metadata": {},
   "outputs": [],
   "source": [
    "# Placeholders for input, output and dropout\n",
    "# x_: Document, Size: (batch, document_length) word in indice\n",
    "# y_: Classes, Size: (batch, num_of_classes)\n",
    "# dropout_keep_prob: Dropout regularization parameter\n",
    "x_ = tf.placeholder(tf.int32, [None, doc_length], name=\"x\")\n",
    "y_ = tf.placeholder(tf.float32, [None, num_classes], name=\"y\")\n",
    "dropout_keep_prob = tf.placeholder(tf.float32, name=\"dropout_keep_prob\")\n",
    "\n",
    "# Keeping track of l2 regularization loss (optional)\n",
    "l2_loss = tf.constant(0.0)\n",
    "\n",
    "# Embedding layer (Train embedding layer)\n",
    "# Need different implementation if use google pretrained word2vec\n",
    "with tf.name_scope(\"Embedding_Layer\"):\n",
    "    # The vocab to vector table for lookup (to be trained or pre-trained)\n",
    "    if embedding_train:\n",
    "        C_ = tf.Variable(tf.random_uniform([vocab_size, embedding_size], -1.0, 1.0), name=\"C\")\n",
    "    else:\n",
    "        C_ = tf.placeholder(tf.float32, [vocab_size, embedding_size], name=\"C\")\n",
    "\n",
    "    # Embedding output needs to be in size: (batch, doc_length, embedding_size, 1)\n",
    "    # Lookup gives (batch, doc_length, embedding_size)\n",
    "    # Therefore, we need to expand the dimension to 4D to work with conv2d\n",
    "    embedded_out = tf.expand_dims(tf.nn.embedding_lookup(C_, x_), -1)\n",
    "\n",
    "# Create a convolution + maxpool layer for each filter size\n",
    "pooled_outputs = []\n",
    "for i, filter_size in enumerate(filter_sizes):\n",
    "    with tf.name_scope(\"conv-maxpool-%s\" % filter_size):\n",
    "\n",
    "        # Convolution Layer\n",
    "        # input shape: (batch, height(doc length, width(embedding size), channels(1) )\n",
    "        # filter shape: (filter_height, filter width(same as embedding size), in_channel, out_channels)\n",
    "        # in_channel = 1 for our data\n",
    "        # out_channel = num_filters\n",
    "        filter_shape = [filter_size, embedding_size, 1, num_filters]\n",
    "\n",
    "        # To experiment with normal distribution\n",
    "        W_ = tf.Variable(tf.truncated_normal(filter_shape, stddev=0.1), name=\"W\")\n",
    "        b_ = tf.Variable(tf.constant(0.1, shape=[num_filters]), name=\"b\")\n",
    "\n",
    "        # \"VALID\" padding means no padding at edge\n",
    "        # Return shape (batch, height(doc length, width(embedding size), 1)\n",
    "        conv_ = tf.nn.conv2d(embedded_out, W_, strides=[1, 1, 1, 1], padding=\"VALID\", name=\"conv\")\n",
    "\n",
    "        # Apply nonlinearity using Relu (train fasster than tanh)\n",
    "        # Return shape (batch, height(doc length, 1, 1)\n",
    "        h_ = tf.nn.relu(tf.nn.bias_add(conv_, b_), name=\"relu\")\n",
    "\n",
    "        # Maxpooling over the outputs\n",
    "        # ksize is window for pooling, we took 1 value for width direction\n",
    "        # For height, apply to each convolution steps to stripe the whole input matrix.\n",
    "        # Return shape (1, doc_length-filter_size+1, 1, 1)\n",
    "        pooled = tf.nn.max_pool(h_, \n",
    "                                ksize=[1, doc_length - filter_size + 1, 1, 1],\n",
    "                                strides=[1, 1, 1, 1], \n",
    "                                padding='VALID', \n",
    "                                name=\"pool\")\n",
    "        pooled_outputs.append(pooled)\n",
    "\n",
    "# Combine all the pooled features\n",
    "# find the total number of filters = num_of_filters * num_of_region\n",
    "# If we use [2, 3, 4] and 2 filter per region, we have 3 * 2 = 6 filters\n",
    "num_filters_total = num_filters * len(filter_sizes)\n",
    "\n",
    "# combine pooling output to feature vectors\n",
    "# h_pool_flat in shape of (batch_size, ? , num_filters_total)\n",
    "h_pool = tf.concat(pooled_outputs, 3)\n",
    "h_pool_flat = tf.reshape(h_pool, [-1, num_filters_total])\n",
    "\n",
    "# Add dropout\n",
    "with tf.name_scope(\"dropout\"):\n",
    "    h_drop = tf.nn.dropout(h_pool_flat, dropout_keep_prob)\n",
    "\n",
    "# Output Layer: Softmax\n",
    "# Final (unnormalized) scores and predictions\n",
    "# Do we need to normalize?\n",
    "with tf.name_scope(\"Output_layer\"):\n",
    "    Z_ = tf.Variable(tf.random_uniform([num_filters_total, num_classes], -1.0, 1.0), name = \"Z\")\n",
    "    b_output_ = tf.Variable(tf.constant(0.1, shape=[num_classes]), name=\"b_output\")\n",
    "    logits_ = tf.add(tf.matmul(h_drop, Z_), b_output_, name=\"logits\")\n",
    "\n",
    "    # L2 loss\n",
    "    l2_loss += tf.nn.l2_loss(Z_)\n",
    "    l2_loss += tf.nn.l2_loss(b_)\n",
    "\n",
    "    #scores = tf.nn.xw_plus_b(h_drop, W, b, name=\"scores\")\n",
    "    predictions_ = tf.argmax(logits_, 1, name=\"predictions\")\n",
    "\n",
    "# Calculate mean cross-entropy loss\n",
    "with tf.name_scope(\"cost_function\"):\n",
    "    per_example_losses_ = tf.nn.softmax_cross_entropy_with_logits(logits=logits_, \n",
    "                                                                 labels=y_,\n",
    "                                                                 name=\"per_example_loss\")\n",
    "    loss_ = tf.reduce_mean(per_example_losses_) + l2_reg_lambda * l2_loss\n",
    "\n",
    "# Accuracy\n",
    "with tf.name_scope(\"accuracy\"):\n",
    "    correct_predictions_ = tf.equal(predictions_, tf.argmax(y_, 1))\n",
    "    accuracy_ = tf.reduce_mean(tf.cast(correct_predictions_, \"float\"), name=\"accuracy\")\n",
    "\n",
    "with tf.name_scope(\"Training\"):\n",
    "    alpha_ = tf.placeholder(tf.float32, name=\"learning_rate\")\n",
    "    optimizer_ = tf.train.AdagradOptimizer(alpha_)\n",
    "    #optimizer_ = tf.train.AdamOptimizer(alpha_)\n",
    "    train_step_ = optimizer_.minimize(loss_)"
   ]
  },
  {
   "cell_type": "markdown",
   "metadata": {},
   "source": [
    "## Load model (5 labeled + 1 unseen)"
   ]
  },
  {
   "cell_type": "code",
   "execution_count": 118,
   "metadata": {
    "scrolled": false
   },
   "outputs": [
    {
     "name": "stdout",
     "output_type": "stream",
     "text": [
      "INFO:tensorflow:Restoring parameters from ./CNN_5p3_model/model\n",
      "Model restored.\n"
     ]
    }
   ],
   "source": [
    "saver = tf.train.Saver()\n",
    "with tf.Session() as sess:\n",
    "    # Restore variables from disk.\n",
    "    saver.restore(sess, \"./CNN_5p3_model/model\")\n",
    "    print(\"Model restored.\")\n",
    "    feed_dict_train = {x_:train_docs_ids,\n",
    "                   y_:train_labels_oh,\n",
    "                   C_:pt_word2vec,\n",
    "                   dropout_keep_prob:dropout_prob}\n",
    "    train_vectors = sess.run([h_drop], feed_dict=feed_dict_train)[0]\n",
    "    feed_dict_test = {x_:test_docs_ids,\n",
    "                   y_:test_labels_oh,\n",
    "                   C_:pt_word2vec,\n",
    "                   dropout_keep_prob:dropout_prob}\n",
    "    test_vectors = sess.run([h_drop], feed_dict=feed_dict_test)[0]"
   ]
  },
  {
   "cell_type": "code",
   "execution_count": 119,
   "metadata": {},
   "outputs": [
    {
     "name": "stdout",
     "output_type": "stream",
     "text": [
      "train_vector shape:  (6194, 450)\n",
      "test_vector shape:  (1549, 450)\n",
      "train_label shape:  (6194,)\n",
      "test_label shape:  (1549,)\n"
     ]
    }
   ],
   "source": [
    "print \"train_vector shape: \", train_vectors.shape\n",
    "print \"test_vector shape: \", test_vectors.shape\n",
    "print \"train_label shape: \", train_labels.shape\n",
    "print \"test_label shape: \", test_labels.shape"
   ]
  },
  {
   "cell_type": "markdown",
   "metadata": {},
   "source": [
    "## 1-vs-Rest Method"
   ]
  },
  {
   "cell_type": "code",
   "execution_count": 120,
   "metadata": {},
   "outputs": [
    {
     "name": "stdout",
     "output_type": "stream",
     "text": [
      "(6194, 450)\n",
      "(3103, 450)\n",
      "(3103,)\n",
      "(1239, 450)\n",
      "(1239,)\n",
      "(752, 450)\n",
      "(752,)\n",
      "(1549, 450)\n",
      "(1549,)\n",
      "[1 3 4 6 7]\n",
      "[0 1 2 3 4 5 6 7]\n",
      "[1 3 4 6 7]\n",
      "[0 1 2 3 4 5 6 7]\n"
     ]
    }
   ],
   "source": [
    "train_valid_cut = int(len(train_vectors)*0.8)\n",
    "valid_final_vectors=train_vectors[train_valid_cut:]\n",
    "valid_final_labels = train_labels[train_valid_cut:]\n",
    "\n",
    "train_new_vectors = train_vectors[:train_valid_cut]\n",
    "train_new_labels = train_labels[:train_valid_cut]\n",
    "\n",
    "missing_class = np.array([0, 2, 5])\n",
    "missing_class_idx = np.where(np.isin(train_new_labels, missing_class))[0]\n",
    "train_final_vectors = [train_new_vectors[i] for i in range(len(train_new_vectors)) if i not in missing_class_idx]\n",
    "train_final_labels = [train_new_labels[i] for i in range(len(train_new_labels)) if i not in missing_class_idx]\n",
    "\n",
    "val_missing_class_idx = np.where(np.isin(valid_final_labels, missing_class))[0]\n",
    "valid_calib_vectors = [valid_final_vectors[i] for i in range(len(valid_final_vectors)) if i not in val_missing_class_idx]\n",
    "valid_calib_labels = [valid_final_labels[i] for i in range(len(valid_final_labels)) if i not in val_missing_class_idx]\n",
    "\n",
    "\n",
    "\n",
    "print np.array(train_vectors).shape\n",
    "print np.array(train_final_vectors).shape\n",
    "print np.array(train_final_labels).shape\n",
    "\n",
    "print np.array(valid_final_vectors).shape\n",
    "print np.array(valid_final_labels).shape\n",
    "\n",
    "print np.array(valid_calib_vectors).shape\n",
    "print np.array(valid_calib_labels).shape\n",
    "\n",
    "\n",
    "print np.array(test_vectors).shape\n",
    "print np.array(test_labels).shape\n",
    "print np.unique(train_final_labels)\n",
    "print np.unique(valid_final_labels)\n",
    "print np.unique(valid_calib_labels)\n",
    "print np.unique(test_labels)"
   ]
  },
  {
   "cell_type": "code",
   "execution_count": 121,
   "metadata": {},
   "outputs": [
    {
     "name": "stdout",
     "output_type": "stream",
     "text": [
      "--- 1-vs-Rest SVM ---\n",
      "Fitting 3 folds for each of 36 candidates, totalling 108 fits\n"
     ]
    },
    {
     "name": "stderr",
     "output_type": "stream",
     "text": [
      "[Parallel(n_jobs=1)]: Done 108 out of 108 | elapsed: 13.5min finished\n"
     ]
    },
    {
     "name": "stdout",
     "output_type": "stream",
     "text": [
      "0.511030735581\n",
      "{'estimator__kernel': 'linear', 'estimator__C': 0.5, 'estimator__degree': 1}\n"
     ]
    }
   ],
   "source": [
    "# Method SVM 1-vs-Rest\n",
    "clf_svc = OneVsRestClassifier(SVC(probability=True))\n",
    "clf_svc.fit(train_final_vectors, train_final_labels)\n",
    "\n",
    "parameters_SVC = {\n",
    "    \"estimator__C\": [0.5, 1, 2],\n",
    "    \"estimator__kernel\": [\"poly\",\"rbf\", \"sigmoid\", \"linear\"],\n",
    "    \"estimator__degree\":[1, 2, 3],\n",
    "}\n",
    "\n",
    "print \"--- 1-vs-Rest SVM ---\"\n",
    "mod_svc = GridSearchCV(estimator=clf_svc, param_grid=parameters_SVC, scoring='f1_macro', verbose=True)\n",
    "mod_svc.fit(valid_final_vectors, valid_final_labels)\n",
    "print mod_svc.best_score_ \n",
    "print mod_svc.best_params_"
   ]
  },
  {
   "cell_type": "code",
   "execution_count": 122,
   "metadata": {},
   "outputs": [
    {
     "name": "stdout",
     "output_type": "stream",
     "text": [
      "[1 3 4 6 7]\n",
      "[0 1 2 3 4 5 6 7]\n"
     ]
    }
   ],
   "source": [
    "print np.unique(train_final_labels)\n",
    "print np.unique(test_labels)"
   ]
  },
  {
   "cell_type": "code",
   "execution_count": 123,
   "metadata": {},
   "outputs": [
    {
     "name": "stderr",
     "output_type": "stream",
     "text": [
      "/home/nlp/anaconda2/lib/python2.7/site-packages/sklearn/calibration.py:435: RuntimeWarning: overflow encountered in exp\n",
      "  E = np.exp(AB[0] * F + AB[1])\n",
      "/home/nlp/anaconda2/lib/python2.7/site-packages/sklearn/calibration.py:445: RuntimeWarning: overflow encountered in exp\n",
      "  E = np.exp(AB[0] * F + AB[1])\n",
      "/home/nlp/anaconda2/lib/python2.7/site-packages/sklearn/calibration.py:447: RuntimeWarning: invalid value encountered in multiply\n",
      "  TEP_minus_T1P = P * (T * E - T1)\n"
     ]
    }
   ],
   "source": [
    "clf_svc = OneVsRestClassifier(SVC(probability=True, \n",
    "                              kernel=mod_svc.best_params_['estimator__kernel'], \n",
    "                              C=mod_svc.best_params_['estimator__C'], \n",
    "                              degree=mod_svc.best_params_['estimator__degree']))\n",
    "\n",
    "clf_svc.fit(train_final_vectors, train_final_labels)\n",
    "\n",
    "## Calibrate prob\n",
    "sig_clf_svc = CalibratedClassifierCV(clf_svc, method=\"sigmoid\", cv=\"prefit\")\n",
    "sig_clf_svc.fit(valid_final_vectors, valid_final_labels)\n",
    "\n",
    "sig_clf_svc_probs = sig_clf_svc.predict_proba(test_vectors)\n",
    "\n",
    "\n",
    "# Manual Calibration\n",
    "clf_svc_probs = clf_svc.predict_proba(test_vectors)\n",
    "\n",
    "class_max_prob_lists = np.array([max(clf_svc_probs[:,val]) for val in range(len(clf_svc_probs[0]))])\n",
    "class_min_prob_lists = np.array([min(clf_svc_probs[:,val]) for val in range(len(clf_svc_probs[0]))])\n",
    "delta = class_max_prob_lists - class_min_prob_lists\n",
    "\n",
    "\n",
    "# Normalized for test vector\n",
    "scaled_calib_svc_probs = np.divide(clf_svc_probs,delta)"
   ]
  },
  {
   "cell_type": "code",
   "execution_count": 124,
   "metadata": {},
   "outputs": [
    {
     "data": {
      "image/png": "[encoded data removed]",
      "text/plain": [
       "<matplotlib.figure.Figure at 0x7f6e1da5c490>"
      ]
     },
     "metadata": {},
     "output_type": "display_data"
    }
   ],
   "source": [
    "x = np.amax(scaled_calib_svc_probs, axis = 1)\n",
    "plt.figure(figsize = (12, 8))\n",
    "n, bins, patches = plt.hist(x, 50)\n",
    "plt.title(\"max prob dist\")\n",
    "plt.show()"
   ]
  },
  {
   "cell_type": "code",
   "execution_count": 125,
   "metadata": {},
   "outputs": [
    {
     "name": "stdout",
     "output_type": "stream",
     "text": [
      "[1 3 4 6 7]\n",
      "[1 3 4 6 7]\n",
      "             precision    recall  f1-score   support\n",
      "\n",
      "          0       0.00      0.00      0.00       194\n",
      "          1       0.26      0.64      0.37       206\n",
      "          2       0.00      0.00      0.00       199\n",
      "          3       0.38      0.74      0.51       187\n",
      "          4       0.36      0.48      0.41       192\n",
      "          5       0.00      0.00      0.00       200\n",
      "          6       0.31      0.39      0.35       160\n",
      "          7       0.55      0.55      0.55       211\n",
      "\n",
      "avg / total       0.23      0.35      0.27      1549\n",
      "\n",
      "             precision    recall  f1-score   support\n",
      "\n",
      "          0       0.00      0.00      0.00       194\n",
      "          1       0.27      0.51      0.36       206\n",
      "          2       0.00      0.00      0.00       199\n",
      "          3       0.48      0.70      0.57       187\n",
      "          4       0.30      0.51      0.38       192\n",
      "          5       0.00      0.00      0.00       200\n",
      "          6       0.26      0.41      0.32       160\n",
      "          7       0.40      0.61      0.48       211\n",
      "\n",
      "avg / total       0.21      0.34      0.26      1549\n",
      "\n",
      "0.349903163331\n",
      "0.340219496449\n"
     ]
    }
   ],
   "source": [
    "preds1 = clf_svc.predict(test_vectors)\n",
    "preds2 = sig_clf_svc.predict(test_vectors)\n",
    "print np.unique(preds1)\n",
    "print np.unique(preds2)\n",
    "print classification_report(test_labels,preds1)\n",
    "print classification_report(test_labels,preds2)\n",
    "print accuracy_score(test_labels,preds1)\n",
    "print accuracy_score(test_labels,preds2)"
   ]
  },
  {
   "cell_type": "markdown",
   "metadata": {},
   "source": [
    "### To find the new class, we select a Percentile for Probability Threshold for Class Labels"
   ]
  },
  {
   "cell_type": "code",
   "execution_count": 126,
   "metadata": {},
   "outputs": [],
   "source": [
    "class_prob_percentile_85 = np.array([np.percentile(scaled_calib_svc_probs[:,val], 85.0) \n",
    "                                     for val in range(len(scaled_calib_svc_probs[0]))])\n",
    "\n",
    "test_class_preds = np.greater_equal(scaled_calib_svc_probs,class_prob_percentile_85).astype(int)\n",
    "\n",
    "# Predict the test label based on percental\n",
    "# If a data is below 80% for prob of all class, it belongs to open class\n",
    "valid_class_probs = np.multiply(scaled_calib_svc_probs, test_class_preds)\n",
    "valid_class = np.greater_equal(np.ceil(valid_class_probs),1).astype(int)\n",
    "predicted_multinomial = np.multiply(valid_class, np.unique(train_final_labels))\n",
    "predicted_test_class = np.max(predicted_multinomial,axis=1)\n",
    "\n",
    "# The true unseen class index\n",
    "unseen_class_indices = np.where(np.isin(test_labels, missing_class))[0]"
   ]
  },
  {
   "cell_type": "code",
   "execution_count": 127,
   "metadata": {},
   "outputs": [
    {
     "name": "stdout",
     "output_type": "stream",
     "text": [
      "predicted test classes [0 1 3 4 6 7]\n",
      "train labels [1 3 4 6 7]\n",
      "Full list of original test labels [0 1 2 3 4 5 6 7]\n"
     ]
    }
   ],
   "source": [
    "print \"predicted test classes\", np.unique(predicted_test_class)\n",
    "print \"train labels\", np.unique(train_final_labels)\n",
    "print \"Full list of original test labels\", np.unique(orig_test_labels)"
   ]
  },
  {
   "cell_type": "code",
   "execution_count": 128,
   "metadata": {},
   "outputs": [],
   "source": [
    "import copy\n",
    "orig_valid_labels = copy.copy(valid_final_labels)\n",
    "\n",
    "missing_class_idx_test = np.where(np.isin(test_labels, missing_class))[0]\n",
    "missing_class_idx_val = np.where(np.isin(valid_final_labels, missing_class))[0]\n",
    "\n",
    "#print missing_class_idx_test\n",
    "#orig_test_labels = copy.copy(test_labels)\n",
    "for i in range(len(test_labels)): \n",
    "    if i in missing_class_idx_test:\n",
    "        test_labels[i] = 0\n",
    "        \n",
    "for i in range(len(valid_final_labels)): \n",
    "    if i in missing_class_idx_val:\n",
    "        valid_final_labels[i] = 0"
   ]
  },
  {
   "cell_type": "code",
   "execution_count": 129,
   "metadata": {},
   "outputs": [
    {
     "name": "stdout",
     "output_type": "stream",
     "text": [
      "             precision    recall  f1-score   support\n",
      "\n",
      "          0       0.51      0.39      0.44       593\n",
      "          1       0.35      0.39      0.37       206\n",
      "          3       0.55      0.66      0.60       187\n",
      "          4       0.40      0.42      0.41       192\n",
      "          6       0.30      0.39      0.34       160\n",
      "          7       0.52      0.57      0.55       211\n",
      "\n",
      "avg / total       0.46      0.45      0.45      1549\n",
      "\n",
      "0.450613298903\n"
     ]
    }
   ],
   "source": [
    "print classification_report(test_labels, predicted_test_class)\n",
    "print accuracy_score(test_labels, predicted_test_class)"
   ]
  },
  {
   "cell_type": "code",
   "execution_count": 130,
   "metadata": {},
   "outputs": [
    {
     "name": "stdout",
     "output_type": "stream",
     "text": [
      "[230 133   0  71  62   0  58  39]\n",
      "593\n",
      "230.0 593\n",
      "0.387858347386\n"
     ]
    }
   ],
   "source": [
    "print np.bincount(sorted(predicted_test_class[unseen_class_indices]))\n",
    "print sum(np.bincount(sorted(predicted_test_class[unseen_class_indices])))\n",
    "print float(np.bincount(sorted(predicted_test_class[unseen_class_indices]))[0]), \\\n",
    "    sum(np.isin(test_labels, missing_class).astype(int))\n",
    "print float(np.bincount(sorted(predicted_test_class[unseen_class_indices]))[0])/sum(np.isin(test_labels, \\\n",
    "                                                                                            missing_class).astype(int))"
   ]
  },
  {
   "cell_type": "markdown",
   "metadata": {},
   "source": [
    "## Clustering Method"
   ]
  },
  {
   "cell_type": "code",
   "execution_count": 131,
   "metadata": {},
   "outputs": [
    {
     "name": "stdout",
     "output_type": "stream",
     "text": [
      "(3103, 450)\n",
      "(1239, 450)\n",
      "(1549, 450)\n",
      "Size of the train dataframe: (3103, 451)\n",
      "Size of the test dataframe: (1239, 451)\n",
      "Size of the test dataframe: (1549, 451)\n",
      "3103\n"
     ]
    }
   ],
   "source": [
    "import pandas as pd\n",
    "import numpy as np\n",
    "\n",
    "train_final_vectors = np.array(train_final_vectors)\n",
    "valid_final_vectors=np.array(valid_final_vectors)\n",
    "test_vectors=np.array(test_vectors)\n",
    "print train_final_vectors.shape\n",
    "print valid_final_vectors.shape\n",
    "print test_vectors.shape\n",
    "\n",
    "\n",
    "X = train_final_vectors\n",
    "y = train_final_labels\n",
    "\n",
    "X_val = valid_final_vectors\n",
    "y_val = valid_final_labels\n",
    "\n",
    "X_test = test_vectors\n",
    "y_test = test_labels\n",
    "\n",
    "feat_cols = [ 'col'+str(i) for i in range(X.shape[1]) ]\n",
    "feat_cols_val = [ 'col'+str(i) for i in range(X_val.shape[1]) ]\n",
    "feat_cols_test = [ 'col'+str(i) for i in range(X_test.shape[1]) ]\n",
    "\n",
    "df = pd.DataFrame(X,columns=feat_cols)\n",
    "df['label'] = y\n",
    "df['label'] = df['label'].apply(lambda i: str(i))\n",
    "\n",
    "\n",
    "df_val = pd.DataFrame(X_val,columns=feat_cols_val)\n",
    "df_val['label'] = y_val\n",
    "df_val['label'] = df_val['label'].apply(lambda i: str(i))\n",
    "\n",
    "df_test = pd.DataFrame(X_test,columns=feat_cols_test)\n",
    "df_test['label'] = y_test\n",
    "df_test['label'] = df_test['label'].apply(lambda i: str(i))\n",
    "\n",
    "\n",
    "X, y = None, None\n",
    "print 'Size of the train dataframe: {}'.format(df.shape)\n",
    "print 'Size of the test dataframe: {}'.format(df_val.shape)\n",
    "print 'Size of the test dataframe: {}'.format(df_test.shape)\n",
    "\n",
    "N = df.shape[0]\n",
    "print N"
   ]
  },
  {
   "cell_type": "markdown",
   "metadata": {},
   "source": [
    "### Using Latent Semantic Analysis for dimension reduction"
   ]
  },
  {
   "cell_type": "code",
   "execution_count": 132,
   "metadata": {},
   "outputs": [
    {
     "name": "stdout",
     "output_type": "stream",
     "text": [
      "Performing dimensionality reduction using LSA\n",
      "done in 0.093847s\n",
      "Explained variance of the SVD step: 69%\n"
     ]
    }
   ],
   "source": [
    "from sklearn.pipeline import make_pipeline\n",
    "from sklearn.preprocessing import Normalizer\n",
    "import logging\n",
    "from optparse import OptionParser\n",
    "import sys\n",
    "from time import time\n",
    "import numpy as np\n",
    "from sklearn.decomposition import TruncatedSVD\n",
    "\n",
    "print(\"Performing dimensionality reduction using LSA\")\n",
    "t0 = time()\n",
    "svd = TruncatedSVD(n_components=20)\n",
    "normalizer = Normalizer(copy=False)\n",
    "lsa = make_pipeline(svd, normalizer)\n",
    "\n",
    "lsa_result = lsa.fit_transform(df[feat_cols].values)\n",
    "lsa_val = lsa.fit_transform(df_val[feat_cols].values)\n",
    "lsa_test = lsa.transform(df_test[feat_cols_test].values)\n",
    "\n",
    "print(\"done in %fs\" % (time() - t0))\n",
    "\n",
    "explained_variance = svd.explained_variance_ratio_.sum()\n",
    "print(\"Explained variance of the SVD step: {}%\".format(int(explained_variance * 100)))"
   ]
  },
  {
   "cell_type": "markdown",
   "metadata": {},
   "source": [
    "### Also try PCA for dimension reduction"
   ]
  },
  {
   "cell_type": "code",
   "execution_count": 133,
   "metadata": {},
   "outputs": [
    {
     "name": "stdout",
     "output_type": "stream",
     "text": [
      "Explained variation per principal component: [ 0.27525303  0.08254317  0.05819358  0.04140088  0.03538666  0.02235701\n",
      "  0.02126207  0.0201448   0.01669327  0.01542604  0.01392297  0.013236\n",
      "  0.01234412  0.0122098   0.01079311  0.01034703  0.00940974  0.00893931\n",
      "  0.00850701  0.00797225]\n",
      "Explained variation All components: 0.696341861039\n"
     ]
    }
   ],
   "source": [
    "from sklearn.decomposition import PCA\n",
    "\n",
    "pca = PCA(n_components=20)\n",
    "pca_result = pca.fit_transform(df[feat_cols].values)\n",
    "\n",
    "df['pca-one'] = pca_result[:,0]\n",
    "df['pca-two'] = pca_result[:,1] \n",
    "#df['pca-three'] = pca_result[:,2]\n",
    "#df['pca-four'] = pca_result[:,3]\n",
    "#df['pca-five'] = pca_result[:,4]\n",
    "\n",
    "\n",
    "print 'Explained variation per principal component: {}'.format(pca.explained_variance_ratio_)\n",
    "print 'Explained variation All components: {}'.format(sum(pca.explained_variance_ratio_))\n"
   ]
  },
  {
   "cell_type": "markdown",
   "metadata": {},
   "source": [
    "** We will use LCA as it capture higher percentage of variation **"
   ]
  },
  {
   "cell_type": "markdown",
   "metadata": {},
   "source": [
    "## Gaussian Mixture Models\n",
    "\n",
    "### Fit Gaussian Mixture Models of varying components and covariance matrix sizes"
   ]
  },
  {
   "cell_type": "code",
   "execution_count": 134,
   "metadata": {},
   "outputs": [
    {
     "name": "stdout",
     "output_type": "stream",
     "text": [
      "Automatically created module for IPython interactive environment\n"
     ]
    }
   ],
   "source": [
    "import itertools\n",
    "import operator\n",
    "from scipy import linalg\n",
    "import matplotlib.pyplot as plt\n",
    "import matplotlib as mpl\n",
    "import scipy\n",
    "\n",
    "from sklearn import mixture\n",
    "print(__doc__)\n",
    "\n",
    "\n",
    "def GMM_fits(input_data=lsa_result, max_comp=21):\n",
    "    # Number of samples per component\n",
    "    n_samples = N\n",
    "    # Generate random sample, two components\n",
    "    np.random.seed(0)\n",
    "    X = np.array(input_data)\n",
    "    #X=np.array(pca_result_5)\n",
    "    print X.shape\n",
    "\n",
    "    bic_2 = {}\n",
    "    n_components_range = range(max_comp, max_comp+1)\n",
    "    cv_types = ['spherical', 'tied', 'diag', 'full']\n",
    "    aic_dict = {}\n",
    "    bic_dict = {}\n",
    "    lowest_bic = np.infty\n",
    "    lowest_aic = np.infty\n",
    "\n",
    "    for cv_type in cv_types:\n",
    "\n",
    "        bic = []\n",
    "        aic = []\n",
    "        for n_components in n_components_range:\n",
    "            # Fit a Gaussian mixture with EM\n",
    "            gmm = mixture.GaussianMixture(n_components=n_components,\n",
    "                                          covariance_type=cv_type, \n",
    "                                          reg_covar =1e-3,\n",
    "                                          random_state=0, \n",
    "                                          init_params='kmeans',\n",
    "                                          max_iter = 1350)\n",
    "            gmm.fit(X)\n",
    "            bic.append(gmm.bic(X))\n",
    "            aic.append(gmm.aic(X))\n",
    "            bic_2[cv_type+\"-\" + str(n_components)] = gmm.bic(X)\n",
    "            if bic[-1] < lowest_bic:\n",
    "                lowest_bic = bic[-1]\n",
    "                best_gmm = gmm\n",
    "            if aic[-1] < lowest_aic:\n",
    "                lowest_aic = aic[-1]\n",
    "\n",
    "        aic_dict[cv_type] = aic\n",
    "        bic_dict[cv_type] = bic\n",
    "\n",
    "    clf = best_gmm\n",
    "    sorted_bic_2 = sorted(bic_2.items(), key=operator.itemgetter(1))\n",
    "    return clf, bic_dict, aic_dict, sorted_bic_2, lowest_bic, lowest_aic "
   ]
  },
  {
   "cell_type": "markdown",
   "metadata": {},
   "source": [
    "### Function to Plot AIC/BIC for model selection"
   ]
  },
  {
   "cell_type": "code",
   "execution_count": 135,
   "metadata": {},
   "outputs": [],
   "source": [
    "def plot_model_selection_criteria(best_model, aic_dict, bic_dict, information_criteria = 'bic', max_comp = 21):\n",
    "    n_components_range = range(1,max_comp)\n",
    "    if information_criteria == 'bic':\n",
    "        for cv in bic_dict.keys():\n",
    "            plt.plot(n_components_range, bic_dict[cv], label=str(cv))\n",
    "            #plt.plot(n_components, [m.aic(X) for m in models], label='AIC')\n",
    "            plt.legend(loc=cv)\n",
    "            plt.xlabel('n_components_range')\n",
    "        plt.title(\"BIC plot\")\n",
    "    else:\n",
    "        for cv in aic_dict.keys():\n",
    "            plt.plot(n_components_range, aic_dict[cv], label=str(cv))\n",
    "            #plt.plot(n_components, [m.aic(X) for m in models], label='AIC')\n",
    "            plt.legend(loc=cv)\n",
    "            plt.xlabel('n_components_range')\n",
    "        plt.title(\"AIC plot\")"
   ]
  },
  {
   "cell_type": "code",
   "execution_count": 137,
   "metadata": {},
   "outputs": [
    {
     "name": "stdout",
     "output_type": "stream",
     "text": [
      "(3103, 20)\n"
     ]
    }
   ],
   "source": [
    "num_train_class = 5\n",
    "num_unseen_class =3\n",
    "best_lsa_model,lsa_bic_d,lsa_aic_d,sorted_lsa_bic,lowest_lsa_aic,lowest_lsa_bic = GMM_fits(input_data=lsa_result, \n",
    "                                                                                            max_comp=num_train_class)"
   ]
  },
  {
   "cell_type": "markdown",
   "metadata": {},
   "source": [
    "### Find the lowest AIC/BIC"
   ]
  },
  {
   "cell_type": "code",
   "execution_count": 138,
   "metadata": {
    "scrolled": true
   },
   "outputs": [
    {
     "name": "stdout",
     "output_type": "stream",
     "text": [
      "Lowest_BIC -107346.606156\n",
      "Lowest_AIC -100376.302294\n",
      "Best GMM Model Parameters based on BIC <bound method GaussianMixture.get_params of GaussianMixture(covariance_type='full', init_params='kmeans', max_iter=1350,\n",
      "        means_init=None, n_components=5, n_init=1, precisions_init=None,\n",
      "        random_state=0, reg_covar=0.001, tol=0.001, verbose=0,\n",
      "        verbose_interval=10, warm_start=False, weights_init=None)>\n"
     ]
    }
   ],
   "source": [
    "print \"Lowest_BIC\", lowest_lsa_bic\n",
    "print \"Lowest_AIC\", lowest_lsa_aic  \n",
    "print \"Best GMM Model Parameters based on BIC\", best_lsa_model.get_params"
   ]
  },
  {
   "cell_type": "markdown",
   "metadata": {},
   "source": [
    "### Make prediction using the lowest BIC"
   ]
  },
  {
   "cell_type": "code",
   "execution_count": 139,
   "metadata": {},
   "outputs": [
    {
     "name": "stdout",
     "output_type": "stream",
     "text": [
      "Homogeneity: 0.154\n",
      "Completeness: 0.157\n",
      "V-measure: 0.156\n",
      "Adjusted Rand-Index: 0.126\n",
      "Silhouette Coefficient: 0.069\n",
      "fowlkes_mallows_score: 0.307\n"
     ]
    },
    {
     "data": {
      "text/plain": [
       "(array([ 467.,    0.,  591.,    0.,    0.,  927.,    0.,  540.,    0.,  578.]),\n",
       " array([ 0. ,  0.4,  0.8,  1.2,  1.6,  2. ,  2.4,  2.8,  3.2,  3.6,  4. ]),\n",
       " <a list of 10 Patch objects>)"
      ]
     },
     "execution_count": 139,
     "metadata": {},
     "output_type": "execute_result"
    },
    {
     "data": {
      "image/png": "[encoded data removed]",
      "text/plain": [
       "<matplotlib.figure.Figure at 0x7f6e89335d10>"
      ]
     },
     "metadata": {},
     "output_type": "display_data"
    }
   ],
   "source": [
    "predicted_cluster = best_lsa_model.predict(lsa_result)\n",
    "print(\"Homogeneity: %0.3f\" % metrics.homogeneity_score(df['label'], predicted_cluster))\n",
    "print(\"Completeness: %0.3f\" % metrics.completeness_score(df['label'], predicted_cluster))\n",
    "print(\"V-measure: %0.3f\" % metrics.v_measure_score(df['label'], predicted_cluster))\n",
    "print(\"Adjusted Rand-Index: %.3f\"\n",
    "      % metrics.adjusted_rand_score(df['label'], predicted_cluster))\n",
    "print(\"Silhouette Coefficient: %0.3f\"\n",
    "      % metrics.silhouette_score(lsa_result, predicted_cluster, sample_size=1000))\n",
    "print (\"fowlkes_mallows_score: %.3f\"\n",
    "      % metrics.fowlkes_mallows_score(df['label'], predicted_cluster))\n",
    "plt.hist(predicted_cluster)"
   ]
  },
  {
   "cell_type": "code",
   "execution_count": 140,
   "metadata": {},
   "outputs": [],
   "source": [
    "def print_cluster_comp(predicted_labels,actual_labels):\n",
    "    Cluster_ids = {}\n",
    "    for i in predicted_labels:\n",
    "        Cluster_ids[i] = (predicted_labels==i).nonzero()[0]\n",
    "\n",
    "    targets = np.array(actual_labels)\n",
    "    #print Cluster_ids\n",
    "    for label in Cluster_ids.keys():\n",
    "        #print type(label)\n",
    "        idx = Cluster_ids[label]\n",
    "        print \"Cluster Number\", str(label), \"Composition\", np.bincount(targets[idx])\n",
    "        print \"\\n\""
   ]
  },
  {
   "cell_type": "code",
   "execution_count": 141,
   "metadata": {},
   "outputs": [
    {
     "name": "stdout",
     "output_type": "stream",
     "text": [
      "Cluster Number 0 Composition [  0  15   0  23 158   0  95 176]\n",
      "\n",
      "\n",
      "Cluster Number 1 Composition [  0 319   0  43 100   0  90  39]\n",
      "\n",
      "\n",
      "Cluster Number 2 Composition [  0 181   0 110 243   0 243 150]\n",
      "\n",
      "\n",
      "Cluster Number 3 Composition [  0  30   0  85  76   0 151 198]\n",
      "\n",
      "\n",
      "Cluster Number 4 Composition [  0  78   0 389  54   0  37  20]\n",
      "\n",
      "\n",
      "None\n"
     ]
    }
   ],
   "source": [
    "print print_cluster_comp(predicted_labels=predicted_cluster, actual_labels=train_final_labels)"
   ]
  },
  {
   "cell_type": "markdown",
   "metadata": {},
   "source": [
    "### Validation Data Prediction"
   ]
  },
  {
   "cell_type": "code",
   "execution_count": 142,
   "metadata": {},
   "outputs": [],
   "source": [
    "pred_proba_val_labels = best_lsa_model.predict_proba(lsa_val)"
   ]
  },
  {
   "cell_type": "code",
   "execution_count": 143,
   "metadata": {},
   "outputs": [
    {
     "name": "stdout",
     "output_type": "stream",
     "text": [
      "[[  2.89144507e-71   8.58728751e-06   4.95373851e-75   9.99991413e-01\n",
      "    6.17593096e-51]\n",
      " [  1.27113047e-14   9.99982906e-01   4.02476343e-18   2.49846411e-09\n",
      "    1.70914890e-05]\n",
      " [  4.88311516e-03   9.83287503e-01   1.60684576e-07   1.17003123e-02\n",
      "    1.28909165e-04]\n",
      " ..., \n",
      " [  2.29214498e-18   1.00000000e+00   1.83838224e-26   2.69227187e-14\n",
      "    1.99240218e-11]\n",
      " [  9.99999962e-01   2.90570209e-23   3.81488888e-08   2.75605742e-31\n",
      "    1.88182700e-20]\n",
      " [  1.77146484e-07   9.75725300e-02   2.06645480e-12   5.89161658e-01\n",
      "    3.13265635e-01]]\n",
      "[ 0.99999996  1.          1.          1.          1.        ]\n",
      "[[  2.89144518e-71   8.58728751e-06   4.95373852e-75   9.99991413e-01\n",
      "    6.17593096e-51]\n",
      " [  1.27113052e-14   9.99982906e-01   4.02476344e-18   2.49846411e-09\n",
      "    1.70914890e-05]\n",
      " [  4.88311534e-03   9.83287503e-01   1.60684577e-07   1.17003123e-02\n",
      "    1.28909165e-04]\n",
      " ..., \n",
      " [  2.29214507e-18   1.00000000e+00   1.83838224e-26   2.69227187e-14\n",
      "    1.99240218e-11]\n",
      " [  1.00000000e+00   2.90570209e-23   3.81488889e-08   2.75605742e-31\n",
      "    1.88182700e-20]\n",
      " [  1.77146490e-07   9.75725300e-02   2.06645481e-12   5.89161658e-01\n",
      "    3.13265635e-01]]\n"
     ]
    }
   ],
   "source": [
    "print pred_proba_val_labels\n",
    "val_gmm_class_max_prob_lists = np.array([max(pred_proba_val_labels[:,val]) for val in range(len(pred_proba_val_labels[0]))])\n",
    "val_gmm_class_min_prob_lists = np.array([min(pred_proba_val_labels[:,val]) for val in range(len(pred_proba_val_labels[0]))])\n",
    "val_gmm_delta = val_gmm_class_max_prob_lists - val_gmm_class_min_prob_lists\n",
    "\n",
    "print val_gmm_delta\n",
    "# Normalized for test vector\n",
    "scaled_gmm_val_class_probs = np.divide(pred_proba_val_labels,val_gmm_delta)\n",
    "print scaled_gmm_val_class_probs"
   ]
  },
  {
   "cell_type": "code",
   "execution_count": 144,
   "metadata": {},
   "outputs": [
    {
     "data": {
      "image/png": "[encoded data removed]",
      "text/plain": [
       "<matplotlib.figure.Figure at 0x7f6e89189350>"
      ]
     },
     "metadata": {},
     "output_type": "display_data"
    }
   ],
   "source": [
    "x = np.amax(pred_proba_val_labels, axis = 1)\n",
    "#print pred_proba_test_labels[:,0]\n",
    "plt.figure(figsize = (12, 8))\n",
    "n, bins, patches = plt.hist(x, 50)\n",
    "plt.title(\"max prob dist\")\n",
    "plt.show()"
   ]
  },
  {
   "cell_type": "code",
   "execution_count": 145,
   "metadata": {},
   "outputs": [
    {
     "name": "stdout",
     "output_type": "stream",
     "text": [
      "[ 0.00956492  0.99945471  0.00102168  0.99967839  0.3318508 ]\n",
      "[[  2.89144518e-71   8.58728751e-06   4.95373852e-75   9.99991413e-01\n",
      "    6.17593096e-51]\n",
      " [  1.27113052e-14   9.99982906e-01   4.02476344e-18   2.49846411e-09\n",
      "    1.70914890e-05]\n",
      " [  4.88311534e-03   9.83287503e-01   1.60684577e-07   1.17003123e-02\n",
      "    1.28909165e-04]\n",
      " ..., \n",
      " [  2.29214507e-18   1.00000000e+00   1.83838224e-26   2.69227187e-14\n",
      "    1.99240218e-11]\n",
      " [  1.00000000e+00   2.90570209e-23   3.81488889e-08   2.75605742e-31\n",
      "    1.88182700e-20]\n",
      " [  1.77146490e-07   9.75725300e-02   2.06645481e-12   5.89161658e-01\n",
      "    3.13265635e-01]]\n",
      "[[0 0 0 1 0]\n",
      " [0 1 0 0 0]\n",
      " [0 0 0 0 0]\n",
      " ..., \n",
      " [0 1 0 0 0]\n",
      " [1 0 0 0 0]\n",
      " [0 0 0 0 0]]\n",
      "[ 0  1  3  4  5  6  7  8 11 12]\n"
     ]
    }
   ],
   "source": [
    "class_threshold = 85.0\n",
    "val_gmm_class_prob_percentile_cutoff = np.array([np.percentile(scaled_gmm_val_class_probs[:,val], class_threshold) \n",
    "                                     for val in range(len(scaled_gmm_val_class_probs[0]))])\n",
    "\n",
    "print val_gmm_class_prob_percentile_cutoff\n",
    "\n",
    "gmm_val_class_preds = np.greater_equal(scaled_gmm_val_class_probs,val_gmm_class_prob_percentile_cutoff).astype(int)\n",
    "\n",
    "print scaled_gmm_val_class_probs\n",
    "# Predict the test label based on percental\n",
    "# If a data is below 80% for prob of all class, it belongs to open class\n",
    "val_gmm_valid_class_probs = np.multiply(scaled_gmm_val_class_probs, gmm_val_class_preds)\n",
    "val_gmm_valid_class = np.greater_equal(np.ceil(val_gmm_valid_class_probs),1).astype(int)\n",
    "print val_gmm_valid_class\n",
    "val_gmm_predicted_multinomial = np.multiply(val_gmm_valid_class, np.unique(train_final_labels))\n",
    "print np.unique(np.sum(val_gmm_predicted_multinomial, axis=1))\n",
    "gmm_predicted_val_class = np.max(val_gmm_predicted_multinomial,axis=1)\n"
   ]
  },
  {
   "cell_type": "code",
   "execution_count": 146,
   "metadata": {},
   "outputs": [
    {
     "name": "stdout",
     "output_type": "stream",
     "text": [
      "[487 153   0 151 168   0 134 146] [424 115   0 186 142   0 186 186]\n",
      "1239 1239\n"
     ]
    }
   ],
   "source": [
    "print np.bincount(valid_final_labels), np.bincount(gmm_predicted_val_class)\n",
    "print np.sum(np.bincount(valid_final_labels)), np.sum(np.bincount(gmm_predicted_val_class))"
   ]
  },
  {
   "cell_type": "markdown",
   "metadata": {},
   "source": [
    "### Calculate Unseen Class Precision, Recall, F1 Score"
   ]
  },
  {
   "cell_type": "code",
   "execution_count": 147,
   "metadata": {},
   "outputs": [
    {
     "name": "stdout",
     "output_type": "stream",
     "text": [
      "Composition of gmm_predicted_valid_class for true unseen class indices [156  60   0  50  84   0  78  59]\n",
      "487\n"
     ]
    }
   ],
   "source": [
    "print \"Composition of gmm_predicted_valid_class for true unseen class indices\", np.bincount(sorted(gmm_predicted_val_class[missing_class_idx_val]))\n",
    "print sum(np.bincount(sorted(gmm_predicted_val_class[missing_class_idx_val])))"
   ]
  },
  {
   "cell_type": "code",
   "execution_count": 148,
   "metadata": {},
   "outputs": [
    {
     "name": "stdout",
     "output_type": "stream",
     "text": [
      "             precision    recall  f1-score   support\n",
      "\n",
      "          0       0.32      0.37      0.34       424\n",
      "          1       0.12      0.16      0.13       115\n",
      "          3       0.08      0.06      0.07       186\n",
      "          4       0.11      0.13      0.12       142\n",
      "          6       0.11      0.08      0.09       186\n",
      "          7       0.13      0.10      0.11       186\n",
      "\n",
      "avg / total       0.18      0.19      0.19      1239\n",
      "\n",
      "[[156  64  42  66  47  49]\n",
      " [ 60  18   4  11  11  11]\n",
      " [ 50  13  12  45  20  46]\n",
      " [ 84  13   6  19  13   7]\n",
      " [ 78  30  41   8  15  14]\n",
      " [ 59  15  46  19  28  19]]\n"
     ]
    }
   ],
   "source": [
    "from sklearn.metrics import confusion_matrix, classification_report, precision_score, recall_score, f1_score\n",
    "print classification_report(gmm_predicted_val_class, valid_final_labels)\n",
    "print confusion_matrix(gmm_predicted_val_class, valid_final_labels)"
   ]
  },
  {
   "cell_type": "code",
   "execution_count": 149,
   "metadata": {},
   "outputs": [
    {
     "name": "stdout",
     "output_type": "stream",
     "text": [
      "0.367924528302 0.320328542094 0.34248079034\n"
     ]
    }
   ],
   "source": [
    "def calculate_unseen_class_f1score(pred_class, true_class, unseen_class_id):\n",
    "    predicted_zero_ind = (pred_class==unseen_class_id).nonzero()[0]\n",
    "    predicted_nonzero_ind = (pred_class > unseen_class_id).nonzero()[0]\n",
    "    #print np.bincount(true_class[predicted_zero_ind])[0]\n",
    "    TP = np.bincount(true_class[predicted_zero_ind])[0]\n",
    "    FP =  sum(np.bincount(true_class[predicted_zero_ind])) - TP\n",
    "    FN =  np.bincount(true_class[predicted_nonzero_ind])[0]\n",
    "    #print TP, FP, FN\n",
    "    unseen_class_precision = float(TP)/(TP+FP)\n",
    "    unseen_class_recall = float(TP)/(TP+FN)\n",
    "    unseen_class_f1 = 2*unseen_class_precision*unseen_class_recall/(unseen_class_precision+unseen_class_recall)\n",
    "    #print unseen_class_precision,unseen_class_recall,unseen_class_f1\n",
    "    return unseen_class_precision, unseen_class_recall,unseen_class_f1\n",
    "    \n",
    "pr,re,f1 = calculate_unseen_class_f1score(gmm_predicted_val_class, np.array(valid_final_labels), 0)\n",
    "print pr,re,f1"
   ]
  },
  {
   "cell_type": "code",
   "execution_count": 150,
   "metadata": {
    "scrolled": false
   },
   "outputs": [
    {
     "name": "stdout",
     "output_type": "stream",
     "text": [
      "[1 3 4 6 7] [0 1 3 4 6 7]\n",
      "Threshold Too Low. No unseen class prediction\n",
      "[1 3 4 6 7] [0 1 3 4 6 7]\n",
      "Threshold Too Low. No unseen class prediction\n",
      "[1 3 4 6 7] [0 1 3 4 6 7]\n",
      "Threshold Too Low. No unseen class prediction\n",
      "[1 3 4 6 7] [0 1 3 4 6 7]\n",
      "Threshold Too Low. No unseen class prediction\n",
      "[1 3 4 6 7] [0 1 3 4 6 7]\n",
      "Threshold Too Low. No unseen class prediction\n",
      "[1 3 4 6 7] [0 1 3 4 6 7]\n",
      "Threshold Too Low. No unseen class prediction\n",
      "[1 3 4 6 7] [0 1 3 4 6 7]\n",
      "Threshold Too Low. No unseen class prediction\n",
      "[1 3 4 6 7] [0 1 3 4 6 7]\n",
      "Threshold Too Low. No unseen class prediction\n",
      "[1 3 4 6 7] [0 1 3 4 6 7]\n",
      "Threshold Too Low. No unseen class prediction\n",
      "[1 3 4 6 7] [0 1 3 4 6 7]\n",
      "Threshold Too Low. No unseen class prediction\n",
      "[1 3 4 6 7] [0 1 3 4 6 7]\n",
      "Threshold Too Low. No unseen class prediction\n",
      "[1 3 4 6 7] [0 1 3 4 6 7]\n",
      "Threshold Too Low. No unseen class prediction\n",
      "[1 3 4 6 7] [0 1 3 4 6 7]\n",
      "Threshold Too Low. No unseen class prediction\n",
      "[1 3 4 6 7] [0 1 3 4 6 7]\n",
      "Threshold Too Low. No unseen class prediction\n",
      "[1 3 4 6 7] [0 1 3 4 6 7]\n",
      "Threshold Too Low. No unseen class prediction\n",
      "[0 1 3 4 6 7] [0 1 3 4 6 7]\n",
      "Threshold:  65 F1 Score:  0.00813008130081\n",
      "Actual Unseen Class 487 Predicted Unseen Class 5\n",
      "[0 1 3 4 6 7] [0 1 3 4 6 7]\n",
      "Threshold:  66 F1 Score:  0.0160320641283\n",
      "Actual Unseen Class 487 Predicted Unseen Class 12\n",
      "[0 1 3 4 6 7] [0 1 3 4 6 7]\n",
      "Threshold:  67 F1 Score:  0.0276679841897\n",
      "Actual Unseen Class 487 Predicted Unseen Class 19\n",
      "[0 1 3 4 6 7] [0 1 3 4 6 7]\n",
      "Threshold:  68 F1 Score:  0.03515625\n",
      "Actual Unseen Class 487 Predicted Unseen Class 25\n",
      "[0 1 3 4 6 7] [0 1 3 4 6 7]\n",
      "Threshold:  69 F1 Score:  0.0419847328244\n",
      "Actual Unseen Class 487 Predicted Unseen Class 37\n",
      "[0 1 3 4 6 7] [0 1 3 4 6 7]\n",
      "Threshold:  70 F1 Score:  0.0597014925373\n",
      "Actual Unseen Class 487 Predicted Unseen Class 49\n",
      "[0 1 3 4 6 7] [0 1 3 4 6 7]\n",
      "Threshold:  71 F1 Score:  0.0798548094374\n",
      "Actual Unseen Class 487 Predicted Unseen Class 64\n",
      "[0 1 3 4 6 7] [0 1 3 4 6 7]\n",
      "Threshold:  72 F1 Score:  0.0886524822695\n",
      "Actual Unseen Class 487 Predicted Unseen Class 77\n",
      "[0 1 3 4 6 7] [0 1 3 4 6 7]\n",
      "Threshold:  73 F1 Score:  0.0939130434783\n",
      "Actual Unseen Class 487 Predicted Unseen Class 88\n",
      "[0 1 3 4 6 7] [0 1 3 4 6 7]\n",
      "Threshold:  74 F1 Score:  0.108658743633\n",
      "Actual Unseen Class 487 Predicted Unseen Class 102\n",
      "[0 1 3 4 6 7] [0 1 3 4 6 7]\n",
      "Threshold:  75 F1 Score:  0.117056856187\n",
      "Actual Unseen Class 487 Predicted Unseen Class 111\n",
      "[0 1 3 4 6 7] [0 1 3 4 6 7]\n",
      "Threshold:  76 F1 Score:  0.151857835218\n",
      "Actual Unseen Class 487 Predicted Unseen Class 132\n",
      "[0 1 3 4 6 7] [0 1 3 4 6 7]\n",
      "Threshold:  77 F1 Score:  0.179566563467\n",
      "Actual Unseen Class 487 Predicted Unseen Class 159\n",
      "[0 1 3 4 6 7] [0 1 3 4 6 7]\n",
      "Threshold:  78 F1 Score:  0.201201201201\n",
      "Actual Unseen Class 487 Predicted Unseen Class 179\n",
      "[0 1 3 4 6 7] [0 1 3 4 6 7]\n",
      "Threshold:  79 F1 Score:  0.230215827338\n",
      "Actual Unseen Class 487 Predicted Unseen Class 208\n",
      "[0 1 3 4 6 7] [0 1 3 4 6 7]\n",
      "Threshold:  80 F1 Score:  0.239221140473\n",
      "Actual Unseen Class 487 Predicted Unseen Class 232\n",
      "[0 1 3 4 6 7] [0 1 3 4 6 7]\n",
      "Threshold:  81 F1 Score:  0.256341789052\n",
      "Actual Unseen Class 487 Predicted Unseen Class 262\n",
      "[0 1 3 4 6 7] [0 1 3 4 6 7]\n",
      "Threshold:  82 F1 Score:  0.267175572519\n",
      "Actual Unseen Class 487 Predicted Unseen Class 299\n",
      "[0 1 3 4 6 7] [0 1 3 4 6 7]\n",
      "Threshold:  83 F1 Score:  0.284671532847\n",
      "Actual Unseen Class 487 Predicted Unseen Class 335\n",
      "[0 1 3 4 6 7] [0 1 3 4 6 7]\n",
      "Threshold:  84 F1 Score:  0.305202312139\n",
      "Actual Unseen Class 487 Predicted Unseen Class 378\n",
      "[0 1 3 4 6 7] [0 1 3 4 6 7]\n",
      "Threshold:  85 F1 Score:  0.34248079034\n",
      "Actual Unseen Class 487 Predicted Unseen Class 424\n",
      "[0 1 3 4 6 7] [0 1 3 4 6 7]\n",
      "Threshold:  86 F1 Score:  0.349738219895\n",
      "Actual Unseen Class 487 Predicted Unseen Class 468\n",
      "[0 1 3 4 6 7] [0 1 3 4 6 7]\n",
      "Threshold:  87 F1 Score:  0.355289421158\n",
      "Actual Unseen Class 487 Predicted Unseen Class 515\n",
      "[0 1 3 4 6 7] [0 1 3 4 6 7]\n",
      "Threshold:  88 F1 Score:  0.380861244019\n",
      "Actual Unseen Class 487 Predicted Unseen Class 558\n",
      "[0 1 3 4 6 7] [0 1 3 4 6 7]\n",
      "Threshold:  89 F1 Score:  0.394495412844\n",
      "Actual Unseen Class 487 Predicted Unseen Class 603\n",
      "[0 1 3 4 6 7] [0 1 3 4 6 7]\n",
      "Threshold:  90 F1 Score:  0.422066549912\n",
      "Actual Unseen Class 487 Predicted Unseen Class 655\n",
      "[0 1 3 4 6 7] [0 1 3 4 6 7]\n",
      "Threshold:  91 F1 Score:  0.438079191238\n",
      "Actual Unseen Class 487 Predicted Unseen Class 700\n",
      "[0 1 3 4 6 7] [0 1 3 4 6 7]\n",
      "Threshold:  92 F1 Score:  0.45718901454\n",
      "Actual Unseen Class 487 Predicted Unseen Class 751\n",
      "[0 1 3 4 6 7] [0 1 3 4 6 7]\n",
      "Threshold:  93 F1 Score:  0.474497681607\n",
      "Actual Unseen Class 487 Predicted Unseen Class 807\n",
      "[0 1 3 4 6 7] [0 1 3 4 6 7]\n",
      "Threshold:  94 F1 Score:  0.490007401925\n",
      "Actual Unseen Class 487 Predicted Unseen Class 864\n"
     ]
    }
   ],
   "source": [
    "best_threshold = 0.0\n",
    "best_f1_score=0.0\n",
    "for threshold in range(50,95):\n",
    "    try:\n",
    "        val_gmm_class_prob_percentile_cutoff = np.array([np.percentile(scaled_gmm_val_class_probs[:,val], float(threshold)) \n",
    "                                             for val in range(len(scaled_gmm_val_class_probs[0]))])\n",
    "\n",
    "        #print val_gmm_class_prob_percentile_cutoff\n",
    "\n",
    "        gmm_val_class_preds = np.greater_equal(scaled_gmm_val_class_probs,val_gmm_class_prob_percentile_cutoff).astype(int)\n",
    "\n",
    "        #print scaled_gmm_val_class_probs\n",
    "        # Predict the test label based on percental\n",
    "        # If a data is below 80% for prob of all class, it belongs to open class\n",
    "        val_gmm_valid_class_probs_dup = np.multiply(scaled_gmm_val_class_probs, gmm_val_class_preds)\n",
    "\n",
    "        val_gmm_valid_class_max_probs = np.max(val_gmm_valid_class_probs_dup, axis=1)\n",
    "        #print gmm_valid_class_max_probs\n",
    "        #print type(gmm_valid_class_probs_dup),  type(gmm_valid_class_max_probs)\n",
    "        val_temp = np.equal(val_gmm_valid_class_probs_dup , val_gmm_valid_class_max_probs.reshape(len(val_gmm_valid_class_max_probs),1))\n",
    "        val_gmm_valid_class_probs=np.multiply(val_gmm_valid_class_probs_dup,val_temp)\n",
    "        val_gmm_valid_class = np.greater_equal(np.ceil(val_gmm_valid_class_probs),1).astype(int)\n",
    "        #print val_gmm_valid_class\n",
    "        val_gmm_predicted_multinomial = np.multiply(val_gmm_valid_class, np.unique(train_final_labels))\n",
    "        #print np.unique(np.sum(val_gmm_predicted_multinomial, axis=1))\n",
    "        gmm_predicted_val_class = np.max(val_gmm_predicted_multinomial,axis=1)  \n",
    "        print np.unique(gmm_predicted_val_class), np.unique(valid_final_labels)\n",
    "        pr,re,f1 = calculate_unseen_class_f1score(gmm_predicted_val_class,valid_final_labels,0)\n",
    "        print \"Threshold: \",threshold, \"F1 Score: \", f1 \n",
    "        print \"Actual Unseen Class\", np.bincount(valid_final_labels)[0], \"Predicted Unseen Class\",np.bincount(gmm_predicted_val_class)[0]\n",
    "        # Set the threshold so that not unseen class volume is actual unseen class volume in validation set\n",
    "        unseen_class_ratio = float(np.bincount(gmm_predicted_val_class)[0])/np.bincount(valid_final_labels)[0]\n",
    "        #overall_F1_score = f1_score(gmm_predicted_val_class, valid_final_labels)\n",
    "        if f1 > best_f1_score and unseen_class_ratio < 1.1:\n",
    "\n",
    "            best_f1_score = f1\n",
    "            best_threshold = threshold\n",
    "    except:\n",
    "        print \"Threshold Too Low. No unseen class prediction\"\n",
    "        "
   ]
  },
  {
   "cell_type": "markdown",
   "metadata": {},
   "source": [
    "### Test Data Prediction"
   ]
  },
  {
   "cell_type": "code",
   "execution_count": 151,
   "metadata": {},
   "outputs": [],
   "source": [
    "pred_proba_test_labels = best_lsa_model.predict_proba(lsa_test)"
   ]
  },
  {
   "cell_type": "code",
   "execution_count": 152,
   "metadata": {},
   "outputs": [
    {
     "name": "stdout",
     "output_type": "stream",
     "text": [
      "[[  1.09108802e-35   9.99999353e-01   4.95334985e-38   6.46567585e-07\n",
      "    4.65011564e-25]\n",
      " [  5.01280960e-71   1.03909076e-04   1.37801071e-73   9.99896091e-01\n",
      "    6.63194436e-50]\n",
      " [  5.25121773e-15   1.55848388e-10   1.00000000e+00   1.59708914e-22\n",
      "    1.22478012e-10]\n",
      " ..., \n",
      " [  1.25886232e-22   9.99965171e-01   2.85706149e-24   3.48292372e-05\n",
      "    2.32028912e-15]\n",
      " [  9.99999962e-01   2.90570209e-23   3.81488888e-08   2.75605742e-31\n",
      "    1.88182700e-20]\n",
      " [  2.01522419e-48   4.17769922e-08   4.28116259e-45   9.99999958e-01\n",
      "    2.77892098e-27]]\n",
      "[ 0.99999999  1.          1.          1.          1.        ]\n",
      "[[  1.09108803e-35   9.99999353e-01   4.95334985e-38   6.46567585e-07\n",
      "    4.65011564e-25]\n",
      " [  5.01280964e-71   1.03909076e-04   1.37801071e-73   9.99896091e-01\n",
      "    6.63194436e-50]\n",
      " [  5.25121778e-15   1.55848388e-10   1.00000000e+00   1.59708914e-22\n",
      "    1.22478012e-10]\n",
      " ..., \n",
      " [  1.25886233e-22   9.99965171e-01   2.85706149e-24   3.48292372e-05\n",
      "    2.32028912e-15]\n",
      " [  9.99999971e-01   2.90570209e-23   3.81488888e-08   2.75605742e-31\n",
      "    1.88182700e-20]\n",
      " [  2.01522421e-48   4.17769922e-08   4.28116259e-45   9.99999958e-01\n",
      "    2.77892098e-27]]\n"
     ]
    }
   ],
   "source": [
    "print pred_proba_test_labels\n",
    "gmm_class_max_prob_lists = np.array([max(pred_proba_test_labels[:,val]) for val in range(len(pred_proba_test_labels[0]))])\n",
    "gmm_class_min_prob_lists = np.array([min(pred_proba_test_labels[:,val]) for val in range(len(pred_proba_test_labels[0]))])\n",
    "gmm_delta = gmm_class_max_prob_lists - gmm_class_min_prob_lists\n",
    "\n",
    "print gmm_delta\n",
    "# Normalized for test vector\n",
    "scaled_gmm_test_class_probs = np.divide(pred_proba_test_labels,gmm_delta)\n",
    "print scaled_gmm_test_class_probs"
   ]
  },
  {
   "cell_type": "code",
   "execution_count": 153,
   "metadata": {},
   "outputs": [
    {
     "data": {
      "image/png": "[encoded data removed]",
      "text/plain": [
       "<matplotlib.figure.Figure at 0x7f6e1ee32390>"
      ]
     },
     "metadata": {},
     "output_type": "display_data"
    }
   ],
   "source": [
    "x = np.amax(pred_proba_test_labels, axis = 1)\n",
    "#print pred_proba_test_labels[:,0]\n",
    "plt.figure(figsize = (12, 8))\n",
    "n, bins, patches = plt.hist(x, 50)\n",
    "plt.title(\"max prob dist\")\n",
    "plt.show()"
   ]
  },
  {
   "cell_type": "code",
   "execution_count": 154,
   "metadata": {},
   "outputs": [
    {
     "name": "stdout",
     "output_type": "stream",
     "text": [
      "87\n",
      "[[ 0.          0.99999935  0.          0.          0.        ]\n",
      " [ 0.          0.          0.          0.99989609  0.        ]\n",
      " [ 0.          0.          1.          0.          0.        ]\n",
      " ..., \n",
      " [ 0.          0.99996517  0.          0.          0.        ]\n",
      " [ 0.99999997  0.          0.          0.          0.        ]\n",
      " [ 0.          0.          0.          0.99999996  0.        ]]\n",
      "[ 0.99999935  0.99989609  1.         ...,  0.99996517  0.99999997\n",
      "  0.99999996]\n",
      "[[0 1 0 0 0]\n",
      " [0 0 0 1 0]\n",
      " [0 0 1 0 0]\n",
      " ..., \n",
      " [0 1 0 0 0]\n",
      " [1 0 0 0 0]\n",
      " [0 0 0 1 0]]\n",
      "[0 1 3 4 6 7]\n"
     ]
    }
   ],
   "source": [
    "print best_threshold\n",
    "gmm_class_prob_percentile_cutoff = np.array([np.percentile(scaled_gmm_test_class_probs[:,val], best_threshold) \n",
    "                                     for val in range(len(scaled_gmm_test_class_probs[0]))])\n",
    "\n",
    "#print gmm_class_prob_percentile_cutoff\n",
    "\n",
    "gmm_test_class_preds = np.greater_equal(scaled_gmm_test_class_probs,gmm_class_prob_percentile_cutoff).astype(int)\n",
    "\n",
    "#print scaled_gmm_test_class_probs\n",
    "# Predict the test label based on percental\n",
    "# If a data is below 80% for prob of all class, it belongs to open class\n",
    "gmm_valid_class_probs_dup = np.multiply(scaled_gmm_test_class_probs, gmm_test_class_preds)\n",
    "print gmm_valid_class_probs_dup\n",
    "gmm_valid_class_max_probs = np.max(gmm_valid_class_probs_dup, axis=1)\n",
    "print gmm_valid_class_max_probs\n",
    "#print type(gmm_valid_class_probs_dup),  type(gmm_valid_class_max_probs)\n",
    "temp = np.equal(gmm_valid_class_probs_dup , gmm_valid_class_max_probs.reshape(len(gmm_valid_class_max_probs),1))\n",
    "gmm_valid_class_probs=np.multiply(gmm_valid_class_probs_dup,temp)\n",
    "gmm_valid_class = np.greater_equal(np.ceil(gmm_valid_class_probs),1).astype(int)\n",
    "print gmm_valid_class\n",
    "gmm_predicted_multinomial = np.multiply(gmm_valid_class, np.unique(train_final_labels))\n",
    "print np.unique(np.sum(gmm_predicted_multinomial, axis=1))\n",
    "gmm_predicted_test_class = np.max(gmm_predicted_multinomial,axis=1)\n",
    "\n",
    "# The true unseen class index\n",
    "#unseen_class_indices = np.where(np.isin(test_labels, missing_class))[0]"
   ]
  },
  {
   "cell_type": "code",
   "execution_count": 155,
   "metadata": {},
   "outputs": [
    {
     "name": "stdout",
     "output_type": "stream",
     "text": [
      "[593 206   0 187 192   0 160 211] [638 170   0 202 135   0 202 202]\n",
      "1549 1549\n"
     ]
    }
   ],
   "source": [
    "print np.bincount(test_labels), np.bincount(gmm_predicted_test_class)\n",
    "print np.sum(np.bincount(test_labels)), np.sum(np.bincount(gmm_predicted_test_class))"
   ]
  },
  {
   "cell_type": "code",
   "execution_count": 156,
   "metadata": {},
   "outputs": [
    {
     "name": "stdout",
     "output_type": "stream",
     "text": [
      "[[239  80  56  72  84  62]\n",
      " [ 75  33  15  23  28  32]\n",
      " [ 68   8  13   6  45  47]\n",
      " [ 90  22  41  16  14   9]\n",
      " [ 84  14  18   9  13  22]\n",
      " [ 82  13  59   9  18  30]]\n"
     ]
    }
   ],
   "source": [
    "print confusion_matrix(test_labels, gmm_predicted_test_class)"
   ]
  },
  {
   "cell_type": "code",
   "execution_count": 157,
   "metadata": {},
   "outputs": [
    {
     "name": "stdout",
     "output_type": "stream",
     "text": [
      "             precision    recall  f1-score   support\n",
      "\n",
      "          0       0.37      0.40      0.39       593\n",
      "          1       0.19      0.16      0.18       206\n",
      "          3       0.06      0.07      0.07       187\n",
      "          4       0.12      0.08      0.10       192\n",
      "          6       0.06      0.08      0.07       160\n",
      "          7       0.15      0.14      0.15       211\n",
      "\n",
      "avg / total       0.22      0.22      0.22      1549\n",
      "\n",
      "0.222078760491\n"
     ]
    }
   ],
   "source": [
    "print classification_report(test_labels, gmm_predicted_test_class)\n",
    "print accuracy_score(test_labels, gmm_predicted_test_class)"
   ]
  },
  {
   "cell_type": "markdown",
   "metadata": {},
   "source": [
    "### Unseen Class Precision, Recall F1 Score"
   ]
  },
  {
   "cell_type": "code",
   "execution_count": 158,
   "metadata": {},
   "outputs": [
    {
     "name": "stdout",
     "output_type": "stream",
     "text": [
      "Unseen Class Precision:  0.37460815047\n",
      "Unseen Class Recall:  0.403035413153\n",
      "Unseen Class F1 Score:  0.388302193339\n"
     ]
    }
   ],
   "source": [
    "print \"Unseen Class Precision: \", calculate_unseen_class_f1score(gmm_predicted_test_class,test_labels,0)[0]\n",
    "print \"Unseen Class Recall: \", calculate_unseen_class_f1score(gmm_predicted_test_class,test_labels,0)[1]\n",
    "print \"Unseen Class F1 Score: \", calculate_unseen_class_f1score(gmm_predicted_test_class,test_labels,0)[2]"
   ]
  },
  {
   "cell_type": "code",
   "execution_count": 159,
   "metadata": {},
   "outputs": [],
   "source": [
    "pred_class_indices = (gmm_predicted_test_class==0).nonzero()[0]"
   ]
  },
  {
   "cell_type": "code",
   "execution_count": 160,
   "metadata": {},
   "outputs": [
    {
     "name": "stdout",
     "output_type": "stream",
     "text": [
      "Homogeneity: 0.034\n",
      "Completeness: 0.035\n",
      "V-measure: 0.034\n",
      "Adjusted Rand-Index: 0.005\n",
      "Silhouette Coefficient: 0.007\n",
      "fowlkes_mallows_score: 0.235\n"
     ]
    }
   ],
   "source": [
    "print(\"Homogeneity: %0.3f\" % metrics.homogeneity_score(df_test['label'], gmm_predicted_test_class))\n",
    "print(\"Completeness: %0.3f\" % metrics.completeness_score(df_test['label'], gmm_predicted_test_class))\n",
    "print(\"V-measure: %0.3f\" % metrics.v_measure_score(df_test['label'], gmm_predicted_test_class))\n",
    "print(\"Adjusted Rand-Index: %.3f\"\n",
    "      % metrics.adjusted_rand_score(df_test['label'], gmm_predicted_test_class))\n",
    "print(\"Silhouette Coefficient: %0.3f\"\n",
    "      % metrics.silhouette_score(lsa_test, gmm_predicted_test_class, sample_size=1000))\n",
    "print (\"fowlkes_mallows_score: %.3f\"\n",
    "      % metrics.fowlkes_mallows_score(df_test['label'], gmm_predicted_test_class))"
   ]
  },
  {
   "cell_type": "markdown",
   "metadata": {},
   "source": [
    "### Further Clustering Unsee Class"
   ]
  },
  {
   "cell_type": "code",
   "execution_count": 161,
   "metadata": {},
   "outputs": [],
   "source": [
    "predicted_unseen_class_lsa= lsa_test[pred_class_indices]"
   ]
  },
  {
   "cell_type": "code",
   "execution_count": 162,
   "metadata": {},
   "outputs": [
    {
     "name": "stdout",
     "output_type": "stream",
     "text": [
      "fowlkes_mallows_score: 0.355\n"
     ]
    },
    {
     "data": {
      "image/png": "[encoded data removed]",
      "text/plain": [
       "<matplotlib.figure.Figure at 0x7f6e1f4cfa10>"
      ]
     },
     "metadata": {},
     "output_type": "display_data"
    },
    {
     "name": "stdout",
     "output_type": "stream",
     "text": [
      "fowlkes_mallows_score: 0.355\n"
     ]
    },
    {
     "data": {
      "image/png": "[encoded data removed]",
      "text/plain": [
       "<matplotlib.figure.Figure at 0x7f6e89b4bc10>"
      ]
     },
     "metadata": {},
     "output_type": "display_data"
    },
    {
     "name": "stdout",
     "output_type": "stream",
     "text": [
      "fowlkes_mallows_score: 0.355\n"
     ]
    },
    {
     "data": {
      "image/png": "[encoded data removed]",
      "text/plain": [
       "<matplotlib.figure.Figure at 0x7f6e1f814fd0>"
      ]
     },
     "metadata": {},
     "output_type": "display_data"
    },
    {
     "name": "stdout",
     "output_type": "stream",
     "text": [
      "fowlkes_mallows_score: 0.355\n"
     ]
    },
    {
     "data": {
      "image/png": "[encoded data removed]",
      "text/plain": [
       "<matplotlib.figure.Figure at 0x7f6e1f82b290>"
      ]
     },
     "metadata": {},
     "output_type": "display_data"
    }
   ],
   "source": [
    "from sklearn.mixture import BayesianGaussianMixture\n",
    "\n",
    "c_var = ['full', 'tied', 'diag', 'spherical']\n",
    "n_components=1\n",
    "models = [BayesianGaussianMixture(n_components, covariance_type=c, init_params='random').fit(predicted_unseen_class_lsa)\n",
    "          for c in c_var]\n",
    "\n",
    "for m in range(len(models)):\n",
    "    plt.title(\"Model with Covariance type: \" + str(c_var[m]))\n",
    "    plt.hist(models[m].predict(predicted_unseen_class_lsa))\n",
    "    pred_ls = models[m].predict(predicted_unseen_class_lsa)\n",
    "    print (\"fowlkes_mallows_score: %.3f\"\n",
    "      % metrics.fowlkes_mallows_score(pred_ls, orig_test_labels[pred_class_indices]))\n",
    "    plt.show()\n",
    "#gmm2_model."
   ]
  },
  {
   "cell_type": "markdown",
   "metadata": {},
   "source": [
    "## Infinite Dirichlet Process"
   ]
  },
  {
   "cell_type": "code",
   "execution_count": 163,
   "metadata": {},
   "outputs": [],
   "source": [
    "def BGMM_fits(input_data=lsa_result, cv_type='full', max_comp=21):\n",
    "    mod = BayesianGaussianMixture(n_components=max_comp, covariance_type='full', \n",
    "                                  weight_concentration_prior_type=\"dirichlet_process\", \n",
    "                                  reg_covar=0, init_params='random',\n",
    "        max_iter=1500, mean_precision_prior=.8,random_state=0)\n",
    "    X = np.array(input_data)\n",
    "    mod.fit(X)\n",
    "    return mod"
   ]
  },
  {
   "cell_type": "code",
   "execution_count": 164,
   "metadata": {},
   "outputs": [],
   "source": [
    "num_train_class = 5\n",
    "num_unseen_class =2\n",
    "best_lsa_model = BGMM_fits(input_data=lsa_result, max_comp=num_train_class)"
   ]
  },
  {
   "cell_type": "code",
   "execution_count": 165,
   "metadata": {},
   "outputs": [
    {
     "name": "stdout",
     "output_type": "stream",
     "text": [
      "Best IDP Model Parameters based on BIC <bound method BayesianGaussianMixture.get_params of BayesianGaussianMixture(covariance_prior=None, covariance_type='full',\n",
      "            degrees_of_freedom_prior=None, init_params='random',\n",
      "            max_iter=1500, mean_precision_prior=0.8, mean_prior=None,\n",
      "            n_components=5, n_init=1, random_state=0, reg_covar=0,\n",
      "            tol=0.001, verbose=0, verbose_interval=10, warm_start=False,\n",
      "            weight_concentration_prior=None,\n",
      "            weight_concentration_prior_type='dirichlet_process')>\n"
     ]
    }
   ],
   "source": [
    "print \"Best IDP Model Parameters based on BIC\", best_lsa_model.get_params"
   ]
  },
  {
   "cell_type": "code",
   "execution_count": 166,
   "metadata": {},
   "outputs": [
    {
     "name": "stdout",
     "output_type": "stream",
     "text": [
      "Homogeneity: 0.069\n",
      "Completeness: 0.074\n",
      "V-measure: 0.071\n",
      "Adjusted Rand-Index: 0.065\n",
      "Silhouette Coefficient: 0.059\n",
      "fowlkes_mallows_score: 0.267\n"
     ]
    },
    {
     "data": {
      "text/plain": [
       "(array([ 127.,    0.,  778.,    0.,    0.,  695.,    0.,  815.,    0.,  688.]),\n",
       " array([ 0. ,  0.4,  0.8,  1.2,  1.6,  2. ,  2.4,  2.8,  3.2,  3.6,  4. ]),\n",
       " <a list of 10 Patch objects>)"
      ]
     },
     "execution_count": 166,
     "metadata": {},
     "output_type": "execute_result"
    },
    {
     "data": {
      "image/png": "[encoded data removed]",
      "text/plain": [
       "<matplotlib.figure.Figure at 0x7f6e1dc3a350>"
      ]
     },
     "metadata": {},
     "output_type": "display_data"
    }
   ],
   "source": [
    "predicted_cluster = best_lsa_model.predict(lsa_result)\n",
    "print(\"Homogeneity: %0.3f\" % metrics.homogeneity_score(df['label'], predicted_cluster))\n",
    "print(\"Completeness: %0.3f\" % metrics.completeness_score(df['label'], predicted_cluster))\n",
    "print(\"V-measure: %0.3f\" % metrics.v_measure_score(df['label'], predicted_cluster))\n",
    "print(\"Adjusted Rand-Index: %.3f\"\n",
    "      % metrics.adjusted_rand_score(df['label'], predicted_cluster))\n",
    "print(\"Silhouette Coefficient: %0.3f\"\n",
    "      % metrics.silhouette_score(lsa_result, predicted_cluster, sample_size=1000))\n",
    "print (\"fowlkes_mallows_score: %.3f\"\n",
    "      % metrics.fowlkes_mallows_score(df['label'], predicted_cluster))\n",
    "plt.hist(predicted_cluster)"
   ]
  },
  {
   "cell_type": "code",
   "execution_count": 167,
   "metadata": {},
   "outputs": [],
   "source": [
    "def print_cluster_comp(predicted_labels,actual_labels):\n",
    "    Cluster_ids = {}\n",
    "    for i in predicted_labels:\n",
    "        Cluster_ids[i] = (predicted_labels==i).nonzero()[0]\n",
    "\n",
    "    targets = np.array(actual_labels)\n",
    "    #print Cluster_ids\n",
    "    for label in Cluster_ids.keys():\n",
    "        #print type(label)\n",
    "        idx = Cluster_ids[label]\n",
    "        print \"Cluster Number\", str(label), \"Composition\", np.bincount(targets[idx])\n",
    "        print \"\\n\""
   ]
  },
  {
   "cell_type": "code",
   "execution_count": 168,
   "metadata": {},
   "outputs": [],
   "source": [
    "pred_proba_val_labels = best_lsa_model.predict_proba(lsa_val)"
   ]
  },
  {
   "cell_type": "code",
   "execution_count": 169,
   "metadata": {},
   "outputs": [
    {
     "name": "stdout",
     "output_type": "stream",
     "text": [
      "[[  0.00000000e+000   0.00000000e+000   3.51689396e-144   1.00000000e+000\n",
      "    8.30675887e-053]\n",
      " [  0.00000000e+000   0.00000000e+000   9.86993622e-002   9.01106994e-001\n",
      "    1.93644262e-004]\n",
      " [  2.03265370e-239   3.45590933e-156   7.12975324e-001   2.86787668e-001\n",
      "    2.37007690e-004]\n",
      " ..., \n",
      " [  0.00000000e+000   0.00000000e+000   8.45298941e-001   1.54701043e-001\n",
      "    1.60401914e-008]\n",
      " [  1.00000000e+000   4.71206321e-016   1.07706479e-037   3.53519379e-041\n",
      "    3.12752230e-034]\n",
      " [  0.00000000e+000   2.46966340e-261   6.40950919e-008   9.98421723e-001\n",
      "    1.57821320e-003]]\n",
      "[  1.00000000e+00   1.82968508e-08   1.00000000e+00   1.00000000e+00\n",
      "   1.00000000e+00]\n",
      "[[  0.00000000e+000   0.00000000e+000   3.51689396e-144   1.00000000e+000\n",
      "    8.30675887e-053]\n",
      " [  0.00000000e+000   0.00000000e+000   9.86993622e-002   9.01106994e-001\n",
      "    1.93644262e-004]\n",
      " [  2.03265370e-239   1.88880007e-148   7.12975324e-001   2.86787668e-001\n",
      "    2.37007690e-004]\n",
      " ..., \n",
      " [  0.00000000e+000   0.00000000e+000   8.45298941e-001   1.54701043e-001\n",
      "    1.60401914e-008]\n",
      " [  1.00000000e+000   2.57534111e-008   1.07706479e-037   3.53519379e-041\n",
      "    3.12752230e-034]\n",
      " [  0.00000000e+000   1.34977512e-253   6.40950919e-008   9.98421723e-001\n",
      "    1.57821320e-003]]\n"
     ]
    }
   ],
   "source": [
    "print pred_proba_val_labels\n",
    "val_gmm_class_max_prob_lists = np.array([max(pred_proba_val_labels[:,val]) for val in range(len(pred_proba_val_labels[0]))])\n",
    "val_gmm_class_min_prob_lists = np.array([min(pred_proba_val_labels[:,val]) for val in range(len(pred_proba_val_labels[0]))])\n",
    "val_gmm_delta = val_gmm_class_max_prob_lists - val_gmm_class_min_prob_lists\n",
    "\n",
    "print val_gmm_delta\n",
    "# Normalized for test vector\n",
    "scaled_bgmm_val_class_probs = np.divide(pred_proba_val_labels,val_gmm_delta)\n",
    "print scaled_bgmm_val_class_probs"
   ]
  },
  {
   "cell_type": "code",
   "execution_count": 170,
   "metadata": {},
   "outputs": [
    {
     "data": {
      "image/png": "[encoded data removed]",
      "text/plain": [
       "<matplotlib.figure.Figure at 0x7f6e1debdf50>"
      ]
     },
     "metadata": {},
     "output_type": "display_data"
    }
   ],
   "source": [
    "x = np.amax(pred_proba_val_labels, axis = 1)\n",
    "#print pred_proba_test_labels[:,0]\n",
    "plt.figure(figsize = (12, 8))\n",
    "n, bins, patches = plt.hist(x, 50)\n",
    "plt.title(\"max prob dist\")\n",
    "plt.show()"
   ]
  },
  {
   "cell_type": "code",
   "execution_count": 171,
   "metadata": {},
   "outputs": [
    {
     "name": "stdout",
     "output_type": "stream",
     "text": [
      "[  5.86428615e-271   2.12970984e-113   1.91396045e-001   1.00000000e+000\n",
      "   9.90671861e-001]\n",
      "[[  0.00000000e+000   0.00000000e+000   3.51689396e-144   1.00000000e+000\n",
      "    8.30675887e-053]\n",
      " [  0.00000000e+000   0.00000000e+000   9.86993622e-002   9.01106994e-001\n",
      "    1.93644262e-004]\n",
      " [  2.03265370e-239   1.88880007e-148   7.12975324e-001   2.86787668e-001\n",
      "    2.37007690e-004]\n",
      " ..., \n",
      " [  0.00000000e+000   0.00000000e+000   8.45298941e-001   1.54701043e-001\n",
      "    1.60401914e-008]\n",
      " [  1.00000000e+000   2.57534111e-008   1.07706479e-037   3.53519379e-041\n",
      "    3.12752230e-034]\n",
      " [  0.00000000e+000   1.34977512e-253   6.40950919e-008   9.98421723e-001\n",
      "    1.57821320e-003]]\n",
      "[[0 0 0 1 0]\n",
      " [0 0 0 0 0]\n",
      " [1 0 1 0 0]\n",
      " ..., \n",
      " [0 0 1 0 0]\n",
      " [1 1 0 0 0]\n",
      " [0 0 0 0 0]]\n",
      "[ 0  1  3  4  5  6  7  8 10 11]\n"
     ]
    }
   ],
   "source": [
    "class_threshold = 85.0\n",
    "val_bgmm_class_prob_percentile_cutoff = np.array([np.percentile(scaled_bgmm_val_class_probs[:,val], class_threshold) \n",
    "                                     for val in range(len(scaled_bgmm_val_class_probs[0]))])\n",
    "\n",
    "print val_bgmm_class_prob_percentile_cutoff\n",
    "\n",
    "bgmm_val_class_preds = np.greater_equal(scaled_bgmm_val_class_probs,val_bgmm_class_prob_percentile_cutoff).astype(int)\n",
    "\n",
    "print scaled_bgmm_val_class_probs\n",
    "# Predict the test label based on percental\n",
    "# If a data is below 80% for prob of all class, it belongs to open class\n",
    "val_bgmm_valid_class_probs = np.multiply(scaled_bgmm_val_class_probs, bgmm_val_class_preds)\n",
    "val_bgmm_valid_class = np.greater_equal(np.ceil(val_bgmm_valid_class_probs),1).astype(int)\n",
    "print val_bgmm_valid_class\n",
    "val_bgmm_predicted_multinomial = np.multiply(val_bgmm_valid_class, np.unique(train_final_labels))\n",
    "print np.unique(np.sum(val_bgmm_predicted_multinomial, axis=1))\n",
    "bgmm_predicted_val_class = np.max(val_bgmm_predicted_multinomial,axis=1)"
   ]
  },
  {
   "cell_type": "code",
   "execution_count": 172,
   "metadata": {},
   "outputs": [
    {
     "name": "stdout",
     "output_type": "stream",
     "text": [
      "[487 153   0 151 168   0 134 146] [864  75   0  75  75   0  75  75]\n",
      "1239 1239\n"
     ]
    }
   ],
   "source": [
    "print np.bincount(valid_final_labels), np.bincount(gmm_predicted_val_class)\n",
    "print np.sum(np.bincount(valid_final_labels)), np.sum(np.bincount(gmm_predicted_val_class))"
   ]
  },
  {
   "cell_type": "markdown",
   "metadata": {},
   "source": [
    "## Calculate Unseen Class Precision, Recall, F1 Score"
   ]
  },
  {
   "cell_type": "code",
   "execution_count": 173,
   "metadata": {},
   "outputs": [
    {
     "name": "stdout",
     "output_type": "stream",
     "text": [
      "Composition of bgmm_predicted_valid_class for true unseen class indices [177  31   0  46  90   0  86  57]\n",
      "487\n"
     ]
    }
   ],
   "source": [
    "print \"Composition of bgmm_predicted_valid_class for true unseen class indices\", np.bincount(sorted(bgmm_predicted_val_class[missing_class_idx_val]))\n",
    "print sum(np.bincount(sorted(gmm_predicted_val_class[missing_class_idx_val])))"
   ]
  },
  {
   "cell_type": "code",
   "execution_count": 174,
   "metadata": {},
   "outputs": [
    {
     "name": "stdout",
     "output_type": "stream",
     "text": [
      "             precision    recall  f1-score   support\n",
      "\n",
      "          0       0.36      0.35      0.35       513\n",
      "          1       0.07      0.14      0.10        76\n",
      "          3       0.05      0.09      0.07        92\n",
      "          4       0.16      0.15      0.15       186\n",
      "          6       0.11      0.08      0.09       186\n",
      "          7       0.12      0.10      0.11       186\n",
      "\n",
      "avg / total       0.22      0.21      0.21      1239\n",
      "\n",
      "[[177  72  67  77  63  57]\n",
      " [ 31  11   4  13   7  10]\n",
      " [ 46  10   8  13   7   8]\n",
      " [ 90  11   9  27  16  33]\n",
      " [ 86  24  25  16  15  20]\n",
      " [ 57  25  38  22  26  18]]\n"
     ]
    }
   ],
   "source": [
    "from sklearn.metrics import confusion_matrix, classification_report, precision_score, recall_score, f1_score\n",
    "print classification_report(bgmm_predicted_val_class, valid_final_labels)\n",
    "print confusion_matrix(bgmm_predicted_val_class, valid_final_labels)"
   ]
  },
  {
   "cell_type": "code",
   "execution_count": 175,
   "metadata": {},
   "outputs": [
    {
     "name": "stdout",
     "output_type": "stream",
     "text": [
      "0.345029239766 0.363449691992 0.354\n"
     ]
    }
   ],
   "source": [
    "def calculate_unseen_class_f1score(pred_class, true_class, unseen_class_id):\n",
    "    predicted_zero_ind = (pred_class==unseen_class_id).nonzero()[0]\n",
    "    predicted_nonzero_ind = (pred_class >unseen_class_id).nonzero()[0]\n",
    "    #print np.bincount(true_class[predicted_zero_ind])[0]\n",
    "    TP = np.bincount(true_class[predicted_zero_ind])[0]\n",
    "    FP =  sum(np.bincount(true_class[predicted_zero_ind])) - TP\n",
    "    FN =  np.bincount(true_class[predicted_nonzero_ind])[0]\n",
    "    #print TP, FP, FN\n",
    "    unseen_class_precision = float(TP)/(TP+FP)\n",
    "    unseen_class_recall = float(TP)/(TP+FN)\n",
    "    unseen_class_f1 = 2*unseen_class_precision*unseen_class_recall/(unseen_class_precision+unseen_class_recall)\n",
    "    #print unseen_class_precision,unseen_class_recall,unseen_class_f1\n",
    "    return unseen_class_precision, unseen_class_recall,unseen_class_f1\n",
    "    \n",
    "pr,re,f1 = calculate_unseen_class_f1score(bgmm_predicted_val_class,valid_final_labels,0)\n",
    "print pr,re,f1"
   ]
  },
  {
   "cell_type": "code",
   "execution_count": 176,
   "metadata": {
    "scrolled": false
   },
   "outputs": [
    {
     "name": "stdout",
     "output_type": "stream",
     "text": [
      "[1 3 4 6 7] [0 1 3 4 6 7]\n",
      "Threshold Too Low. No unseen class prediction\n",
      "[1 3 4 6 7] [0 1 3 4 6 7]\n",
      "Threshold Too Low. No unseen class prediction\n",
      "[1 3 4 6 7] [0 1 3 4 6 7]\n",
      "Threshold Too Low. No unseen class prediction\n",
      "[1 3 4 6 7] [0 1 3 4 6 7]\n",
      "Threshold Too Low. No unseen class prediction\n",
      "[1 3 4 6 7] [0 1 3 4 6 7]\n",
      "Threshold Too Low. No unseen class prediction\n",
      "[1 3 4 6 7] [0 1 3 4 6 7]\n",
      "Threshold Too Low. No unseen class prediction\n",
      "[1 3 4 6 7] [0 1 3 4 6 7]\n",
      "Threshold Too Low. No unseen class prediction\n",
      "[1 3 4 6 7] [0 1 3 4 6 7]\n",
      "Threshold Too Low. No unseen class prediction\n",
      "[0 1 3 4 6 7] [0 1 3 4 6 7]\n",
      "Threshold:  58 F1 Score:  0.00811359026369\n",
      "Actual Unseen Class 487 Predicted Unseen Class 6\n",
      "[0 1 3 4 6 7] [0 1 3 4 6 7]\n",
      "Threshold:  59 F1 Score:  0.0120240480962\n",
      "Actual Unseen Class 487 Predicted Unseen Class 12\n",
      "[0 1 3 4 6 7] [0 1 3 4 6 7]\n",
      "Threshold:  60 F1 Score:  0.0235756385069\n",
      "Actual Unseen Class 487 Predicted Unseen Class 22\n",
      "[0 1 3 4 6 7] [0 1 3 4 6 7]\n",
      "Threshold:  61 F1 Score:  0.0308285163776\n",
      "Actual Unseen Class 487 Predicted Unseen Class 32\n",
      "[0 1 3 4 6 7] [0 1 3 4 6 7]\n",
      "Threshold:  62 F1 Score:  0.0379506641366\n",
      "Actual Unseen Class 487 Predicted Unseen Class 40\n",
      "[0 1 3 4 6 7] [0 1 3 4 6 7]\n",
      "Threshold:  63 F1 Score:  0.0410447761194\n",
      "Actual Unseen Class 487 Predicted Unseen Class 49\n",
      "[0 1 3 4 6 7] [0 1 3 4 6 7]\n",
      "Threshold:  64 F1 Score:  0.051376146789\n",
      "Actual Unseen Class 487 Predicted Unseen Class 58\n",
      "[0 1 3 4 6 7] [0 1 3 4 6 7]\n",
      "Threshold:  65 F1 Score:  0.0580762250454\n",
      "Actual Unseen Class 487 Predicted Unseen Class 64\n",
      "[0 1 3 4 6 7] [0 1 3 4 6 7]\n",
      "Threshold:  66 F1 Score:  0.0819964349376\n",
      "Actual Unseen Class 487 Predicted Unseen Class 74\n",
      "[0 1 3 4 6 7] [0 1 3 4 6 7]\n",
      "Threshold:  67 F1 Score:  0.0909090909091\n",
      "Actual Unseen Class 487 Predicted Unseen Class 85\n",
      "[0 1 3 4 6 7] [0 1 3 4 6 7]\n",
      "Threshold:  68 F1 Score:  0.106529209622\n",
      "Actual Unseen Class 487 Predicted Unseen Class 95\n",
      "[0 1 3 4 6 7] [0 1 3 4 6 7]\n",
      "Threshold:  69 F1 Score:  0.13\n",
      "Actual Unseen Class 487 Predicted Unseen Class 113\n",
      "[0 1 3 4 6 7] [0 1 3 4 6 7]\n",
      "Threshold:  70 F1 Score:  0.145395799677\n",
      "Actual Unseen Class 487 Predicted Unseen Class 132\n",
      "[0 1 3 4 6 7] [0 1 3 4 6 7]\n",
      "Threshold:  71 F1 Score:  0.163265306122\n",
      "Actual Unseen Class 487 Predicted Unseen Class 150\n",
      "[0 1 3 4 6 7] [0 1 3 4 6 7]\n",
      "Threshold:  72 F1 Score:  0.176024279211\n",
      "Actual Unseen Class 487 Predicted Unseen Class 172\n",
      "[0 1 3 4 6 7] [0 1 3 4 6 7]\n",
      "Threshold:  73 F1 Score:  0.190895741557\n",
      "Actual Unseen Class 487 Predicted Unseen Class 194\n",
      "[0 1 3 4 6 7] [0 1 3 4 6 7]\n",
      "Threshold:  74 F1 Score:  0.206896551724\n",
      "Actual Unseen Class 487 Predicted Unseen Class 209\n",
      "[0 1 3 4 6 7] [0 1 3 4 6 7]\n",
      "Threshold:  75 F1 Score:  0.212290502793\n",
      "Actual Unseen Class 487 Predicted Unseen Class 229\n",
      "[0 1 3 4 6 7] [0 1 3 4 6 7]\n",
      "Threshold:  76 F1 Score:  0.225237449118\n",
      "Actual Unseen Class 487 Predicted Unseen Class 250\n",
      "[0 1 3 4 6 7] [0 1 3 4 6 7]\n",
      "Threshold:  77 F1 Score:  0.248366013072\n",
      "Actual Unseen Class 487 Predicted Unseen Class 278\n",
      "[0 1 3 4 6 7] [0 1 3 4 6 7]\n",
      "Threshold:  78 F1 Score:  0.264631043257\n",
      "Actual Unseen Class 487 Predicted Unseen Class 299\n",
      "[0 1 3 4 6 7] [0 1 3 4 6 7]\n",
      "Threshold:  79 F1 Score:  0.281829419036\n",
      "Actual Unseen Class 487 Predicted Unseen Class 322\n",
      "[0 1 3 4 6 7] [0 1 3 4 6 7]\n",
      "Threshold:  80 F1 Score:  0.289127837515\n",
      "Actual Unseen Class 487 Predicted Unseen Class 350\n",
      "[0 1 3 4 6 7] [0 1 3 4 6 7]\n",
      "Threshold:  81 F1 Score:  0.298611111111\n",
      "Actual Unseen Class 487 Predicted Unseen Class 377\n",
      "[0 1 3 4 6 7] [0 1 3 4 6 7]\n",
      "Threshold:  82 F1 Score:  0.302013422819\n",
      "Actual Unseen Class 487 Predicted Unseen Class 407\n",
      "[0 1 3 4 6 7] [0 1 3 4 6 7]\n",
      "Threshold:  83 F1 Score:  0.324324324324\n",
      "Actual Unseen Class 487 Predicted Unseen Class 438\n",
      "[0 1 3 4 6 7] [0 1 3 4 6 7]\n",
      "Threshold:  84 F1 Score:  0.337851929093\n",
      "Actual Unseen Class 487 Predicted Unseen Class 472\n",
      "[0 1 3 4 6 7] [0 1 3 4 6 7]\n",
      "Threshold:  85 F1 Score:  0.354\n",
      "Actual Unseen Class 487 Predicted Unseen Class 513\n",
      "[0 1 3 4 6 7] [0 1 3 4 6 7]\n",
      "Threshold:  86 F1 Score:  0.377906976744\n",
      "Actual Unseen Class 487 Predicted Unseen Class 545\n",
      "[0 1 3 4 6 7] [0 1 3 4 6 7]\n",
      "Threshold:  87 F1 Score:  0.388422035481\n",
      "Actual Unseen Class 487 Predicted Unseen Class 584\n",
      "[0 1 3 4 6 7] [0 1 3 4 6 7]\n",
      "Threshold:  88 F1 Score:  0.39566395664\n",
      "Actual Unseen Class 487 Predicted Unseen Class 620\n",
      "[0 1 3 4 6 7] [0 1 3 4 6 7]\n",
      "Threshold:  89 F1 Score:  0.40350877193\n",
      "Actual Unseen Class 487 Predicted Unseen Class 653\n",
      "[0 1 3 4 6 7] [0 1 3 4 6 7]\n",
      "Threshold:  90 F1 Score:  0.412213740458\n",
      "Actual Unseen Class 487 Predicted Unseen Class 692\n",
      "[0 1 3 4 6 7] [0 1 3 4 6 7]\n",
      "Threshold:  91 F1 Score:  0.427040395713\n",
      "Actual Unseen Class 487 Predicted Unseen Class 726\n",
      "[0 1 3 4 6 7] [0 1 3 4 6 7]\n",
      "Threshold:  92 F1 Score:  0.441223832528\n",
      "Actual Unseen Class 487 Predicted Unseen Class 755\n",
      "[0 1 3 4 6 7] [0 1 3 4 6 7]\n",
      "Threshold:  93 F1 Score:  0.456031128405\n",
      "Actual Unseen Class 487 Predicted Unseen Class 798\n",
      "[0 1 3 4 6 7] [0 1 3 4 6 7]\n",
      "Threshold:  94 F1 Score:  0.465608465608\n",
      "Actual Unseen Class 487 Predicted Unseen Class 836\n",
      "Best Threshold:  85\n",
      "Best F1 Score:  0.354\n"
     ]
    }
   ],
   "source": [
    "best_threshold = 0.0\n",
    "best_f1_score=0.0\n",
    "for threshold in range(50,95):\n",
    "    try:\n",
    "        val_bgmm_class_prob_percentile_cutoff = np.array([np.percentile(scaled_bgmm_val_class_probs[:,val], float(threshold)) \n",
    "                                             for val in range(len(scaled_bgmm_val_class_probs[0]))])\n",
    "\n",
    "        #print val_gmm_class_prob_percentile_cutoff\n",
    "\n",
    "        bgmm_val_class_preds = np.greater_equal(scaled_bgmm_val_class_probs,val_bgmm_class_prob_percentile_cutoff).astype(int)\n",
    "\n",
    "        #print scaled_gmm_val_class_probs\n",
    "        # Predict the test label based on percental\n",
    "        # If a data is below 80% for prob of all class, it belongs to open class\n",
    "        val_bgmm_valid_class_probs_dup = np.multiply(scaled_bgmm_val_class_probs, bgmm_val_class_preds)\n",
    "\n",
    "        val_bgmm_valid_class_max_probs = np.max(val_bgmm_valid_class_probs_dup, axis=1)\n",
    "        #print gmm_valid_class_max_probs\n",
    "        #print type(gmm_valid_class_probs_dup),  type(gmm_valid_class_max_probs)\n",
    "        val_temp = np.equal(val_bgmm_valid_class_probs_dup , val_bgmm_valid_class_max_probs.reshape(len(val_bgmm_valid_class_max_probs),1))\n",
    "        val_bgmm_valid_class_probs=np.multiply(val_bgmm_valid_class_probs_dup,val_temp)\n",
    "        val_bgmm_valid_class = np.greater_equal(np.ceil(val_bgmm_valid_class_probs),1).astype(int)\n",
    "        #print val_gmm_valid_class\n",
    "        val_bgmm_predicted_multinomial = np.multiply(val_bgmm_valid_class, np.unique(train_final_labels))\n",
    "        #print np.unique(np.sum(val_gmm_predicted_multinomial, axis=1))\n",
    "        bgmm_predicted_val_class = np.max(val_bgmm_predicted_multinomial,axis=1)  \n",
    "        print np.unique(bgmm_predicted_val_class), np.unique(valid_final_labels)\n",
    "        pr,re,f1 = calculate_unseen_class_f1score(bgmm_predicted_val_class,valid_final_labels,0)\n",
    "        print \"Threshold: \",threshold, \"F1 Score: \", f1 \n",
    "        print \"Actual Unseen Class\", np.bincount(valid_final_labels)[0], \"Predicted Unseen Class\",np.bincount(bgmm_predicted_val_class)[0]\n",
    "        # Set the threshold so that not unseen class volume is actual unseen class volume in validation set\n",
    "        unseen_class_ratio = float(np.bincount(bgmm_predicted_val_class)[0])/np.bincount(valid_final_labels)[0]\n",
    "        #overall_F1_score = f1_score(gmm_predicted_val_class, valid_final_labels)\n",
    "        if f1 > best_f1_score and unseen_class_ratio < 1.1:\n",
    "\n",
    "            best_f1_score = f1\n",
    "            best_threshold = threshold\n",
    "    except:\n",
    "        print \"Threshold Too Low. No unseen class prediction\"\n",
    "        \n",
    "print \"Best Threshold: \", best_threshold\n",
    "print \"Best F1 Score: \", best_f1_score"
   ]
  },
  {
   "cell_type": "markdown",
   "metadata": {},
   "source": [
    "### Test Data Prediction"
   ]
  },
  {
   "cell_type": "code",
   "execution_count": 177,
   "metadata": {},
   "outputs": [],
   "source": [
    "pred_proba_test_labels = best_lsa_model.predict_proba(lsa_test)"
   ]
  },
  {
   "cell_type": "code",
   "execution_count": 178,
   "metadata": {},
   "outputs": [
    {
     "name": "stdout",
     "output_type": "stream",
     "text": [
      "[[  0.00000000e+000   0.00000000e+000   2.09445727e-078   1.00000000e+000\n",
      "    3.12510209e-035]\n",
      " [  0.00000000e+000   0.00000000e+000   4.29714554e-138   1.00000000e+000\n",
      "    7.42276162e-053]\n",
      " [  0.00000000e+000   3.04180292e-130   1.79115697e-017   3.67791630e-016\n",
      "    1.00000000e+000]\n",
      " ..., \n",
      " [  0.00000000e+000   0.00000000e+000   1.13983631e-029   1.00000000e+000\n",
      "    2.73095555e-012]\n",
      " [  1.00000000e+000   4.71206321e-016   1.07706479e-037   3.53519379e-041\n",
      "    3.12752230e-034]\n",
      " [  0.00000000e+000   0.00000000e+000   1.35039751e-094   1.00000000e+000\n",
      "    2.16355363e-029]]\n",
      "[  1.00000000e+00   6.08987076e-12   1.00000000e+00   1.00000000e+00\n",
      "   1.00000000e+00]\n",
      "[[  0.00000000e+000   0.00000000e+000   2.09445727e-078   1.00000000e+000\n",
      "    3.12510209e-035]\n",
      " [  0.00000000e+000   0.00000000e+000   4.29714554e-138   1.00000000e+000\n",
      "    7.42276162e-053]\n",
      " [  0.00000000e+000   4.99485628e-119   1.79115697e-017   3.67791630e-016\n",
      "    1.00000000e+000]\n",
      " ..., \n",
      " [  0.00000000e+000   0.00000000e+000   1.13983631e-029   1.00000000e+000\n",
      "    2.73095555e-012]\n",
      " [  1.00000000e+000   7.73754222e-005   1.07706479e-037   3.53519379e-041\n",
      "    3.12752230e-034]\n",
      " [  0.00000000e+000   0.00000000e+000   1.35039751e-094   1.00000000e+000\n",
      "    2.16355363e-029]]\n"
     ]
    }
   ],
   "source": [
    "print pred_proba_test_labels\n",
    "bgmm_class_max_prob_lists = np.array([max(pred_proba_test_labels[:,val]) for val in range(len(pred_proba_test_labels[0]))])\n",
    "bgmm_class_min_prob_lists = np.array([min(pred_proba_test_labels[:,val]) for val in range(len(pred_proba_test_labels[0]))])\n",
    "bgmm_delta = bgmm_class_max_prob_lists - bgmm_class_min_prob_lists\n",
    "\n",
    "print bgmm_delta\n",
    "# Normalized for test vector\n",
    "scaled_bgmm_test_class_probs = np.divide(pred_proba_test_labels,bgmm_delta)\n",
    "print scaled_bgmm_test_class_probs"
   ]
  },
  {
   "cell_type": "code",
   "execution_count": 179,
   "metadata": {},
   "outputs": [
    {
     "data": {
      "image/png": "[encoded data removed]",
      "text/plain": [
       "<matplotlib.figure.Figure at 0x7f6e1f670250>"
      ]
     },
     "metadata": {},
     "output_type": "display_data"
    }
   ],
   "source": [
    "x = np.amax(pred_proba_test_labels, axis = 1)\n",
    "#print pred_proba_test_labels[:,0]\n",
    "plt.figure(figsize = (12, 8))\n",
    "n, bins, patches = plt.hist(x, 50)\n",
    "plt.title(\"max prob dist\")\n",
    "plt.show()"
   ]
  },
  {
   "cell_type": "code",
   "execution_count": 180,
   "metadata": {},
   "outputs": [
    {
     "name": "stdout",
     "output_type": "stream",
     "text": [
      "85\n",
      "[[  0.00000000e+00   0.00000000e+00   0.00000000e+00   1.00000000e+00\n",
      "    0.00000000e+00]\n",
      " [  0.00000000e+00   0.00000000e+00   0.00000000e+00   1.00000000e+00\n",
      "    0.00000000e+00]\n",
      " [  0.00000000e+00   0.00000000e+00   0.00000000e+00   0.00000000e+00\n",
      "    1.00000000e+00]\n",
      " ..., \n",
      " [  0.00000000e+00   0.00000000e+00   0.00000000e+00   0.00000000e+00\n",
      "    0.00000000e+00]\n",
      " [  1.00000000e+00   7.73754222e-05   0.00000000e+00   0.00000000e+00\n",
      "    0.00000000e+00]\n",
      " [  0.00000000e+00   0.00000000e+00   0.00000000e+00   1.00000000e+00\n",
      "    0.00000000e+00]]\n",
      "[ 1.  1.  1. ...,  0.  1.  1.]\n",
      "[[0 0 0 1 0]\n",
      " [0 0 0 1 0]\n",
      " [0 0 0 0 1]\n",
      " ..., \n",
      " [0 0 0 0 0]\n",
      " [1 0 0 0 0]\n",
      " [0 0 0 1 0]]\n",
      "[0 1 3 4 6 7]\n"
     ]
    }
   ],
   "source": [
    "print best_threshold\n",
    "bgmm_class_prob_percentile_cutoff = np.array([np.percentile(scaled_bgmm_test_class_probs[:,val], best_threshold) \n",
    "                                     for val in range(len(scaled_bgmm_test_class_probs[0]))])\n",
    "\n",
    "#print gmm_class_prob_percentile_cutoff\n",
    "\n",
    "bgmm_test_class_preds = np.greater_equal(scaled_bgmm_test_class_probs,bgmm_class_prob_percentile_cutoff).astype(int)\n",
    "\n",
    "#print scaled_gmm_test_class_probs\n",
    "# Predict the test label based on percental\n",
    "# If a data is below 80% for prob of all class, it belongs to open class\n",
    "bgmm_valid_class_probs_dup = np.multiply(scaled_bgmm_test_class_probs, bgmm_test_class_preds)\n",
    "print bgmm_valid_class_probs_dup\n",
    "bgmm_valid_class_max_probs = np.max(bgmm_valid_class_probs_dup, axis=1)\n",
    "print bgmm_valid_class_max_probs\n",
    "#print type(gmm_valid_class_probs_dup),  type(gmm_valid_class_max_probs)\n",
    "temp = np.equal(bgmm_valid_class_probs_dup , bgmm_valid_class_max_probs.reshape(len(bgmm_valid_class_max_probs),1))\n",
    "bgmm_valid_class_probs=np.multiply(bgmm_valid_class_probs_dup,temp)\n",
    "bgmm_valid_class = np.greater_equal(np.ceil(bgmm_valid_class_probs),1).astype(int)\n",
    "print bgmm_valid_class\n",
    "bgmm_predicted_multinomial = np.multiply(bgmm_valid_class, np.unique(train_final_labels))\n",
    "print np.unique(np.sum(bgmm_predicted_multinomial, axis=1))\n",
    "bgmm_predicted_test_class = np.max(bgmm_predicted_multinomial,axis=1)"
   ]
  },
  {
   "cell_type": "code",
   "execution_count": 181,
   "metadata": {},
   "outputs": [
    {
     "name": "stdout",
     "output_type": "stream",
     "text": [
      "[593 206   0 187 192   0 160 211] [643 161   0  47 232   0 233 233]\n",
      "1549 1549\n",
      "[[235  65  21 106  94  72]\n",
      " [ 79  26   6  30  29  36]\n",
      " [ 74  12   5   7  36  53]\n",
      " [ 91  16   7  29  22  27]\n",
      " [ 72  18   4  18  20  28]\n",
      " [ 92  24   4  42  32  17]]\n"
     ]
    }
   ],
   "source": [
    "print np.bincount(test_labels), np.bincount(bgmm_predicted_test_class)\n",
    "print np.sum(np.bincount(test_labels)), np.sum(np.bincount(bgmm_predicted_test_class))\n",
    "print confusion_matrix(test_labels, bgmm_predicted_test_class)"
   ]
  },
  {
   "cell_type": "code",
   "execution_count": 182,
   "metadata": {},
   "outputs": [
    {
     "name": "stdout",
     "output_type": "stream",
     "text": [
      "             precision    recall  f1-score   support\n",
      "\n",
      "          0       0.37      0.40      0.38       593\n",
      "          1       0.16      0.13      0.14       206\n",
      "          3       0.11      0.03      0.04       187\n",
      "          4       0.12      0.15      0.14       192\n",
      "          6       0.09      0.12      0.10       160\n",
      "          7       0.07      0.08      0.08       211\n",
      "\n",
      "avg / total       0.21      0.21      0.21      1549\n",
      "\n",
      "0.214331826985\n"
     ]
    }
   ],
   "source": [
    "print classification_report(test_labels, bgmm_predicted_test_class)\n",
    "print accuracy_score(test_labels, bgmm_predicted_test_class)"
   ]
  },
  {
   "cell_type": "markdown",
   "metadata": {},
   "source": [
    "## Unseen Class Precision, Recall F1 Score"
   ]
  },
  {
   "cell_type": "code",
   "execution_count": 183,
   "metadata": {},
   "outputs": [
    {
     "name": "stdout",
     "output_type": "stream",
     "text": [
      "Unseen Class Precision:  0.365474339036\n",
      "Unseen Class Recall:  0.39629005059\n",
      "Unseen Class F1 Score:  0.380258899676\n"
     ]
    }
   ],
   "source": [
    "print \"Unseen Class Precision: \", calculate_unseen_class_f1score(bgmm_predicted_test_class,test_labels,0)[0]\n",
    "print \"Unseen Class Recall: \", calculate_unseen_class_f1score(bgmm_predicted_test_class,test_labels,0)[1]\n",
    "print \"Unseen Class F1 Score: \", calculate_unseen_class_f1score(bgmm_predicted_test_class,test_labels,0)[2]"
   ]
  },
  {
   "cell_type": "code",
   "execution_count": 98,
   "metadata": {},
   "outputs": [
    {
     "name": "stdout",
     "output_type": "stream",
     "text": [
      "Homogeneity: 0.013\n",
      "Completeness: 0.016\n",
      "V-measure: 0.014\n",
      "Adjusted Rand-Index: 0.009\n",
      "Silhouette Coefficient: 0.030\n",
      "fowlkes_mallows_score: 0.273\n"
     ]
    }
   ],
   "source": [
    "pred_class_indices = (gmm_predicted_test_class==0).nonzero()[0]\n",
    "print(\"Homogeneity: %0.3f\" % metrics.homogeneity_score(df_test['label'], gmm_predicted_test_class))\n",
    "print(\"Completeness: %0.3f\" % metrics.completeness_score(df_test['label'], gmm_predicted_test_class))\n",
    "print(\"V-measure: %0.3f\" % metrics.v_measure_score(df_test['label'], gmm_predicted_test_class))\n",
    "print(\"Adjusted Rand-Index: %.3f\"\n",
    "      % metrics.adjusted_rand_score(df_test['label'], gmm_predicted_test_class))\n",
    "print(\"Silhouette Coefficient: %0.3f\"\n",
    "      % metrics.silhouette_score(lsa_test, gmm_predicted_test_class, sample_size=1000))\n",
    "print (\"fowlkes_mallows_score: %.3f\"\n",
    "      % metrics.fowlkes_mallows_score(df_test['label'], gmm_predicted_test_class))"
   ]
  }
 ],
 "metadata": {
  "kernelspec": {
   "display_name": "Python 2",
   "language": "python",
   "name": "python2"
  },
  "language_info": {
   "codemirror_mode": {
    "name": "ipython",
    "version": 2
   },
   "file_extension": ".py",
   "mimetype": "text/x-python",
   "name": "python",
   "nbconvert_exporter": "python",
   "pygments_lexer": "ipython2",
   "version": "2.7.14"
  }
 },
 "nbformat": 4,
 "nbformat_minor": 2
}
