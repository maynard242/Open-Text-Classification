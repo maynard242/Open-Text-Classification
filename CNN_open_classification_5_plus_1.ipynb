{
 "cells": [
  {
   "cell_type": "markdown",
   "metadata": {},
   "source": [
    "## Open Classification with CNN model"
   ]
  },
  {
   "cell_type": "code",
   "execution_count": 1,
   "metadata": {},
   "outputs": [
    {
     "data": {
      "text/plain": [
       "<module 'shared_lib.utils' from 'shared_lib/utils.pyc'>"
      ]
     },
     "execution_count": 1,
     "metadata": {},
     "output_type": "execute_result"
    }
   ],
   "source": [
    "# This tells matplotlib not to try opening a new window for each plot.\n",
    "%matplotlib inline\n",
    "import matplotlib.pyplot as plt\n",
    "\n",
    "import os, sys, re, json, time, shutil\n",
    "import itertools, collections\n",
    "from IPython.display import display, HTML\n",
    "from collections import Counter\n",
    "\n",
    "# NLTK for NLP utils and corpora\n",
    "import nltk\n",
    "from sklearn.metrics import classification_report, accuracy_score\n",
    "\n",
    "# NumPy and TensorFlow\n",
    "import numpy as np\n",
    "import tensorflow as tf\n",
    "assert(tf.__version__.startswith(\"1.1\"))\n",
    "\n",
    "# utils.pretty_print_matrix uses Pandas. Configure float format here.\n",
    "import pandas as pd\n",
    "pd.set_option('float_format', lambda f: \"{0:.04f}\".format(f))\n",
    "\n",
    "# Helper libraries\n",
    "from shared_lib import utils, vocabulary, tf_embed_viz\n",
    "\n",
    "import copy\n",
    "\n",
    "# Import model\n",
    "#import cnnlm\n",
    "reload(utils)"
   ]
  },
  {
   "cell_type": "code",
   "execution_count": 4,
   "metadata": {},
   "outputs": [],
   "source": [
    "## Load SKlearn libraries\n",
    "from sklearn.ensemble import RandomForestClassifier, GradientBoostingClassifier\n",
    "from sklearn.multiclass import OneVsRestClassifier\n",
    "from sklearn.linear_model import LogisticRegression\n",
    "from sklearn.calibration import CalibratedClassifierCV\n",
    "from sklearn.svm import SVC\n",
    "from sklearn.grid_search import GridSearchCV\n",
    "from sklearn import metrics\n",
    "from sklearn.metrics import f1_score"
   ]
  },
  {
   "cell_type": "code",
   "execution_count": 3,
   "metadata": {},
   "outputs": [],
   "source": [
    "DATA_DIR = 'Data_Set/'\n",
    "PROJECT_PATH = os.getcwd()\n",
    "PROJECT_DATA = os.path.join(PROJECT_PATH, DATA_DIR)"
   ]
  },
  {
   "cell_type": "markdown",
   "metadata": {},
   "source": [
    "## Load Data Set"
   ]
  },
  {
   "cell_type": "code",
   "execution_count": 6,
   "metadata": {},
   "outputs": [
    {
     "name": "stdout",
     "output_type": "stream",
     "text": [
      "class: 0\t = alt.atheism\n",
      "class: 1\t = comp.graphics\n",
      "class: 2\t = comp.os.ms-windows.misc\n",
      "class: 3\t = comp.sys.ibm.pc.hardware\n",
      "class: 4\t = comp.sys.mac.hardware\n",
      "class: 5\t = comp.windows.x\n",
      "class: 6\t = misc.forsale\n",
      "class: 7\t = rec.autos\n",
      "class: 8\t = rec.motorcycles\n",
      "class: 9\t = rec.sport.baseball\n",
      "class: 10\t = rec.sport.hockey\n",
      "class: 11\t = sci.crypt\n",
      "class: 12\t = sci.electronics\n",
      "class: 13\t = sci.med\n",
      "class: 14\t = sci.space\n",
      "class: 15\t = soc.religion.christian\n",
      "class: 16\t = talk.politics.guns\n",
      "class: 17\t = talk.politics.mideast\n",
      "class: 18\t = talk.politics.misc\n",
      "class: 19\t = talk.religion.misc\n"
     ]
    }
   ],
   "source": [
    "# SK-learn library for importing the newsgroup data.\n",
    "from sklearn.datasets import fetch_20newsgroups\n",
    "\n",
    "# Get newsgroup data\n",
    "newsgroup_data_all = fetch_20newsgroups(subset = 'all', remove=('headers', 'footers', 'quotes'))\n",
    "all_data, all_labels = newsgroup_data_all.data, newsgroup_data_all.target\n",
    "\n",
    "# List of all the class labels\n",
    "label_list = list(newsgroup_data_all.target_names)\n",
    "\n",
    "# Print the class labels\n",
    "i = 0\n",
    "for label in label_list:\n",
    "    print \"class: %i\\t = %s\" %(i, label)\n",
    "    i += 1"
   ]
  },
  {
   "cell_type": "code",
   "execution_count": 7,
   "metadata": {},
   "outputs": [
    {
     "name": "stdout",
     "output_type": "stream",
     "text": [
      "newsgroup_all.txt\n"
     ]
    }
   ],
   "source": [
    "from nltk.corpus import PlaintextCorpusReader\n",
    "\n",
    "f = open('./Data_Set/newsgroup_prep/newsgroup_all.txt', 'w') \n",
    "for doc in all_data:\n",
    "    # Clean up str\n",
    "    doc = utils.clean_str((doc).encode('utf-8'))\n",
    "    # remove stop words and do stemming optionaly\n",
    "    doc = utils.preprocess_stop_stem(doc, stop=True, sent=True, stem=False)\n",
    "    f.write(\"%s\\n\" %(doc))\n",
    "f.close()\n",
    "\n",
    "# RegEx or list of file names\n",
    "data_20newsgroup = os.path.join(PROJECT_DATA, 'newsgroup_prep/')\n",
    "\n",
    "corpus = PlaintextCorpusReader(data_20newsgroup, 'newsgroup_all.txt')\n",
    "\n",
    "for infile in sorted(corpus.fileids()):\n",
    "    print infile # The fileids of each file."
   ]
  },
  {
   "cell_type": "code",
   "execution_count": 8,
   "metadata": {},
   "outputs": [
    {
     "name": "stdout",
     "output_type": "stream",
     "text": [
      "Vocabulary: 20000 words\n"
     ]
    }
   ],
   "source": [
    "V = 20000\n",
    "vocab = vocabulary.Vocabulary((utils.canonicalize_word(w) \n",
    "                               for w in utils.flatten(corpus.sents())),\n",
    "                               size = V)\n",
    "print \"Vocabulary: %d words\" % vocab.size"
   ]
  },
  {
   "cell_type": "code",
   "execution_count": 9,
   "metadata": {},
   "outputs": [
    {
     "name": "stdout",
     "output_type": "stream",
     "text": [
      "Randomly Select Classes:  ['comp.windows.x', 'talk.politics.mideast', 'comp.sys.ibm.pc.hardware', 'sci.crypt', 'comp.os.ms-windows.misc', 'comp.sys.mac.hardware']\n",
      "[0 1 2 3 4 5]\n"
     ]
    }
   ],
   "source": [
    "# Select training and test data based on the number of classes\n",
    "# Including randomization option\n",
    "import random\n",
    "from random import randint\n",
    "random.seed(8)\n",
    "\n",
    "num_class = 6\n",
    "randomize = True\n",
    "\n",
    "if randomize == True:\n",
    "    label_idxs = []\n",
    "    label_idxs = random.sample(range(1, 19), num_class)\n",
    "else:\n",
    "    label_idxs = range(num_class)\n",
    "\n",
    "select_classes = [label_list[i] for i in label_idxs]\n",
    "print \"Randomly Select Classes: \", select_classes\n",
    "\n",
    "newsgroups_all = fetch_20newsgroups(subset='all', remove=('headers', 'footers', 'quotes'),\n",
    "                                    categories=select_classes)\n",
    "\n",
    "all_data, all_labels = newsgroups_all.data, newsgroups_all.target\n",
    "print np.unique(all_labels)"
   ]
  },
  {
   "cell_type": "code",
   "execution_count": 10,
   "metadata": {},
   "outputs": [
    {
     "name": "stdout",
     "output_type": "stream",
     "text": [
      "Loaded 5849 docs (1.78349e+07 tokens)\n",
      "Training set: 4679 docs (14268913 tokens)\n",
      "Test set: 1170 docs (3566029 tokens)\n"
     ]
    }
   ],
   "source": [
    "doc_length = 500\n",
    "\n",
    "# Preprocess data\n",
    "# Cleaning special characters\n",
    "# Cut or pad based on document length\n",
    "all_docs = utils.preprocess_doc(all_data, length = doc_length)\n",
    "\n",
    "# Split total data set to training and test set\n",
    "train_docs, train_labels, test_docs, test_labels = utils.get_train_test_docs(all_docs, \n",
    "                                                                             all_labels, \n",
    "                                                                             split = 0.8, \n",
    "                                                                             shuffle = True)\n",
    "orig_test_labels = copy.copy(test_labels)"
   ]
  },
  {
   "cell_type": "code",
   "execution_count": 11,
   "metadata": {},
   "outputs": [
    {
     "name": "stdout",
     "output_type": "stream",
     "text": [
      "Input Training Docs shape: (4679, 500) should equal to (batch_size, doc_length)\n",
      "Input Training labels shape: (4679, 6) should equal to (batch_size, num_class)\n",
      "Input Testing Docs shape: (1170, 500) should equal to (batch_size, doc_length)\n",
      "Input Testing labels shape: (1170, 6) should equal to (batch_size, num_class)\n"
     ]
    }
   ],
   "source": [
    "# Tokenize documents and conver to ID\n",
    "# We tokenize each docs in the dataset and convert to vocab ID\n",
    "# matrix of batch_size x doc_length\n",
    "train_docs_ids = utils.docs_to_ids(train_docs, vocab)\n",
    "test_docs_ids = utils.docs_to_ids(test_docs, vocab)\n",
    "\n",
    "# Convert label to one-hot-code\n",
    "train_labels_oh = np.eye(num_class)[train_labels]\n",
    "test_labels_oh = np.eye(num_class)[test_labels]\n",
    "\n",
    "\n",
    "print \"Input Training Docs shape:\", train_docs_ids.shape, \"should equal to (batch_size, doc_length)\"\n",
    "print \"Input Training labels shape:\", train_labels_oh.shape, \"should equal to (batch_size, num_class)\"\n",
    "print \"Input Testing Docs shape:\", test_docs_ids.shape, \"should equal to (batch_size, doc_length)\"\n",
    "print \"Input Testing labels shape:\", test_labels_oh.shape, \"should equal to (batch_size, num_class)\""
   ]
  },
  {
   "cell_type": "markdown",
   "metadata": {},
   "source": [
    "### Load Pretrained Google Word2vec"
   ]
  },
  {
   "cell_type": "code",
   "execution_count": 12,
   "metadata": {},
   "outputs": [],
   "source": [
    "def load_google_bin(fname, vocab):\n",
    "    \"\"\"\n",
    "    Loads 300x1 word vecs from Google (Mikolov) word2vec\n",
    "    \"\"\"\n",
    "    word_vecs = {}\n",
    "    with open(fname, \"rb\") as f:\n",
    "        header = f.readline()\n",
    "        vocab_size, layer1_size = map(int, header.split())\n",
    "        print \"Google Word2vec Vocabulary Size:\", vocab_size\n",
    "        print \"Vector size:\", layer1_size\n",
    "        binary_len = np.dtype('float32').itemsize * layer1_size\n",
    "        print \"Binary Length of word vector:\", binary_len\n",
    "        for line in xrange(vocab_size):\n",
    "            word = []\n",
    "            while True: # Read 1 char a time\n",
    "                ch = f.read(1) \n",
    "                if ch == ' ': # If it is a space, a word is read, we join then to read its vector\n",
    "                    word = ''.join(word)\n",
    "                    break\n",
    "                if ch != '\\n': # If it is not \\n, grouping character\n",
    "                    word.append(ch) \n",
    "            if word in vocab.wordset: # If a word in the 20 newsgroup vocab, get its vector\n",
    "                word_vecs[word] = np.fromstring(f.read(binary_len), dtype='float32')  \n",
    "            else:\n",
    "                f.read(binary_len)\n",
    "    f.close()\n",
    "    return word_vecs"
   ]
  },
  {
   "cell_type": "code",
   "execution_count": 14,
   "metadata": {},
   "outputs": [
    {
     "name": "stdout",
     "output_type": "stream",
     "text": [
      "Google Word2vec Vocabulary Size: 3000000\n",
      "Vector size: 300\n",
      "Binary Length of word vector: 1200\n"
     ]
    }
   ],
   "source": [
    "google_word2vec = load_google_bin('./google_word2vec/GoogleNews-vectors-negative300.bin', vocab)"
   ]
  },
  {
   "cell_type": "code",
   "execution_count": 15,
   "metadata": {},
   "outputs": [
    {
     "name": "stdout",
     "output_type": "stream",
     "text": [
      "Total Number of vocabulary in 20newsgroup: 20000\n",
      "Total matched vocabulary from google word2vec: 16555\n",
      "--- Print a sample of google_word2vec vocabulary ---\n",
      "Word: raining \t\t Vector: [ 0.02331543  0.05004883 -0.00059891] ...\n",
      "Word: writings \t\t Vector: [ 0.18945312  0.2109375   0.20507812] ...\n",
      "Word: divinely \t\t Vector: [-0.02783203 -0.40820312 -0.01037598] ...\n",
      "Word: foul \t\t Vector: [ 0.18847656 -0.28710938  0.33007812] ...\n",
      "Word: four \t\t Vector: [ 0.0859375  -0.07275391  0.01672363] ...\n",
      "Word: gag \t\t Vector: [ 0.14648438 -0.08203125 -0.00897217] ...\n",
      "Word: prefix \t\t Vector: [ 0.34570312  0.1640625   0.11425781] ...\n",
      "Word: woods \t\t Vector: [ 0.11328125 -0.01165771 -0.20800781] ...\n",
      "Word: verses \t\t Vector: [ 0.28710938  0.15820312  0.23828125] ...\n",
      "Word: hanging \t\t Vector: [ 0.08984375  0.13769531 -0.14941406] ...\n",
      "Word: woody \t\t Vector: [ 0.08251953  0.44140625  0.07421875] ...\n"
     ]
    }
   ],
   "source": [
    "print \"Total Number of vocabulary in 20newsgroup:\", vocab.size\n",
    "print \"Total matched vocabulary from google word2vec:\", len(google_word2vec.keys())\n",
    "print \"--- Print a sample of google_word2vec vocabulary ---\"\n",
    "i = 0\n",
    "for k, v in google_word2vec.iteritems():\n",
    "    if i <= 10:\n",
    "        print \"Word: %s \\t\\t Vector: %s ...\" %(k, v[:3])\n",
    "    i += 1"
   ]
  },
  {
   "cell_type": "code",
   "execution_count": 16,
   "metadata": {},
   "outputs": [],
   "source": [
    "def add_unknown_words(google_word2vec, vocab, k=300):\n",
    "    for word in vocab.wordset:\n",
    "        if word not in google_word2vec:\n",
    "            google_word2vec[word] = np.random.uniform(-0.25,0.25,k)  "
   ]
  },
  {
   "cell_type": "code",
   "execution_count": 17,
   "metadata": {},
   "outputs": [
    {
     "name": "stdout",
     "output_type": "stream",
     "text": [
      "Total Number of vocabulary in 20newsgroup: 20000\n",
      "Total matched vocabulary from google word2vec: 20000\n",
      "Pre-trained word2vec size (20000, 300)\n"
     ]
    }
   ],
   "source": [
    "add_unknown_words(google_word2vec, vocab, k=300)\n",
    "print \"Total Number of vocabulary in 20newsgroup:\", vocab.size\n",
    "print \"Total matched vocabulary from google word2vec:\", len(google_word2vec.keys())\n",
    "pt_word2vec = np.array(google_word2vec.values())\n",
    "print \"Pre-trained word2vec size\", pt_word2vec.shape"
   ]
  },
  {
   "cell_type": "markdown",
   "metadata": {},
   "source": [
    "### Define CNN Graph"
   ]
  },
  {
   "cell_type": "code",
   "execution_count": 18,
   "metadata": {},
   "outputs": [],
   "source": [
    "doc_length = 500 # s\n",
    "num_classes = num_class # M\n",
    "vocab_size = 20000\n",
    "embedding_size = 300 # d\n",
    "embedding_train = False # We use pretrained word2vec\n",
    "filter_sizes = [3, 4, 5]\n",
    "num_filters = 150\n",
    "l2_reg_lambda = 0.5\n",
    "dropout_prob = 1.0"
   ]
  },
  {
   "cell_type": "code",
   "execution_count": 19,
   "metadata": {},
   "outputs": [],
   "source": [
    "# Placeholders for input, output and dropout\n",
    "# x_: Document, Size: (batch, document_length) word in indice\n",
    "# y_: Classes, Size: (batch, num_of_classes)\n",
    "# dropout_keep_prob: Dropout regularization parameter\n",
    "x_ = tf.placeholder(tf.int32, [None, doc_length], name=\"x\")\n",
    "y_ = tf.placeholder(tf.float32, [None, num_classes], name=\"y\")\n",
    "dropout_keep_prob = tf.placeholder(tf.float32, name=\"dropout_keep_prob\")\n",
    "\n",
    "# Keeping track of l2 regularization loss (optional)\n",
    "l2_loss = tf.constant(0.0)\n",
    "\n",
    "# Embedding layer (Train embedding layer)\n",
    "# Need different implementation if use google pretrained word2vec\n",
    "with tf.name_scope(\"Embedding_Layer\"):\n",
    "    # The vocab to vector table for lookup (to be trained or pre-trained)\n",
    "    if embedding_train:\n",
    "        C_ = tf.Variable(tf.random_uniform([vocab_size, embedding_size], -1.0, 1.0), name=\"C\")\n",
    "    else:\n",
    "        C_ = tf.placeholder(tf.float32, [vocab_size, embedding_size], name=\"C\")\n",
    "\n",
    "    # Embedding output needs to be in size: (batch, doc_length, embedding_size, 1)\n",
    "    # Lookup gives (batch, doc_length, embedding_size)\n",
    "    # Therefore, we need to expand the dimension to 4D to work with conv2d\n",
    "    embedded_out = tf.expand_dims(tf.nn.embedding_lookup(C_, x_), -1)\n",
    "\n",
    "# Create a convolution + maxpool layer for each filter size\n",
    "pooled_outputs = []\n",
    "for i, filter_size in enumerate(filter_sizes):\n",
    "    with tf.name_scope(\"conv-maxpool-%s\" % filter_size):\n",
    "\n",
    "        # Convolution Layer\n",
    "        # input shape: (batch, height(doc length, width(embedding size), channels(1) )\n",
    "        # filter shape: (filter_height, filter width(same as embedding size), in_channel, out_channels)\n",
    "        # in_channel = 1 for our data\n",
    "        # out_channel = num_filters\n",
    "        filter_shape = [filter_size, embedding_size, 1, num_filters]\n",
    "\n",
    "        # To experiment with normal distribution\n",
    "        W_ = tf.Variable(tf.truncated_normal(filter_shape, stddev=0.1), name=\"W\")\n",
    "        b_ = tf.Variable(tf.constant(0.1, shape=[num_filters]), name=\"b\")\n",
    "\n",
    "        # \"VALID\" padding means no padding at edge\n",
    "        # Return shape (batch, height(doc length, width(embedding size), 1)\n",
    "        conv_ = tf.nn.conv2d(embedded_out, W_, strides=[1, 1, 1, 1], padding=\"VALID\", name=\"conv\")\n",
    "\n",
    "        # Apply nonlinearity using Relu (train fasster than tanh)\n",
    "        # Return shape (batch, height(doc length, 1, 1)\n",
    "        h_ = tf.nn.relu(tf.nn.bias_add(conv_, b_), name=\"relu\")\n",
    "\n",
    "        # Maxpooling over the outputs\n",
    "        # ksize is window for pooling, we took 1 value for width direction\n",
    "        # For height, apply to each convolution steps to stripe the whole input matrix.\n",
    "        # Return shape (1, doc_length-filter_size+1, 1, 1)\n",
    "        pooled = tf.nn.max_pool(h_, \n",
    "                                ksize=[1, doc_length - filter_size + 1, 1, 1],\n",
    "                                strides=[1, 1, 1, 1], \n",
    "                                padding='VALID', \n",
    "                                name=\"pool\")\n",
    "        pooled_outputs.append(pooled)\n",
    "\n",
    "# Combine all the pooled features\n",
    "# find the total number of filters = num_of_filters * num_of_region\n",
    "# If we use [2, 3, 4] and 2 filter per region, we have 3 * 2 = 6 filters\n",
    "num_filters_total = num_filters * len(filter_sizes)\n",
    "\n",
    "# combine pooling output to feature vectors\n",
    "# h_pool_flat in shape of (batch_size, ? , num_filters_total)\n",
    "h_pool = tf.concat(pooled_outputs, 3)\n",
    "h_pool_flat = tf.reshape(h_pool, [-1, num_filters_total])\n",
    "\n",
    "# Add dropout\n",
    "with tf.name_scope(\"dropout\"):\n",
    "    h_drop = tf.nn.dropout(h_pool_flat, dropout_keep_prob)\n",
    "\n",
    "# Output Layer: Softmax\n",
    "# Final (unnormalized) scores and predictions\n",
    "# Do we need to normalize?\n",
    "with tf.name_scope(\"Output_layer\"):\n",
    "    Z_ = tf.Variable(tf.random_uniform([num_filters_total, num_classes], -1.0, 1.0), name = \"Z\")\n",
    "    b_output_ = tf.Variable(tf.constant(0.1, shape=[num_classes]), name=\"b_output\")\n",
    "    logits_ = tf.add(tf.matmul(h_drop, Z_), b_output_, name=\"logits\")\n",
    "\n",
    "    # L2 loss\n",
    "    l2_loss += tf.nn.l2_loss(Z_)\n",
    "    l2_loss += tf.nn.l2_loss(b_)\n",
    "\n",
    "    #scores = tf.nn.xw_plus_b(h_drop, W, b, name=\"scores\")\n",
    "    predictions_ = tf.argmax(logits_, 1, name=\"predictions\")\n",
    "\n",
    "# Calculate mean cross-entropy loss\n",
    "with tf.name_scope(\"cost_function\"):\n",
    "    per_example_losses_ = tf.nn.softmax_cross_entropy_with_logits(logits=logits_, \n",
    "                                                                 labels=y_,\n",
    "                                                                 name=\"per_example_loss\")\n",
    "    loss_ = tf.reduce_mean(per_example_losses_) + l2_reg_lambda * l2_loss\n",
    "\n",
    "# Accuracy\n",
    "with tf.name_scope(\"accuracy\"):\n",
    "    correct_predictions_ = tf.equal(predictions_, tf.argmax(y_, 1))\n",
    "    accuracy_ = tf.reduce_mean(tf.cast(correct_predictions_, \"float\"), name=\"accuracy\")\n",
    "\n",
    "with tf.name_scope(\"Training\"):\n",
    "    alpha_ = tf.placeholder(tf.float32, name=\"learning_rate\")\n",
    "    optimizer_ = tf.train.AdagradOptimizer(alpha_)\n",
    "    #optimizer_ = tf.train.AdamOptimizer(alpha_)\n",
    "    train_step_ = optimizer_.minimize(loss_)"
   ]
  },
  {
   "cell_type": "markdown",
   "metadata": {},
   "source": [
    "## Load model (5 labeled + 1 unseen)"
   ]
  },
  {
   "cell_type": "code",
   "execution_count": 20,
   "metadata": {
    "scrolled": false
   },
   "outputs": [
    {
     "name": "stdout",
     "output_type": "stream",
     "text": [
      "INFO:tensorflow:Restoring parameters from ./CNN_5p1_model/model\n",
      "Model restored.\n"
     ]
    }
   ],
   "source": [
    "saver = tf.train.Saver()\n",
    "with tf.Session() as sess:\n",
    "    # Restore variables from disk.\n",
    "    saver.restore(sess, \"./CNN_5p1_model/model\")\n",
    "    print(\"Model restored.\")\n",
    "    feed_dict_train = {x_:train_docs_ids,\n",
    "                   y_:train_labels_oh,\n",
    "                   C_:pt_word2vec,\n",
    "                   dropout_keep_prob:dropout_prob}\n",
    "    train_vectors = sess.run([h_drop], feed_dict=feed_dict_train)[0]\n",
    "    feed_dict_test = {x_:test_docs_ids,\n",
    "                   y_:test_labels_oh,\n",
    "                   C_:pt_word2vec,\n",
    "                   dropout_keep_prob:dropout_prob}\n",
    "    test_vectors = sess.run([h_drop], feed_dict=feed_dict_test)[0]"
   ]
  },
  {
   "cell_type": "code",
   "execution_count": 81,
   "metadata": {},
   "outputs": [
    {
     "name": "stdout",
     "output_type": "stream",
     "text": [
      "train_vector shape:  (4679, 450)\n",
      "test_vector shape:  (1170, 450)\n",
      "train_label shape:  (4679,)\n",
      "test_label shape:  (1170,)\n"
     ]
    }
   ],
   "source": [
    "print \"train_vector shape: \", train_vectors.shape\n",
    "print \"test_vector shape: \", test_vectors.shape\n",
    "print \"train_label shape: \", train_labels.shape\n",
    "print \"test_label shape: \", test_labels.shape"
   ]
  },
  {
   "cell_type": "markdown",
   "metadata": {},
   "source": [
    "## 1-vs-Rest Method"
   ]
  },
  {
   "cell_type": "code",
   "execution_count": 23,
   "metadata": {},
   "outputs": [
    {
     "name": "stdout",
     "output_type": "stream",
     "text": [
      "(4679, 450)\n",
      "(3123, 450)\n",
      "(3123,)\n",
      "(936, 450)\n",
      "(936,)\n",
      "(773, 450)\n",
      "(773,)\n",
      "(1170, 450)\n",
      "(1170,)\n",
      "[1 2 3 4 5]\n",
      "[0 1 2 3 4 5]\n",
      "[1 2 3 4 5]\n",
      "[0 1 2 3 4 5]\n"
     ]
    }
   ],
   "source": [
    "train_valid_cut = int(len(train_vectors)*0.8)\n",
    "valid_final_vectors=train_vectors[train_valid_cut:]\n",
    "valid_final_labels = train_labels[train_valid_cut:]\n",
    "\n",
    "train_new_vectors = train_vectors[:train_valid_cut]\n",
    "train_new_labels = train_labels[:train_valid_cut]\n",
    "\n",
    "missing_class = np.array([0])\n",
    "missing_class_idx = np.where(np.isin(train_new_labels, missing_class))[0]\n",
    "train_final_vectors = [train_new_vectors[i] for i in range(len(train_new_vectors)) if i not in missing_class_idx]\n",
    "train_final_labels = [train_new_labels[i] for i in range(len(train_new_labels)) if i not in missing_class_idx]\n",
    "\n",
    "val_missing_class_idx = np.where(np.isin(valid_final_labels, missing_class))[0]\n",
    "valid_calib_vectors = [valid_final_vectors[i] for i in range(len(valid_final_vectors)) if i not in val_missing_class_idx]\n",
    "valid_calib_labels = [valid_final_labels[i] for i in range(len(valid_final_labels)) if i not in val_missing_class_idx]\n",
    "\n",
    "\n",
    "\n",
    "print np.array(train_vectors).shape\n",
    "print np.array(train_final_vectors).shape\n",
    "print np.array(train_final_labels).shape\n",
    "\n",
    "print np.array(valid_final_vectors).shape\n",
    "print np.array(valid_final_labels).shape\n",
    "\n",
    "print np.array(valid_calib_vectors).shape\n",
    "print np.array(valid_calib_labels).shape\n",
    "\n",
    "\n",
    "print np.array(test_vectors).shape\n",
    "print np.array(test_labels).shape\n",
    "print np.unique(train_final_labels)\n",
    "print np.unique(valid_final_labels)\n",
    "print np.unique(valid_calib_labels)\n",
    "print np.unique(test_labels)"
   ]
  },
  {
   "cell_type": "code",
   "execution_count": 24,
   "metadata": {},
   "outputs": [
    {
     "name": "stdout",
     "output_type": "stream",
     "text": [
      "--- 1-vs-Rest SVM ---\n",
      "Fitting 3 folds for each of 36 candidates, totalling 108 fits\n"
     ]
    },
    {
     "name": "stderr",
     "output_type": "stream",
     "text": [
      "/home/nlp/anaconda2/lib/python2.7/site-packages/sklearn/metrics/classification.py:1135: UndefinedMetricWarning: F-score is ill-defined and being set to 0.0 in labels with no predicted samples.\n",
      "  'precision', 'predicted', average, warn_for)\n",
      "[Parallel(n_jobs=1)]: Done 108 out of 108 | elapsed:  7.1min finished\n"
     ]
    },
    {
     "name": "stdout",
     "output_type": "stream",
     "text": [
      "0.557451115696\n",
      "{'estimator__kernel': 'poly', 'estimator__C': 2, 'estimator__degree': 2}\n"
     ]
    }
   ],
   "source": [
    "# Method SVM 1-vs-Rest\n",
    "clf_svc = OneVsRestClassifier(SVC(probability=True))\n",
    "clf_svc.fit(train_final_vectors, train_final_labels)\n",
    "\n",
    "parameters_SVC = {\n",
    "    \"estimator__C\": [0.5, 1, 2],\n",
    "    \"estimator__kernel\": [\"poly\",\"rbf\", \"sigmoid\", \"linear\"],\n",
    "    \"estimator__degree\":[1, 2, 3],\n",
    "}\n",
    "\n",
    "print \"--- 1-vs-Rest SVM ---\"\n",
    "mod_svc = GridSearchCV(estimator=clf_svc, param_grid=parameters_SVC, scoring='f1_macro', verbose=True)\n",
    "mod_svc.fit(valid_final_vectors, valid_final_labels)\n",
    "print mod_svc.best_score_ \n",
    "print mod_svc.best_params_"
   ]
  },
  {
   "cell_type": "code",
   "execution_count": 25,
   "metadata": {},
   "outputs": [
    {
     "name": "stdout",
     "output_type": "stream",
     "text": [
      "[1 2 3 4 5]\n",
      "[0 1 2 3 4 5]\n"
     ]
    }
   ],
   "source": [
    "print np.unique(train_final_labels)\n",
    "print np.unique(test_labels)"
   ]
  },
  {
   "cell_type": "code",
   "execution_count": 37,
   "metadata": {},
   "outputs": [],
   "source": [
    "clf_svc = OneVsRestClassifier(SVC(probability=True, \n",
    "                              kernel=mod_svc.best_params_['estimator__kernel'], \n",
    "                              C=mod_svc.best_params_['estimator__C'], \n",
    "                              degree=mod_svc.best_params_['estimator__degree']))\n",
    "\n",
    "clf_svc.fit(train_final_vectors, train_final_labels)\n",
    "\n",
    "## Calibrate prob\n",
    "sig_clf_svc = CalibratedClassifierCV(clf_svc, method=\"sigmoid\", cv=\"prefit\")\n",
    "sig_clf_svc.fit(valid_final_vectors, valid_final_labels)\n",
    "\n",
    "sig_clf_svc_probs = sig_clf_svc.predict_proba(test_vectors)\n",
    "\n",
    "\n",
    "# Manual Calibration\n",
    "clf_svc_probs = clf_svc.predict_proba(test_vectors)\n",
    "\n",
    "class_max_prob_lists = np.array([max(clf_svc_probs[:,val]) for val in range(len(clf_svc_probs[0]))])\n",
    "class_min_prob_lists = np.array([min(clf_svc_probs[:,val]) for val in range(len(clf_svc_probs[0]))])\n",
    "delta = class_max_prob_lists - class_min_prob_lists\n",
    "\n",
    "\n",
    "# Normalized for test vector\n",
    "scaled_calib_svc_probs = np.divide(clf_svc_probs,delta)"
   ]
  },
  {
   "cell_type": "code",
   "execution_count": 38,
   "metadata": {},
   "outputs": [
    {
     "data": {
      "image/png": "[encoded data removed]",
      "text/plain": [
       "<matplotlib.figure.Figure at 0x7fdb23f3e3d0>"
      ]
     },
     "metadata": {},
     "output_type": "display_data"
    }
   ],
   "source": [
    "x = np.amax(scaled_calib_svc_probs, axis = 1)\n",
    "plt.figure(figsize = (12, 8))\n",
    "n, bins, patches = plt.hist(x, 50)\n",
    "plt.title(\"max prob dist\")\n",
    "plt.show()"
   ]
  },
  {
   "cell_type": "code",
   "execution_count": 39,
   "metadata": {},
   "outputs": [
    {
     "name": "stdout",
     "output_type": "stream",
     "text": [
      "[1 2 3 4 5]\n",
      "[1 2 3 4 5]\n",
      "             precision    recall  f1-score   support\n",
      "\n",
      "          0       0.00      0.00      0.00       202\n",
      "          1       0.33      0.48      0.39       191\n",
      "          2       0.46      0.41      0.43       188\n",
      "          3       0.48      0.78      0.59       205\n",
      "          4       0.49      0.35      0.41       202\n",
      "          5       0.51      0.70      0.59       182\n",
      "\n",
      "avg / total       0.38      0.45      0.40      1170\n",
      "\n",
      "             precision    recall  f1-score   support\n",
      "\n",
      "          0       0.00      0.00      0.00       202\n",
      "          1       0.24      0.71      0.35       191\n",
      "          2       0.51      0.35      0.42       188\n",
      "          3       0.71      0.55      0.62       205\n",
      "          4       0.51      0.49      0.50       202\n",
      "          5       0.85      0.53      0.66       182\n",
      "\n",
      "avg / total       0.47      0.44      0.42      1170\n",
      "\n",
      "0.450427350427\n",
      "0.435897435897\n"
     ]
    }
   ],
   "source": [
    "preds1 = clf_svc.predict(test_vectors)\n",
    "preds2 = sig_clf_svc.predict(test_vectors)\n",
    "print np.unique(preds1)\n",
    "print np.unique(preds2)\n",
    "print classification_report(test_labels,preds1)\n",
    "print classification_report(test_labels,preds2)\n",
    "print accuracy_score(test_labels,preds1)\n",
    "print accuracy_score(test_labels,preds2)"
   ]
  },
  {
   "cell_type": "markdown",
   "metadata": {},
   "source": [
    "### To find the new class, we select a Percentile for Probability Threshold for Class Labels"
   ]
  },
  {
   "cell_type": "code",
   "execution_count": 117,
   "metadata": {},
   "outputs": [],
   "source": [
    "class_prob_percentile_85 = np.array([np.percentile(scaled_calib_svc_probs[:,val], 90.0) \n",
    "                                     for val in range(len(scaled_calib_svc_probs[0]))])\n",
    "\n",
    "test_class_preds = np.greater_equal(scaled_calib_svc_probs,class_prob_percentile_85).astype(int)\n",
    "\n",
    "# Predict the test label based on percental\n",
    "# If a data is below 80% for prob of all class, it belongs to open class\n",
    "valid_class_probs = np.multiply(scaled_calib_svc_probs, test_class_preds)\n",
    "valid_class = np.greater_equal(np.ceil(valid_class_probs),1).astype(int)\n",
    "predicted_multinomial = np.multiply(valid_class, np.unique(train_final_labels))\n",
    "predicted_test_class = np.max(predicted_multinomial,axis=1)\n",
    "\n",
    "# The true unseen class index\n",
    "unseen_class_indices = np.where(np.isin(test_labels, missing_class))[0]"
   ]
  },
  {
   "cell_type": "code",
   "execution_count": 118,
   "metadata": {},
   "outputs": [
    {
     "name": "stdout",
     "output_type": "stream",
     "text": [
      "predicted test classes [0 1 2 3 4 5]\n",
      "train labels [1 2 3 4 5]\n",
      "Full list of original test labels [0 1 2 3 4 5]\n"
     ]
    }
   ],
   "source": [
    "print \"predicted test classes\", np.unique(predicted_test_class)\n",
    "print \"train labels\", np.unique(train_final_labels)\n",
    "print \"Full list of original test labels\", np.unique(orig_test_labels)"
   ]
  },
  {
   "cell_type": "code",
   "execution_count": 119,
   "metadata": {},
   "outputs": [],
   "source": [
    "import copy\n",
    "orig_valid_labels = copy.copy(valid_final_labels)\n",
    "\n",
    "missing_class_idx_test = np.where(np.isin(test_labels, missing_class))[0]\n",
    "missing_class_idx_val = np.where(np.isin(valid_final_labels, missing_class))[0]\n",
    "\n",
    "#print missing_class_idx_test\n",
    "#orig_test_labels = copy.copy(test_labels)\n",
    "for i in range(len(test_labels)): \n",
    "    if i in missing_class_idx_test:\n",
    "        test_labels[i] = 0\n",
    "        \n",
    "for i in range(len(valid_final_labels)): \n",
    "    if i in missing_class_idx_val:\n",
    "        valid_final_labels[i] = 0"
   ]
  },
  {
   "cell_type": "code",
   "execution_count": 120,
   "metadata": {},
   "outputs": [
    {
     "name": "stdout",
     "output_type": "stream",
     "text": [
      "             precision    recall  f1-score   support\n",
      "\n",
      "          0       0.18      0.55      0.27       202\n",
      "          1       0.48      0.25      0.33       191\n",
      "          2       0.51      0.29      0.37       188\n",
      "          3       0.73      0.41      0.53       205\n",
      "          4       0.59      0.32      0.41       202\n",
      "          5       0.83      0.53      0.65       182\n",
      "\n",
      "avg / total       0.55      0.39      0.42      1170\n",
      "\n",
      "0.393162393162\n"
     ]
    }
   ],
   "source": [
    "print classification_report(test_labels, predicted_test_class)\n",
    "print accuracy_score(test_labels, predicted_test_class)"
   ]
  },
  {
   "cell_type": "code",
   "execution_count": 47,
   "metadata": {},
   "outputs": [
    {
     "name": "stdout",
     "output_type": "stream",
     "text": [
      "[83 40 17 39 18  5]\n",
      "202\n",
      "83.0 202\n",
      "0.410891089109\n"
     ]
    }
   ],
   "source": [
    "print np.bincount(sorted(predicted_test_class[unseen_class_indices]))\n",
    "print sum(np.bincount(sorted(predicted_test_class[unseen_class_indices])))\n",
    "print float(np.bincount(sorted(predicted_test_class[unseen_class_indices]))[0]), \\\n",
    "    sum(np.isin(test_labels, missing_class).astype(int))\n",
    "print float(np.bincount(sorted(predicted_test_class[unseen_class_indices]))[0])/sum(np.isin(test_labels, \\\n",
    "                                                                                            missing_class).astype(int))"
   ]
  },
  {
   "cell_type": "markdown",
   "metadata": {},
   "source": [
    "## Clustering Method"
   ]
  },
  {
   "cell_type": "code",
   "execution_count": 48,
   "metadata": {},
   "outputs": [
    {
     "name": "stdout",
     "output_type": "stream",
     "text": [
      "(3123, 450)\n",
      "(936, 450)\n",
      "(1170, 450)\n",
      "Size of the train dataframe: (3123, 451)\n",
      "Size of the test dataframe: (936, 451)\n",
      "Size of the test dataframe: (1170, 451)\n",
      "3123\n"
     ]
    }
   ],
   "source": [
    "import pandas as pd\n",
    "import numpy as np\n",
    "\n",
    "train_final_vectors = np.array(train_final_vectors)\n",
    "valid_final_vectors=np.array(valid_final_vectors)\n",
    "test_vectors=np.array(test_vectors)\n",
    "print train_final_vectors.shape\n",
    "print valid_final_vectors.shape\n",
    "print test_vectors.shape\n",
    "\n",
    "\n",
    "X = train_final_vectors\n",
    "y = train_final_labels\n",
    "\n",
    "X_val = valid_final_vectors\n",
    "y_val = valid_final_labels\n",
    "\n",
    "X_test = test_vectors\n",
    "y_test = test_labels\n",
    "\n",
    "feat_cols = [ 'col'+str(i) for i in range(X.shape[1]) ]\n",
    "feat_cols_val = [ 'col'+str(i) for i in range(X_val.shape[1]) ]\n",
    "feat_cols_test = [ 'col'+str(i) for i in range(X_test.shape[1]) ]\n",
    "\n",
    "df = pd.DataFrame(X,columns=feat_cols)\n",
    "df['label'] = y\n",
    "df['label'] = df['label'].apply(lambda i: str(i))\n",
    "\n",
    "\n",
    "df_val = pd.DataFrame(X_val,columns=feat_cols_val)\n",
    "df_val['label'] = y_val\n",
    "df_val['label'] = df_val['label'].apply(lambda i: str(i))\n",
    "\n",
    "df_test = pd.DataFrame(X_test,columns=feat_cols_test)\n",
    "df_test['label'] = y_test\n",
    "df_test['label'] = df_test['label'].apply(lambda i: str(i))\n",
    "\n",
    "\n",
    "X, y = None, None\n",
    "print 'Size of the train dataframe: {}'.format(df.shape)\n",
    "print 'Size of the test dataframe: {}'.format(df_val.shape)\n",
    "print 'Size of the test dataframe: {}'.format(df_test.shape)\n",
    "\n",
    "N = df.shape[0]\n",
    "print N"
   ]
  },
  {
   "cell_type": "markdown",
   "metadata": {},
   "source": [
    "### Using Latent Semantic Analysis for dimension reduction"
   ]
  },
  {
   "cell_type": "code",
   "execution_count": 49,
   "metadata": {},
   "outputs": [
    {
     "name": "stdout",
     "output_type": "stream",
     "text": [
      "Performing dimensionality reduction using LSA\n",
      "done in 0.180521s\n",
      "Explained variance of the SVD step: 74%\n"
     ]
    }
   ],
   "source": [
    "from sklearn.pipeline import make_pipeline\n",
    "from sklearn.preprocessing import Normalizer\n",
    "import logging\n",
    "from optparse import OptionParser\n",
    "import sys\n",
    "from time import time\n",
    "import numpy as np\n",
    "from sklearn.decomposition import TruncatedSVD\n",
    "\n",
    "print(\"Performing dimensionality reduction using LSA\")\n",
    "t0 = time()\n",
    "svd = TruncatedSVD(n_components=20)\n",
    "normalizer = Normalizer(copy=False)\n",
    "lsa = make_pipeline(svd, normalizer)\n",
    "\n",
    "lsa_result = lsa.fit_transform(df[feat_cols].values)\n",
    "lsa_val = lsa.fit_transform(df_val[feat_cols].values)\n",
    "lsa_test = lsa.transform(df_test[feat_cols_test].values)\n",
    "\n",
    "print(\"done in %fs\" % (time() - t0))\n",
    "\n",
    "explained_variance = svd.explained_variance_ratio_.sum()\n",
    "print(\"Explained variance of the SVD step: {}%\".format(int(explained_variance * 100)))"
   ]
  },
  {
   "cell_type": "markdown",
   "metadata": {},
   "source": [
    "### Also try PCA for dimension reduction"
   ]
  },
  {
   "cell_type": "code",
   "execution_count": 50,
   "metadata": {},
   "outputs": [
    {
     "name": "stdout",
     "output_type": "stream",
     "text": [
      "Explained variation per principal component: [ 0.34533632  0.06159975  0.0532317   0.04123619  0.03105905  0.02764521\n",
      "  0.0226991   0.01787195  0.01538894  0.01339306  0.01111898  0.01072564\n",
      "  0.00980379  0.00894017  0.00797221  0.0071358   0.00700101  0.0063144\n",
      "  0.00624755  0.00568554]\n",
      "Explained variation All components: 0.710406357422\n"
     ]
    }
   ],
   "source": [
    "from sklearn.decomposition import PCA\n",
    "\n",
    "pca = PCA(n_components=20)\n",
    "pca_result = pca.fit_transform(df[feat_cols].values)\n",
    "\n",
    "df['pca-one'] = pca_result[:,0]\n",
    "df['pca-two'] = pca_result[:,1] \n",
    "#df['pca-three'] = pca_result[:,2]\n",
    "#df['pca-four'] = pca_result[:,3]\n",
    "#df['pca-five'] = pca_result[:,4]\n",
    "\n",
    "\n",
    "print 'Explained variation per principal component: {}'.format(pca.explained_variance_ratio_)\n",
    "print 'Explained variation All components: {}'.format(sum(pca.explained_variance_ratio_))\n"
   ]
  },
  {
   "cell_type": "markdown",
   "metadata": {},
   "source": [
    "** We will use LCA as it capture higher percentage of variation **"
   ]
  },
  {
   "cell_type": "markdown",
   "metadata": {},
   "source": [
    "## Gaussian Mixture Models\n",
    "\n",
    "### Fit Gaussian Mixture Models of varying components and covariance matrix sizes"
   ]
  },
  {
   "cell_type": "code",
   "execution_count": 51,
   "metadata": {},
   "outputs": [
    {
     "name": "stdout",
     "output_type": "stream",
     "text": [
      "Automatically created module for IPython interactive environment\n"
     ]
    }
   ],
   "source": [
    "import itertools\n",
    "import operator\n",
    "from scipy import linalg\n",
    "import matplotlib.pyplot as plt\n",
    "import matplotlib as mpl\n",
    "import scipy\n",
    "\n",
    "from sklearn import mixture\n",
    "print(__doc__)\n",
    "\n",
    "\n",
    "def GMM_fits(input_data=lsa_result, max_comp=21):\n",
    "    # Number of samples per component\n",
    "    n_samples = N\n",
    "    # Generate random sample, two components\n",
    "    np.random.seed(0)\n",
    "    X = np.array(input_data)\n",
    "    #X=np.array(pca_result_5)\n",
    "    print X.shape\n",
    "\n",
    "    bic_2 = {}\n",
    "    n_components_range = range(max_comp, max_comp+1)\n",
    "    cv_types = ['spherical', 'tied', 'diag', 'full']\n",
    "    aic_dict = {}\n",
    "    bic_dict = {}\n",
    "    lowest_bic = np.infty\n",
    "    lowest_aic = np.infty\n",
    "\n",
    "    for cv_type in cv_types:\n",
    "\n",
    "        bic = []\n",
    "        aic = []\n",
    "        for n_components in n_components_range:\n",
    "            # Fit a Gaussian mixture with EM\n",
    "            gmm = mixture.GaussianMixture(n_components=n_components,\n",
    "                                          covariance_type=cv_type, \n",
    "                                          reg_covar =1e-3,\n",
    "                                          random_state=0, \n",
    "                                          init_params='kmeans',\n",
    "                                          max_iter = 1350)\n",
    "            gmm.fit(X)\n",
    "            bic.append(gmm.bic(X))\n",
    "            aic.append(gmm.aic(X))\n",
    "            bic_2[cv_type+\"-\" + str(n_components)] = gmm.bic(X)\n",
    "            if bic[-1] < lowest_bic:\n",
    "                lowest_bic = bic[-1]\n",
    "                best_gmm = gmm\n",
    "            if aic[-1] < lowest_aic:\n",
    "                lowest_aic = aic[-1]\n",
    "\n",
    "        aic_dict[cv_type] = aic\n",
    "        bic_dict[cv_type] = bic\n",
    "\n",
    "    clf = best_gmm\n",
    "    sorted_bic_2 = sorted(bic_2.items(), key=operator.itemgetter(1))\n",
    "    return clf, bic_dict, aic_dict, sorted_bic_2, lowest_bic, lowest_aic "
   ]
  },
  {
   "cell_type": "markdown",
   "metadata": {},
   "source": [
    "### Function to Plot AIC/BIC for model selection"
   ]
  },
  {
   "cell_type": "code",
   "execution_count": 52,
   "metadata": {},
   "outputs": [],
   "source": [
    "def plot_model_selection_criteria(best_model, aic_dict, bic_dict, information_criteria = 'bic', max_comp = 21):\n",
    "    n_components_range = range(1,max_comp)\n",
    "    if information_criteria == 'bic':\n",
    "        for cv in bic_dict.keys():\n",
    "            plt.plot(n_components_range, bic_dict[cv], label=str(cv))\n",
    "            #plt.plot(n_components, [m.aic(X) for m in models], label='AIC')\n",
    "            plt.legend(loc=cv)\n",
    "            plt.xlabel('n_components_range')\n",
    "        plt.title(\"BIC plot\")\n",
    "    else:\n",
    "        for cv in aic_dict.keys():\n",
    "            plt.plot(n_components_range, aic_dict[cv], label=str(cv))\n",
    "            #plt.plot(n_components, [m.aic(X) for m in models], label='AIC')\n",
    "            plt.legend(loc=cv)\n",
    "            plt.xlabel('n_components_range')\n",
    "        plt.title(\"AIC plot\")"
   ]
  },
  {
   "cell_type": "code",
   "execution_count": 53,
   "metadata": {},
   "outputs": [
    {
     "name": "stdout",
     "output_type": "stream",
     "text": [
      "(3123, 20)\n"
     ]
    }
   ],
   "source": [
    "num_train_class = 5\n",
    "num_unseen_class =1\n",
    "best_lsa_model,lsa_bic_d,lsa_aic_d,sorted_lsa_bic,lowest_lsa_aic,lowest_lsa_bic = GMM_fits(input_data=lsa_result, \n",
    "                                                                                            max_comp=num_train_class)"
   ]
  },
  {
   "cell_type": "markdown",
   "metadata": {},
   "source": [
    "### Find the lowest AIC/BIC"
   ]
  },
  {
   "cell_type": "code",
   "execution_count": 54,
   "metadata": {
    "scrolled": true
   },
   "outputs": [
    {
     "name": "stdout",
     "output_type": "stream",
     "text": [
      "Lowest_BIC -105546.059982\n",
      "Lowest_AIC -98568.3420233\n",
      "Best GMM Model Parameters based on BIC <bound method GaussianMixture.get_params of GaussianMixture(covariance_type='full', init_params='kmeans', max_iter=1350,\n",
      "        means_init=None, n_components=5, n_init=1, precisions_init=None,\n",
      "        random_state=0, reg_covar=0.001, tol=0.001, verbose=0,\n",
      "        verbose_interval=10, warm_start=False, weights_init=None)>\n"
     ]
    }
   ],
   "source": [
    "print \"Lowest_BIC\", lowest_lsa_bic\n",
    "print \"Lowest_AIC\", lowest_lsa_aic  \n",
    "print \"Best GMM Model Parameters based on BIC\", best_lsa_model.get_params"
   ]
  },
  {
   "cell_type": "markdown",
   "metadata": {},
   "source": [
    "### Make prediction using the lowest BIC"
   ]
  },
  {
   "cell_type": "code",
   "execution_count": 55,
   "metadata": {},
   "outputs": [
    {
     "name": "stdout",
     "output_type": "stream",
     "text": [
      "Homogeneity: 0.135\n",
      "Completeness: 0.137\n",
      "V-measure: 0.136\n",
      "Adjusted Rand-Index: 0.112\n",
      "Silhouette Coefficient: 0.110\n",
      "fowlkes_mallows_score: 0.292\n"
     ]
    },
    {
     "data": {
      "text/plain": [
       "(array([ 599.,    0.,  790.,    0.,    0.,  433.,    0.,  609.,    0.,  692.]),\n",
       " array([ 0. ,  0.4,  0.8,  1.2,  1.6,  2. ,  2.4,  2.8,  3.2,  3.6,  4. ]),\n",
       " <a list of 10 Patch objects>)"
      ]
     },
     "execution_count": 55,
     "metadata": {},
     "output_type": "execute_result"
    },
    {
     "data": {
      "image/png": "[encoded data removed]",
      "text/plain": [
       "<matplotlib.figure.Figure at 0x7fdab1aa1c50>"
      ]
     },
     "metadata": {},
     "output_type": "display_data"
    }
   ],
   "source": [
    "predicted_cluster = best_lsa_model.predict(lsa_result)\n",
    "print(\"Homogeneity: %0.3f\" % metrics.homogeneity_score(df['label'], predicted_cluster))\n",
    "print(\"Completeness: %0.3f\" % metrics.completeness_score(df['label'], predicted_cluster))\n",
    "print(\"V-measure: %0.3f\" % metrics.v_measure_score(df['label'], predicted_cluster))\n",
    "print(\"Adjusted Rand-Index: %.3f\"\n",
    "      % metrics.adjusted_rand_score(df['label'], predicted_cluster))\n",
    "print(\"Silhouette Coefficient: %0.3f\"\n",
    "      % metrics.silhouette_score(lsa_result, predicted_cluster, sample_size=1000))\n",
    "print (\"fowlkes_mallows_score: %.3f\"\n",
    "      % metrics.fowlkes_mallows_score(df['label'], predicted_cluster))\n",
    "plt.hist(predicted_cluster)"
   ]
  },
  {
   "cell_type": "code",
   "execution_count": 56,
   "metadata": {},
   "outputs": [],
   "source": [
    "def print_cluster_comp(predicted_labels,actual_labels):\n",
    "    Cluster_ids = {}\n",
    "    for i in predicted_labels:\n",
    "        Cluster_ids[i] = (predicted_labels==i).nonzero()[0]\n",
    "\n",
    "    targets = np.array(actual_labels)\n",
    "    #print Cluster_ids\n",
    "    for label in Cluster_ids.keys():\n",
    "        #print type(label)\n",
    "        idx = Cluster_ids[label]\n",
    "        print \"Cluster Number\", str(label), \"Composition\", np.bincount(targets[idx])\n",
    "        print \"\\n\""
   ]
  },
  {
   "cell_type": "code",
   "execution_count": 57,
   "metadata": {},
   "outputs": [
    {
     "name": "stdout",
     "output_type": "stream",
     "text": [
      "Cluster Number 0 Composition [  0 210 236  45  60  48]\n",
      "\n",
      "\n",
      "Cluster Number 1 Composition [  0 190 158  70 293  79]\n",
      "\n",
      "\n",
      "Cluster Number 2 Composition [  0  42  38 313  25  15]\n",
      "\n",
      "\n",
      "Cluster Number 3 Composition [  0 104  94 142 103 166]\n",
      "\n",
      "\n",
      "Cluster Number 4 Composition [  0  81  97  56 150 308]\n",
      "\n",
      "\n",
      "None\n"
     ]
    }
   ],
   "source": [
    "print print_cluster_comp(predicted_labels=predicted_cluster, actual_labels=train_final_labels)"
   ]
  },
  {
   "cell_type": "markdown",
   "metadata": {},
   "source": [
    "### Validation Data Prediction"
   ]
  },
  {
   "cell_type": "code",
   "execution_count": 58,
   "metadata": {},
   "outputs": [],
   "source": [
    "pred_proba_val_labels = best_lsa_model.predict_proba(lsa_val)"
   ]
  },
  {
   "cell_type": "code",
   "execution_count": 59,
   "metadata": {},
   "outputs": [
    {
     "name": "stdout",
     "output_type": "stream",
     "text": [
      "[[  9.54516608e-034   1.78181519e-002   9.81754122e-001   2.02073751e-004\n",
      "    2.25652517e-004]\n",
      " [  3.61469385e-026   9.99488273e-001   7.87614961e-011   3.59661353e-004\n",
      "    1.52065504e-004]\n",
      " [  6.08348137e-050   1.12599729e-007   7.14523755e-021   9.99999887e-001\n",
      "    1.45813141e-019]\n",
      " ..., \n",
      " [  4.67493008e-100   8.60278925e-024   4.31068022e-068   1.00000000e+000\n",
      "    1.11049439e-064]\n",
      " [  6.00856471e-038   1.23130253e-003   1.79821093e-015   9.98768697e-001\n",
      "    1.54172647e-010]\n",
      " [  1.60983993e-042   6.66627403e-003   1.08184795e-028   9.93333726e-001\n",
      "    4.74120533e-029]]\n",
      "[ 1.  1.  1.  1.  1.]\n",
      "[[  9.54516609e-034   1.78181519e-002   9.81754122e-001   2.02073751e-004\n",
      "    2.25652517e-004]\n",
      " [  3.61469385e-026   9.99488273e-001   7.87614961e-011   3.59661353e-004\n",
      "    1.52065504e-004]\n",
      " [  6.08348137e-050   1.12599729e-007   7.14523755e-021   9.99999887e-001\n",
      "    1.45813141e-019]\n",
      " ..., \n",
      " [  4.67493009e-100   8.60278925e-024   4.31068022e-068   1.00000000e+000\n",
      "    1.11049439e-064]\n",
      " [  6.00856472e-038   1.23130253e-003   1.79821093e-015   9.98768697e-001\n",
      "    1.54172647e-010]\n",
      " [  1.60983994e-042   6.66627403e-003   1.08184795e-028   9.93333726e-001\n",
      "    4.74120533e-029]]\n"
     ]
    }
   ],
   "source": [
    "print pred_proba_val_labels\n",
    "val_gmm_class_max_prob_lists = np.array([max(pred_proba_val_labels[:,val]) for val in range(len(pred_proba_val_labels[0]))])\n",
    "val_gmm_class_min_prob_lists = np.array([min(pred_proba_val_labels[:,val]) for val in range(len(pred_proba_val_labels[0]))])\n",
    "val_gmm_delta = val_gmm_class_max_prob_lists - val_gmm_class_min_prob_lists\n",
    "\n",
    "print val_gmm_delta\n",
    "# Normalized for test vector\n",
    "scaled_gmm_val_class_probs = np.divide(pred_proba_val_labels,val_gmm_delta)\n",
    "print scaled_gmm_val_class_probs"
   ]
  },
  {
   "cell_type": "code",
   "execution_count": 60,
   "metadata": {},
   "outputs": [
    {
     "data": {
      "image/png": "[encoded data removed]",
      "text/plain": [
       "<matplotlib.figure.Figure at 0x7fdab496b0d0>"
      ]
     },
     "metadata": {},
     "output_type": "display_data"
    }
   ],
   "source": [
    "x = np.amax(pred_proba_val_labels, axis = 1)\n",
    "#print pred_proba_test_labels[:,0]\n",
    "plt.figure(figsize = (12, 8))\n",
    "n, bins, patches = plt.hist(x, 50)\n",
    "plt.title(\"max prob dist\")\n",
    "plt.show()"
   ]
  },
  {
   "cell_type": "code",
   "execution_count": 61,
   "metadata": {},
   "outputs": [
    {
     "name": "stdout",
     "output_type": "stream",
     "text": [
      "[  1.20705169e-12   9.99070819e-01   6.93241586e-04   1.00000000e+00\n",
      "   3.21108037e-03]\n",
      "[[  9.54516609e-034   1.78181519e-002   9.81754122e-001   2.02073751e-004\n",
      "    2.25652517e-004]\n",
      " [  3.61469385e-026   9.99488273e-001   7.87614961e-011   3.59661353e-004\n",
      "    1.52065504e-004]\n",
      " [  6.08348137e-050   1.12599729e-007   7.14523755e-021   9.99999887e-001\n",
      "    1.45813141e-019]\n",
      " ..., \n",
      " [  4.67493009e-100   8.60278925e-024   4.31068022e-068   1.00000000e+000\n",
      "    1.11049439e-064]\n",
      " [  6.00856472e-038   1.23130253e-003   1.79821093e-015   9.98768697e-001\n",
      "    1.54172647e-010]\n",
      " [  1.60983994e-042   6.66627403e-003   1.08184795e-028   9.93333726e-001\n",
      "    4.74120533e-029]]\n",
      "[[0 0 1 0 0]\n",
      " [0 1 0 0 0]\n",
      " [0 0 0 0 0]\n",
      " ..., \n",
      " [0 0 0 1 0]\n",
      " [0 0 0 0 0]\n",
      " [0 0 0 0 0]]\n",
      "[0 1 2 3 4 5 6 8 9]\n"
     ]
    }
   ],
   "source": [
    "class_threshold = 85.0\n",
    "val_gmm_class_prob_percentile_cutoff = np.array([np.percentile(scaled_gmm_val_class_probs[:,val], class_threshold) \n",
    "                                     for val in range(len(scaled_gmm_val_class_probs[0]))])\n",
    "\n",
    "print val_gmm_class_prob_percentile_cutoff\n",
    "\n",
    "gmm_val_class_preds = np.greater_equal(scaled_gmm_val_class_probs,val_gmm_class_prob_percentile_cutoff).astype(int)\n",
    "\n",
    "print scaled_gmm_val_class_probs\n",
    "# Predict the test label based on percental\n",
    "# If a data is below 80% for prob of all class, it belongs to open class\n",
    "val_gmm_valid_class_probs = np.multiply(scaled_gmm_val_class_probs, gmm_val_class_preds)\n",
    "val_gmm_valid_class = np.greater_equal(np.ceil(val_gmm_valid_class_probs),1).astype(int)\n",
    "print val_gmm_valid_class\n",
    "val_gmm_predicted_multinomial = np.multiply(val_gmm_valid_class, np.unique(train_final_labels))\n",
    "print np.unique(np.sum(val_gmm_predicted_multinomial, axis=1))\n",
    "gmm_predicted_val_class = np.max(val_gmm_predicted_multinomial,axis=1)\n"
   ]
  },
  {
   "cell_type": "code",
   "execution_count": 62,
   "metadata": {},
   "outputs": [
    {
     "name": "stdout",
     "output_type": "stream",
     "text": [
      "[163 164 152 157 158 142] [352  50 141 111 141 141]\n",
      "936 936\n"
     ]
    }
   ],
   "source": [
    "print np.bincount(valid_final_labels), np.bincount(gmm_predicted_val_class)\n",
    "print np.sum(np.bincount(valid_final_labels)), np.sum(np.bincount(gmm_predicted_val_class))"
   ]
  },
  {
   "cell_type": "markdown",
   "metadata": {},
   "source": [
    "### Calculate Unseen Class Precision, Recall, F1 Score"
   ]
  },
  {
   "cell_type": "code",
   "execution_count": 63,
   "metadata": {},
   "outputs": [
    {
     "name": "stdout",
     "output_type": "stream",
     "text": [
      "Composition of gmm_predicted_valid_class for true unseen class indices [57 12 28 21 27 18]\n",
      "163\n"
     ]
    }
   ],
   "source": [
    "print \"Composition of gmm_predicted_valid_class for true unseen class indices\", np.bincount(sorted(gmm_predicted_val_class[missing_class_idx_val]))\n",
    "print sum(np.bincount(sorted(gmm_predicted_val_class[missing_class_idx_val])))"
   ]
  },
  {
   "cell_type": "code",
   "execution_count": 66,
   "metadata": {},
   "outputs": [
    {
     "name": "stdout",
     "output_type": "stream",
     "text": [
      "             precision    recall  f1-score   support\n",
      "\n",
      "          0       0.35      0.16      0.22       352\n",
      "          1       0.04      0.14      0.07        50\n",
      "          2       0.09      0.10      0.10       141\n",
      "          3       0.35      0.50      0.41       111\n",
      "          4       0.04      0.05      0.05       141\n",
      "          5       0.38      0.38      0.38       141\n",
      "\n",
      "avg / total       0.25      0.21      0.21       936\n",
      "\n",
      "[[57 62 58 52 76 47]\n",
      " [12  7 13  3 10  5]\n",
      " [28 46 14 13 21 19]\n",
      " [21  7  4 55 19  5]\n",
      " [27 21 55 19  7 12]\n",
      " [18 21  8 15 25 54]]\n"
     ]
    }
   ],
   "source": [
    "from sklearn.metrics import confusion_matrix, classification_report, precision_score, recall_score, f1_score\n",
    "print classification_report(gmm_predicted_val_class, valid_final_labels)\n",
    "print confusion_matrix(gmm_predicted_val_class, valid_final_labels)"
   ]
  },
  {
   "cell_type": "code",
   "execution_count": 67,
   "metadata": {},
   "outputs": [
    {
     "name": "stdout",
     "output_type": "stream",
     "text": [
      "0.161931818182 0.349693251534 0.221359223301\n"
     ]
    }
   ],
   "source": [
    "def calculate_unseen_class_f1score(pred_class, true_class, unseen_class_id):\n",
    "    predicted_zero_ind = (pred_class==unseen_class_id).nonzero()[0]\n",
    "    predicted_nonzero_ind = (pred_class > unseen_class_id).nonzero()[0]\n",
    "    #print np.bincount(true_class[predicted_zero_ind])[0]\n",
    "    TP = np.bincount(true_class[predicted_zero_ind])[0]\n",
    "    FP =  sum(np.bincount(true_class[predicted_zero_ind])) - TP\n",
    "    FN =  np.bincount(true_class[predicted_nonzero_ind])[0]\n",
    "    #print TP, FP, FN\n",
    "    unseen_class_precision = float(TP)/(TP+FP)\n",
    "    unseen_class_recall = float(TP)/(TP+FN)\n",
    "    unseen_class_f1 = 2*unseen_class_precision*unseen_class_recall/(unseen_class_precision+unseen_class_recall)\n",
    "    #print unseen_class_precision,unseen_class_recall,unseen_class_f1\n",
    "    return unseen_class_precision, unseen_class_recall,unseen_class_f1\n",
    "    \n",
    "pr,re,f1 = calculate_unseen_class_f1score(gmm_predicted_val_class, np.array(valid_final_labels), 0)\n",
    "print pr,re,f1"
   ]
  },
  {
   "cell_type": "code",
   "execution_count": 68,
   "metadata": {
    "scrolled": false
   },
   "outputs": [
    {
     "name": "stdout",
     "output_type": "stream",
     "text": [
      "[1 2 3 4 5] [0 1 2 3 4 5]\n",
      "Threshold Too Low. No unseen class prediction\n",
      "[1 2 3 4 5] [0 1 2 3 4 5]\n",
      "Threshold Too Low. No unseen class prediction\n",
      "[1 2 3 4 5] [0 1 2 3 4 5]\n",
      "Threshold Too Low. No unseen class prediction\n",
      "[1 2 3 4 5] [0 1 2 3 4 5]\n",
      "Threshold Too Low. No unseen class prediction\n",
      "[1 2 3 4 5] [0 1 2 3 4 5]\n",
      "Threshold Too Low. No unseen class prediction\n",
      "[1 2 3 4 5] [0 1 2 3 4 5]\n",
      "Threshold Too Low. No unseen class prediction\n",
      "[1 2 3 4 5] [0 1 2 3 4 5]\n",
      "Threshold Too Low. No unseen class prediction\n",
      "[1 2 3 4 5] [0 1 2 3 4 5]\n",
      "Threshold Too Low. No unseen class prediction\n",
      "[1 2 3 4 5] [0 1 2 3 4 5]\n",
      "Threshold Too Low. No unseen class prediction\n",
      "[0 1 2 3 4 5] [0 1 2 3 4 5]\n",
      "Threshold:  59 F1 Score:  0.0239520958084\n",
      "Actual Unseen Class 163 Predicted Unseen Class 4\n",
      "[0 1 2 3 4 5] [0 1 2 3 4 5]\n",
      "Threshold:  60 F1 Score:  0.0346820809249\n",
      "Actual Unseen Class 163 Predicted Unseen Class 10\n",
      "[0 1 2 3 4 5] [0 1 2 3 4 5]\n",
      "Threshold:  61 F1 Score:  0.0446927374302\n",
      "Actual Unseen Class 163 Predicted Unseen Class 16\n",
      "[0 1 2 3 4 5] [0 1 2 3 4 5]\n",
      "Threshold:  62 F1 Score:  0.0549450549451\n",
      "Actual Unseen Class 163 Predicted Unseen Class 19\n",
      "[0 1 2 3 4 5] [0 1 2 3 4 5]\n",
      "Threshold:  63 F1 Score:  0.0534759358289\n",
      "Actual Unseen Class 163 Predicted Unseen Class 24\n",
      "[0 1 2 3 4 5] [0 1 2 3 4 5]\n",
      "Threshold:  64 F1 Score:  0.0714285714286\n",
      "Actual Unseen Class 163 Predicted Unseen Class 33\n",
      "[0 1 2 3 4 5] [0 1 2 3 4 5]\n",
      "Threshold:  65 F1 Score:  0.0696517412935\n",
      "Actual Unseen Class 163 Predicted Unseen Class 38\n",
      "[0 1 2 3 4 5] [0 1 2 3 4 5]\n",
      "Threshold:  66 F1 Score:  0.085308056872\n",
      "Actual Unseen Class 163 Predicted Unseen Class 48\n",
      "[0 1 2 3 4 5] [0 1 2 3 4 5]\n",
      "Threshold:  67 F1 Score:  0.0913242009132\n",
      "Actual Unseen Class 163 Predicted Unseen Class 56\n",
      "[0 1 2 3 4 5] [0 1 2 3 4 5]\n",
      "Threshold:  68 F1 Score:  0.0873362445415\n",
      "Actual Unseen Class 163 Predicted Unseen Class 66\n",
      "[0 1 2 3 4 5] [0 1 2 3 4 5]\n",
      "Threshold:  69 F1 Score:  0.092050209205\n",
      "Actual Unseen Class 163 Predicted Unseen Class 76\n",
      "[0 1 2 3 4 5] [0 1 2 3 4 5]\n",
      "Threshold:  70 F1 Score:  0.111553784861\n",
      "Actual Unseen Class 163 Predicted Unseen Class 88\n",
      "[0 1 2 3 4 5] [0 1 2 3 4 5]\n",
      "Threshold:  71 F1 Score:  0.12213740458\n",
      "Actual Unseen Class 163 Predicted Unseen Class 99\n",
      "[0 1 2 3 4 5] [0 1 2 3 4 5]\n",
      "Threshold:  72 F1 Score:  0.130909090909\n",
      "Actual Unseen Class 163 Predicted Unseen Class 112\n",
      "[0 1 2 3 4 5] [0 1 2 3 4 5]\n",
      "Threshold:  73 F1 Score:  0.130136986301\n",
      "Actual Unseen Class 163 Predicted Unseen Class 129\n",
      "[0 1 2 3 4 5] [0 1 2 3 4 5]\n",
      "Threshold:  74 F1 Score:  0.144262295082\n",
      "Actual Unseen Class 163 Predicted Unseen Class 142\n",
      "[0 1 2 3 4 5] [0 1 2 3 4 5]\n",
      "Threshold:  75 F1 Score:  0.140672782875\n",
      "Actual Unseen Class 163 Predicted Unseen Class 164\n",
      "[0 1 2 3 4 5] [0 1 2 3 4 5]\n",
      "Threshold:  76 F1 Score:  0.139941690962\n",
      "Actual Unseen Class 163 Predicted Unseen Class 180\n",
      "[0 1 2 3 4 5] [0 1 2 3 4 5]\n",
      "Threshold:  77 F1 Score:  0.146478873239\n",
      "Actual Unseen Class 163 Predicted Unseen Class 192\n",
      "[0 1 2 3 4 5] [0 1 2 3 4 5]\n",
      "Threshold:  78 F1 Score:  0.154255319149\n",
      "Actual Unseen Class 163 Predicted Unseen Class 213\n",
      "[0 1 2 3 4 5] [0 1 2 3 4 5]\n",
      "Threshold:  79 F1 Score:  0.173027989822\n",
      "Actual Unseen Class 163 Predicted Unseen Class 230\n",
      "[0 1 2 3 4 5] [0 1 2 3 4 5]\n",
      "Threshold:  80 F1 Score:  0.175182481752\n",
      "Actual Unseen Class 163 Predicted Unseen Class 248\n",
      "[0 1 2 3 4 5] [0 1 2 3 4 5]\n",
      "Threshold:  81 F1 Score:  0.190255220418\n",
      "Actual Unseen Class 163 Predicted Unseen Class 268\n",
      "[0 1 2 3 4 5] [0 1 2 3 4 5]\n",
      "Threshold:  82 F1 Score:  0.200445434298\n",
      "Actual Unseen Class 163 Predicted Unseen Class 286\n",
      "[0 1 2 3 4 5] [0 1 2 3 4 5]\n",
      "Threshold:  83 F1 Score:  0.20253164557\n",
      "Actual Unseen Class 163 Predicted Unseen Class 311\n",
      "[0 1 2 3 4 5] [0 1 2 3 4 5]\n",
      "Threshold:  84 F1 Score:  0.211382113821\n",
      "Actual Unseen Class 163 Predicted Unseen Class 329\n",
      "[0 1 2 3 4 5] [0 1 2 3 4 5]\n",
      "Threshold:  85 F1 Score:  0.221359223301\n",
      "Actual Unseen Class 163 Predicted Unseen Class 352\n",
      "[0 1 2 3 4 5] [0 1 2 3 4 5]\n",
      "Threshold:  86 F1 Score:  0.221811460259\n",
      "Actual Unseen Class 163 Predicted Unseen Class 378\n",
      "[0 1 2 3 4 5] [0 1 2 3 4 5]\n",
      "Threshold:  87 F1 Score:  0.224561403509\n",
      "Actual Unseen Class 163 Predicted Unseen Class 407\n",
      "[0 1 2 3 4 5] [0 1 2 3 4 5]\n",
      "Threshold:  88 F1 Score:  0.239460370995\n",
      "Actual Unseen Class 163 Predicted Unseen Class 430\n",
      "[0 1 2 3 4 5] [0 1 2 3 4 5]\n",
      "Threshold:  89 F1 Score:  0.244444444444\n",
      "Actual Unseen Class 163 Predicted Unseen Class 467\n",
      "[0 1 2 3 4 5] [0 1 2 3 4 5]\n",
      "Threshold:  90 F1 Score:  0.249240121581\n",
      "Actual Unseen Class 163 Predicted Unseen Class 495\n",
      "[0 1 2 3 4 5] [0 1 2 3 4 5]\n",
      "Threshold:  91 F1 Score:  0.253602305476\n",
      "Actual Unseen Class 163 Predicted Unseen Class 531\n",
      "[0 1 2 3 4 5] [0 1 2 3 4 5]\n",
      "Threshold:  92 F1 Score:  0.258152173913\n",
      "Actual Unseen Class 163 Predicted Unseen Class 573\n",
      "[0 1 2 3 4 5] [0 1 2 3 4 5]\n",
      "Threshold:  93 F1 Score:  0.261658031088\n",
      "Actual Unseen Class 163 Predicted Unseen Class 609\n",
      "[0 1 2 3 4 5] [0 1 2 3 4 5]\n",
      "Threshold:  94 F1 Score:  0.267156862745\n",
      "Actual Unseen Class 163 Predicted Unseen Class 653\n"
     ]
    }
   ],
   "source": [
    "best_threshold = 0.0\n",
    "best_f1_score=0.0\n",
    "for threshold in range(50,95):\n",
    "    try:\n",
    "        val_gmm_class_prob_percentile_cutoff = np.array([np.percentile(scaled_gmm_val_class_probs[:,val], float(threshold)) \n",
    "                                             for val in range(len(scaled_gmm_val_class_probs[0]))])\n",
    "\n",
    "        #print val_gmm_class_prob_percentile_cutoff\n",
    "\n",
    "        gmm_val_class_preds = np.greater_equal(scaled_gmm_val_class_probs,val_gmm_class_prob_percentile_cutoff).astype(int)\n",
    "\n",
    "        #print scaled_gmm_val_class_probs\n",
    "        # Predict the test label based on percental\n",
    "        # If a data is below 80% for prob of all class, it belongs to open class\n",
    "        val_gmm_valid_class_probs_dup = np.multiply(scaled_gmm_val_class_probs, gmm_val_class_preds)\n",
    "\n",
    "        val_gmm_valid_class_max_probs = np.max(val_gmm_valid_class_probs_dup, axis=1)\n",
    "        #print gmm_valid_class_max_probs\n",
    "        #print type(gmm_valid_class_probs_dup),  type(gmm_valid_class_max_probs)\n",
    "        val_temp = np.equal(val_gmm_valid_class_probs_dup , val_gmm_valid_class_max_probs.reshape(len(val_gmm_valid_class_max_probs),1))\n",
    "        val_gmm_valid_class_probs=np.multiply(val_gmm_valid_class_probs_dup,val_temp)\n",
    "        val_gmm_valid_class = np.greater_equal(np.ceil(val_gmm_valid_class_probs),1).astype(int)\n",
    "        #print val_gmm_valid_class\n",
    "        val_gmm_predicted_multinomial = np.multiply(val_gmm_valid_class, np.unique(train_final_labels))\n",
    "        #print np.unique(np.sum(val_gmm_predicted_multinomial, axis=1))\n",
    "        gmm_predicted_val_class = np.max(val_gmm_predicted_multinomial,axis=1)  \n",
    "        print np.unique(gmm_predicted_val_class), np.unique(valid_final_labels)\n",
    "        pr,re,f1 = calculate_unseen_class_f1score(gmm_predicted_val_class,valid_final_labels,0)\n",
    "        print \"Threshold: \",threshold, \"F1 Score: \", f1 \n",
    "        print \"Actual Unseen Class\", np.bincount(valid_final_labels)[0], \"Predicted Unseen Class\",np.bincount(gmm_predicted_val_class)[0]\n",
    "        # Set the threshold so that not unseen class volume is actual unseen class volume in validation set\n",
    "        unseen_class_ratio = float(np.bincount(gmm_predicted_val_class)[0])/np.bincount(valid_final_labels)[0]\n",
    "        #overall_F1_score = f1_score(gmm_predicted_val_class, valid_final_labels)\n",
    "        if f1 > best_f1_score and unseen_class_ratio < 1.1:\n",
    "\n",
    "            best_f1_score = f1\n",
    "            best_threshold = threshold\n",
    "    except:\n",
    "        print \"Threshold Too Low. No unseen class prediction\"\n",
    "        "
   ]
  },
  {
   "cell_type": "markdown",
   "metadata": {},
   "source": [
    "### Test Data Prediction"
   ]
  },
  {
   "cell_type": "code",
   "execution_count": 69,
   "metadata": {},
   "outputs": [],
   "source": [
    "pred_proba_test_labels = best_lsa_model.predict_proba(lsa_test)"
   ]
  },
  {
   "cell_type": "code",
   "execution_count": 70,
   "metadata": {},
   "outputs": [
    {
     "name": "stdout",
     "output_type": "stream",
     "text": [
      "[[  1.55324906e-17   5.92594387e-04   5.38359597e-23   9.99407406e-01\n",
      "    6.11363507e-19]\n",
      " [  8.55035591e-50   9.99999999e-01   3.43314179e-33   1.49514270e-09\n",
      "    5.47343878e-14]\n",
      " [  9.08441848e-29   3.63854172e-07   9.99999620e-01   2.47056086e-14\n",
      "    1.57810823e-08]\n",
      " ..., \n",
      " [  6.70082245e-10   4.57997815e-03   9.95123392e-01   4.27734144e-07\n",
      "    2.96201580e-04]\n",
      " [  7.57528047e-28   8.63475354e-06   1.16586037e-37   9.99991365e-01\n",
      "    2.50986472e-28]\n",
      " [  8.33133430e-17   9.99999992e-01   4.25403390e-16   4.58325237e-16\n",
      "    8.24706124e-09]]\n",
      "[ 1.  1.  1.  1.  1.]\n",
      "[[  1.55324906e-17   5.92594387e-04   5.38359597e-23   9.99407406e-01\n",
      "    6.11363508e-19]\n",
      " [  8.55035592e-50   9.99999999e-01   3.43314179e-33   1.49514270e-09\n",
      "    5.47343879e-14]\n",
      " [  9.08441850e-29   3.63854172e-07   9.99999620e-01   2.47056086e-14\n",
      "    1.57810823e-08]\n",
      " ..., \n",
      " [  6.70082246e-10   4.57997815e-03   9.95123392e-01   4.27734144e-07\n",
      "    2.96201580e-04]\n",
      " [  7.57528048e-28   8.63475354e-06   1.16586037e-37   9.99991365e-01\n",
      "    2.50986472e-28]\n",
      " [  8.33133431e-17   9.99999992e-01   4.25403390e-16   4.58325237e-16\n",
      "    8.24706125e-09]]\n"
     ]
    }
   ],
   "source": [
    "print pred_proba_test_labels\n",
    "gmm_class_max_prob_lists = np.array([max(pred_proba_test_labels[:,val]) for val in range(len(pred_proba_test_labels[0]))])\n",
    "gmm_class_min_prob_lists = np.array([min(pred_proba_test_labels[:,val]) for val in range(len(pred_proba_test_labels[0]))])\n",
    "gmm_delta = gmm_class_max_prob_lists - gmm_class_min_prob_lists\n",
    "\n",
    "print gmm_delta\n",
    "# Normalized for test vector\n",
    "scaled_gmm_test_class_probs = np.divide(pred_proba_test_labels,gmm_delta)\n",
    "print scaled_gmm_test_class_probs"
   ]
  },
  {
   "cell_type": "code",
   "execution_count": 71,
   "metadata": {},
   "outputs": [
    {
     "data": {
      "image/png": "[encoded data removed]",
      "text/plain": [
       "<matplotlib.figure.Figure at 0x7fdab39d3950>"
      ]
     },
     "metadata": {},
     "output_type": "display_data"
    }
   ],
   "source": [
    "x = np.amax(pred_proba_test_labels, axis = 1)\n",
    "#print pred_proba_test_labels[:,0]\n",
    "plt.figure(figsize = (12, 8))\n",
    "n, bins, patches = plt.hist(x, 50)\n",
    "plt.title(\"max prob dist\")\n",
    "plt.show()"
   ]
  },
  {
   "cell_type": "code",
   "execution_count": 72,
   "metadata": {},
   "outputs": [
    {
     "name": "stdout",
     "output_type": "stream",
     "text": [
      "74\n",
      "[[  0.00000000e+00   0.00000000e+00   0.00000000e+00   0.00000000e+00\n",
      "    0.00000000e+00]\n",
      " [  0.00000000e+00   9.99999999e-01   0.00000000e+00   0.00000000e+00\n",
      "    0.00000000e+00]\n",
      " [  0.00000000e+00   0.00000000e+00   9.99999620e-01   0.00000000e+00\n",
      "    0.00000000e+00]\n",
      " ..., \n",
      " [  6.70082246e-10   0.00000000e+00   9.95123392e-01   0.00000000e+00\n",
      "    2.96201580e-04]\n",
      " [  0.00000000e+00   0.00000000e+00   0.00000000e+00   0.00000000e+00\n",
      "    0.00000000e+00]\n",
      " [  0.00000000e+00   9.99999992e-01   0.00000000e+00   0.00000000e+00\n",
      "    0.00000000e+00]]\n",
      "[ 0.          1.          0.99999962 ...,  0.99512339  0.          0.99999999]\n",
      "[[0 0 0 0 0]\n",
      " [0 1 0 0 0]\n",
      " [0 0 1 0 0]\n",
      " ..., \n",
      " [0 0 1 0 0]\n",
      " [0 0 0 0 0]\n",
      " [0 1 0 0 0]]\n",
      "[0 1 2 3 4 5]\n"
     ]
    }
   ],
   "source": [
    "print best_threshold\n",
    "gmm_class_prob_percentile_cutoff = np.array([np.percentile(scaled_gmm_test_class_probs[:,val], best_threshold) \n",
    "                                     for val in range(len(scaled_gmm_test_class_probs[0]))])\n",
    "\n",
    "#print gmm_class_prob_percentile_cutoff\n",
    "\n",
    "gmm_test_class_preds = np.greater_equal(scaled_gmm_test_class_probs,gmm_class_prob_percentile_cutoff).astype(int)\n",
    "\n",
    "#print scaled_gmm_test_class_probs\n",
    "# Predict the test label based on percental\n",
    "# If a data is below 80% for prob of all class, it belongs to open class\n",
    "gmm_valid_class_probs_dup = np.multiply(scaled_gmm_test_class_probs, gmm_test_class_preds)\n",
    "print gmm_valid_class_probs_dup\n",
    "gmm_valid_class_max_probs = np.max(gmm_valid_class_probs_dup, axis=1)\n",
    "print gmm_valid_class_max_probs\n",
    "#print type(gmm_valid_class_probs_dup),  type(gmm_valid_class_max_probs)\n",
    "temp = np.equal(gmm_valid_class_probs_dup , gmm_valid_class_max_probs.reshape(len(gmm_valid_class_max_probs),1))\n",
    "gmm_valid_class_probs=np.multiply(gmm_valid_class_probs_dup,temp)\n",
    "gmm_valid_class = np.greater_equal(np.ceil(gmm_valid_class_probs),1).astype(int)\n",
    "print gmm_valid_class\n",
    "gmm_predicted_multinomial = np.multiply(gmm_valid_class, np.unique(train_final_labels))\n",
    "print np.unique(np.sum(gmm_predicted_multinomial, axis=1))\n",
    "gmm_predicted_test_class = np.max(gmm_predicted_multinomial,axis=1)\n",
    "\n",
    "# The true unseen class index\n",
    "#unseen_class_indices = np.where(np.isin(test_labels, missing_class))[0]"
   ]
  },
  {
   "cell_type": "code",
   "execution_count": 73,
   "metadata": {},
   "outputs": [
    {
     "name": "stdout",
     "output_type": "stream",
     "text": [
      "[202 191 188 205 202 182] [196  77 304 166 304 123]\n",
      "1170 1170\n"
     ]
    }
   ],
   "source": [
    "print np.bincount(test_labels), np.bincount(gmm_predicted_test_class)\n",
    "print np.sum(np.bincount(test_labels)), np.sum(np.bincount(gmm_predicted_test_class))"
   ]
  },
  {
   "cell_type": "code",
   "execution_count": 74,
   "metadata": {},
   "outputs": [
    {
     "name": "stdout",
     "output_type": "stream",
     "text": [
      "[[27 14 43 61 46 11]\n",
      " [44 13 67 13 43 11]\n",
      " [44 16 44  6 69  9]\n",
      " [23  8 37 60 64 13]\n",
      " [34 14 58 20 50 26]\n",
      " [24 12 55  6 32 53]]\n"
     ]
    }
   ],
   "source": [
    "print confusion_matrix(test_labels, gmm_predicted_test_class)"
   ]
  },
  {
   "cell_type": "code",
   "execution_count": 75,
   "metadata": {},
   "outputs": [
    {
     "name": "stdout",
     "output_type": "stream",
     "text": [
      "             precision    recall  f1-score   support\n",
      "\n",
      "          0       0.14      0.13      0.14       202\n",
      "          1       0.17      0.07      0.10       191\n",
      "          2       0.14      0.23      0.18       188\n",
      "          3       0.36      0.29      0.32       205\n",
      "          4       0.16      0.25      0.20       202\n",
      "          5       0.43      0.29      0.35       182\n",
      "\n",
      "avg / total       0.23      0.21      0.21      1170\n",
      "\n",
      "0.211111111111\n"
     ]
    }
   ],
   "source": [
    "print classification_report(test_labels, gmm_predicted_test_class)\n",
    "print accuracy_score(test_labels, gmm_predicted_test_class)"
   ]
  },
  {
   "cell_type": "markdown",
   "metadata": {},
   "source": [
    "### Unseen Class Precision, Recall F1 Score"
   ]
  },
  {
   "cell_type": "code",
   "execution_count": 76,
   "metadata": {},
   "outputs": [
    {
     "name": "stdout",
     "output_type": "stream",
     "text": [
      "Unseen Class Precision:  0.137755102041\n",
      "Unseen Class Recall:  0.133663366337\n",
      "Unseen Class F1 Score:  0.13567839196\n"
     ]
    }
   ],
   "source": [
    "print \"Unseen Class Precision: \", calculate_unseen_class_f1score(gmm_predicted_test_class,test_labels,0)[0]\n",
    "print \"Unseen Class Recall: \", calculate_unseen_class_f1score(gmm_predicted_test_class,test_labels,0)[1]\n",
    "print \"Unseen Class F1 Score: \", calculate_unseen_class_f1score(gmm_predicted_test_class,test_labels,0)[2]"
   ]
  },
  {
   "cell_type": "code",
   "execution_count": 77,
   "metadata": {},
   "outputs": [],
   "source": [
    "pred_class_indices = (gmm_predicted_test_class==0).nonzero()[0]"
   ]
  },
  {
   "cell_type": "code",
   "execution_count": 78,
   "metadata": {},
   "outputs": [
    {
     "name": "stdout",
     "output_type": "stream",
     "text": [
      "Homogeneity: 0.054\n",
      "Completeness: 0.057\n",
      "V-measure: 0.055\n",
      "Adjusted Rand-Index: 0.030\n",
      "Silhouette Coefficient: 0.028\n",
      "fowlkes_mallows_score: 0.206\n"
     ]
    }
   ],
   "source": [
    "print(\"Homogeneity: %0.3f\" % metrics.homogeneity_score(df_test['label'], gmm_predicted_test_class))\n",
    "print(\"Completeness: %0.3f\" % metrics.completeness_score(df_test['label'], gmm_predicted_test_class))\n",
    "print(\"V-measure: %0.3f\" % metrics.v_measure_score(df_test['label'], gmm_predicted_test_class))\n",
    "print(\"Adjusted Rand-Index: %.3f\"\n",
    "      % metrics.adjusted_rand_score(df_test['label'], gmm_predicted_test_class))\n",
    "print(\"Silhouette Coefficient: %0.3f\"\n",
    "      % metrics.silhouette_score(lsa_test, gmm_predicted_test_class, sample_size=1000))\n",
    "print (\"fowlkes_mallows_score: %.3f\"\n",
    "      % metrics.fowlkes_mallows_score(df_test['label'], gmm_predicted_test_class))"
   ]
  },
  {
   "cell_type": "markdown",
   "metadata": {},
   "source": [
    "### Further Clustering Unsee Class"
   ]
  },
  {
   "cell_type": "code",
   "execution_count": 79,
   "metadata": {},
   "outputs": [],
   "source": [
    "predicted_unseen_class_lsa= lsa_test[pred_class_indices]"
   ]
  },
  {
   "cell_type": "code",
   "execution_count": 80,
   "metadata": {},
   "outputs": [
    {
     "name": "stdout",
     "output_type": "stream",
     "text": [
      "fowlkes_mallows_score: 0.418\n"
     ]
    },
    {
     "data": {
      "image/png": "[encoded data removed]",
      "text/plain": [
       "<matplotlib.figure.Figure at 0x7fdab2101290>"
      ]
     },
     "metadata": {},
     "output_type": "display_data"
    },
    {
     "name": "stdout",
     "output_type": "stream",
     "text": [
      "fowlkes_mallows_score: 0.418\n"
     ]
    },
    {
     "data": {
      "image/png": "[encoded data removed]",
      "text/plain": [
       "<matplotlib.figure.Figure at 0x7fdab477fa90>"
      ]
     },
     "metadata": {},
     "output_type": "display_data"
    },
    {
     "name": "stdout",
     "output_type": "stream",
     "text": [
      "fowlkes_mallows_score: 0.418\n"
     ]
    },
    {
     "data": {
      "image/png": "[encoded data removed]",
      "text/plain": [
       "<matplotlib.figure.Figure at 0x7fdab1e87c90>"
      ]
     },
     "metadata": {},
     "output_type": "display_data"
    },
    {
     "name": "stdout",
     "output_type": "stream",
     "text": [
      "fowlkes_mallows_score: 0.418\n"
     ]
    },
    {
     "data": {
      "image/png": "[encoded data removed]",
      "text/plain": [
       "<matplotlib.figure.Figure at 0x7fdab3eb5fd0>"
      ]
     },
     "metadata": {},
     "output_type": "display_data"
    }
   ],
   "source": [
    "from sklearn.mixture import BayesianGaussianMixture\n",
    "\n",
    "c_var = ['full', 'tied', 'diag', 'spherical']\n",
    "n_components=1\n",
    "models = [BayesianGaussianMixture(n_components, covariance_type=c, init_params='random').fit(predicted_unseen_class_lsa)\n",
    "          for c in c_var]\n",
    "\n",
    "for m in range(len(models)):\n",
    "    plt.title(\"Model with Covariance type: \" + str(c_var[m]))\n",
    "    plt.hist(models[m].predict(predicted_unseen_class_lsa))\n",
    "    pred_ls = models[m].predict(predicted_unseen_class_lsa)\n",
    "    print (\"fowlkes_mallows_score: %.3f\"\n",
    "      % metrics.fowlkes_mallows_score(pred_ls, orig_test_labels[pred_class_indices]))\n",
    "    plt.show()\n",
    "#gmm2_model."
   ]
  },
  {
   "cell_type": "markdown",
   "metadata": {},
   "source": [
    "## Infinite Dirichlet Process"
   ]
  },
  {
   "cell_type": "code",
   "execution_count": 82,
   "metadata": {},
   "outputs": [],
   "source": [
    "def BGMM_fits(input_data=lsa_result, cv_type='full', max_comp=21):\n",
    "    mod = BayesianGaussianMixture(n_components=max_comp, covariance_type='full', \n",
    "                                  weight_concentration_prior_type=\"dirichlet_process\", \n",
    "                                  reg_covar=0, init_params='random',\n",
    "        max_iter=1500, mean_precision_prior=.8,random_state=0)\n",
    "    X = np.array(input_data)\n",
    "    mod.fit(X)\n",
    "    return mod"
   ]
  },
  {
   "cell_type": "code",
   "execution_count": 83,
   "metadata": {},
   "outputs": [],
   "source": [
    "num_train_class = 5\n",
    "num_unseen_class =1\n",
    "best_lsa_model = BGMM_fits(input_data=lsa_result, max_comp=num_train_class)"
   ]
  },
  {
   "cell_type": "code",
   "execution_count": 84,
   "metadata": {},
   "outputs": [
    {
     "name": "stdout",
     "output_type": "stream",
     "text": [
      "Best IDP Model Parameters based on BIC <bound method BayesianGaussianMixture.get_params of BayesianGaussianMixture(covariance_prior=None, covariance_type='full',\n",
      "            degrees_of_freedom_prior=None, init_params='random',\n",
      "            max_iter=1500, mean_precision_prior=0.8, mean_prior=None,\n",
      "            n_components=5, n_init=1, random_state=0, reg_covar=0,\n",
      "            tol=0.001, verbose=0, verbose_interval=10, warm_start=False,\n",
      "            weight_concentration_prior=None,\n",
      "            weight_concentration_prior_type='dirichlet_process')>\n"
     ]
    }
   ],
   "source": [
    "print \"Best IDP Model Parameters based on BIC\", best_lsa_model.get_params"
   ]
  },
  {
   "cell_type": "code",
   "execution_count": 85,
   "metadata": {},
   "outputs": [
    {
     "name": "stdout",
     "output_type": "stream",
     "text": [
      "Homogeneity: 0.039\n",
      "Completeness: 0.042\n",
      "V-measure: 0.041\n",
      "Adjusted Rand-Index: 0.034\n",
      "Silhouette Coefficient: 0.082\n",
      "fowlkes_mallows_score: 0.243\n"
     ]
    },
    {
     "data": {
      "text/plain": [
       "(array([  526.,     0.,  1022.,     0.,     0.,   693.,     0.,   672.,\n",
       "            0.,   210.]),\n",
       " array([ 0. ,  0.4,  0.8,  1.2,  1.6,  2. ,  2.4,  2.8,  3.2,  3.6,  4. ]),\n",
       " <a list of 10 Patch objects>)"
      ]
     },
     "execution_count": 85,
     "metadata": {},
     "output_type": "execute_result"
    },
    {
     "data": {
      "image/png": "[encoded data removed]",
      "text/plain": [
       "<matplotlib.figure.Figure at 0x7fdb28051a10>"
      ]
     },
     "metadata": {},
     "output_type": "display_data"
    }
   ],
   "source": [
    "predicted_cluster = best_lsa_model.predict(lsa_result)\n",
    "print(\"Homogeneity: %0.3f\" % metrics.homogeneity_score(df['label'], predicted_cluster))\n",
    "print(\"Completeness: %0.3f\" % metrics.completeness_score(df['label'], predicted_cluster))\n",
    "print(\"V-measure: %0.3f\" % metrics.v_measure_score(df['label'], predicted_cluster))\n",
    "print(\"Adjusted Rand-Index: %.3f\"\n",
    "      % metrics.adjusted_rand_score(df['label'], predicted_cluster))\n",
    "print(\"Silhouette Coefficient: %0.3f\"\n",
    "      % metrics.silhouette_score(lsa_result, predicted_cluster, sample_size=1000))\n",
    "print (\"fowlkes_mallows_score: %.3f\"\n",
    "      % metrics.fowlkes_mallows_score(df['label'], predicted_cluster))\n",
    "plt.hist(predicted_cluster)"
   ]
  },
  {
   "cell_type": "code",
   "execution_count": 86,
   "metadata": {},
   "outputs": [],
   "source": [
    "def print_cluster_comp(predicted_labels,actual_labels):\n",
    "    Cluster_ids = {}\n",
    "    for i in predicted_labels:\n",
    "        Cluster_ids[i] = (predicted_labels==i).nonzero()[0]\n",
    "\n",
    "    targets = np.array(actual_labels)\n",
    "    #print Cluster_ids\n",
    "    for label in Cluster_ids.keys():\n",
    "        #print type(label)\n",
    "        idx = Cluster_ids[label]\n",
    "        print \"Cluster Number\", str(label), \"Composition\", np.bincount(targets[idx])\n",
    "        print \"\\n\""
   ]
  },
  {
   "cell_type": "code",
   "execution_count": 87,
   "metadata": {},
   "outputs": [
    {
     "name": "stdout",
     "output_type": "stream",
     "text": [
      "Cluster Number 0 Composition [  0  49  66 206  67 138]\n",
      "\n",
      "\n",
      "Cluster Number 1 Composition [  0 296 261 120 243 102]\n",
      "\n",
      "\n",
      "Cluster Number 2 Composition [  0 118  99 153 119 204]\n",
      "\n",
      "\n",
      "Cluster Number 3 Composition [  0 133 160  91 156 132]\n",
      "\n",
      "\n",
      "Cluster Number 4 Composition [ 0 31 37 56 46 40]\n",
      "\n",
      "\n",
      "None\n"
     ]
    }
   ],
   "source": [
    "print print_cluster_comp(predicted_labels=predicted_cluster, actual_labels=train_final_labels)"
   ]
  },
  {
   "cell_type": "code",
   "execution_count": 88,
   "metadata": {},
   "outputs": [],
   "source": [
    "pred_proba_val_labels = best_lsa_model.predict_proba(lsa_val)"
   ]
  },
  {
   "cell_type": "code",
   "execution_count": 99,
   "metadata": {},
   "outputs": [
    {
     "name": "stdout",
     "output_type": "stream",
     "text": [
      "[[  2.16162119e-002   1.28062290e-016   9.78383788e-001   0.00000000e+000\n",
      "    0.00000000e+000]\n",
      " [  2.59465927e-009   3.32383973e-002   9.66761600e-001   8.77586817e-183\n",
      "    0.00000000e+000]\n",
      " [  1.92638968e-048   9.62230093e-011   1.00000000e+000   1.94885320e-275\n",
      "    0.00000000e+000]\n",
      " ..., \n",
      " [  1.32815298e-309   2.13123480e-045   1.00000000e+000   0.00000000e+000\n",
      "    0.00000000e+000]\n",
      " [  1.06880333e-060   2.94741266e-018   1.00000000e+000   2.04634362e-276\n",
      "    0.00000000e+000]\n",
      " [  5.66443871e-111   3.02850433e-006   9.99996971e-001   0.00000000e+000\n",
      "    0.00000000e+000]]\n",
      "[  1.00000000e+00   1.00000000e+00   1.00000000e+00   8.56879296e-11\n",
      "   1.00000000e+00]\n",
      "[[  2.16162119e-002   1.28062290e-016   9.78383788e-001   0.00000000e+000\n",
      "    0.00000000e+000]\n",
      " [  2.59465927e-009   3.32383973e-002   9.66761600e-001   1.02416621e-172\n",
      "    0.00000000e+000]\n",
      " [  1.92638968e-048   9.62230093e-011   1.00000000e+000   2.27436140e-265\n",
      "    0.00000000e+000]\n",
      " ..., \n",
      " [  1.32815298e-309   2.13123480e-045   1.00000000e+000   0.00000000e+000\n",
      "    0.00000000e+000]\n",
      " [  1.06880333e-060   2.94741266e-018   1.00000000e+000   2.38813522e-266\n",
      "    0.00000000e+000]\n",
      " [  5.66443871e-111   3.02850433e-006   9.99996971e-001   0.00000000e+000\n",
      "    0.00000000e+000]]\n"
     ]
    }
   ],
   "source": [
    "print pred_proba_val_labels\n",
    "val_gmm_class_max_prob_lists = np.array([max(pred_proba_val_labels[:,val]) for val in range(len(pred_proba_val_labels[0]))])\n",
    "val_gmm_class_min_prob_lists = np.array([min(pred_proba_val_labels[:,val]) for val in range(len(pred_proba_val_labels[0]))])\n",
    "val_gmm_delta = val_gmm_class_max_prob_lists - val_gmm_class_min_prob_lists\n",
    "\n",
    "print val_gmm_delta\n",
    "# Normalized for test vector\n",
    "scaled_bgmm_val_class_probs = np.divide(pred_proba_val_labels,val_gmm_delta)\n",
    "print scaled_bgmm_val_class_probs"
   ]
  },
  {
   "cell_type": "code",
   "execution_count": 100,
   "metadata": {},
   "outputs": [
    {
     "data": {
      "image/png": "[encoded data removed]",
      "text/plain": [
       "<matplotlib.figure.Figure at 0x7fdb24147450>"
      ]
     },
     "metadata": {},
     "output_type": "display_data"
    }
   ],
   "source": [
    "x = np.amax(pred_proba_val_labels, axis = 1)\n",
    "#print pred_proba_test_labels[:,0]\n",
    "plt.figure(figsize = (12, 8))\n",
    "n, bins, patches = plt.hist(x, 50)\n",
    "plt.title(\"max prob dist\")\n",
    "plt.show()"
   ]
  },
  {
   "cell_type": "code",
   "execution_count": 101,
   "metadata": {},
   "outputs": [
    {
     "name": "stdout",
     "output_type": "stream",
     "text": [
      "[  1.07392203e-10   9.99883727e-01   1.00000000e+00   8.48929437e-96\n",
      "   0.00000000e+00]\n",
      "[[  2.16162119e-002   1.28062290e-016   9.78383788e-001   0.00000000e+000\n",
      "    0.00000000e+000]\n",
      " [  2.59465927e-009   3.32383973e-002   9.66761600e-001   1.02416621e-172\n",
      "    0.00000000e+000]\n",
      " [  1.92638968e-048   9.62230093e-011   1.00000000e+000   2.27436140e-265\n",
      "    0.00000000e+000]\n",
      " ..., \n",
      " [  1.32815298e-309   2.13123480e-045   1.00000000e+000   0.00000000e+000\n",
      "    0.00000000e+000]\n",
      " [  1.06880333e-060   2.94741266e-018   1.00000000e+000   2.38813522e-266\n",
      "    0.00000000e+000]\n",
      " [  5.66443871e-111   3.02850433e-006   9.99996971e-001   0.00000000e+000\n",
      "    0.00000000e+000]]\n",
      "[[1 0 0 0 0]\n",
      " [1 0 0 0 0]\n",
      " [0 0 0 0 0]\n",
      " ..., \n",
      " [0 0 1 0 0]\n",
      " [0 0 1 0 0]\n",
      " [0 0 0 0 0]]\n",
      "[ 0  1  2  3  4  5  6  7  9 10]\n"
     ]
    }
   ],
   "source": [
    "class_threshold = 85.0\n",
    "val_bgmm_class_prob_percentile_cutoff = np.array([np.percentile(scaled_bgmm_val_class_probs[:,val], class_threshold) \n",
    "                                     for val in range(len(scaled_bgmm_val_class_probs[0]))])\n",
    "\n",
    "print val_bgmm_class_prob_percentile_cutoff\n",
    "\n",
    "bgmm_val_class_preds = np.greater_equal(scaled_bgmm_val_class_probs,val_bgmm_class_prob_percentile_cutoff).astype(int)\n",
    "\n",
    "print scaled_bgmm_val_class_probs\n",
    "# Predict the test label based on percental\n",
    "# If a data is below 80% for prob of all class, it belongs to open class\n",
    "val_bgmm_valid_class_probs = np.multiply(scaled_bgmm_val_class_probs, bgmm_val_class_preds)\n",
    "val_bgmm_valid_class = np.greater_equal(np.ceil(val_bgmm_valid_class_probs),1).astype(int)\n",
    "print val_bgmm_valid_class\n",
    "val_bgmm_predicted_multinomial = np.multiply(val_bgmm_valid_class, np.unique(train_final_labels))\n",
    "print np.unique(np.sum(val_bgmm_predicted_multinomial, axis=1))\n",
    "bgmm_predicted_val_class = np.max(val_bgmm_predicted_multinomial,axis=1)"
   ]
  },
  {
   "cell_type": "code",
   "execution_count": 102,
   "metadata": {},
   "outputs": [
    {
     "name": "stdout",
     "output_type": "stream",
     "text": [
      "[163 164 152 157 158 142] [342  69 107 277 103  38]\n",
      "936 936\n"
     ]
    }
   ],
   "source": [
    "print np.bincount(valid_final_labels), np.bincount(gmm_predicted_val_class)\n",
    "print np.sum(np.bincount(valid_final_labels)), np.sum(np.bincount(gmm_predicted_val_class))"
   ]
  },
  {
   "cell_type": "markdown",
   "metadata": {},
   "source": [
    "## Calculate Unseen Class Precision, Recall, F1 Score"
   ]
  },
  {
   "cell_type": "code",
   "execution_count": 103,
   "metadata": {},
   "outputs": [
    {
     "name": "stdout",
     "output_type": "stream",
     "text": [
      "Composition of bgmm_predicted_valid_class for true unseen class indices [53 16 10 64 10 10]\n",
      "163\n"
     ]
    }
   ],
   "source": [
    "print \"Composition of bgmm_predicted_valid_class for true unseen class indices\", np.bincount(sorted(bgmm_predicted_val_class[missing_class_idx_val]))\n",
    "print sum(np.bincount(sorted(gmm_predicted_val_class[missing_class_idx_val])))"
   ]
  },
  {
   "cell_type": "code",
   "execution_count": 104,
   "metadata": {},
   "outputs": [
    {
     "name": "stdout",
     "output_type": "stream",
     "text": [
      "             precision    recall  f1-score   support\n",
      "\n",
      "          0       0.33      0.15      0.21       342\n",
      "          1       0.06      0.14      0.09        69\n",
      "          2       0.07      0.09      0.08       107\n",
      "          3       0.28      0.16      0.20       277\n",
      "          4       0.11      0.17      0.14       103\n",
      "          5       0.04      0.16      0.07        38\n",
      "\n",
      "avg / total       0.23      0.15      0.17       936\n",
      "\n",
      "[[53 62 46 54 74 53]\n",
      " [16 10  3 11 22  7]\n",
      " [10 36 10 32  7 12]\n",
      " [64 42 75 44 31 21]\n",
      " [10 12  6 14 18 43]\n",
      " [10  2 12  2  6  6]]\n"
     ]
    }
   ],
   "source": [
    "from sklearn.metrics import confusion_matrix, classification_report, precision_score, recall_score, f1_score\n",
    "print classification_report(bgmm_predicted_val_class, valid_final_labels)\n",
    "print confusion_matrix(bgmm_predicted_val_class, valid_final_labels)\n"
   ]
  },
  {
   "cell_type": "code",
   "execution_count": 105,
   "metadata": {},
   "outputs": [
    {
     "name": "stdout",
     "output_type": "stream",
     "text": [
      "0.154970760234 0.325153374233 0.209900990099\n"
     ]
    }
   ],
   "source": [
    "def calculate_unseen_class_f1score(pred_class, true_class, unseen_class_id):\n",
    "    predicted_zero_ind = (pred_class==unseen_class_id).nonzero()[0]\n",
    "    predicted_nonzero_ind = (pred_class >unseen_class_id).nonzero()[0]\n",
    "    #print np.bincount(true_class[predicted_zero_ind])[0]\n",
    "    TP = np.bincount(true_class[predicted_zero_ind])[0]\n",
    "    FP =  sum(np.bincount(true_class[predicted_zero_ind])) - TP\n",
    "    FN =  np.bincount(true_class[predicted_nonzero_ind])[0]\n",
    "    #print TP, FP, FN\n",
    "    unseen_class_precision = float(TP)/(TP+FP)\n",
    "    unseen_class_recall = float(TP)/(TP+FN)\n",
    "    unseen_class_f1 = 2*unseen_class_precision*unseen_class_recall/(unseen_class_precision+unseen_class_recall)\n",
    "    #print unseen_class_precision,unseen_class_recall,unseen_class_f1\n",
    "    return unseen_class_precision, unseen_class_recall,unseen_class_f1\n",
    "    \n",
    "pr,re,f1 = calculate_unseen_class_f1score(bgmm_predicted_val_class,valid_final_labels,0)\n",
    "print pr,re,f1"
   ]
  },
  {
   "cell_type": "code",
   "execution_count": 107,
   "metadata": {
    "scrolled": false
   },
   "outputs": [
    {
     "name": "stdout",
     "output_type": "stream",
     "text": [
      "[1 2 3 4 5] [0 1 2 3 4 5]\n",
      "Threshold Too Low. No unseen class prediction\n",
      "[1 2 3 4 5] [0 1 2 3 4 5]\n",
      "Threshold Too Low. No unseen class prediction\n",
      "[1 2 3 4 5] [0 1 2 3 4 5]\n",
      "Threshold Too Low. No unseen class prediction\n",
      "[1 2 3 4 5] [0 1 2 3 4 5]\n",
      "Threshold Too Low. No unseen class prediction\n",
      "[0 1 2 3 4 5] [0 1 2 3 4 5]\n",
      "Threshold Too Low. No unseen class prediction\n",
      "[0 1 2 3 4 5] [0 1 2 3 4 5]\n",
      "Threshold Too Low. No unseen class prediction\n",
      "[0 1 2 3 4 5] [0 1 2 3 4 5]\n",
      "Threshold:  56 F1 Score:  0.0228571428571\n",
      "Actual Unseen Class 163 Predicted Unseen Class 12\n",
      "[0 1 2 3 4 5] [0 1 2 3 4 5]\n",
      "Threshold:  57 F1 Score:  0.0333333333333\n",
      "Actual Unseen Class 163 Predicted Unseen Class 17\n",
      "[0 1 2 3 4 5] [0 1 2 3 4 5]\n",
      "Threshold:  58 F1 Score:  0.0315789473684\n",
      "Actual Unseen Class 163 Predicted Unseen Class 27\n",
      "[0 1 2 3 4 5] [0 1 2 3 4 5]\n",
      "Threshold:  59 F1 Score:  0.0408163265306\n",
      "Actual Unseen Class 163 Predicted Unseen Class 33\n",
      "[0 1 2 3 4 5] [0 1 2 3 4 5]\n",
      "Threshold:  60 F1 Score:  0.0574162679426\n",
      "Actual Unseen Class 163 Predicted Unseen Class 46\n",
      "[0 1 2 3 4 5] [0 1 2 3 4 5]\n",
      "Threshold:  61 F1 Score:  0.0990990990991\n",
      "Actual Unseen Class 163 Predicted Unseen Class 59\n",
      "[0 1 2 3 4 5] [0 1 2 3 4 5]\n",
      "Threshold:  62 F1 Score:  0.125\n",
      "Actual Unseen Class 163 Predicted Unseen Class 77\n",
      "[0 1 2 3 4 5] [0 1 2 3 4 5]\n",
      "Threshold:  63 F1 Score:  0.120967741935\n",
      "Actual Unseen Class 163 Predicted Unseen Class 85\n",
      "[0 1 2 3 4 5] [0 1 2 3 4 5]\n",
      "Threshold:  64 F1 Score:  0.129770992366\n",
      "Actual Unseen Class 163 Predicted Unseen Class 99\n",
      "[0 1 2 3 4 5] [0 1 2 3 4 5]\n",
      "Threshold:  65 F1 Score:  0.144927536232\n",
      "Actual Unseen Class 163 Predicted Unseen Class 113\n",
      "[0 1 2 3 4 5] [0 1 2 3 4 5]\n",
      "Threshold:  66 F1 Score:  0.149659863946\n",
      "Actual Unseen Class 163 Predicted Unseen Class 131\n",
      "[0 1 2 3 4 5] [0 1 2 3 4 5]\n",
      "Threshold:  67 F1 Score:  0.16077170418\n",
      "Actual Unseen Class 163 Predicted Unseen Class 148\n",
      "[0 1 2 3 4 5] [0 1 2 3 4 5]\n",
      "Threshold:  68 F1 Score:  0.164634146341\n",
      "Actual Unseen Class 163 Predicted Unseen Class 165\n",
      "[0 1 2 3 4 5] [0 1 2 3 4 5]\n",
      "Threshold:  69 F1 Score:  0.157434402332\n",
      "Actual Unseen Class 163 Predicted Unseen Class 180\n",
      "[0 1 2 3 4 5] [0 1 2 3 4 5]\n",
      "Threshold:  70 F1 Score:  0.168539325843\n",
      "Actual Unseen Class 163 Predicted Unseen Class 193\n",
      "[0 1 2 3 4 5] [0 1 2 3 4 5]\n",
      "Threshold:  71 F1 Score:  0.181318681319\n",
      "Actual Unseen Class 163 Predicted Unseen Class 201\n",
      "[0 1 2 3 4 5] [0 1 2 3 4 5]\n",
      "Threshold:  72 F1 Score:  0.176943699732\n",
      "Actual Unseen Class 163 Predicted Unseen Class 210\n",
      "[0 1 2 3 4 5] [0 1 2 3 4 5]\n",
      "Threshold:  73 F1 Score:  0.177545691906\n",
      "Actual Unseen Class 163 Predicted Unseen Class 220\n",
      "[0 1 2 3 4 5] [0 1 2 3 4 5]\n",
      "Threshold:  74 F1 Score:  0.178571428571\n",
      "Actual Unseen Class 163 Predicted Unseen Class 229\n",
      "[0 1 2 3 4 5] [0 1 2 3 4 5]\n",
      "Threshold:  75 F1 Score:  0.176322418136\n",
      "Actual Unseen Class 163 Predicted Unseen Class 234\n",
      "[0 1 2 3 4 5] [0 1 2 3 4 5]\n",
      "Threshold:  76 F1 Score:  0.177777777778\n",
      "Actual Unseen Class 163 Predicted Unseen Class 242\n",
      "[0 1 2 3 4 5] [0 1 2 3 4 5]\n",
      "Threshold:  77 F1 Score:  0.177884615385\n",
      "Actual Unseen Class 163 Predicted Unseen Class 253\n",
      "[0 1 2 3 4 5] [0 1 2 3 4 5]\n",
      "Threshold:  78 F1 Score:  0.178403755869\n",
      "Actual Unseen Class 163 Predicted Unseen Class 263\n",
      "[0 1 2 3 4 5] [0 1 2 3 4 5]\n",
      "Threshold:  79 F1 Score:  0.181395348837\n",
      "Actual Unseen Class 163 Predicted Unseen Class 267\n",
      "[0 1 2 3 4 5] [0 1 2 3 4 5]\n",
      "Threshold:  80 F1 Score:  0.190476190476\n",
      "Actual Unseen Class 163 Predicted Unseen Class 278\n",
      "[0 1 2 3 4 5] [0 1 2 3 4 5]\n",
      "Threshold:  81 F1 Score:  0.202643171806\n",
      "Actual Unseen Class 163 Predicted Unseen Class 291\n",
      "[0 1 2 3 4 5] [0 1 2 3 4 5]\n",
      "Threshold:  82 F1 Score:  0.198704103672\n",
      "Actual Unseen Class 163 Predicted Unseen Class 300\n",
      "[0 1 2 3 4 5] [0 1 2 3 4 5]\n",
      "Threshold:  83 F1 Score:  0.205450733753\n",
      "Actual Unseen Class 163 Predicted Unseen Class 314\n",
      "[0 1 2 3 4 5] [0 1 2 3 4 5]\n",
      "Threshold:  84 F1 Score:  0.212244897959\n",
      "Actual Unseen Class 163 Predicted Unseen Class 327\n",
      "[0 1 2 3 4 5] [0 1 2 3 4 5]\n",
      "Threshold:  85 F1 Score:  0.209900990099\n",
      "Actual Unseen Class 163 Predicted Unseen Class 342\n",
      "[0 1 2 3 4 5] [0 1 2 3 4 5]\n",
      "Threshold:  86 F1 Score:  0.208897485493\n",
      "Actual Unseen Class 163 Predicted Unseen Class 354\n",
      "[0 1 2 3 4 5] [0 1 2 3 4 5]\n",
      "Threshold:  87 F1 Score:  0.206766917293\n",
      "Actual Unseen Class 163 Predicted Unseen Class 369\n",
      "[0 1 2 3 4 5] [0 1 2 3 4 5]\n",
      "Threshold:  88 F1 Score:  0.209174311927\n",
      "Actual Unseen Class 163 Predicted Unseen Class 382\n",
      "[0 1 2 3 4 5] [0 1 2 3 4 5]\n",
      "Threshold:  89 F1 Score:  0.203571428571\n",
      "Actual Unseen Class 163 Predicted Unseen Class 397\n",
      "[0 1 2 3 4 5] [0 1 2 3 4 5]\n",
      "Threshold:  90 F1 Score:  0.201039861352\n",
      "Actual Unseen Class 163 Predicted Unseen Class 414\n",
      "[0 1 2 3 4 5] [0 1 2 3 4 5]\n",
      "Threshold:  91 F1 Score:  0.207011686144\n",
      "Actual Unseen Class 163 Predicted Unseen Class 436\n",
      "[0 1 2 3 4 5] [0 1 2 3 4 5]\n",
      "Threshold:  92 F1 Score:  0.211878009631\n",
      "Actual Unseen Class 163 Predicted Unseen Class 460\n",
      "[0 1 2 3 4 5] [0 1 2 3 4 5]\n",
      "Threshold:  93 F1 Score:  0.214953271028\n",
      "Actual Unseen Class 163 Predicted Unseen Class 479\n",
      "[0 1 2 3 4 5] [0 1 2 3 4 5]\n",
      "Threshold:  94 F1 Score:  0.212121212121\n",
      "Actual Unseen Class 163 Predicted Unseen Class 497\n",
      "Best Threshold:  68\n",
      "Best F1 Score:  0.164634146341\n"
     ]
    }
   ],
   "source": [
    "best_threshold = 0.0\n",
    "best_f1_score=0.0\n",
    "for threshold in range(50,95):\n",
    "    try:\n",
    "        val_bgmm_class_prob_percentile_cutoff = np.array([np.percentile(scaled_bgmm_val_class_probs[:,val], float(threshold)) \n",
    "                                             for val in range(len(scaled_bgmm_val_class_probs[0]))])\n",
    "\n",
    "        #print val_gmm_class_prob_percentile_cutoff\n",
    "\n",
    "        bgmm_val_class_preds = np.greater_equal(scaled_bgmm_val_class_probs,val_bgmm_class_prob_percentile_cutoff).astype(int)\n",
    "\n",
    "        #print scaled_gmm_val_class_probs\n",
    "        # Predict the test label based on percental\n",
    "        # If a data is below 80% for prob of all class, it belongs to open class\n",
    "        val_bgmm_valid_class_probs_dup = np.multiply(scaled_bgmm_val_class_probs, bgmm_val_class_preds)\n",
    "\n",
    "        val_bgmm_valid_class_max_probs = np.max(val_bgmm_valid_class_probs_dup, axis=1)\n",
    "        #print gmm_valid_class_max_probs\n",
    "        #print type(gmm_valid_class_probs_dup),  type(gmm_valid_class_max_probs)\n",
    "        val_temp = np.equal(val_bgmm_valid_class_probs_dup , val_bgmm_valid_class_max_probs.reshape(len(val_bgmm_valid_class_max_probs),1))\n",
    "        val_bgmm_valid_class_probs=np.multiply(val_bgmm_valid_class_probs_dup,val_temp)\n",
    "        val_bgmm_valid_class = np.greater_equal(np.ceil(val_bgmm_valid_class_probs),1).astype(int)\n",
    "        #print val_gmm_valid_class\n",
    "        val_bgmm_predicted_multinomial = np.multiply(val_bgmm_valid_class, np.unique(train_final_labels))\n",
    "        #print np.unique(np.sum(val_gmm_predicted_multinomial, axis=1))\n",
    "        bgmm_predicted_val_class = np.max(val_bgmm_predicted_multinomial,axis=1)  \n",
    "        print np.unique(bgmm_predicted_val_class), np.unique(valid_final_labels)\n",
    "        pr,re,f1 = calculate_unseen_class_f1score(bgmm_predicted_val_class,valid_final_labels,0)\n",
    "        print \"Threshold: \",threshold, \"F1 Score: \", f1 \n",
    "        print \"Actual Unseen Class\", np.bincount(valid_final_labels)[0], \"Predicted Unseen Class\",np.bincount(bgmm_predicted_val_class)[0]\n",
    "        # Set the threshold so that not unseen class volume is actual unseen class volume in validation set\n",
    "        unseen_class_ratio = float(np.bincount(bgmm_predicted_val_class)[0])/np.bincount(valid_final_labels)[0]\n",
    "        #overall_F1_score = f1_score(gmm_predicted_val_class, valid_final_labels)\n",
    "        if f1 > best_f1_score and unseen_class_ratio < 1.1:\n",
    "\n",
    "            best_f1_score = f1\n",
    "            best_threshold = threshold\n",
    "    except:\n",
    "        print \"Threshold Too Low. No unseen class prediction\"\n",
    "        \n",
    "print \"Best Threshold: \", best_threshold\n",
    "print \"Best F1 Score: \", best_f1_score"
   ]
  },
  {
   "cell_type": "markdown",
   "metadata": {},
   "source": [
    "### Test Data Prediction"
   ]
  },
  {
   "cell_type": "code",
   "execution_count": 108,
   "metadata": {},
   "outputs": [],
   "source": [
    "pred_proba_test_labels = best_lsa_model.predict_proba(lsa_test)"
   ]
  },
  {
   "cell_type": "code",
   "execution_count": 109,
   "metadata": {},
   "outputs": [
    {
     "name": "stdout",
     "output_type": "stream",
     "text": [
      "[[  7.39403876e-077   3.29648900e-012   1.00000000e+000   5.11419065e-312\n",
      "    0.00000000e+000]\n",
      " [  1.48076963e-138   1.00000000e+000   6.82226580e-016   0.00000000e+000\n",
      "    0.00000000e+000]\n",
      " [  1.00000000e+000   1.35125860e-012   4.19030236e-011   3.50727026e-219\n",
      "    0.00000000e+000]\n",
      " ..., \n",
      " [  5.59944568e-015   9.99993877e-001   6.12286349e-006   1.43802132e-085\n",
      "    0.00000000e+000]\n",
      " [  1.98403048e-162   8.92519287e-016   1.00000000e+000   0.00000000e+000\n",
      "    0.00000000e+000]\n",
      " [  1.48116502e-038   1.00000000e+000   1.54980749e-017   1.23834906e-175\n",
      "    0.00000000e+000]]\n",
      "[  1.00000000e+00   1.00000000e+00   1.00000000e+00   2.71853572e-18\n",
      "   1.00000000e+00]\n",
      "[[  7.39403876e-077   3.29648900e-012   1.00000000e+000   1.88122989e-294\n",
      "    0.00000000e+000]\n",
      " [  1.48076963e-138   1.00000000e+000   6.82226580e-016   0.00000000e+000\n",
      "    0.00000000e+000]\n",
      " [  1.00000000e+000   1.35125860e-012   4.19030236e-011   1.29013212e-201\n",
      "    0.00000000e+000]\n",
      " ..., \n",
      " [  5.59944568e-015   9.99993877e-001   6.12286349e-006   5.28969072e-068\n",
      "    0.00000000e+000]\n",
      " [  1.98403048e-162   8.92519287e-016   1.00000000e+000   0.00000000e+000\n",
      "    0.00000000e+000]\n",
      " [  1.48116502e-038   1.00000000e+000   1.54980749e-017   4.55520612e-158\n",
      "    0.00000000e+000]]\n"
     ]
    }
   ],
   "source": [
    "print pred_proba_test_labels\n",
    "bgmm_class_max_prob_lists = np.array([max(pred_proba_test_labels[:,val]) for val in range(len(pred_proba_test_labels[0]))])\n",
    "bgmm_class_min_prob_lists = np.array([min(pred_proba_test_labels[:,val]) for val in range(len(pred_proba_test_labels[0]))])\n",
    "bgmm_delta = bgmm_class_max_prob_lists - bgmm_class_min_prob_lists\n",
    "\n",
    "print bgmm_delta\n",
    "# Normalized for test vector\n",
    "scaled_bgmm_test_class_probs = np.divide(pred_proba_test_labels,bgmm_delta)\n",
    "print scaled_bgmm_test_class_probs"
   ]
  },
  {
   "cell_type": "code",
   "execution_count": 110,
   "metadata": {},
   "outputs": [
    {
     "data": {
      "image/png": "[encoded data removed]",
      "text/plain": [
       "<matplotlib.figure.Figure at 0x7fdab3505a90>"
      ]
     },
     "metadata": {},
     "output_type": "display_data"
    }
   ],
   "source": [
    "x = np.amax(pred_proba_test_labels, axis = 1)\n",
    "#print pred_proba_test_labels[:,0]\n",
    "plt.figure(figsize = (12, 8))\n",
    "n, bins, patches = plt.hist(x, 50)\n",
    "plt.title(\"max prob dist\")\n",
    "plt.show()"
   ]
  },
  {
   "cell_type": "code",
   "execution_count": 111,
   "metadata": {},
   "outputs": [
    {
     "name": "stdout",
     "output_type": "stream",
     "text": [
      "68\n",
      "[[  0.00000000e+000   0.00000000e+000   0.00000000e+000   0.00000000e+000\n",
      "    0.00000000e+000]\n",
      " [  0.00000000e+000   1.00000000e+000   0.00000000e+000   0.00000000e+000\n",
      "    0.00000000e+000]\n",
      " [  1.00000000e+000   0.00000000e+000   0.00000000e+000   0.00000000e+000\n",
      "    0.00000000e+000]\n",
      " ..., \n",
      " [  5.59944568e-015   9.99993877e-001   0.00000000e+000   5.28969072e-068\n",
      "    0.00000000e+000]\n",
      " [  0.00000000e+000   0.00000000e+000   1.00000000e+000   0.00000000e+000\n",
      "    0.00000000e+000]\n",
      " [  0.00000000e+000   1.00000000e+000   0.00000000e+000   4.55520612e-158\n",
      "    0.00000000e+000]]\n",
      "[ 0.          1.          1.         ...,  0.99999388  1.          1.        ]\n",
      "[[0 0 0 0 0]\n",
      " [0 1 0 0 0]\n",
      " [1 0 0 0 0]\n",
      " ..., \n",
      " [0 1 0 0 0]\n",
      " [0 0 1 0 0]\n",
      " [0 1 0 0 0]]\n",
      "[0 1 2 3 4 5]\n"
     ]
    }
   ],
   "source": [
    "print best_threshold\n",
    "bgmm_class_prob_percentile_cutoff = np.array([np.percentile(scaled_bgmm_test_class_probs[:,val], best_threshold) \n",
    "                                     for val in range(len(scaled_bgmm_test_class_probs[0]))])\n",
    "\n",
    "#print gmm_class_prob_percentile_cutoff\n",
    "\n",
    "bgmm_test_class_preds = np.greater_equal(scaled_bgmm_test_class_probs,bgmm_class_prob_percentile_cutoff).astype(int)\n",
    "\n",
    "#print scaled_gmm_test_class_probs\n",
    "# Predict the test label based on percental\n",
    "# If a data is below 80% for prob of all class, it belongs to open class\n",
    "bgmm_valid_class_probs_dup = np.multiply(scaled_bgmm_test_class_probs, bgmm_test_class_preds)\n",
    "print bgmm_valid_class_probs_dup\n",
    "bgmm_valid_class_max_probs = np.max(bgmm_valid_class_probs_dup, axis=1)\n",
    "print bgmm_valid_class_max_probs\n",
    "#print type(gmm_valid_class_probs_dup),  type(gmm_valid_class_max_probs)\n",
    "temp = np.equal(bgmm_valid_class_probs_dup , bgmm_valid_class_max_probs.reshape(len(bgmm_valid_class_max_probs),1))\n",
    "bgmm_valid_class_probs=np.multiply(bgmm_valid_class_probs_dup,temp)\n",
    "bgmm_valid_class = np.greater_equal(np.ceil(bgmm_valid_class_probs),1).astype(int)\n",
    "print bgmm_valid_class\n",
    "bgmm_predicted_multinomial = np.multiply(bgmm_valid_class, np.unique(train_final_labels))\n",
    "print np.unique(np.sum(bgmm_predicted_multinomial, axis=1))\n",
    "bgmm_predicted_test_class = np.max(bgmm_predicted_multinomial,axis=1)\n"
   ]
  },
  {
   "cell_type": "code",
   "execution_count": 112,
   "metadata": {},
   "outputs": [
    {
     "name": "stdout",
     "output_type": "stream",
     "text": [
      "[202 191 188 205 202 182] [204 134 369 375  22  66]\n",
      "1170 1170\n",
      "[[22 39 50 77  2 12]\n",
      " [47 12 70 50  3  9]\n",
      " [44  7 46 74  2 15]\n",
      " [29 26 63 77  3  7]\n",
      " [33 23 65 64  6 11]\n",
      " [29 27 75 33  6 12]]\n"
     ]
    }
   ],
   "source": [
    "print np.bincount(test_labels), np.bincount(bgmm_predicted_test_class)\n",
    "print np.sum(np.bincount(test_labels)), np.sum(np.bincount(bgmm_predicted_test_class))\n",
    "print confusion_matrix(test_labels, bgmm_predicted_test_class)"
   ]
  },
  {
   "cell_type": "code",
   "execution_count": 113,
   "metadata": {},
   "outputs": [
    {
     "name": "stdout",
     "output_type": "stream",
     "text": [
      "             precision    recall  f1-score   support\n",
      "\n",
      "          0       0.14      0.13      0.14       202\n",
      "          1       0.17      0.07      0.10       191\n",
      "          2       0.14      0.23      0.18       188\n",
      "          3       0.36      0.29      0.32       205\n",
      "          4       0.16      0.25      0.20       202\n",
      "          5       0.43      0.29      0.35       182\n",
      "\n",
      "avg / total       0.23      0.21      0.21      1170\n",
      "\n",
      "0.211111111111\n"
     ]
    }
   ],
   "source": [
    "print classification_report(test_labels, gmm_predicted_test_class)\n",
    "print accuracy_score(test_labels, gmm_predicted_test_class)"
   ]
  },
  {
   "cell_type": "markdown",
   "metadata": {},
   "source": [
    "## Unseen Class Precision, Recall F1 Score"
   ]
  },
  {
   "cell_type": "code",
   "execution_count": 116,
   "metadata": {},
   "outputs": [
    {
     "name": "stdout",
     "output_type": "stream",
     "text": [
      "Unseen Class Precision:  0.107843137255\n",
      "Unseen Class Recall:  0.108910891089\n",
      "Unseen Class F1 Score:  0.108374384236\n"
     ]
    }
   ],
   "source": [
    "print \"Unseen Class Precision: \", calculate_unseen_class_f1score(bgmm_predicted_test_class,test_labels,0)[0]\n",
    "print \"Unseen Class Recall: \", calculate_unseen_class_f1score(bgmm_predicted_test_class,test_labels,0)[1]\n",
    "print \"Unseen Class F1 Score: \", calculate_unseen_class_f1score(bgmm_predicted_test_class,test_labels,0)[2]"
   ]
  },
  {
   "cell_type": "code",
   "execution_count": 115,
   "metadata": {},
   "outputs": [
    {
     "name": "stdout",
     "output_type": "stream",
     "text": [
      "Homogeneity: 0.054\n",
      "Completeness: 0.057\n",
      "V-measure: 0.055\n",
      "Adjusted Rand-Index: 0.030\n",
      "Silhouette Coefficient: 0.025\n",
      "fowlkes_mallows_score: 0.206\n"
     ]
    }
   ],
   "source": [
    "pred_class_indices = (gmm_predicted_test_class==0).nonzero()[0]\n",
    "print(\"Homogeneity: %0.3f\" % metrics.homogeneity_score(df_test['label'], gmm_predicted_test_class))\n",
    "print(\"Completeness: %0.3f\" % metrics.completeness_score(df_test['label'], gmm_predicted_test_class))\n",
    "print(\"V-measure: %0.3f\" % metrics.v_measure_score(df_test['label'], gmm_predicted_test_class))\n",
    "print(\"Adjusted Rand-Index: %.3f\"\n",
    "      % metrics.adjusted_rand_score(df_test['label'], gmm_predicted_test_class))\n",
    "print(\"Silhouette Coefficient: %0.3f\"\n",
    "      % metrics.silhouette_score(lsa_test, gmm_predicted_test_class, sample_size=1000))\n",
    "print (\"fowlkes_mallows_score: %.3f\"\n",
    "      % metrics.fowlkes_mallows_score(df_test['label'], gmm_predicted_test_class))"
   ]
  },
  {
   "cell_type": "code",
   "execution_count": null,
   "metadata": {},
   "outputs": [],
   "source": []
  }
 ],
 "metadata": {
  "kernelspec": {
   "display_name": "Python 2",
   "language": "python",
   "name": "python2"
  },
  "language_info": {
   "codemirror_mode": {
    "name": "ipython",
    "version": 2
   },
   "file_extension": ".py",
   "mimetype": "text/x-python",
   "name": "python",
   "nbconvert_exporter": "python",
   "pygments_lexer": "ipython2",
   "version": "2.7.14"
  }
 },
 "nbformat": 4,
 "nbformat_minor": 2
}
